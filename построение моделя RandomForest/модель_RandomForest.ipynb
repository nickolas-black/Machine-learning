{
  "nbformat": 4,
  "nbformat_minor": 0,
  "metadata": {
    "anaconda-cloud": {},
    "kernelspec": {
      "display_name": "Python 3",
      "language": "python",
      "name": "python3"
    },
    "language_info": {
      "codemirror_mode": {
        "name": "ipython",
        "version": 3
      },
      "file_extension": ".py",
      "mimetype": "text/x-python",
      "name": "python",
      "nbconvert_exporter": "python",
      "pygments_lexer": "ipython3",
      "version": "3.7.3"
    },
    "name": "seminar02_part2_pandas.ipynb",
    "colab": {
      "name": "модель RandomForest",
      "provenance": [],
      "collapsed_sections": []
    }
  },
  "cells": [
    {
      "cell_type": "code",
      "metadata": {
        "id": "rWBahEgeoNgF",
        "colab_type": "code",
        "colab": {
          "base_uri": "https://localhost:8080/",
          "height": 71
        },
        "outputId": "dc4f999b-f2ec-4e1d-8545-410c55c24ac6"
      },
      "source": [
        "import numpy as np\n",
        "import pandas as pd\n",
        "import numpy as np\n",
        "import pandas as pd\n",
        "from sklearn.preprocessing import PowerTransformer\n",
        "from sklearn.model_selection import cross_val_score\n",
        "from sklearn.neighbors import KNeighborsClassifier\n",
        "from sklearn.model_selection import GridSearchCV\n",
        "from sklearn.naive_bayes import GaussianNB, MultinomialNB\n",
        "from sklearn import svm\n",
        "from sklearn.feature_selection import SelectKBest\n",
        "from sklearn.feature_selection import chi2\n",
        "from sklearn.preprocessing import MinMaxScaler\n",
        "from sklearn.ensemble import RandomForestClassifier\n",
        "import matplotlib.pyplot as plt\n",
        "from sklearn.metrics import accuracy_score,auc, f1_score, confusion_matrix,precision_score, recall_score, roc_auc_score, roc_curve\n",
        "from sklearn.model_selection import train_test_split\n",
        "from sklearn.utils import resample\n",
        "from imblearn.over_sampling import SMOTE\n",
        "%matplotlib inline"
      ],
      "execution_count": null,
      "outputs": [
        {
          "output_type": "stream",
          "text": [
            "/usr/local/lib/python3.6/dist-packages/sklearn/externals/six.py:31: DeprecationWarning: The module is deprecated in version 0.21 and will be removed in version 0.23 since we've dropped support for Python 2.7. Please rely on the official version of six (https://pypi.org/project/six/).\n",
            "  \"(https://pypi.org/project/six/).\", DeprecationWarning)\n"
          ],
          "name": "stderr"
        }
      ]
    },
    {
      "cell_type": "code",
      "metadata": {
        "id": "EXkkWulmpC5W",
        "colab_type": "code",
        "colab": {
          "base_uri": "https://localhost:8080/",
          "height": 34
        },
        "outputId": "ed553880-7c5f-4a69-aeaf-7eee775a7ab9"
      },
      "source": [
        "from google.colab import drive\n",
        "drive.mount('/content/drive')"
      ],
      "execution_count": null,
      "outputs": [
        {
          "output_type": "stream",
          "text": [
            "Drive already mounted at /content/drive; to attempt to forcibly remount, call drive.mount(\"/content/drive\", force_remount=True).\n"
          ],
          "name": "stdout"
        }
      ]
    },
    {
      "cell_type": "markdown",
      "metadata": {
        "id": "vMMDvdGAoNgI",
        "colab_type": "text"
      },
      "source": [
        "https://www.kaggle.com/becksddf/churn-in-telecoms-dataset"
      ]
    },
    {
      "cell_type": "code",
      "metadata": {
        "scrolled": true,
        "id": "ybZ-keNOoNgJ",
        "colab_type": "code",
        "colab": {}
      },
      "source": [
        "df = pd.read_csv('/content/drive/My Drive/ML/Homework_3/telecom_churn.csv')"
      ],
      "execution_count": null,
      "outputs": []
    },
    {
      "cell_type": "code",
      "metadata": {
        "scrolled": true,
        "id": "slHQufEpoNgL",
        "colab_type": "code",
        "colab": {
          "base_uri": "https://localhost:8080/",
          "height": 238
        },
        "outputId": "3a4d18ce-23dd-40ce-b758-d2f7ee97e356"
      },
      "source": [
        "df.head()"
      ],
      "execution_count": null,
      "outputs": [
        {
          "output_type": "execute_result",
          "data": {
            "text/html": [
              "<div>\n",
              "<style scoped>\n",
              "    .dataframe tbody tr th:only-of-type {\n",
              "        vertical-align: middle;\n",
              "    }\n",
              "\n",
              "    .dataframe tbody tr th {\n",
              "        vertical-align: top;\n",
              "    }\n",
              "\n",
              "    .dataframe thead th {\n",
              "        text-align: right;\n",
              "    }\n",
              "</style>\n",
              "<table border=\"1\" class=\"dataframe\">\n",
              "  <thead>\n",
              "    <tr style=\"text-align: right;\">\n",
              "      <th></th>\n",
              "      <th>State</th>\n",
              "      <th>Account length</th>\n",
              "      <th>Area code</th>\n",
              "      <th>International plan</th>\n",
              "      <th>Voice mail plan</th>\n",
              "      <th>Number vmail messages</th>\n",
              "      <th>Total day minutes</th>\n",
              "      <th>Total day calls</th>\n",
              "      <th>Total day charge</th>\n",
              "      <th>Total eve minutes</th>\n",
              "      <th>Total eve calls</th>\n",
              "      <th>Total eve charge</th>\n",
              "      <th>Total night minutes</th>\n",
              "      <th>Total night calls</th>\n",
              "      <th>Total night charge</th>\n",
              "      <th>Total intl minutes</th>\n",
              "      <th>Total intl calls</th>\n",
              "      <th>Total intl charge</th>\n",
              "      <th>Customer service calls</th>\n",
              "      <th>Churn</th>\n",
              "    </tr>\n",
              "  </thead>\n",
              "  <tbody>\n",
              "    <tr>\n",
              "      <th>0</th>\n",
              "      <td>KS</td>\n",
              "      <td>128</td>\n",
              "      <td>415</td>\n",
              "      <td>No</td>\n",
              "      <td>Yes</td>\n",
              "      <td>25</td>\n",
              "      <td>265.1</td>\n",
              "      <td>110</td>\n",
              "      <td>45.07</td>\n",
              "      <td>197.4</td>\n",
              "      <td>99</td>\n",
              "      <td>16.78</td>\n",
              "      <td>244.7</td>\n",
              "      <td>91</td>\n",
              "      <td>11.01</td>\n",
              "      <td>10.0</td>\n",
              "      <td>3</td>\n",
              "      <td>2.70</td>\n",
              "      <td>1</td>\n",
              "      <td>False</td>\n",
              "    </tr>\n",
              "    <tr>\n",
              "      <th>1</th>\n",
              "      <td>OH</td>\n",
              "      <td>107</td>\n",
              "      <td>415</td>\n",
              "      <td>No</td>\n",
              "      <td>Yes</td>\n",
              "      <td>26</td>\n",
              "      <td>161.6</td>\n",
              "      <td>123</td>\n",
              "      <td>27.47</td>\n",
              "      <td>195.5</td>\n",
              "      <td>103</td>\n",
              "      <td>16.62</td>\n",
              "      <td>254.4</td>\n",
              "      <td>103</td>\n",
              "      <td>11.45</td>\n",
              "      <td>13.7</td>\n",
              "      <td>3</td>\n",
              "      <td>3.70</td>\n",
              "      <td>1</td>\n",
              "      <td>False</td>\n",
              "    </tr>\n",
              "    <tr>\n",
              "      <th>2</th>\n",
              "      <td>NJ</td>\n",
              "      <td>137</td>\n",
              "      <td>415</td>\n",
              "      <td>No</td>\n",
              "      <td>No</td>\n",
              "      <td>0</td>\n",
              "      <td>243.4</td>\n",
              "      <td>114</td>\n",
              "      <td>41.38</td>\n",
              "      <td>121.2</td>\n",
              "      <td>110</td>\n",
              "      <td>10.30</td>\n",
              "      <td>162.6</td>\n",
              "      <td>104</td>\n",
              "      <td>7.32</td>\n",
              "      <td>12.2</td>\n",
              "      <td>5</td>\n",
              "      <td>3.29</td>\n",
              "      <td>0</td>\n",
              "      <td>False</td>\n",
              "    </tr>\n",
              "    <tr>\n",
              "      <th>3</th>\n",
              "      <td>OH</td>\n",
              "      <td>84</td>\n",
              "      <td>408</td>\n",
              "      <td>Yes</td>\n",
              "      <td>No</td>\n",
              "      <td>0</td>\n",
              "      <td>299.4</td>\n",
              "      <td>71</td>\n",
              "      <td>50.90</td>\n",
              "      <td>61.9</td>\n",
              "      <td>88</td>\n",
              "      <td>5.26</td>\n",
              "      <td>196.9</td>\n",
              "      <td>89</td>\n",
              "      <td>8.86</td>\n",
              "      <td>6.6</td>\n",
              "      <td>7</td>\n",
              "      <td>1.78</td>\n",
              "      <td>2</td>\n",
              "      <td>False</td>\n",
              "    </tr>\n",
              "    <tr>\n",
              "      <th>4</th>\n",
              "      <td>OK</td>\n",
              "      <td>75</td>\n",
              "      <td>415</td>\n",
              "      <td>Yes</td>\n",
              "      <td>No</td>\n",
              "      <td>0</td>\n",
              "      <td>166.7</td>\n",
              "      <td>113</td>\n",
              "      <td>28.34</td>\n",
              "      <td>148.3</td>\n",
              "      <td>122</td>\n",
              "      <td>12.61</td>\n",
              "      <td>186.9</td>\n",
              "      <td>121</td>\n",
              "      <td>8.41</td>\n",
              "      <td>10.1</td>\n",
              "      <td>3</td>\n",
              "      <td>2.73</td>\n",
              "      <td>3</td>\n",
              "      <td>False</td>\n",
              "    </tr>\n",
              "  </tbody>\n",
              "</table>\n",
              "</div>"
            ],
            "text/plain": [
              "  State  Account length  ...  Customer service calls  Churn\n",
              "0    KS             128  ...                       1  False\n",
              "1    OH             107  ...                       1  False\n",
              "2    NJ             137  ...                       0  False\n",
              "3    OH              84  ...                       2  False\n",
              "4    OK              75  ...                       3  False\n",
              "\n",
              "[5 rows x 20 columns]"
            ]
          },
          "metadata": {
            "tags": []
          },
          "execution_count": 4
        }
      ]
    },
    {
      "cell_type": "markdown",
      "metadata": {
        "id": "fCiUzJ2O4nbm",
        "colab_type": "text"
      },
      "source": [
        "### Функция препроцессинга датафрейма"
      ]
    },
    {
      "cell_type": "code",
      "metadata": {
        "id": "NnTjdsm5oNgP",
        "colab_type": "code",
        "colab": {}
      },
      "source": [
        "def transform_df(df):\n",
        "  \n",
        "  \n",
        "  # True|False --> 1|0 && Yes|No --> 1|0\n",
        "  df['Churn'] = df['Churn'].astype('int64') \n",
        "  df['International plan'] = df['International plan'].map({'Yes':1, 'No':0})\n",
        "  df['Voice mail plan'] = df['Voice mail plan'].map({'Yes':1, 'No':0})\n",
        "  \n",
        "  # OneHotEncoding\n",
        "  state_dummies = pd.get_dummies(df['State'], prefix = 'State')\n",
        "  area_code_dummies = pd.get_dummies(df['Area code'], prefix='Area_code')\n",
        "  df = pd.concat([df, state_dummies, area_code_dummies], axis=1)  \n",
        "  df.drop(columns = ['State', 'Area code'], inplace=True) \n",
        "  \n",
        "  \n",
        "  # Нормировка\n",
        "  columns_to_norm = [i for i in df.columns if 'Total' in i] + ['Number vmail messages'] + ['Account length'] + ['Customer service calls']\n",
        "  for column in columns_to_norm:\n",
        "    df[column] = df[column].apply(lambda x: x/df[column].mean())\n",
        "    \n",
        "  # Нормализация   \n",
        "  yeo = PowerTransformer(method='yeo-johnson', standardize=False)\n",
        "  for column in columns_to_norm:\n",
        "    df[column] = yeo.fit_transform(df[column].values.reshape(df.shape[0],-1))\n",
        "    \n",
        "    \n",
        "  columns_categorical = [i for i in df.columns if 'Area' in i or 'State' in i] + ['International plan'] + ['Voice mail plan']\n",
        "  for column in columns_categorical:\n",
        "    df[column] = yeo.fit_transform(df[column].values.reshape(df.shape[0],-1))\n",
        "    \n",
        "  \n",
        "  return df"
      ],
      "execution_count": null,
      "outputs": []
    },
    {
      "cell_type": "markdown",
      "metadata": {
        "id": "oNmyjWZK4tU_",
        "colab_type": "text"
      },
      "source": [
        "### Преобразуем датафрейм"
      ]
    },
    {
      "cell_type": "code",
      "metadata": {
        "id": "xclSQq6drFbV",
        "colab_type": "code",
        "colab": {}
      },
      "source": [
        "df = transform_df(df)"
      ],
      "execution_count": null,
      "outputs": []
    },
    {
      "cell_type": "markdown",
      "metadata": {
        "id": "fXnnAv95wSJM",
        "colab_type": "text"
      },
      "source": [
        "### Стандартизация"
      ]
    },
    {
      "cell_type": "code",
      "metadata": {
        "id": "51O8hcwFy_Fr",
        "colab_type": "code",
        "colab": {}
      },
      "source": [
        "cols_to_stand = [i for i in df.columns if i!='Churn']\n",
        "scaler = MinMaxScaler()\n",
        "scaler.fit(df[cols_to_stand])\n",
        "df[cols_to_stand] = scaler.transform(df[cols_to_stand])"
      ],
      "execution_count": null,
      "outputs": []
    },
    {
      "cell_type": "code",
      "metadata": {
        "id": "DyT27xPqrKua",
        "colab_type": "code",
        "colab": {}
      },
      "source": [
        "def unpack_X_and_y(df, answers_col):\n",
        "  return df.drop([answers_col],  axis=1), df[answers_col]"
      ],
      "execution_count": null,
      "outputs": []
    },
    {
      "cell_type": "markdown",
      "metadata": {
        "id": "myApuNI84UUY",
        "colab_type": "text"
      },
      "source": [
        "### Находим лучшие фичи и избавляемся от всех, кто не попал в топ"
      ]
    },
    {
      "cell_type": "code",
      "metadata": {
        "id": "907Qn59WrgcJ",
        "colab_type": "code",
        "colab": {}
      },
      "source": [
        "def select_best_features(X, y):\n",
        "  #apply SelectKBest class to extract top 10 best features\n",
        "  bestfeatures = SelectKBest(score_func=chi2, k=10)\n",
        "  fit = bestfeatures.fit(X,y)\n",
        "  dfscores = pd.DataFrame(fit.scores_)\n",
        "  dfcolumns = pd.DataFrame(X.columns)\n",
        "  #concat two dataframes for better visualization \n",
        "  featureScores = pd.concat([dfcolumns,dfscores],axis=1)\n",
        "  featureScores.columns = ['Specs','Score']  #naming the dataframe columns\n",
        "  return list(featureScores.nlargest(10,'Score')['Specs'])   #print 10 best features"
      ],
      "execution_count": null,
      "outputs": []
    },
    {
      "cell_type": "code",
      "metadata": {
        "id": "qAjIkdwA1zt5",
        "colab_type": "code",
        "colab": {}
      },
      "source": [
        "best_features = select_best_features(*unpack_X_and_y(df, 'Churn'))"
      ],
      "execution_count": null,
      "outputs": []
    },
    {
      "cell_type": "code",
      "metadata": {
        "id": "zOStlNdL2cdt",
        "colab_type": "code",
        "colab": {}
      },
      "source": [
        "df = pd.concat([df[best_features], df['Churn']],axis=1)"
      ],
      "execution_count": null,
      "outputs": []
    },
    {
      "cell_type": "code",
      "metadata": {
        "id": "_K3GUQYJ40Si",
        "colab_type": "code",
        "colab": {
          "base_uri": "https://localhost:8080/",
          "height": 204
        },
        "outputId": "e25defa5-75c9-47d2-fe5b-7e11e8d386cc"
      },
      "source": [
        "df.head()"
      ],
      "execution_count": null,
      "outputs": [
        {
          "output_type": "execute_result",
          "data": {
            "text/html": [
              "<div>\n",
              "<style scoped>\n",
              "    .dataframe tbody tr th:only-of-type {\n",
              "        vertical-align: middle;\n",
              "    }\n",
              "\n",
              "    .dataframe tbody tr th {\n",
              "        vertical-align: top;\n",
              "    }\n",
              "\n",
              "    .dataframe thead th {\n",
              "        text-align: right;\n",
              "    }\n",
              "</style>\n",
              "<table border=\"1\" class=\"dataframe\">\n",
              "  <thead>\n",
              "    <tr style=\"text-align: right;\">\n",
              "      <th></th>\n",
              "      <th>International plan</th>\n",
              "      <th>Voice mail plan</th>\n",
              "      <th>Number vmail messages</th>\n",
              "      <th>Customer service calls</th>\n",
              "      <th>State_NJ</th>\n",
              "      <th>Total day minutes</th>\n",
              "      <th>Total day charge</th>\n",
              "      <th>State_TX</th>\n",
              "      <th>State_MD</th>\n",
              "      <th>State_VA</th>\n",
              "      <th>Churn</th>\n",
              "    </tr>\n",
              "  </thead>\n",
              "  <tbody>\n",
              "    <tr>\n",
              "      <th>0</th>\n",
              "      <td>0.0</td>\n",
              "      <td>1.0</td>\n",
              "      <td>0.959548</td>\n",
              "      <td>0.271336</td>\n",
              "      <td>0.0</td>\n",
              "      <td>0.750423</td>\n",
              "      <td>0.750420</td>\n",
              "      <td>0.0</td>\n",
              "      <td>0.0</td>\n",
              "      <td>0.0</td>\n",
              "      <td>0</td>\n",
              "    </tr>\n",
              "    <tr>\n",
              "      <th>1</th>\n",
              "      <td>0.0</td>\n",
              "      <td>1.0</td>\n",
              "      <td>0.962976</td>\n",
              "      <td>0.271336</td>\n",
              "      <td>0.0</td>\n",
              "      <td>0.452900</td>\n",
              "      <td>0.452832</td>\n",
              "      <td>0.0</td>\n",
              "      <td>0.0</td>\n",
              "      <td>0.0</td>\n",
              "      <td>0</td>\n",
              "    </tr>\n",
              "    <tr>\n",
              "      <th>2</th>\n",
              "      <td>0.0</td>\n",
              "      <td>0.0</td>\n",
              "      <td>0.000000</td>\n",
              "      <td>0.000000</td>\n",
              "      <td>1.0</td>\n",
              "      <td>0.687663</td>\n",
              "      <td>0.687647</td>\n",
              "      <td>0.0</td>\n",
              "      <td>0.0</td>\n",
              "      <td>0.0</td>\n",
              "      <td>0</td>\n",
              "    </tr>\n",
              "    <tr>\n",
              "      <th>3</th>\n",
              "      <td>1.0</td>\n",
              "      <td>0.0</td>\n",
              "      <td>0.000000</td>\n",
              "      <td>0.447103</td>\n",
              "      <td>0.0</td>\n",
              "      <td>0.849995</td>\n",
              "      <td>0.849969</td>\n",
              "      <td>0.0</td>\n",
              "      <td>0.0</td>\n",
              "      <td>0.0</td>\n",
              "      <td>0</td>\n",
              "    </tr>\n",
              "    <tr>\n",
              "      <th>4</th>\n",
              "      <td>1.0</td>\n",
              "      <td>0.0</td>\n",
              "      <td>0.000000</td>\n",
              "      <td>0.576547</td>\n",
              "      <td>0.0</td>\n",
              "      <td>0.467446</td>\n",
              "      <td>0.467427</td>\n",
              "      <td>0.0</td>\n",
              "      <td>0.0</td>\n",
              "      <td>0.0</td>\n",
              "      <td>0</td>\n",
              "    </tr>\n",
              "  </tbody>\n",
              "</table>\n",
              "</div>"
            ],
            "text/plain": [
              "   International plan  Voice mail plan  ...  State_VA  Churn\n",
              "0                 0.0              1.0  ...       0.0      0\n",
              "1                 0.0              1.0  ...       0.0      0\n",
              "2                 0.0              0.0  ...       0.0      0\n",
              "3                 1.0              0.0  ...       0.0      0\n",
              "4                 1.0              0.0  ...       0.0      0\n",
              "\n",
              "[5 rows x 11 columns]"
            ]
          },
          "metadata": {
            "tags": []
          },
          "execution_count": 12
        }
      ]
    },
    {
      "cell_type": "markdown",
      "metadata": {
        "id": "PCj3okQQ4asf",
        "colab_type": "text"
      },
      "source": [
        "### Делим датафрейм на X и y"
      ]
    },
    {
      "cell_type": "code",
      "metadata": {
        "id": "f-3pLDXltnDB",
        "colab_type": "code",
        "colab": {}
      },
      "source": [
        "X, y = unpack_X_and_y(df, 'Churn')"
      ],
      "execution_count": null,
      "outputs": []
    },
    {
      "cell_type": "markdown",
      "metadata": {
        "id": "jPbNJCns_GeW",
        "colab_type": "text"
      },
      "source": [
        "### Функция для вывода оценки по разным метрикам"
      ]
    },
    {
      "cell_type": "code",
      "metadata": {
        "id": "OInxKaCd8Xiq",
        "colab_type": "code",
        "colab": {}
      },
      "source": [
        "def value_of_metrics(y_true, y_pred):\n",
        "    print('Accuracy: ', accuracy_score(y_true, y_pred))\n",
        "    print('Recall: ', recall_score(y_true, y_pred))\n",
        "    print('Precision: ', precision_score(y_true, y_pred))  \n",
        "    print('F1: ', f1_score(y_true, y_pred))\n",
        "    print('Roc_AUC: ', roc_auc_score(y_true, y_pred))\n",
        "    print('Confusion Matrix: ')\n",
        "    print(pd.DataFrame(confusion_matrix(y_true, y_pred)))\n",
        "    \n",
        "    fpr, tpr, threshold = roc_curve(y_true, y_pred)\n",
        "    roc_auc = auc(fpr, tpr)\n",
        "    plt.title('My DataSet')\n",
        "    plt.plot(fpr, tpr, 'b', label = 'AUC = %0.2f' % roc_auc)\n",
        "    plt.legend(loc = 'lower right')\n",
        "    plt.plot([0, 1], [0, 1],'r--')\n",
        "    plt.xlim([0, 1])\n",
        "    plt.ylim([0, 1])\n",
        "    plt.ylabel('True Positive Rate')\n",
        "    plt.xlabel('False Positive Rate')\n",
        "    plt.show()"
      ],
      "execution_count": null,
      "outputs": []
    },
    {
      "cell_type": "markdown",
      "metadata": {
        "id": "Ub06hSqO6883",
        "colab_type": "text"
      },
      "source": [
        "### Используем метод GridSearch для определения лучших параметров RandomForest по метрике Recall."
      ]
    },
    {
      "cell_type": "code",
      "metadata": {
        "id": "cNyZb5FI5U2I",
        "colab_type": "code",
        "colab": {}
      },
      "source": [
        "def get_grid_RFC(X, y, n_estimators, max_depth, scoring='recall', cv=5):\n",
        "  grid_param = {\n",
        "      'n_estimators': n_estimators,\n",
        "      'max_depth': max_depth\n",
        "  }\n",
        "  \n",
        "  classifier = RandomForestClassifier()\n",
        "  \n",
        "  grid = GridSearchCV(estimator=classifier,\n",
        "                         param_grid=grid_param,\n",
        "                         scoring=scoring,\n",
        "                         cv=cv,\n",
        "                         n_jobs=-1)\n",
        "  \n",
        "  grid.fit(X, y)\n",
        "  \n",
        "  return grid"
      ],
      "execution_count": null,
      "outputs": []
    },
    {
      "cell_type": "markdown",
      "metadata": {
        "id": "MQMLutLh_QY0",
        "colab_type": "text"
      },
      "source": [
        "### Разделим датасет на тренировочную и тестовую выборки "
      ]
    },
    {
      "cell_type": "code",
      "metadata": {
        "id": "gK6cja8n-y0C",
        "colab_type": "code",
        "colab": {}
      },
      "source": [
        "X_train, X_test, y_train, y_test = train_test_split(X, y, test_size=0.25, random_state=27)"
      ],
      "execution_count": null,
      "outputs": []
    },
    {
      "cell_type": "code",
      "metadata": {
        "id": "W_Mx_cPL1BGI",
        "colab_type": "code",
        "colab": {}
      },
      "source": [
        "grid_RFC_1 = get_grid_RFC(X_train, y_train, np.linspace(3, 50, 20, dtype=int), np.linspace(2, 15, 5, dtype=int))"
      ],
      "execution_count": null,
      "outputs": []
    },
    {
      "cell_type": "code",
      "metadata": {
        "id": "E6kWSgUB9ZHM",
        "colab_type": "code",
        "colab": {
          "base_uri": "https://localhost:8080/",
          "height": 448
        },
        "outputId": "5f28f903-6281-4692-c819-de529f7e6baa"
      },
      "source": [
        "value_of_metrics(y_test, grid_RFC_1.predict(X_test))"
      ],
      "execution_count": null,
      "outputs": [
        {
          "output_type": "stream",
          "text": [
            "Accuracy:  0.8932853717026379\n",
            "Recall:  0.47619047619047616\n",
            "Precision:  0.5952380952380952\n",
            "F1:  0.5291005291005291\n",
            "Roc_AUC:  0.7147756221830296\n",
            "Confusion Matrix: \n",
            "     0   1\n",
            "0  695  34\n",
            "1   55  50\n"
          ],
          "name": "stdout"
        },
        {
          "output_type": "display_data",
          "data": {
            "image/png": "[encoded data removed]",
            "text/plain": [
              "<Figure size 432x288 with 1 Axes>"
            ]
          },
          "metadata": {
            "tags": []
          }
        }
      ]
    },
    {
      "cell_type": "markdown",
      "metadata": {
        "id": "Bao_Rx-FAXwC",
        "colab_type": "text"
      },
      "source": [
        "### Используем техники изменения объемов выборок"
      ]
    },
    {
      "cell_type": "markdown",
      "metadata": {
        "id": "Xvpx0pHzAZt6",
        "colab_type": "text"
      },
      "source": [
        "#### Добавляем копии объеков миноритарного класса"
      ]
    },
    {
      "cell_type": "code",
      "metadata": {
        "id": "Mfzt9dFuAbOI",
        "colab_type": "code",
        "colab": {
          "base_uri": "https://localhost:8080/",
          "height": 68
        },
        "outputId": "d2a75126-735e-47ef-b993-f91fab6138ef"
      },
      "source": [
        "not_churn = df[df.Churn==0]\n",
        "churn = df[df.Churn==1]\n",
        "\n",
        "churn_upsampled = resample(churn,\n",
        "                          replace=True,\n",
        "                          n_samples=len(not_churn), \n",
        "                          random_state=27)\n",
        "\n",
        "\n",
        "upsampled = pd.concat([not_churn, churn_upsampled])\n",
        "\n",
        "upsampled.Churn.value_counts()\n"
      ],
      "execution_count": null,
      "outputs": [
        {
          "output_type": "execute_result",
          "data": {
            "text/plain": [
              "1    2850\n",
              "0    2850\n",
              "Name: Churn, dtype: int64"
            ]
          },
          "metadata": {
            "tags": []
          },
          "execution_count": 19
        }
      ]
    },
    {
      "cell_type": "code",
      "metadata": {
        "id": "wKUvNtrQA75H",
        "colab_type": "code",
        "colab": {
          "base_uri": "https://localhost:8080/",
          "height": 448
        },
        "outputId": "80e3e19e-2eff-493a-a473-436f48aa3cb7"
      },
      "source": [
        "y_train_new = upsampled.Churn\n",
        "X_train_new = upsampled.drop('Churn', axis=1)\n",
        "\n",
        "grid_RFC_2 = get_grid_RFC(X_train_new, y_train_new, np.linspace(3, 50, 20, dtype=int), np.linspace(2, 15, 5, dtype=int))\n",
        "\n",
        "value_of_metrics(y_test, grid_RFC_2.predict(X_test))"
      ],
      "execution_count": null,
      "outputs": [
        {
          "output_type": "stream",
          "text": [
            "Accuracy:  0.960431654676259\n",
            "Recall:  0.9333333333333333\n",
            "Precision:  0.7903225806451613\n",
            "F1:  0.8558951965065502\n",
            "Roc_AUC:  0.9488340192043896\n",
            "Confusion Matrix: \n",
            "     0   1\n",
            "0  703  26\n",
            "1    7  98\n"
          ],
          "name": "stdout"
        },
        {
          "output_type": "display_data",
          "data": {
            "image/png": "[encoded data removed]",
            "text/plain": [
              "<Figure size 432x288 with 1 Axes>"
            ]
          },
          "metadata": {
            "tags": []
          }
        }
      ]
    },
    {
      "cell_type": "markdown",
      "metadata": {
        "id": "OIHLJt73C5vY",
        "colab_type": "text"
      },
      "source": [
        "#### Уменьшаем количество объектов мажоритарного класс"
      ]
    },
    {
      "cell_type": "code",
      "metadata": {
        "id": "0HpDrBsRC7HD",
        "colab_type": "code",
        "colab": {
          "base_uri": "https://localhost:8080/",
          "height": 68
        },
        "outputId": "fba2badf-3ad6-4c26-cbeb-52d450b551a0"
      },
      "source": [
        "not_churn_downsampled = resample(not_churn,\n",
        "                                replace = False, \n",
        "                                n_samples = len(churn), \n",
        "                                random_state = 27)\n",
        "downsampled = pd.concat([not_churn_downsampled, churn])\n",
        "downsampled.Churn.value_counts()"
      ],
      "execution_count": null,
      "outputs": [
        {
          "output_type": "execute_result",
          "data": {
            "text/plain": [
              "1    483\n",
              "0    483\n",
              "Name: Churn, dtype: int64"
            ]
          },
          "metadata": {
            "tags": []
          },
          "execution_count": 21
        }
      ]
    },
    {
      "cell_type": "code",
      "metadata": {
        "id": "DGFbhL1wDMDy",
        "colab_type": "code",
        "colab": {
          "base_uri": "https://localhost:8080/",
          "height": 502
        },
        "outputId": "19ca9b3b-b152-401b-cccc-eb9a007ee416"
      },
      "source": [
        "y_train_new_new = downsampled.Churn\n",
        "X_train_new_new = downsampled.drop('Churn', axis=1)\n",
        "\n",
        "grid_RFC_3 = get_grid_RFC(X_train_new_new, y_train_new_new, np.linspace(3, 50, 20, dtype=int), np.linspace(2, 15, 5, dtype=int))\n",
        "\n",
        "value_of_metrics(y_test, grid_RFC_3.predict(X_test))"
      ],
      "execution_count": null,
      "outputs": [
        {
          "output_type": "stream",
          "text": [
            "/usr/local/lib/python3.6/dist-packages/sklearn/model_selection/_search.py:814: DeprecationWarning: The default of the `iid` parameter will change from True to False in version 0.22 and will be removed in 0.24. This will change numeric results when test-set sizes are unequal.\n",
            "  DeprecationWarning)\n"
          ],
          "name": "stderr"
        },
        {
          "output_type": "stream",
          "text": [
            "Accuracy:  0.8513189448441247\n",
            "Recall:  0.8476190476190476\n",
            "Precision:  0.4517766497461929\n",
            "F1:  0.5894039735099338\n",
            "Roc_AUC:  0.8497354497354498\n",
            "Confusion Matrix: \n",
            "     0    1\n",
            "0  621  108\n",
            "1   16   89\n"
          ],
          "name": "stdout"
        },
        {
          "output_type": "display_data",
          "data": {
            "image/png": "[encoded data removed]",
            "text/plain": [
              "<Figure size 432x288 with 1 Axes>"
            ]
          },
          "metadata": {
            "tags": []
          }
        }
      ]
    },
    {
      "cell_type": "markdown",
      "metadata": {
        "id": "oESmDdr2DeUE",
        "colab_type": "text"
      },
      "source": [
        "#### Синтетическое увеличение миноритарного класса"
      ]
    },
    {
      "cell_type": "code",
      "metadata": {
        "id": "E-6AvwEgDfgq",
        "colab_type": "code",
        "colab": {
          "base_uri": "https://localhost:8080/",
          "height": 448
        },
        "outputId": "fa1153d0-19f3-4cca-93ce-6d17f9807f02"
      },
      "source": [
        "sm = SMOTE(random_state=27, ratio=1.0)\n",
        "X_train_new_new_new, y_train_new_new_new = sm.fit_sample(X_train, y_train)\n",
        "\n",
        "grid_RFC_4 = get_grid_RFC(X_train_new_new_new, y_train_new_new_new, np.linspace(3, 50, 20, dtype=int), np.linspace(2, 15, 5, dtype=int))\n",
        "\n",
        "value_of_metrics(y_test, grid_RFC_4.predict(X_test))"
      ],
      "execution_count": null,
      "outputs": [
        {
          "output_type": "stream",
          "text": [
            "Accuracy:  0.8345323741007195\n",
            "Recall:  0.8285714285714286\n",
            "Precision:  0.42028985507246375\n",
            "F1:  0.5576923076923077\n",
            "Roc_AUC:  0.8319811875367431\n",
            "Confusion Matrix: \n",
            "     0    1\n",
            "0  609  120\n",
            "1   18   87\n"
          ],
          "name": "stdout"
        },
        {
          "output_type": "display_data",
          "data": {
            "image/png": "[encoded data removed]",
            "text/plain": [
              "<Figure size 432x288 with 1 Axes>"
            ]
          },
          "metadata": {
            "tags": []
          }
        }
      ]
    }
  ]
}