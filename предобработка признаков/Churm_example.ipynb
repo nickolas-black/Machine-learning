{
  "nbformat": 4,
  "nbformat_minor": 0,
  "metadata": {
    "anaconda-cloud": {},
    "kernelspec": {
      "display_name": "Python 3",
      "language": "python",
      "name": "python3"
    },
    "language_info": {
      "codemirror_mode": {
        "name": "ipython",
        "version": 3
      },
      "file_extension": ".py",
      "mimetype": "text/x-python",
      "name": "python",
      "nbconvert_exporter": "python",
      "pygments_lexer": "ipython3",
      "version": "3.7.3"
    },
    "name": "seminar02_part2_pandas.ipynb",
    "colab": {
      "name": "Churm",
      "provenance": [],
      "collapsed_sections": []
    }
  },
  "cells": [
    {
      "cell_type": "markdown",
      "metadata": {
        "scrolled": true,
        "id": "X_Y-D4NMTvw8",
        "colab_type": "text"
      },
      "source": [
        "### выполнить предобработку признаков данного датасета как числовых, так и категориальных. Далее выполнить нормировку признаков с помощью библиотеки scikit learn (StandartScalar) и обучить известные Вам модели бинарной классификации (kNN, Bayes, SVM).\n",
        "\n"
      ]
    },
    {
      "cell_type": "code",
      "metadata": {
        "id": "63E9dOppTvxA",
        "colab_type": "code",
        "colab": {}
      },
      "source": [
        "import numpy as np\n",
        "import pandas as pd\n",
        "from google.colab import files\n",
        "import matplotlib.pyplot as plt\n",
        "from sklearn.preprocessing import StandardScaler\n",
        "from scipy.stats import kurtosis\n",
        "from scipy.stats import skew\n",
        "from scipy.stats import shapiro\n",
        "from scipy.stats import normaltest\n"
      ],
      "execution_count": 1,
      "outputs": []
    },
    {
      "cell_type": "markdown",
      "metadata": {
        "id": "EP6DiOClUGWw",
        "colab_type": "text"
      },
      "source": [
        "## Создал функцию для удобства просмотра"
      ]
    },
    {
      "cell_type": "code",
      "metadata": {
        "id": "qUAYW5hPUEwy",
        "colab_type": "code",
        "colab": {}
      },
      "source": [
        "## Просмотр данных\n",
        "def prosmotr(data):\n",
        "  pd.set_option('display.max_columns', 100) #Размеры таблицы\n",
        "  pd.set_option('display.max_rows', 100)\n",
        "  pd.set_option('precision', 2) #Регулируем количество знаков после запятой:\n",
        "  print('~~~~Содержание данных~~~~\\n', data.head())\n",
        "  print('~~~~~~~~~~~~~~~~~~~~~~~~~~~~~~~~~')\n",
        "  print('~~~Размеры данных~~~\\n', data.shape)\n",
        "  print('~~~~~~~~~~~~~~~~~~~~~~~~~~~~~~~~~')\n",
        "  print('~~~Названия колонок~~~\\n', data.columns)\n",
        "  print('~~~~~~~~~~~~~~~~~~~~~~~~~~~~~~~~~')\n",
        "  print('~~~Информация о данных~~~\\n')\n",
        "  print(data.info())\n",
        "  print('~~~~~~~~~~~~~~~~~~~~~~~~~~~~~~~~~')\n",
        "  print('~~~Наличие пропусков в данных~~~\\n', data.isna().sum())\n",
        "  print('~~~~~~~~~~~~~~~~~~~~~~~~~~~~~~~~~')\n",
        "  print('~~~Количество типов в данных~~~')\n",
        "  print(data.dtypes.value_counts())\n",
        "  print('~~~~~~~~~~~~~~~~~~~~~~~~~~~~~~~~~')\n",
        "  kateg = list(data.select_dtypes(include=['object']).columns) # Делаем список категориальных данных\n",
        "  print('~~~Категориальные данные~~~~')\n",
        "  print(kateg)\n",
        "  print('~~~~~~~~~~~~~~~~~~~~~~~~~~~~~~~~~')\n",
        "  chislov_float = list(data.select_dtypes(include=['float64'])) #Делаем список числовых данных float\n",
        "  print('~~~Числове данные float~~~~')\n",
        "  print(chislov_float)\n",
        "  print('~~~~~~~~~~~~~~~~~~~~~~~~~~~~~~~~~')\n",
        "  chislov_int = list(data.select_dtypes(include=['int64'])) #Делаем список числовых данных int\n",
        "  print('~~~Числове данные int~~~~')\n",
        "  print(chislov_int)\n",
        "  print('~~~~~~~~~~~~~~~~~~~~~~~~~~~~~~~~~')\n",
        "  print('~~~Основные статистические характеристики данных по каждому числовому признаку (типы int64)~~~\\n', data.describe(include=['int64']))\n",
        "  print('~~~~~~~~~~~~~~~~~~~~~~~~~~~~~~~~~')\n",
        "  print('~~~~~~~~~~~~~~~~~~~~~~~~~~~~~~~~~')\n",
        "  print('~~~Основные статистические характеристики данных по каждому числовому признаку (типы float64)~~~\\n', data.describe(include=['float64']))\n",
        "  print('~~~~~~~~~~~~~~~~~~~~~~~~~~~~~~~~~')\n",
        "  print('~~~Cтатистика по нечисловым признакам object ~~~\\n', data.describe(include=['object']))\n",
        "  print('~~~~~~~~~~~~~~~~~~~~~~~~~~~~~~~~~')\n",
        "  print('~~~~~~~~~~~~~~~~~~~~~~~~~~~~~~~~~')\n",
        "  print('~~~Cтатистика по нечисловым признакам bool ~~~\\n', data.describe(include=['bool']))\n",
        "  print('~~~~~~~~~~~~~~~~~~~~~~~~~~~~~~~~~')\n",
        "\n",
        " "
      ],
      "execution_count": 2,
      "outputs": []
    },
    {
      "cell_type": "code",
      "metadata": {
        "id": "0hfWKzQ0wKmW",
        "colab_type": "code",
        "colab": {}
      },
      "source": [
        "## Анализ данных\n",
        "def analyze(data):\n",
        "  num = data.columns\n",
        "  for i in num:\n",
        "    print(i.title())\n",
        "    print('~~~~~~~~~~~~~~~~~~~~~~~~~\\n')\n",
        "    print(\"mean : \", np.mean(data[i]))\n",
        "    print(\"var  : \", np.var(data[i]))\n",
        "    print(\"skew : \", skew(data[i]))\n",
        "    print(\"kurt : \", kurtosis(data[i]))\n",
        "    print(\"shapiro : \", shapiro(data[i]))\n",
        "    print(\"normaltest : \", normaltest(data[i]))\n",
        "    print('~~~~~~~~~~~~~~~~~~~~~~~~~')\n",
        "    print('~~~~~~~~~~~~~~~~~~~~~~~~~\\n')\n"
      ],
      "execution_count": 3,
      "outputs": []
    },
    {
      "cell_type": "markdown",
      "metadata": {
        "id": "lrC0iGpJAD1J",
        "colab_type": "text"
      },
      "source": [
        "## Функции для работы с данными"
      ]
    },
    {
      "cell_type": "code",
      "metadata": {
        "id": "UHh-64IdALOB",
        "colab_type": "code",
        "colab": {}
      },
      "source": [
        "from sklearn import preprocessing\n",
        "from sklearn.preprocessing import LabelEncoder\n",
        "\n",
        "# Для кодировки\n",
        "def cod(data):\n",
        "  cate=[key for key in dict(data.dtypes) if dict(data.dtypes)[key] in ['bool', 'object']]\n",
        "  le = preprocessing.LabelEncoder()\n",
        "  for i in cate:\n",
        "    le.fit(data[i])\n",
        "    data[i] = le.transform(data[i])\n",
        "  return data"
      ],
      "execution_count": 4,
      "outputs": []
    },
    {
      "cell_type": "code",
      "metadata": {
        "id": "wDLUCi4MDfzt",
        "colab_type": "code",
        "colab": {}
      },
      "source": [
        "# Автоматическая нормировка данных\n",
        "from sklearn.preprocessing import StandardScaler\n",
        "scaler = StandardScaler()\n",
        "def standart(data):\n",
        "  features_float = list(data.select_dtypes(include=['float']).columns) #выбираю колонки с float\n",
        "  train_temp = data[features_float]\n",
        "  scaler.fit(train_temp)\n",
        "  train_temp_prep = scaler.transform(train_temp)\n",
        "  t= pd.DataFrame(train_temp_prep)\n",
        "  t.columns = features_float\n",
        "  features_int = list(data.select_dtypes(include=['int']).columns) #выбираю колонки с int\n",
        "  train_temp_int = data[features_int]\n",
        "  scaler.fit(train_temp_int)\n",
        "  train_temp_prep_int = scaler.transform(train_temp_int)\n",
        "  i_t= pd.DataFrame(train_temp_prep_int)\n",
        "  i_t.columns = features_int\n",
        "  preob = pd.concat([t, i_t],axis=1)                           #сшиваю данные\n",
        "  return preob"
      ],
      "execution_count": 5,
      "outputs": []
    },
    {
      "cell_type": "markdown",
      "metadata": {
        "id": "B4pvhlNoHoPh",
        "colab_type": "text"
      },
      "source": [
        "## Функции по алгоритмам"
      ]
    },
    {
      "cell_type": "code",
      "metadata": {
        "id": "VgjSnosZHnFJ",
        "colab_type": "code",
        "colab": {}
      },
      "source": [
        "from sklearn.model_selection import StratifiedKFold\n",
        "from sklearn.model_selection import GridSearchCV\n",
        "\n",
        "\n",
        "def fit_model(model, X, y, parameters):  \n",
        "  cross_validation = StratifiedKFold(n_splits=5)\n",
        "\n",
        "  grid_search = GridSearchCV(model,\n",
        "                              scoring='accuracy',\n",
        "                              param_grid=parameters,\n",
        "                              cv=cross_validation,\n",
        "                              verbose=1\n",
        "                            )\n",
        "\n",
        "  grid_search.fit(X, y)\n",
        "  parameters=grid_search.best_params_\n",
        "  print('Best score: {}'.format(grid_search.best_score_))\n",
        "  print('Best parameters: {}'.format(parameters))\n",
        "\n",
        "  return grid_search"
      ],
      "execution_count": 6,
      "outputs": []
    },
    {
      "cell_type": "markdown",
      "metadata": {
        "id": "zPEQBOY1H3kt",
        "colab_type": "text"
      },
      "source": [
        "## KNN"
      ]
    },
    {
      "cell_type": "code",
      "metadata": {
        "id": "nvUH9xmFH1ff",
        "colab_type": "code",
        "colab": {}
      },
      "source": [
        "from sklearn.neighbors import KNeighborsClassifier\n",
        "\n",
        "def KNN(train, targets):\n",
        "  parameter_grid = {\n",
        "                 'n_neighbors': [2, 5, 10, 15, 20, 25],\n",
        "                 'metric': ['chebyshev', 'manhattan', 'euclidean', 'minkowski'],\n",
        "                 'algorithm': ['ball_tree', 'kd_tree', 'brute']\n",
        "                 }\n",
        "  knn = KNeighborsClassifier()\n",
        "  trained = fit_model(knn, train, targets, parameter_grid)\n",
        "  return trained"
      ],
      "execution_count": 7,
      "outputs": []
    },
    {
      "cell_type": "markdown",
      "metadata": {
        "id": "EEHgTw2zI-zb",
        "colab_type": "text"
      },
      "source": [
        "## BAYES"
      ]
    },
    {
      "cell_type": "code",
      "metadata": {
        "id": "t3udJoRrJHFN",
        "colab_type": "code",
        "colab": {}
      },
      "source": [
        "from sklearn.naive_bayes import BernoulliNB, GaussianNB, MultinomialNB, ComplementNB\n",
        "\n",
        "\n",
        "def Bern(train, targets):\n",
        "  parameter_grid = {\n",
        "                 'alpha': [0.001, 0.01, 0.1, 0.2, 0.5, 1.0],\n",
        "                 'binarize': [0.0, 0.2, 0.5],\n",
        "                 'fit_prior': ['True', 'False']\n",
        "                 }\n",
        "  bernoulli = BernoulliNB()\n",
        "  trained_bernoulli = fit_model(bernoulli, train, targets, parameter_grid)\n",
        "  return trained_bernoulli\n",
        "\n",
        "def Gaus(train, targets):\n",
        "  gaussian_nb = GaussianNB()\n",
        "  parameter_grid = {\n",
        "                 'var_smoothing': [1e-09, 1e-10, 1e-11, 1e-8, 1e-7, 1e-6, 1e-5, 1e-4, 1e-3]\n",
        "                 }\n",
        "  trained_gaussian_nb = fit_model(gaussian_nb, train, targets, parameter_grid)\n",
        "  return trained_gaussian_nb\n",
        "\n",
        "def Multi_nb(train, targets):\n",
        "  multi_nb = MultinomialNB()\n",
        "  parameter_grid = {\n",
        "                 'alpha': [0.001, 0.01, 0.1, 0.2, 0.5, 1.0],\n",
        "                 'fit_prior': ['True', 'False']\n",
        "                 }\n",
        "  trained_multi_nb = fit_model(multi_nb, train, targets, parameter_grid)\n",
        "  return trained_multi_nb\n",
        "\n",
        "def Complement_nb(train, targets):\n",
        "  complement_nb = ComplementNB()\n",
        "  parameter_grid = {\n",
        "                 'alpha': [0.001, 0.01, 0.1, 0.2, 0.5, 1.0],\n",
        "                 'fit_prior': ['True', 'False'],\n",
        "                 'norm': ['True', 'False']\n",
        "                 }\n",
        "  trained_complement_nb = fit_model(complement_nb, train, targets, parameter_grid)\n",
        "  return trained_complement_nb\n"
      ],
      "execution_count": 8,
      "outputs": []
    },
    {
      "cell_type": "markdown",
      "metadata": {
        "id": "MkIoRgkDSAlF",
        "colab_type": "text"
      },
      "source": [
        "## SVM"
      ]
    },
    {
      "cell_type": "code",
      "metadata": {
        "id": "zl--CZKrSF8p",
        "colab_type": "code",
        "colab": {}
      },
      "source": [
        "from sklearn import svm\n",
        "\n",
        "def SVM(train, targets):\n",
        "    Svm = svm.SVC(kernel='rbf')\n",
        "    param_grid = {\n",
        "        'C': [0.001, 0.01, 0.1, 1, 10],\n",
        "        'gamma' : [0.001, 0.01, 0.1, 1]        \n",
        "    }\n",
        "    train_Svm = fit_model(Svm, train, targets,param_grid)\n",
        "    return train_Svm\n",
        "  \n",
        "  \n"
      ],
      "execution_count": 9,
      "outputs": []
    },
    {
      "cell_type": "markdown",
      "metadata": {
        "id": "5vCaGyKNTvxK",
        "colab_type": "text"
      },
      "source": [
        "### Чтение из файла и первичный анализ"
      ]
    },
    {
      "cell_type": "code",
      "metadata": {
        "id": "57HtvUkUUqP1",
        "colab_type": "code",
        "colab": {
          "resources": {
            "http://localhost:8080/nbextensions/google.colab/files.js": {
              "data": "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",
              "ok": true,
              "headers": [
                [
                  "content-type",
                  "application/javascript"
                ]
              ],
              "status": 200,
              "status_text": ""
            }
          },
          "base_uri": "https://localhost:8080/",
          "height": 74
        },
        "outputId": "6688405f-c7e8-457c-fc8b-982289896e30"
      },
      "source": [
        "#file = files.upload()"
      ],
      "execution_count": null,
      "outputs": [
        {
          "output_type": "display_data",
          "data": {
            "text/html": [
              "\n",
              "     <input type=\"file\" id=\"files-996948ef-299e-40f4-a7eb-dac810ebd25d\" name=\"files[]\" multiple disabled />\n",
              "     <output id=\"result-996948ef-299e-40f4-a7eb-dac810ebd25d\">\n",
              "      Upload widget is only available when the cell has been executed in the\n",
              "      current browser session. Please rerun this cell to enable.\n",
              "      </output>\n",
              "      <script src=\"/nbextensions/google.colab/files.js\"></script> "
            ],
            "text/plain": [
              "<IPython.core.display.HTML object>"
            ]
          },
          "metadata": {
            "tags": []
          }
        },
        {
          "output_type": "stream",
          "text": [
            "Saving telecom_churn.csv to telecom_churn (3).csv\n"
          ],
          "name": "stdout"
        }
      ]
    },
    {
      "cell_type": "code",
      "metadata": {
        "scrolled": true,
        "id": "t1yWlVYMTvxM",
        "colab_type": "code",
        "colab": {}
      },
      "source": [
        "#df = pd.read_csv('telecom_churn.csv')\n",
        "df= pd.read_csv('/content/drive/My Drive/ugroz/dat.csv')"
      ],
      "execution_count": null,
      "outputs": []
    },
    {
      "cell_type": "code",
      "metadata": {
        "id": "6mY9UFQmVpX1",
        "colab_type": "code",
        "colab": {
          "base_uri": "https://localhost:8080/",
          "height": 1000
        },
        "outputId": "5dd50dcf-8527-4589-da94-69ff990e7a45"
      },
      "source": [
        "prosmotr(df)"
      ],
      "execution_count": null,
      "outputs": [
        {
          "output_type": "stream",
          "text": [
            "~~~~Содержание данных~~~~\n",
            "    Unnamed: 0   ProductName EngineVersion       AppVersion  AvSigVersion  \\\n",
            "0           0  win8defender   1.1.15100.1  4.18.1807.18075  1.273.1735.0   \n",
            "1           1  win8defender   1.1.14600.4     4.13.17134.1    1.263.48.0   \n",
            "2           2  win8defender   1.1.15100.1  4.18.1807.18075  1.273.1341.0   \n",
            "3           3  win8defender   1.1.15100.1  4.18.1807.18075  1.273.1527.0   \n",
            "4           4  win8defender   1.1.15100.1  4.18.1807.18075  1.273.1379.0   \n",
            "\n",
            "   IsBeta  RtpStateBitfield  IsSxsPassiveMode  AVProductStatesIdentifier  \\\n",
            "0       0               7.0                 0                    53447.0   \n",
            "1       0               7.0                 0                    53447.0   \n",
            "2       0               7.0                 0                    53447.0   \n",
            "3       0               7.0                 0                    53447.0   \n",
            "4       0               7.0                 0                    53447.0   \n",
            "\n",
            "   AVProductsInstalled  AVProductsEnabled  HasTpm  CountryIdentifier  \\\n",
            "0                  1.0                1.0       1                 29   \n",
            "1                  1.0                1.0       1                 93   \n",
            "2                  1.0                1.0       1                 86   \n",
            "3                  1.0                1.0       1                 88   \n",
            "4                  1.0                1.0       1                 18   \n",
            "\n",
            "   CityIdentifier   Platform Processor     OsVer  OsBuild  OsSuite  \\\n",
            "0        128035.0  windows10       x64  10.0.0.0    17134      256   \n",
            "1          1482.0  windows10       x64  10.0.0.0    17134      256   \n",
            "2        153579.0  windows10       x64  10.0.0.0    17134      768   \n",
            "3         20710.0  windows10       x64  10.0.0.0    17134      256   \n",
            "4         37376.0  windows10       x64  10.0.0.0    17134      768   \n",
            "\n",
            "  OsPlatformSubRelease                                OsBuildLab SkuEdition  \\\n",
            "0                  rs4  17134.1.amd64fre.rs4_release.180410-1804        Pro   \n",
            "1                  rs4  17134.1.amd64fre.rs4_release.180410-1804        Pro   \n",
            "2                  rs4  17134.1.amd64fre.rs4_release.180410-1804       Home   \n",
            "3                  rs4  17134.1.amd64fre.rs4_release.180410-1804        Pro   \n",
            "4                  rs4  17134.1.amd64fre.rs4_release.180410-1804       Home   \n",
            "\n",
            "   IsProtected  AutoSampleOptIn  SMode  IeVerIdentifier   SmartScreen  \\\n",
            "0          1.0                0    0.0            137.0           NaN   \n",
            "1          1.0                0    0.0            137.0           NaN   \n",
            "2          1.0                0    0.0            137.0  RequireAdmin   \n",
            "3          1.0                0    0.0            137.0  ExistsNotSet   \n",
            "4          1.0                0    0.0            137.0  RequireAdmin   \n",
            "\n",
            "   Firewall  UacLuaenable Census_MDC2FormFactor Census_DeviceFamily  \\\n",
            "0       1.0           1.0               Desktop     Windows.Desktop   \n",
            "1       1.0           1.0              Notebook     Windows.Desktop   \n",
            "2       1.0           1.0               Desktop     Windows.Desktop   \n",
            "3       1.0           1.0               Desktop     Windows.Desktop   \n",
            "4       1.0           1.0              Notebook     Windows.Desktop   \n",
            "\n",
            "   Census_OEMNameIdentifier  Census_OEMModelIdentifier  \\\n",
            "0                    2668.0                     9124.0   \n",
            "1                    2668.0                    91656.0   \n",
            "2                    4908.0                   317701.0   \n",
            "3                    1443.0                   275890.0   \n",
            "4                    1443.0                   331929.0   \n",
            "\n",
            "   Census_ProcessorCoreCount  Census_ProcessorManufacturerIdentifier  \\\n",
            "0                        4.0                                     5.0   \n",
            "1                        4.0                                     5.0   \n",
            "2                        4.0                                     5.0   \n",
            "3                        4.0                                     5.0   \n",
            "4                        4.0                                     5.0   \n",
            "\n",
            "   Census_ProcessorModelIdentifier Census_ProcessorClass  \\\n",
            "0                           2340.0                   NaN   \n",
            "1                           2404.0                   NaN   \n",
            "2                           1972.0                   NaN   \n",
            "3                           2272.0                   NaN   \n",
            "4                           2500.0                   NaN   \n",
            "\n",
            "   Census_PrimaryDiskTotalCapacity Census_PrimaryDiskTypeName  \\\n",
            "0                         476940.0                        HDD   \n",
            "1                         476940.0                        HDD   \n",
            "2                         114473.0                        SSD   \n",
            "3                         238475.0                    UNKNOWN   \n",
            "4                         476940.0                        HDD   \n",
            "\n",
            "   Census_SystemVolumeTotalCapacity  Census_HasOpticalDiskDrive  \\\n",
            "0                          299451.0                           0   \n",
            "1                          102385.0                           0   \n",
            "2                          113907.0                           0   \n",
            "3                          227116.0                           0   \n",
            "4                          101900.0                           0   \n",
            "\n",
            "   Census_TotalPhysicalRAM Census_ChassisTypeName  \\\n",
            "0                   4096.0                Desktop   \n",
            "1                   4096.0               Notebook   \n",
            "2                   4096.0                Desktop   \n",
            "3                   4096.0              MiniTower   \n",
            "4                   6144.0               Portable   \n",
            "\n",
            "   Census_InternalPrimaryDiagonalDisplaySizeInInches  \\\n",
            "0                                               18.9   \n",
            "1                                               13.9   \n",
            "2                                               21.5   \n",
            "3                                               18.5   \n",
            "4                                               14.0   \n",
            "\n",
            "   Census_InternalPrimaryDisplayResolutionHorizontal  \\\n",
            "0                                             1440.0   \n",
            "1                                             1366.0   \n",
            "2                                             1920.0   \n",
            "3                                             1366.0   \n",
            "4                                             1366.0   \n",
            "\n",
            "   Census_InternalPrimaryDisplayResolutionVertical  \\\n",
            "0                                            900.0   \n",
            "1                                            768.0   \n",
            "2                                           1080.0   \n",
            "3                                            768.0   \n",
            "4                                            768.0   \n",
            "\n",
            "  Census_PowerPlatformRoleName  Census_InternalBatteryNumberOfCharges  \\\n",
            "0                      Desktop                               4.29e+09   \n",
            "1                       Mobile                               1.00e+00   \n",
            "2                      Desktop                               4.29e+09   \n",
            "3                      Desktop                               4.29e+09   \n",
            "4                       Mobile                               0.00e+00   \n",
            "\n",
            "  Census_OSVersion Census_OSArchitecture Census_OSBranch  \\\n",
            "0   10.0.17134.165                 amd64     rs4_release   \n",
            "1     10.0.17134.1                 amd64     rs4_release   \n",
            "2   10.0.17134.165                 amd64     rs4_release   \n",
            "3   10.0.17134.228                 amd64     rs4_release   \n",
            "4   10.0.17134.191                 amd64     rs4_release   \n",
            "\n",
            "   Census_OSBuildNumber  Census_OSBuildRevision Census_OSEdition  \\\n",
            "0                 17134                     165     Professional   \n",
            "1                 17134                       1     Professional   \n",
            "2                 17134                     165             Core   \n",
            "3                 17134                     228     Professional   \n",
            "4                 17134                     191             Core   \n",
            "\n",
            "  Census_OSSkuName Census_OSInstallTypeName  \\\n",
            "0     PROFESSIONAL               UUPUpgrade   \n",
            "1     PROFESSIONAL                 IBSClean   \n",
            "2             CORE               UUPUpgrade   \n",
            "3     PROFESSIONAL               UUPUpgrade   \n",
            "4             CORE                   Update   \n",
            "\n",
            "   Census_OSInstallLanguageIdentifier  Census_OSUILocaleIdentifier  \\\n",
            "0                                26.0                          119   \n",
            "1                                 8.0                           31   \n",
            "2                                 7.0                           30   \n",
            "3                                17.0                           64   \n",
            "4                                 8.0                           31   \n",
            "\n",
            "  Census_OSWUAutoUpdateOptionsName  Census_IsPortableOperatingSystem  \\\n",
            "0                          UNKNOWN                                 0   \n",
            "1                          UNKNOWN                                 0   \n",
            "2                         FullAuto                                 0   \n",
            "3                         FullAuto                                 0   \n",
            "4                         FullAuto                                 0   \n",
            "\n",
            "  Census_GenuineStateName Census_ActivationChannel  Census_IsFlightsDisabled  \\\n",
            "0              IS_GENUINE                   Retail                       0.0   \n",
            "1                 OFFLINE                   Retail                       0.0   \n",
            "2              IS_GENUINE               OEM:NONSLP                       0.0   \n",
            "3              IS_GENUINE               OEM:NONSLP                       0.0   \n",
            "4              IS_GENUINE                   Retail                       0.0   \n",
            "\n",
            "  Census_FlightRing  Census_ThresholdOptIn  \\\n",
            "0            Retail                    NaN   \n",
            "1           NOT_SET                    NaN   \n",
            "2            Retail                    NaN   \n",
            "3            Retail                    NaN   \n",
            "4            Retail                    0.0   \n",
            "\n",
            "   Census_FirmwareManufacturerIdentifier  Census_FirmwareVersionIdentifier  \\\n",
            "0                                  628.0                           36144.0   \n",
            "1                                  628.0                           57858.0   \n",
            "2                                  142.0                           52682.0   \n",
            "3                                  355.0                           20050.0   \n",
            "4                                  355.0                           19844.0   \n",
            "\n",
            "   Census_IsSecureBootEnabled  Census_IsWIMBootEnabled  \\\n",
            "0                           0                      NaN   \n",
            "1                           0                      NaN   \n",
            "2                           0                      NaN   \n",
            "3                           0                      NaN   \n",
            "4                           0                      0.0   \n",
            "\n",
            "   Census_IsVirtualDevice  Census_IsTouchEnabled  Census_IsPenCapable  \\\n",
            "0                     0.0                      0                    0   \n",
            "1                     0.0                      0                    0   \n",
            "2                     0.0                      0                    0   \n",
            "3                     0.0                      0                    0   \n",
            "4                     0.0                      0                    0   \n",
            "\n",
            "   Census_IsAlwaysOnAlwaysConnectedCapable  Wdft_IsGamer  \\\n",
            "0                                      0.0           0.0   \n",
            "1                                      0.0           0.0   \n",
            "2                                      0.0           0.0   \n",
            "3                                      0.0           0.0   \n",
            "4                                      0.0           0.0   \n",
            "\n",
            "   Wdft_RegionIdentifier  HasDetections  \n",
            "0                   10.0              0  \n",
            "1                    8.0              0  \n",
            "2                    3.0              0  \n",
            "3                    3.0              1  \n",
            "4                    1.0              1  \n",
            "~~~~~~~~~~~~~~~~~~~~~~~~~~~~~~~~~\n",
            "~~~Размеры данных~~~\n",
            " (8921483, 76)\n",
            "~~~~~~~~~~~~~~~~~~~~~~~~~~~~~~~~~\n",
            "~~~Названия колонок~~~\n",
            " Index(['Unnamed: 0', 'ProductName', 'EngineVersion', 'AppVersion',\n",
            "       'AvSigVersion', 'IsBeta', 'RtpStateBitfield', 'IsSxsPassiveMode',\n",
            "       'AVProductStatesIdentifier', 'AVProductsInstalled', 'AVProductsEnabled',\n",
            "       'HasTpm', 'CountryIdentifier', 'CityIdentifier', 'Platform',\n",
            "       'Processor', 'OsVer', 'OsBuild', 'OsSuite', 'OsPlatformSubRelease',\n",
            "       'OsBuildLab', 'SkuEdition', 'IsProtected', 'AutoSampleOptIn', 'SMode',\n",
            "       'IeVerIdentifier', 'SmartScreen', 'Firewall', 'UacLuaenable',\n",
            "       'Census_MDC2FormFactor', 'Census_DeviceFamily',\n",
            "       'Census_OEMNameIdentifier', 'Census_OEMModelIdentifier',\n",
            "       'Census_ProcessorCoreCount', 'Census_ProcessorManufacturerIdentifier',\n",
            "       'Census_ProcessorModelIdentifier', 'Census_ProcessorClass',\n",
            "       'Census_PrimaryDiskTotalCapacity', 'Census_PrimaryDiskTypeName',\n",
            "       'Census_SystemVolumeTotalCapacity', 'Census_HasOpticalDiskDrive',\n",
            "       'Census_TotalPhysicalRAM', 'Census_ChassisTypeName',\n",
            "       'Census_InternalPrimaryDiagonalDisplaySizeInInches',\n",
            "       'Census_InternalPrimaryDisplayResolutionHorizontal',\n",
            "       'Census_InternalPrimaryDisplayResolutionVertical',\n",
            "       'Census_PowerPlatformRoleName', 'Census_InternalBatteryNumberOfCharges',\n",
            "       'Census_OSVersion', 'Census_OSArchitecture', 'Census_OSBranch',\n",
            "       'Census_OSBuildNumber', 'Census_OSBuildRevision', 'Census_OSEdition',\n",
            "       'Census_OSSkuName', 'Census_OSInstallTypeName',\n",
            "       'Census_OSInstallLanguageIdentifier', 'Census_OSUILocaleIdentifier',\n",
            "       'Census_OSWUAutoUpdateOptionsName', 'Census_IsPortableOperatingSystem',\n",
            "       'Census_GenuineStateName', 'Census_ActivationChannel',\n",
            "       'Census_IsFlightsDisabled', 'Census_FlightRing',\n",
            "       'Census_ThresholdOptIn', 'Census_FirmwareManufacturerIdentifier',\n",
            "       'Census_FirmwareVersionIdentifier', 'Census_IsSecureBootEnabled',\n",
            "       'Census_IsWIMBootEnabled', 'Census_IsVirtualDevice',\n",
            "       'Census_IsTouchEnabled', 'Census_IsPenCapable',\n",
            "       'Census_IsAlwaysOnAlwaysConnectedCapable', 'Wdft_IsGamer',\n",
            "       'Wdft_RegionIdentifier', 'HasDetections'],\n",
            "      dtype='object')\n",
            "~~~~~~~~~~~~~~~~~~~~~~~~~~~~~~~~~\n",
            "~~~Информация о данных~~~\n",
            "\n",
            "<class 'pandas.core.frame.DataFrame'>\n",
            "RangeIndex: 8921483 entries, 0 to 8921482\n",
            "Data columns (total 76 columns):\n",
            "Unnamed: 0                                           int64\n",
            "ProductName                                          object\n",
            "EngineVersion                                        object\n",
            "AppVersion                                           object\n",
            "AvSigVersion                                         object\n",
            "IsBeta                                               int64\n",
            "RtpStateBitfield                                     float64\n",
            "IsSxsPassiveMode                                     int64\n",
            "AVProductStatesIdentifier                            float64\n",
            "AVProductsInstalled                                  float64\n",
            "AVProductsEnabled                                    float64\n",
            "HasTpm                                               int64\n",
            "CountryIdentifier                                    int64\n",
            "CityIdentifier                                       float64\n",
            "Platform                                             object\n",
            "Processor                                            object\n",
            "OsVer                                                object\n",
            "OsBuild                                              int64\n",
            "OsSuite                                              int64\n",
            "OsPlatformSubRelease                                 object\n",
            "OsBuildLab                                           object\n",
            "SkuEdition                                           object\n",
            "IsProtected                                          float64\n",
            "AutoSampleOptIn                                      int64\n",
            "SMode                                                float64\n",
            "IeVerIdentifier                                      float64\n",
            "SmartScreen                                          object\n",
            "Firewall                                             float64\n",
            "UacLuaenable                                         float64\n",
            "Census_MDC2FormFactor                                object\n",
            "Census_DeviceFamily                                  object\n",
            "Census_OEMNameIdentifier                             float64\n",
            "Census_OEMModelIdentifier                            float64\n",
            "Census_ProcessorCoreCount                            float64\n",
            "Census_ProcessorManufacturerIdentifier               float64\n",
            "Census_ProcessorModelIdentifier                      float64\n",
            "Census_ProcessorClass                                object\n",
            "Census_PrimaryDiskTotalCapacity                      float64\n",
            "Census_PrimaryDiskTypeName                           object\n",
            "Census_SystemVolumeTotalCapacity                     float64\n",
            "Census_HasOpticalDiskDrive                           int64\n",
            "Census_TotalPhysicalRAM                              float64\n",
            "Census_ChassisTypeName                               object\n",
            "Census_InternalPrimaryDiagonalDisplaySizeInInches    float64\n",
            "Census_InternalPrimaryDisplayResolutionHorizontal    float64\n",
            "Census_InternalPrimaryDisplayResolutionVertical      float64\n",
            "Census_PowerPlatformRoleName                         object\n",
            "Census_InternalBatteryNumberOfCharges                float64\n",
            "Census_OSVersion                                     object\n",
            "Census_OSArchitecture                                object\n",
            "Census_OSBranch                                      object\n",
            "Census_OSBuildNumber                                 int64\n",
            "Census_OSBuildRevision                               int64\n",
            "Census_OSEdition                                     object\n",
            "Census_OSSkuName                                     object\n",
            "Census_OSInstallTypeName                             object\n",
            "Census_OSInstallLanguageIdentifier                   float64\n",
            "Census_OSUILocaleIdentifier                          int64\n",
            "Census_OSWUAutoUpdateOptionsName                     object\n",
            "Census_IsPortableOperatingSystem                     int64\n",
            "Census_GenuineStateName                              object\n",
            "Census_ActivationChannel                             object\n",
            "Census_IsFlightsDisabled                             float64\n",
            "Census_FlightRing                                    object\n",
            "Census_ThresholdOptIn                                float64\n",
            "Census_FirmwareManufacturerIdentifier                float64\n",
            "Census_FirmwareVersionIdentifier                     float64\n",
            "Census_IsSecureBootEnabled                           int64\n",
            "Census_IsWIMBootEnabled                              float64\n",
            "Census_IsVirtualDevice                               float64\n",
            "Census_IsTouchEnabled                                int64\n",
            "Census_IsPenCapable                                  int64\n",
            "Census_IsAlwaysOnAlwaysConnectedCapable              float64\n",
            "Wdft_IsGamer                                         float64\n",
            "Wdft_RegionIdentifier                                float64\n",
            "HasDetections                                        int64\n",
            "dtypes: float64(32), int64(17), object(27)\n",
            "memory usage: 5.1+ GB\n",
            "None\n",
            "~~~~~~~~~~~~~~~~~~~~~~~~~~~~~~~~~\n",
            "~~~Наличие пропусков в данных~~~\n",
            " Unnamed: 0                                                 0\n",
            "ProductName                                                0\n",
            "EngineVersion                                              0\n",
            "AppVersion                                                 0\n",
            "AvSigVersion                                               0\n",
            "IsBeta                                                     0\n",
            "RtpStateBitfield                                       32318\n",
            "IsSxsPassiveMode                                           0\n",
            "AVProductStatesIdentifier                              36221\n",
            "AVProductsInstalled                                    36221\n",
            "AVProductsEnabled                                      36221\n",
            "HasTpm                                                     0\n",
            "CountryIdentifier                                          0\n",
            "CityIdentifier                                        325409\n",
            "Platform                                                   0\n",
            "Processor                                                  0\n",
            "OsVer                                                      0\n",
            "OsBuild                                                    0\n",
            "OsSuite                                                    0\n",
            "OsPlatformSubRelease                                       0\n",
            "OsBuildLab                                                21\n",
            "SkuEdition                                                 0\n",
            "IsProtected                                            36044\n",
            "AutoSampleOptIn                                            0\n",
            "SMode                                                 537759\n",
            "IeVerIdentifier                                        58894\n",
            "SmartScreen                                          3177011\n",
            "Firewall                                               91350\n",
            "UacLuaenable                                           10838\n",
            "Census_MDC2FormFactor                                      0\n",
            "Census_DeviceFamily                                        0\n",
            "Census_OEMNameIdentifier                               95478\n",
            "Census_OEMModelIdentifier                             102233\n",
            "Census_ProcessorCoreCount                              41306\n",
            "Census_ProcessorManufacturerIdentifier                 41313\n",
            "Census_ProcessorModelIdentifier                        41343\n",
            "Census_ProcessorClass                                8884852\n",
            "Census_PrimaryDiskTotalCapacity                        53016\n",
            "Census_PrimaryDiskTypeName                             12844\n",
            "Census_SystemVolumeTotalCapacity                       53002\n",
            "Census_HasOpticalDiskDrive                                 0\n",
            "Census_TotalPhysicalRAM                                80533\n",
            "Census_ChassisTypeName                                   623\n",
            "Census_InternalPrimaryDiagonalDisplaySizeInInches      47134\n",
            "Census_InternalPrimaryDisplayResolutionHorizontal      46986\n",
            "Census_InternalPrimaryDisplayResolutionVertical        46986\n",
            "Census_PowerPlatformRoleName                              55\n",
            "Census_InternalBatteryNumberOfCharges                 268755\n",
            "Census_OSVersion                                           0\n",
            "Census_OSArchitecture                                      0\n",
            "Census_OSBranch                                            0\n",
            "Census_OSBuildNumber                                       0\n",
            "Census_OSBuildRevision                                     0\n",
            "Census_OSEdition                                           0\n",
            "Census_OSSkuName                                           0\n",
            "Census_OSInstallTypeName                                   0\n",
            "Census_OSInstallLanguageIdentifier                     60084\n",
            "Census_OSUILocaleIdentifier                                0\n",
            "Census_OSWUAutoUpdateOptionsName                           0\n",
            "Census_IsPortableOperatingSystem                           0\n",
            "Census_GenuineStateName                                    0\n",
            "Census_ActivationChannel                                   0\n",
            "Census_IsFlightsDisabled                              160523\n",
            "Census_FlightRing                                          0\n",
            "Census_ThresholdOptIn                                5667325\n",
            "Census_FirmwareManufacturerIdentifier                 183257\n",
            "Census_FirmwareVersionIdentifier                      160133\n",
            "Census_IsSecureBootEnabled                                 0\n",
            "Census_IsWIMBootEnabled                              5659703\n",
            "Census_IsVirtualDevice                                 15953\n",
            "Census_IsTouchEnabled                                      0\n",
            "Census_IsPenCapable                                        0\n",
            "Census_IsAlwaysOnAlwaysConnectedCapable                71343\n",
            "Wdft_IsGamer                                          303451\n",
            "Wdft_RegionIdentifier                                 303451\n",
            "HasDetections                                              0\n",
            "dtype: int64\n",
            "~~~~~~~~~~~~~~~~~~~~~~~~~~~~~~~~~\n",
            "~~~Количество типов в данных~~~\n",
            "float64    32\n",
            "object     27\n",
            "int64      17\n",
            "dtype: int64\n",
            "~~~~~~~~~~~~~~~~~~~~~~~~~~~~~~~~~\n",
            "~~~Категориальные данные~~~~\n",
            "['ProductName', 'EngineVersion', 'AppVersion', 'AvSigVersion', 'Platform', 'Processor', 'OsVer', 'OsPlatformSubRelease', 'OsBuildLab', 'SkuEdition', 'SmartScreen', 'Census_MDC2FormFactor', 'Census_DeviceFamily', 'Census_ProcessorClass', 'Census_PrimaryDiskTypeName', 'Census_ChassisTypeName', 'Census_PowerPlatformRoleName', 'Census_OSVersion', 'Census_OSArchitecture', 'Census_OSBranch', 'Census_OSEdition', 'Census_OSSkuName', 'Census_OSInstallTypeName', 'Census_OSWUAutoUpdateOptionsName', 'Census_GenuineStateName', 'Census_ActivationChannel', 'Census_FlightRing']\n",
            "~~~~~~~~~~~~~~~~~~~~~~~~~~~~~~~~~\n",
            "~~~Числове данные float~~~~\n",
            "['RtpStateBitfield', 'AVProductStatesIdentifier', 'AVProductsInstalled', 'AVProductsEnabled', 'CityIdentifier', 'IsProtected', 'SMode', 'IeVerIdentifier', 'Firewall', 'UacLuaenable', 'Census_OEMNameIdentifier', 'Census_OEMModelIdentifier', 'Census_ProcessorCoreCount', 'Census_ProcessorManufacturerIdentifier', 'Census_ProcessorModelIdentifier', 'Census_PrimaryDiskTotalCapacity', 'Census_SystemVolumeTotalCapacity', 'Census_TotalPhysicalRAM', 'Census_InternalPrimaryDiagonalDisplaySizeInInches', 'Census_InternalPrimaryDisplayResolutionHorizontal', 'Census_InternalPrimaryDisplayResolutionVertical', 'Census_InternalBatteryNumberOfCharges', 'Census_OSInstallLanguageIdentifier', 'Census_IsFlightsDisabled', 'Census_ThresholdOptIn', 'Census_FirmwareManufacturerIdentifier', 'Census_FirmwareVersionIdentifier', 'Census_IsWIMBootEnabled', 'Census_IsVirtualDevice', 'Census_IsAlwaysOnAlwaysConnectedCapable', 'Wdft_IsGamer', 'Wdft_RegionIdentifier']\n",
            "~~~~~~~~~~~~~~~~~~~~~~~~~~~~~~~~~\n",
            "~~~Числове данные int~~~~\n",
            "['Unnamed: 0', 'IsBeta', 'IsSxsPassiveMode', 'HasTpm', 'CountryIdentifier', 'OsBuild', 'OsSuite', 'AutoSampleOptIn', 'Census_HasOpticalDiskDrive', 'Census_OSBuildNumber', 'Census_OSBuildRevision', 'Census_OSUILocaleIdentifier', 'Census_IsPortableOperatingSystem', 'Census_IsSecureBootEnabled', 'Census_IsTouchEnabled', 'Census_IsPenCapable', 'HasDetections']\n",
            "~~~~~~~~~~~~~~~~~~~~~~~~~~~~~~~~~\n",
            "~~~Основные статистические характеристики данных по каждому числовому признаку (типы int64)~~~\n",
            "        Unnamed: 0    IsBeta  IsSxsPassiveMode    HasTpm  CountryIdentifier  \\\n",
            "count    8.92e+06  8.92e+06          8.92e+06  8.92e+06           8.92e+06   \n",
            "mean     4.46e+06  7.51e-06          1.73e-02  9.88e-01           1.08e+02   \n",
            "std      2.58e+06  2.74e-03          1.31e-01  1.09e-01           6.30e+01   \n",
            "min      0.00e+00  0.00e+00          0.00e+00  0.00e+00           1.00e+00   \n",
            "25%      2.23e+06  0.00e+00          0.00e+00  1.00e+00           5.10e+01   \n",
            "50%      4.46e+06  0.00e+00          0.00e+00  1.00e+00           9.70e+01   \n",
            "75%      6.69e+06  0.00e+00          0.00e+00  1.00e+00           1.62e+02   \n",
            "max      8.92e+06  1.00e+00          1.00e+00  1.00e+00           2.22e+02   \n",
            "\n",
            "        OsBuild   OsSuite  AutoSampleOptIn  Census_HasOpticalDiskDrive  \\\n",
            "count  8.92e+06  8.92e+06         8.92e+06                    8.92e+06   \n",
            "mean   1.57e+04  5.75e+02         2.89e-05                    7.72e-02   \n",
            "std    2.19e+03  2.48e+02         5.38e-03                    2.67e-01   \n",
            "min    7.60e+03  1.60e+01         0.00e+00                    0.00e+00   \n",
            "25%    1.51e+04  2.56e+02         0.00e+00                    0.00e+00   \n",
            "50%    1.63e+04  7.68e+02         0.00e+00                    0.00e+00   \n",
            "75%    1.71e+04  7.68e+02         0.00e+00                    0.00e+00   \n",
            "max    1.82e+04  7.84e+02         1.00e+00                    1.00e+00   \n",
            "\n",
            "       Census_OSBuildNumber  Census_OSBuildRevision  \\\n",
            "count              8.92e+06                8.92e+06   \n",
            "mean               1.58e+04                9.73e+02   \n",
            "std                1.96e+03                2.93e+03   \n",
            "min                7.60e+03                0.00e+00   \n",
            "25%                1.51e+04                1.67e+02   \n",
            "50%                1.63e+04                2.85e+02   \n",
            "75%                1.71e+04                5.47e+02   \n",
            "max                1.82e+04                4.17e+04   \n",
            "\n",
            "       Census_OSUILocaleIdentifier  Census_IsPortableOperatingSystem  \\\n",
            "count                     8.92e+06                          8.92e+06   \n",
            "mean                      6.05e+01                          5.45e-04   \n",
            "std                       4.50e+01                          2.33e-02   \n",
            "min                       1.00e+00                          0.00e+00   \n",
            "25%                       3.10e+01                          0.00e+00   \n",
            "50%                       3.40e+01                          0.00e+00   \n",
            "75%                       9.00e+01                          0.00e+00   \n",
            "max                       1.62e+02                          1.00e+00   \n",
            "\n",
            "       Census_IsSecureBootEnabled  Census_IsTouchEnabled  Census_IsPenCapable  \\\n",
            "count                    8.92e+06               8.92e+06             8.92e+06   \n",
            "mean                     4.86e-01               1.26e-01             3.81e-02   \n",
            "std                      5.00e-01               3.31e-01             1.91e-01   \n",
            "min                      0.00e+00               0.00e+00             0.00e+00   \n",
            "25%                      0.00e+00               0.00e+00             0.00e+00   \n",
            "50%                      0.00e+00               0.00e+00             0.00e+00   \n",
            "75%                      1.00e+00               0.00e+00             0.00e+00   \n",
            "max                      1.00e+00               1.00e+00             1.00e+00   \n",
            "\n",
            "       HasDetections  \n",
            "count       8.92e+06  \n",
            "mean        5.00e-01  \n",
            "std         5.00e-01  \n",
            "min         0.00e+00  \n",
            "25%         0.00e+00  \n",
            "50%         0.00e+00  \n",
            "75%         1.00e+00  \n",
            "max         1.00e+00  \n",
            "~~~~~~~~~~~~~~~~~~~~~~~~~~~~~~~~~\n",
            "~~~~~~~~~~~~~~~~~~~~~~~~~~~~~~~~~\n",
            "~~~Основные статистические характеристики данных по каждому числовому признаку (типы float64)~~~\n",
            "        RtpStateBitfield  AVProductStatesIdentifier  AVProductsInstalled  \\\n",
            "count          8.89e+06                   8.89e+06             8.89e+06   \n",
            "mean           6.85e+00                   4.78e+04             1.33e+00   \n",
            "std            1.03e+00                   1.40e+04             5.23e-01   \n",
            "min            0.00e+00                   3.00e+00             0.00e+00   \n",
            "25%            7.00e+00                   4.95e+04             1.00e+00   \n",
            "50%            7.00e+00                   5.34e+04             1.00e+00   \n",
            "75%            7.00e+00                   5.34e+04             2.00e+00   \n",
            "max            3.50e+01                   7.05e+04             7.00e+00   \n",
            "\n",
            "       AVProductsEnabled  CityIdentifier  IsProtected     SMode  \\\n",
            "count           8.89e+06        8.60e+06     8.89e+06  8.38e+06   \n",
            "mean            1.02e+00        8.13e+04     9.46e-01  4.63e-04   \n",
            "std             1.68e-01        4.89e+04     2.27e-01  2.15e-02   \n",
            "min             0.00e+00        5.00e+00     0.00e+00  0.00e+00   \n",
            "25%             1.00e+00        3.68e+04     1.00e+00  0.00e+00   \n",
            "50%             1.00e+00        8.24e+04     1.00e+00  0.00e+00   \n",
            "75%             1.00e+00        1.24e+05     1.00e+00  0.00e+00   \n",
            "max             5.00e+00        1.68e+05     1.00e+00  1.00e+00   \n",
            "\n",
            "       IeVerIdentifier  Firewall  UacLuaenable  Census_OEMNameIdentifier  \\\n",
            "count         8.86e+06  8.83e+06      8.91e+06                  8.83e+06   \n",
            "mean          1.27e+02  9.79e-01      1.30e+01                  2.22e+03   \n",
            "std           4.27e+01  1.45e-01      9.87e+03                  1.32e+03   \n",
            "min           1.00e+00  0.00e+00      0.00e+00                  1.00e+00   \n",
            "25%           1.11e+02  1.00e+00      1.00e+00                  1.44e+03   \n",
            "50%           1.17e+02  1.00e+00      1.00e+00                  2.10e+03   \n",
            "75%           1.37e+02  1.00e+00      1.00e+00                  2.67e+03   \n",
            "max           4.29e+02  1.00e+00      1.68e+07                  6.14e+03   \n",
            "\n",
            "       Census_OEMModelIdentifier  Census_ProcessorCoreCount  \\\n",
            "count                   8.82e+06                   8.88e+06   \n",
            "mean                    2.39e+05                   3.99e+00   \n",
            "std                     7.19e+04                   2.08e+00   \n",
            "min                     1.00e+00                   1.00e+00   \n",
            "25%                     1.90e+05                   2.00e+00   \n",
            "50%                     2.47e+05                   4.00e+00   \n",
            "75%                     3.04e+05                   4.00e+00   \n",
            "max                     3.45e+05                   1.92e+02   \n",
            "\n",
            "       Census_ProcessorManufacturerIdentifier  \\\n",
            "count                                8.88e+06   \n",
            "mean                                 4.53e+00   \n",
            "std                                  1.29e+00   \n",
            "min                                  1.00e+00   \n",
            "25%                                  5.00e+00   \n",
            "50%                                  5.00e+00   \n",
            "75%                                  5.00e+00   \n",
            "max                                  1.00e+01   \n",
            "\n",
            "       Census_ProcessorModelIdentifier  Census_PrimaryDiskTotalCapacity  \\\n",
            "count                         8.88e+06                         8.87e+06   \n",
            "mean                          2.37e+03                         3.09e+06   \n",
            "std                           8.41e+02                         4.45e+09   \n",
            "min                           2.00e+00                         0.00e+00   \n",
            "25%                           2.00e+03                         2.39e+05   \n",
            "50%                           2.50e+03                         4.77e+05   \n",
            "75%                           2.87e+03                         9.54e+05   \n",
            "max                           4.48e+03                         8.16e+12   \n",
            "\n",
            "       Census_SystemVolumeTotalCapacity  Census_TotalPhysicalRAM  \\\n",
            "count                          8.87e+06                 8.84e+06   \n",
            "mean                           3.77e+05                 6.12e+03   \n",
            "std                            3.26e+05                 5.12e+03   \n",
            "min                            0.00e+00                 2.55e+02   \n",
            "25%                            1.21e+05                 4.10e+03   \n",
            "50%                            2.50e+05                 4.10e+03   \n",
            "75%                            4.76e+05                 8.19e+03   \n",
            "max                            4.77e+07                 1.57e+06   \n",
            "\n",
            "       Census_InternalPrimaryDiagonalDisplaySizeInInches  \\\n",
            "count                                           8.87e+06   \n",
            "mean                                            1.67e+01   \n",
            "std                                             5.89e+00   \n",
            "min                                             7.00e-01   \n",
            "25%                                             1.39e+01   \n",
            "50%                                             1.55e+01   \n",
            "75%                                             1.72e+01   \n",
            "max                                             1.82e+02   \n",
            "\n",
            "       Census_InternalPrimaryDisplayResolutionHorizontal  \\\n",
            "count                                           8.87e+06   \n",
            "mean                                            1.55e+03   \n",
            "std                                             3.68e+02   \n",
            "min                                            -1.00e+00   \n",
            "25%                                             1.37e+03   \n",
            "50%                                             1.37e+03   \n",
            "75%                                             1.92e+03   \n",
            "max                                             1.23e+04   \n",
            "\n",
            "       Census_InternalPrimaryDisplayResolutionVertical  \\\n",
            "count                                         8.87e+06   \n",
            "mean                                          8.98e+02   \n",
            "std                                           2.15e+02   \n",
            "min                                          -1.00e+00   \n",
            "25%                                           7.68e+02   \n",
            "50%                                           7.68e+02   \n",
            "75%                                           1.08e+03   \n",
            "max                                           8.64e+03   \n",
            "\n",
            "       Census_InternalBatteryNumberOfCharges  \\\n",
            "count                               8.65e+06   \n",
            "mean                                1.12e+09   \n",
            "std                                 1.89e+09   \n",
            "min                                 0.00e+00   \n",
            "25%                                 0.00e+00   \n",
            "50%                                 0.00e+00   \n",
            "75%                                 4.29e+09   \n",
            "max                                 4.29e+09   \n",
            "\n",
            "       Census_OSInstallLanguageIdentifier  Census_IsFlightsDisabled  \\\n",
            "count                            8.86e+06                  8.76e+06   \n",
            "mean                             1.46e+01                  1.00e-05   \n",
            "std                              1.02e+01                  3.17e-03   \n",
            "min                              1.00e+00                  0.00e+00   \n",
            "25%                              8.00e+00                  0.00e+00   \n",
            "50%                              9.00e+00                  0.00e+00   \n",
            "75%                              2.00e+01                  0.00e+00   \n",
            "max                              3.90e+01                  1.00e+00   \n",
            "\n",
            "       Census_ThresholdOptIn  Census_FirmwareManufacturerIdentifier  \\\n",
            "count               3.25e+06                               8.74e+06   \n",
            "mean                2.51e-04                               4.03e+02   \n",
            "std                 1.58e-02                               2.22e+02   \n",
            "min                 0.00e+00                               2.00e+00   \n",
            "25%                 0.00e+00                               1.42e+02   \n",
            "50%                 0.00e+00                               5.00e+02   \n",
            "75%                 0.00e+00                               5.56e+02   \n",
            "max                 1.00e+00                               1.09e+03   \n",
            "\n",
            "       Census_FirmwareVersionIdentifier  Census_IsWIMBootEnabled  \\\n",
            "count                          8.76e+06                 3.26e+06   \n",
            "mean                           3.30e+04                 3.07e-07   \n",
            "std                            2.12e+04                 5.54e-04   \n",
            "min                            3.00e+00                 0.00e+00   \n",
            "25%                            1.32e+04                 0.00e+00   \n",
            "50%                            3.31e+04                 0.00e+00   \n",
            "75%                            5.24e+04                 0.00e+00   \n",
            "max                            7.21e+04                 1.00e+00   \n",
            "\n",
            "       Census_IsVirtualDevice  Census_IsAlwaysOnAlwaysConnectedCapable  \\\n",
            "count                8.91e+06                                 8.85e+06   \n",
            "mean                 7.04e-03                                 5.74e-02   \n",
            "std                  8.36e-02                                 2.33e-01   \n",
            "min                  0.00e+00                                 0.00e+00   \n",
            "25%                  0.00e+00                                 0.00e+00   \n",
            "50%                  0.00e+00                                 0.00e+00   \n",
            "75%                  0.00e+00                                 0.00e+00   \n",
            "max                  1.00e+00                                 1.00e+00   \n",
            "\n",
            "       Wdft_IsGamer  Wdft_RegionIdentifier  \n",
            "count      8.62e+06               8.62e+06  \n",
            "mean       2.84e-01               7.88e+00  \n",
            "std        4.51e-01               4.55e+00  \n",
            "min        0.00e+00               1.00e+00  \n",
            "25%        0.00e+00               3.00e+00  \n",
            "50%        0.00e+00               1.00e+01  \n",
            "75%        1.00e+00               1.10e+01  \n",
            "max        1.00e+00               1.50e+01  \n",
            "~~~~~~~~~~~~~~~~~~~~~~~~~~~~~~~~~\n",
            "~~~Cтатистика по нечисловым признакам object ~~~\n",
            "          ProductName EngineVersion       AppVersion  AvSigVersion   Platform  \\\n",
            "count        8921483       8921483          8921483       8921483    8921483   \n",
            "unique             6            70              110          8531          4   \n",
            "top     win8defender   1.1.15200.1  4.18.1807.18075  1.273.1420.0  windows10   \n",
            "freq         8826520       3845067          5139224        102317    8618715   \n",
            "\n",
            "       Processor     OsVer OsPlatformSubRelease  \\\n",
            "count    8921483   8921483              8921483   \n",
            "unique         3        58                    9   \n",
            "top          x64  10.0.0.0                  rs4   \n",
            "freq     8105435   8632545              3915526   \n",
            "\n",
            "                                      OsBuildLab SkuEdition   SmartScreen  \\\n",
            "count                                    8921462    8921483       5744472   \n",
            "unique                                       663          8            21   \n",
            "top     17134.1.amd64fre.rs4_release.180410-1804       Home  RequireAdmin   \n",
            "freq                                     3658199    5514341       4316183   \n",
            "\n",
            "       Census_MDC2FormFactor Census_DeviceFamily Census_ProcessorClass  \\\n",
            "count                8921483             8921483                 36631   \n",
            "unique                    13                   3                     3   \n",
            "top                 Notebook     Windows.Desktop                   mid   \n",
            "freq                 5723319             8907053                 20914   \n",
            "\n",
            "       Census_PrimaryDiskTypeName Census_ChassisTypeName  \\\n",
            "count                     8908639                8920860   \n",
            "unique                          4                     52   \n",
            "top                           HDD               Notebook   \n",
            "freq                      5806804                5248812   \n",
            "\n",
            "       Census_PowerPlatformRoleName Census_OSVersion Census_OSArchitecture  \\\n",
            "count                       8921428          8921483               8921483   \n",
            "unique                           10              469                     3   \n",
            "top                          Mobile   10.0.17134.228                 amd64   \n",
            "freq                        6182908          1413627               8105885   \n",
            "\n",
            "       Census_OSBranch Census_OSEdition Census_OSSkuName  \\\n",
            "count          8921483          8921483          8921483   \n",
            "unique              32               33               30   \n",
            "top        rs4_release             Core             CORE   \n",
            "freq           4009158          3469991          3469869   \n",
            "\n",
            "       Census_OSInstallTypeName Census_OSWUAutoUpdateOptionsName  \\\n",
            "count                   8921483                          8921483   \n",
            "unique                        9                                6   \n",
            "top                  UUPUpgrade                         FullAuto   \n",
            "freq                    2608037                          3954497   \n",
            "\n",
            "       Census_GenuineStateName Census_ActivationChannel Census_FlightRing  \n",
            "count                  8921483                  8921483           8921483  \n",
            "unique                       5                        6                10  \n",
            "top                 IS_GENUINE                   Retail            Retail  \n",
            "freq                   7877597                  4727589           8355679  \n",
            "~~~~~~~~~~~~~~~~~~~~~~~~~~~~~~~~~\n",
            "~~~~~~~~~~~~~~~~~~~~~~~~~~~~~~~~~\n"
          ],
          "name": "stdout"
        },
        {
          "output_type": "error",
          "ename": "ValueError",
          "evalue": "ignored",
          "traceback": [
            "\u001b[0;31m---------------------------------------------------------------------------\u001b[0m",
            "\u001b[0;31mValueError\u001b[0m                                Traceback (most recent call last)",
            "\u001b[0;32m<ipython-input-12-2185a817a761>\u001b[0m in \u001b[0;36m<module>\u001b[0;34m()\u001b[0m\n\u001b[0;32m----> 1\u001b[0;31m \u001b[0mprosmotr\u001b[0m\u001b[0;34m(\u001b[0m\u001b[0mdf\u001b[0m\u001b[0;34m)\u001b[0m\u001b[0;34m\u001b[0m\u001b[0;34m\u001b[0m\u001b[0m\n\u001b[0m",
            "\u001b[0;32m<ipython-input-3-fe418d68bee7>\u001b[0m in \u001b[0;36mprosmotr\u001b[0;34m(data)\u001b[0m\n\u001b[1;32m     37\u001b[0m   \u001b[0mprint\u001b[0m\u001b[0;34m(\u001b[0m\u001b[0;34m'~~~~~~~~~~~~~~~~~~~~~~~~~~~~~~~~~'\u001b[0m\u001b[0;34m)\u001b[0m\u001b[0;34m\u001b[0m\u001b[0;34m\u001b[0m\u001b[0m\n\u001b[1;32m     38\u001b[0m   \u001b[0mprint\u001b[0m\u001b[0;34m(\u001b[0m\u001b[0;34m'~~~~~~~~~~~~~~~~~~~~~~~~~~~~~~~~~'\u001b[0m\u001b[0;34m)\u001b[0m\u001b[0;34m\u001b[0m\u001b[0;34m\u001b[0m\u001b[0m\n\u001b[0;32m---> 39\u001b[0;31m   \u001b[0mprint\u001b[0m\u001b[0;34m(\u001b[0m\u001b[0;34m'~~~Cтатистика по нечисловым признакам bool ~~~\\n'\u001b[0m\u001b[0;34m,\u001b[0m \u001b[0mdata\u001b[0m\u001b[0;34m.\u001b[0m\u001b[0mdescribe\u001b[0m\u001b[0;34m(\u001b[0m\u001b[0minclude\u001b[0m\u001b[0;34m=\u001b[0m\u001b[0;34m[\u001b[0m\u001b[0;34m'bool'\u001b[0m\u001b[0;34m]\u001b[0m\u001b[0;34m)\u001b[0m\u001b[0;34m)\u001b[0m\u001b[0;34m\u001b[0m\u001b[0;34m\u001b[0m\u001b[0m\n\u001b[0m\u001b[1;32m     40\u001b[0m   \u001b[0mprint\u001b[0m\u001b[0;34m(\u001b[0m\u001b[0;34m'~~~~~~~~~~~~~~~~~~~~~~~~~~~~~~~~~'\u001b[0m\u001b[0;34m)\u001b[0m\u001b[0;34m\u001b[0m\u001b[0;34m\u001b[0m\u001b[0m\n\u001b[1;32m     41\u001b[0m \u001b[0;34m\u001b[0m\u001b[0m\n",
            "\u001b[0;32m/usr/local/lib/python3.6/dist-packages/pandas/core/generic.py\u001b[0m in \u001b[0;36mdescribe\u001b[0;34m(self, percentiles, include, exclude)\u001b[0m\n\u001b[1;32m   9811\u001b[0m                     \u001b[0mnames\u001b[0m\u001b[0;34m.\u001b[0m\u001b[0mappend\u001b[0m\u001b[0;34m(\u001b[0m\u001b[0mname\u001b[0m\u001b[0;34m)\u001b[0m\u001b[0;34m\u001b[0m\u001b[0;34m\u001b[0m\u001b[0m\n\u001b[1;32m   9812\u001b[0m \u001b[0;34m\u001b[0m\u001b[0m\n\u001b[0;32m-> 9813\u001b[0;31m         \u001b[0md\u001b[0m \u001b[0;34m=\u001b[0m \u001b[0mpd\u001b[0m\u001b[0;34m.\u001b[0m\u001b[0mconcat\u001b[0m\u001b[0;34m(\u001b[0m\u001b[0mldesc\u001b[0m\u001b[0;34m,\u001b[0m \u001b[0mjoin_axes\u001b[0m\u001b[0;34m=\u001b[0m\u001b[0mpd\u001b[0m\u001b[0;34m.\u001b[0m\u001b[0mIndex\u001b[0m\u001b[0;34m(\u001b[0m\u001b[0;34m[\u001b[0m\u001b[0mnames\u001b[0m\u001b[0;34m]\u001b[0m\u001b[0;34m)\u001b[0m\u001b[0;34m,\u001b[0m \u001b[0maxis\u001b[0m\u001b[0;34m=\u001b[0m\u001b[0;36m1\u001b[0m\u001b[0;34m)\u001b[0m\u001b[0;34m\u001b[0m\u001b[0;34m\u001b[0m\u001b[0m\n\u001b[0m\u001b[1;32m   9814\u001b[0m         \u001b[0md\u001b[0m\u001b[0;34m.\u001b[0m\u001b[0mcolumns\u001b[0m \u001b[0;34m=\u001b[0m \u001b[0mdata\u001b[0m\u001b[0;34m.\u001b[0m\u001b[0mcolumns\u001b[0m\u001b[0;34m.\u001b[0m\u001b[0mcopy\u001b[0m\u001b[0;34m(\u001b[0m\u001b[0;34m)\u001b[0m\u001b[0;34m\u001b[0m\u001b[0;34m\u001b[0m\u001b[0m\n\u001b[1;32m   9815\u001b[0m         \u001b[0;32mreturn\u001b[0m \u001b[0md\u001b[0m\u001b[0;34m\u001b[0m\u001b[0;34m\u001b[0m\u001b[0m\n",
            "\u001b[0;32m/usr/local/lib/python3.6/dist-packages/pandas/core/reshape/concat.py\u001b[0m in \u001b[0;36mconcat\u001b[0;34m(objs, axis, join, join_axes, ignore_index, keys, levels, names, verify_integrity, sort, copy)\u001b[0m\n\u001b[1;32m    226\u001b[0m                        \u001b[0mkeys\u001b[0m\u001b[0;34m=\u001b[0m\u001b[0mkeys\u001b[0m\u001b[0;34m,\u001b[0m \u001b[0mlevels\u001b[0m\u001b[0;34m=\u001b[0m\u001b[0mlevels\u001b[0m\u001b[0;34m,\u001b[0m \u001b[0mnames\u001b[0m\u001b[0;34m=\u001b[0m\u001b[0mnames\u001b[0m\u001b[0;34m,\u001b[0m\u001b[0;34m\u001b[0m\u001b[0;34m\u001b[0m\u001b[0m\n\u001b[1;32m    227\u001b[0m                        \u001b[0mverify_integrity\u001b[0m\u001b[0;34m=\u001b[0m\u001b[0mverify_integrity\u001b[0m\u001b[0;34m,\u001b[0m\u001b[0;34m\u001b[0m\u001b[0;34m\u001b[0m\u001b[0m\n\u001b[0;32m--> 228\u001b[0;31m                        copy=copy, sort=sort)\n\u001b[0m\u001b[1;32m    229\u001b[0m     \u001b[0;32mreturn\u001b[0m \u001b[0mop\u001b[0m\u001b[0;34m.\u001b[0m\u001b[0mget_result\u001b[0m\u001b[0;34m(\u001b[0m\u001b[0;34m)\u001b[0m\u001b[0;34m\u001b[0m\u001b[0;34m\u001b[0m\u001b[0m\n\u001b[1;32m    230\u001b[0m \u001b[0;34m\u001b[0m\u001b[0m\n",
            "\u001b[0;32m/usr/local/lib/python3.6/dist-packages/pandas/core/reshape/concat.py\u001b[0m in \u001b[0;36m__init__\u001b[0;34m(self, objs, axis, join, join_axes, keys, levels, names, ignore_index, verify_integrity, copy, sort)\u001b[0m\n\u001b[1;32m    260\u001b[0m \u001b[0;34m\u001b[0m\u001b[0m\n\u001b[1;32m    261\u001b[0m         \u001b[0;32mif\u001b[0m \u001b[0mlen\u001b[0m\u001b[0;34m(\u001b[0m\u001b[0mobjs\u001b[0m\u001b[0;34m)\u001b[0m \u001b[0;34m==\u001b[0m \u001b[0;36m0\u001b[0m\u001b[0;34m:\u001b[0m\u001b[0;34m\u001b[0m\u001b[0;34m\u001b[0m\u001b[0m\n\u001b[0;32m--> 262\u001b[0;31m             \u001b[0;32mraise\u001b[0m \u001b[0mValueError\u001b[0m\u001b[0;34m(\u001b[0m\u001b[0;34m'No objects to concatenate'\u001b[0m\u001b[0;34m)\u001b[0m\u001b[0;34m\u001b[0m\u001b[0;34m\u001b[0m\u001b[0m\n\u001b[0m\u001b[1;32m    263\u001b[0m \u001b[0;34m\u001b[0m\u001b[0m\n\u001b[1;32m    264\u001b[0m         \u001b[0;32mif\u001b[0m \u001b[0mkeys\u001b[0m \u001b[0;32mis\u001b[0m \u001b[0;32mNone\u001b[0m\u001b[0;34m:\u001b[0m\u001b[0;34m\u001b[0m\u001b[0;34m\u001b[0m\u001b[0m\n",
            "\u001b[0;31mValueError\u001b[0m: No objects to concatenate"
          ]
        }
      ]
    },
    {
      "cell_type": "code",
      "metadata": {
        "scrolled": true,
        "id": "JqKgRC4rTvxR",
        "colab_type": "code",
        "colab": {
          "base_uri": "https://localhost:8080/",
          "height": 230
        },
        "outputId": "bba20904-5fc8-4631-e632-bff58a5d397a"
      },
      "source": [
        "df.head(3)"
      ],
      "execution_count": null,
      "outputs": [
        {
          "output_type": "execute_result",
          "data": {
            "text/html": [
              "<div>\n",
              "<style scoped>\n",
              "    .dataframe tbody tr th:only-of-type {\n",
              "        vertical-align: middle;\n",
              "    }\n",
              "\n",
              "    .dataframe tbody tr th {\n",
              "        vertical-align: top;\n",
              "    }\n",
              "\n",
              "    .dataframe thead th {\n",
              "        text-align: right;\n",
              "    }\n",
              "</style>\n",
              "<table border=\"1\" class=\"dataframe\">\n",
              "  <thead>\n",
              "    <tr style=\"text-align: right;\">\n",
              "      <th></th>\n",
              "      <th>Unnamed: 0</th>\n",
              "      <th>ProductName</th>\n",
              "      <th>EngineVersion</th>\n",
              "      <th>AppVersion</th>\n",
              "      <th>AvSigVersion</th>\n",
              "      <th>IsBeta</th>\n",
              "      <th>RtpStateBitfield</th>\n",
              "      <th>IsSxsPassiveMode</th>\n",
              "      <th>AVProductStatesIdentifier</th>\n",
              "      <th>AVProductsInstalled</th>\n",
              "      <th>AVProductsEnabled</th>\n",
              "      <th>HasTpm</th>\n",
              "      <th>CountryIdentifier</th>\n",
              "      <th>CityIdentifier</th>\n",
              "      <th>Platform</th>\n",
              "      <th>Processor</th>\n",
              "      <th>OsVer</th>\n",
              "      <th>OsBuild</th>\n",
              "      <th>OsSuite</th>\n",
              "      <th>OsPlatformSubRelease</th>\n",
              "      <th>OsBuildLab</th>\n",
              "      <th>SkuEdition</th>\n",
              "      <th>IsProtected</th>\n",
              "      <th>AutoSampleOptIn</th>\n",
              "      <th>SMode</th>\n",
              "      <th>IeVerIdentifier</th>\n",
              "      <th>SmartScreen</th>\n",
              "      <th>Firewall</th>\n",
              "      <th>UacLuaenable</th>\n",
              "      <th>Census_MDC2FormFactor</th>\n",
              "      <th>Census_DeviceFamily</th>\n",
              "      <th>Census_OEMNameIdentifier</th>\n",
              "      <th>Census_OEMModelIdentifier</th>\n",
              "      <th>Census_ProcessorCoreCount</th>\n",
              "      <th>Census_ProcessorManufacturerIdentifier</th>\n",
              "      <th>Census_ProcessorModelIdentifier</th>\n",
              "      <th>Census_ProcessorClass</th>\n",
              "      <th>Census_PrimaryDiskTotalCapacity</th>\n",
              "      <th>Census_PrimaryDiskTypeName</th>\n",
              "      <th>Census_SystemVolumeTotalCapacity</th>\n",
              "      <th>Census_HasOpticalDiskDrive</th>\n",
              "      <th>Census_TotalPhysicalRAM</th>\n",
              "      <th>Census_ChassisTypeName</th>\n",
              "      <th>Census_InternalPrimaryDiagonalDisplaySizeInInches</th>\n",
              "      <th>Census_InternalPrimaryDisplayResolutionHorizontal</th>\n",
              "      <th>Census_InternalPrimaryDisplayResolutionVertical</th>\n",
              "      <th>Census_PowerPlatformRoleName</th>\n",
              "      <th>Census_InternalBatteryNumberOfCharges</th>\n",
              "      <th>Census_OSVersion</th>\n",
              "      <th>Census_OSArchitecture</th>\n",
              "      <th>Census_OSBranch</th>\n",
              "      <th>Census_OSBuildNumber</th>\n",
              "      <th>Census_OSBuildRevision</th>\n",
              "      <th>Census_OSEdition</th>\n",
              "      <th>Census_OSSkuName</th>\n",
              "      <th>Census_OSInstallTypeName</th>\n",
              "      <th>Census_OSInstallLanguageIdentifier</th>\n",
              "      <th>Census_OSUILocaleIdentifier</th>\n",
              "      <th>Census_OSWUAutoUpdateOptionsName</th>\n",
              "      <th>Census_IsPortableOperatingSystem</th>\n",
              "      <th>Census_GenuineStateName</th>\n",
              "      <th>Census_ActivationChannel</th>\n",
              "      <th>Census_IsFlightsDisabled</th>\n",
              "      <th>Census_FlightRing</th>\n",
              "      <th>Census_ThresholdOptIn</th>\n",
              "      <th>Census_FirmwareManufacturerIdentifier</th>\n",
              "      <th>Census_FirmwareVersionIdentifier</th>\n",
              "      <th>Census_IsSecureBootEnabled</th>\n",
              "      <th>Census_IsWIMBootEnabled</th>\n",
              "      <th>Census_IsVirtualDevice</th>\n",
              "      <th>Census_IsTouchEnabled</th>\n",
              "      <th>Census_IsPenCapable</th>\n",
              "      <th>Census_IsAlwaysOnAlwaysConnectedCapable</th>\n",
              "      <th>Wdft_IsGamer</th>\n",
              "      <th>Wdft_RegionIdentifier</th>\n",
              "      <th>HasDetections</th>\n",
              "    </tr>\n",
              "  </thead>\n",
              "  <tbody>\n",
              "    <tr>\n",
              "      <th>0</th>\n",
              "      <td>0</td>\n",
              "      <td>win8defender</td>\n",
              "      <td>1.1.15100.1</td>\n",
              "      <td>4.18.1807.18075</td>\n",
              "      <td>1.273.1735.0</td>\n",
              "      <td>0</td>\n",
              "      <td>7.0</td>\n",
              "      <td>0</td>\n",
              "      <td>53447.0</td>\n",
              "      <td>1.0</td>\n",
              "      <td>1.0</td>\n",
              "      <td>1</td>\n",
              "      <td>29</td>\n",
              "      <td>128035.0</td>\n",
              "      <td>windows10</td>\n",
              "      <td>x64</td>\n",
              "      <td>10.0.0.0</td>\n",
              "      <td>17134</td>\n",
              "      <td>256</td>\n",
              "      <td>rs4</td>\n",
              "      <td>17134.1.amd64fre.rs4_release.180410-1804</td>\n",
              "      <td>Pro</td>\n",
              "      <td>1.0</td>\n",
              "      <td>0</td>\n",
              "      <td>0.0</td>\n",
              "      <td>137.0</td>\n",
              "      <td>NaN</td>\n",
              "      <td>1.0</td>\n",
              "      <td>1.0</td>\n",
              "      <td>Desktop</td>\n",
              "      <td>Windows.Desktop</td>\n",
              "      <td>2668.0</td>\n",
              "      <td>9124.0</td>\n",
              "      <td>4.0</td>\n",
              "      <td>5.0</td>\n",
              "      <td>2340.0</td>\n",
              "      <td>NaN</td>\n",
              "      <td>476940.0</td>\n",
              "      <td>HDD</td>\n",
              "      <td>299451.0</td>\n",
              "      <td>0</td>\n",
              "      <td>4096.0</td>\n",
              "      <td>Desktop</td>\n",
              "      <td>18.9</td>\n",
              "      <td>1440.0</td>\n",
              "      <td>900.0</td>\n",
              "      <td>Desktop</td>\n",
              "      <td>4.29e+09</td>\n",
              "      <td>10.0.17134.165</td>\n",
              "      <td>amd64</td>\n",
              "      <td>rs4_release</td>\n",
              "      <td>17134</td>\n",
              "      <td>165</td>\n",
              "      <td>Professional</td>\n",
              "      <td>PROFESSIONAL</td>\n",
              "      <td>UUPUpgrade</td>\n",
              "      <td>26.0</td>\n",
              "      <td>119</td>\n",
              "      <td>UNKNOWN</td>\n",
              "      <td>0</td>\n",
              "      <td>IS_GENUINE</td>\n",
              "      <td>Retail</td>\n",
              "      <td>0.0</td>\n",
              "      <td>Retail</td>\n",
              "      <td>NaN</td>\n",
              "      <td>628.0</td>\n",
              "      <td>36144.0</td>\n",
              "      <td>0</td>\n",
              "      <td>NaN</td>\n",
              "      <td>0.0</td>\n",
              "      <td>0</td>\n",
              "      <td>0</td>\n",
              "      <td>0.0</td>\n",
              "      <td>0.0</td>\n",
              "      <td>10.0</td>\n",
              "      <td>0</td>\n",
              "    </tr>\n",
              "    <tr>\n",
              "      <th>1</th>\n",
              "      <td>1</td>\n",
              "      <td>win8defender</td>\n",
              "      <td>1.1.14600.4</td>\n",
              "      <td>4.13.17134.1</td>\n",
              "      <td>1.263.48.0</td>\n",
              "      <td>0</td>\n",
              "      <td>7.0</td>\n",
              "      <td>0</td>\n",
              "      <td>53447.0</td>\n",
              "      <td>1.0</td>\n",
              "      <td>1.0</td>\n",
              "      <td>1</td>\n",
              "      <td>93</td>\n",
              "      <td>1482.0</td>\n",
              "      <td>windows10</td>\n",
              "      <td>x64</td>\n",
              "      <td>10.0.0.0</td>\n",
              "      <td>17134</td>\n",
              "      <td>256</td>\n",
              "      <td>rs4</td>\n",
              "      <td>17134.1.amd64fre.rs4_release.180410-1804</td>\n",
              "      <td>Pro</td>\n",
              "      <td>1.0</td>\n",
              "      <td>0</td>\n",
              "      <td>0.0</td>\n",
              "      <td>137.0</td>\n",
              "      <td>NaN</td>\n",
              "      <td>1.0</td>\n",
              "      <td>1.0</td>\n",
              "      <td>Notebook</td>\n",
              "      <td>Windows.Desktop</td>\n",
              "      <td>2668.0</td>\n",
              "      <td>91656.0</td>\n",
              "      <td>4.0</td>\n",
              "      <td>5.0</td>\n",
              "      <td>2404.0</td>\n",
              "      <td>NaN</td>\n",
              "      <td>476940.0</td>\n",
              "      <td>HDD</td>\n",
              "      <td>102385.0</td>\n",
              "      <td>0</td>\n",
              "      <td>4096.0</td>\n",
              "      <td>Notebook</td>\n",
              "      <td>13.9</td>\n",
              "      <td>1366.0</td>\n",
              "      <td>768.0</td>\n",
              "      <td>Mobile</td>\n",
              "      <td>1.00e+00</td>\n",
              "      <td>10.0.17134.1</td>\n",
              "      <td>amd64</td>\n",
              "      <td>rs4_release</td>\n",
              "      <td>17134</td>\n",
              "      <td>1</td>\n",
              "      <td>Professional</td>\n",
              "      <td>PROFESSIONAL</td>\n",
              "      <td>IBSClean</td>\n",
              "      <td>8.0</td>\n",
              "      <td>31</td>\n",
              "      <td>UNKNOWN</td>\n",
              "      <td>0</td>\n",
              "      <td>OFFLINE</td>\n",
              "      <td>Retail</td>\n",
              "      <td>0.0</td>\n",
              "      <td>NOT_SET</td>\n",
              "      <td>NaN</td>\n",
              "      <td>628.0</td>\n",
              "      <td>57858.0</td>\n",
              "      <td>0</td>\n",
              "      <td>NaN</td>\n",
              "      <td>0.0</td>\n",
              "      <td>0</td>\n",
              "      <td>0</td>\n",
              "      <td>0.0</td>\n",
              "      <td>0.0</td>\n",
              "      <td>8.0</td>\n",
              "      <td>0</td>\n",
              "    </tr>\n",
              "    <tr>\n",
              "      <th>2</th>\n",
              "      <td>2</td>\n",
              "      <td>win8defender</td>\n",
              "      <td>1.1.15100.1</td>\n",
              "      <td>4.18.1807.18075</td>\n",
              "      <td>1.273.1341.0</td>\n",
              "      <td>0</td>\n",
              "      <td>7.0</td>\n",
              "      <td>0</td>\n",
              "      <td>53447.0</td>\n",
              "      <td>1.0</td>\n",
              "      <td>1.0</td>\n",
              "      <td>1</td>\n",
              "      <td>86</td>\n",
              "      <td>153579.0</td>\n",
              "      <td>windows10</td>\n",
              "      <td>x64</td>\n",
              "      <td>10.0.0.0</td>\n",
              "      <td>17134</td>\n",
              "      <td>768</td>\n",
              "      <td>rs4</td>\n",
              "      <td>17134.1.amd64fre.rs4_release.180410-1804</td>\n",
              "      <td>Home</td>\n",
              "      <td>1.0</td>\n",
              "      <td>0</td>\n",
              "      <td>0.0</td>\n",
              "      <td>137.0</td>\n",
              "      <td>RequireAdmin</td>\n",
              "      <td>1.0</td>\n",
              "      <td>1.0</td>\n",
              "      <td>Desktop</td>\n",
              "      <td>Windows.Desktop</td>\n",
              "      <td>4908.0</td>\n",
              "      <td>317701.0</td>\n",
              "      <td>4.0</td>\n",
              "      <td>5.0</td>\n",
              "      <td>1972.0</td>\n",
              "      <td>NaN</td>\n",
              "      <td>114473.0</td>\n",
              "      <td>SSD</td>\n",
              "      <td>113907.0</td>\n",
              "      <td>0</td>\n",
              "      <td>4096.0</td>\n",
              "      <td>Desktop</td>\n",
              "      <td>21.5</td>\n",
              "      <td>1920.0</td>\n",
              "      <td>1080.0</td>\n",
              "      <td>Desktop</td>\n",
              "      <td>4.29e+09</td>\n",
              "      <td>10.0.17134.165</td>\n",
              "      <td>amd64</td>\n",
              "      <td>rs4_release</td>\n",
              "      <td>17134</td>\n",
              "      <td>165</td>\n",
              "      <td>Core</td>\n",
              "      <td>CORE</td>\n",
              "      <td>UUPUpgrade</td>\n",
              "      <td>7.0</td>\n",
              "      <td>30</td>\n",
              "      <td>FullAuto</td>\n",
              "      <td>0</td>\n",
              "      <td>IS_GENUINE</td>\n",
              "      <td>OEM:NONSLP</td>\n",
              "      <td>0.0</td>\n",
              "      <td>Retail</td>\n",
              "      <td>NaN</td>\n",
              "      <td>142.0</td>\n",
              "      <td>52682.0</td>\n",
              "      <td>0</td>\n",
              "      <td>NaN</td>\n",
              "      <td>0.0</td>\n",
              "      <td>0</td>\n",
              "      <td>0</td>\n",
              "      <td>0.0</td>\n",
              "      <td>0.0</td>\n",
              "      <td>3.0</td>\n",
              "      <td>0</td>\n",
              "    </tr>\n",
              "  </tbody>\n",
              "</table>\n",
              "</div>"
            ],
            "text/plain": [
              "   Unnamed: 0   ProductName EngineVersion       AppVersion  AvSigVersion  \\\n",
              "0           0  win8defender   1.1.15100.1  4.18.1807.18075  1.273.1735.0   \n",
              "1           1  win8defender   1.1.14600.4     4.13.17134.1    1.263.48.0   \n",
              "2           2  win8defender   1.1.15100.1  4.18.1807.18075  1.273.1341.0   \n",
              "\n",
              "   IsBeta  RtpStateBitfield  IsSxsPassiveMode  AVProductStatesIdentifier  \\\n",
              "0       0               7.0                 0                    53447.0   \n",
              "1       0               7.0                 0                    53447.0   \n",
              "2       0               7.0                 0                    53447.0   \n",
              "\n",
              "   AVProductsInstalled  AVProductsEnabled  HasTpm  CountryIdentifier  \\\n",
              "0                  1.0                1.0       1                 29   \n",
              "1                  1.0                1.0       1                 93   \n",
              "2                  1.0                1.0       1                 86   \n",
              "\n",
              "   CityIdentifier   Platform Processor     OsVer  OsBuild  OsSuite  \\\n",
              "0        128035.0  windows10       x64  10.0.0.0    17134      256   \n",
              "1          1482.0  windows10       x64  10.0.0.0    17134      256   \n",
              "2        153579.0  windows10       x64  10.0.0.0    17134      768   \n",
              "\n",
              "  OsPlatformSubRelease                                OsBuildLab SkuEdition  \\\n",
              "0                  rs4  17134.1.amd64fre.rs4_release.180410-1804        Pro   \n",
              "1                  rs4  17134.1.amd64fre.rs4_release.180410-1804        Pro   \n",
              "2                  rs4  17134.1.amd64fre.rs4_release.180410-1804       Home   \n",
              "\n",
              "   IsProtected  AutoSampleOptIn  SMode  IeVerIdentifier   SmartScreen  \\\n",
              "0          1.0                0    0.0            137.0           NaN   \n",
              "1          1.0                0    0.0            137.0           NaN   \n",
              "2          1.0                0    0.0            137.0  RequireAdmin   \n",
              "\n",
              "   Firewall  UacLuaenable Census_MDC2FormFactor Census_DeviceFamily  \\\n",
              "0       1.0           1.0               Desktop     Windows.Desktop   \n",
              "1       1.0           1.0              Notebook     Windows.Desktop   \n",
              "2       1.0           1.0               Desktop     Windows.Desktop   \n",
              "\n",
              "   Census_OEMNameIdentifier  Census_OEMModelIdentifier  \\\n",
              "0                    2668.0                     9124.0   \n",
              "1                    2668.0                    91656.0   \n",
              "2                    4908.0                   317701.0   \n",
              "\n",
              "   Census_ProcessorCoreCount  Census_ProcessorManufacturerIdentifier  \\\n",
              "0                        4.0                                     5.0   \n",
              "1                        4.0                                     5.0   \n",
              "2                        4.0                                     5.0   \n",
              "\n",
              "   Census_ProcessorModelIdentifier Census_ProcessorClass  \\\n",
              "0                           2340.0                   NaN   \n",
              "1                           2404.0                   NaN   \n",
              "2                           1972.0                   NaN   \n",
              "\n",
              "   Census_PrimaryDiskTotalCapacity Census_PrimaryDiskTypeName  \\\n",
              "0                         476940.0                        HDD   \n",
              "1                         476940.0                        HDD   \n",
              "2                         114473.0                        SSD   \n",
              "\n",
              "   Census_SystemVolumeTotalCapacity  Census_HasOpticalDiskDrive  \\\n",
              "0                          299451.0                           0   \n",
              "1                          102385.0                           0   \n",
              "2                          113907.0                           0   \n",
              "\n",
              "   Census_TotalPhysicalRAM Census_ChassisTypeName  \\\n",
              "0                   4096.0                Desktop   \n",
              "1                   4096.0               Notebook   \n",
              "2                   4096.0                Desktop   \n",
              "\n",
              "   Census_InternalPrimaryDiagonalDisplaySizeInInches  \\\n",
              "0                                               18.9   \n",
              "1                                               13.9   \n",
              "2                                               21.5   \n",
              "\n",
              "   Census_InternalPrimaryDisplayResolutionHorizontal  \\\n",
              "0                                             1440.0   \n",
              "1                                             1366.0   \n",
              "2                                             1920.0   \n",
              "\n",
              "   Census_InternalPrimaryDisplayResolutionVertical  \\\n",
              "0                                            900.0   \n",
              "1                                            768.0   \n",
              "2                                           1080.0   \n",
              "\n",
              "  Census_PowerPlatformRoleName  Census_InternalBatteryNumberOfCharges  \\\n",
              "0                      Desktop                               4.29e+09   \n",
              "1                       Mobile                               1.00e+00   \n",
              "2                      Desktop                               4.29e+09   \n",
              "\n",
              "  Census_OSVersion Census_OSArchitecture Census_OSBranch  \\\n",
              "0   10.0.17134.165                 amd64     rs4_release   \n",
              "1     10.0.17134.1                 amd64     rs4_release   \n",
              "2   10.0.17134.165                 amd64     rs4_release   \n",
              "\n",
              "   Census_OSBuildNumber  Census_OSBuildRevision Census_OSEdition  \\\n",
              "0                 17134                     165     Professional   \n",
              "1                 17134                       1     Professional   \n",
              "2                 17134                     165             Core   \n",
              "\n",
              "  Census_OSSkuName Census_OSInstallTypeName  \\\n",
              "0     PROFESSIONAL               UUPUpgrade   \n",
              "1     PROFESSIONAL                 IBSClean   \n",
              "2             CORE               UUPUpgrade   \n",
              "\n",
              "   Census_OSInstallLanguageIdentifier  Census_OSUILocaleIdentifier  \\\n",
              "0                                26.0                          119   \n",
              "1                                 8.0                           31   \n",
              "2                                 7.0                           30   \n",
              "\n",
              "  Census_OSWUAutoUpdateOptionsName  Census_IsPortableOperatingSystem  \\\n",
              "0                          UNKNOWN                                 0   \n",
              "1                          UNKNOWN                                 0   \n",
              "2                         FullAuto                                 0   \n",
              "\n",
              "  Census_GenuineStateName Census_ActivationChannel  Census_IsFlightsDisabled  \\\n",
              "0              IS_GENUINE                   Retail                       0.0   \n",
              "1                 OFFLINE                   Retail                       0.0   \n",
              "2              IS_GENUINE               OEM:NONSLP                       0.0   \n",
              "\n",
              "  Census_FlightRing  Census_ThresholdOptIn  \\\n",
              "0            Retail                    NaN   \n",
              "1           NOT_SET                    NaN   \n",
              "2            Retail                    NaN   \n",
              "\n",
              "   Census_FirmwareManufacturerIdentifier  Census_FirmwareVersionIdentifier  \\\n",
              "0                                  628.0                           36144.0   \n",
              "1                                  628.0                           57858.0   \n",
              "2                                  142.0                           52682.0   \n",
              "\n",
              "   Census_IsSecureBootEnabled  Census_IsWIMBootEnabled  \\\n",
              "0                           0                      NaN   \n",
              "1                           0                      NaN   \n",
              "2                           0                      NaN   \n",
              "\n",
              "   Census_IsVirtualDevice  Census_IsTouchEnabled  Census_IsPenCapable  \\\n",
              "0                     0.0                      0                    0   \n",
              "1                     0.0                      0                    0   \n",
              "2                     0.0                      0                    0   \n",
              "\n",
              "   Census_IsAlwaysOnAlwaysConnectedCapable  Wdft_IsGamer  \\\n",
              "0                                      0.0           0.0   \n",
              "1                                      0.0           0.0   \n",
              "2                                      0.0           0.0   \n",
              "\n",
              "   Wdft_RegionIdentifier  HasDetections  \n",
              "0                   10.0              0  \n",
              "1                    8.0              0  \n",
              "2                    3.0              0  "
            ]
          },
          "metadata": {
            "tags": []
          },
          "execution_count": 13
        }
      ]
    },
    {
      "cell_type": "markdown",
      "metadata": {
        "id": "NfJAJ59yTvyE",
        "colab_type": "text"
      },
      "source": [
        "**Изменить тип колонки** можно с помощью метода `astype`. Применим этот метод к признаку `Churn` и переведём его в `int64`:"
      ]
    },
    {
      "cell_type": "code",
      "metadata": {
        "colab_type": "code",
        "id": "eLhxOWrba5rO",
        "colab": {}
      },
      "source": [
        "df['Churn'] = df['Churn'].astype('int64')"
      ],
      "execution_count": null,
      "outputs": []
    },
    {
      "cell_type": "code",
      "metadata": {
        "id": "DuoWUKZsy2Du",
        "colab_type": "code",
        "colab": {
          "base_uri": "https://localhost:8080/",
          "height": 1000
        },
        "outputId": "1f176b6a-0873-4616-dd82-1b6c86dfba6e"
      },
      "source": [
        "df.hist(figsize=(17,12))"
      ],
      "execution_count": null,
      "outputs": [
        {
          "output_type": "execute_result",
          "data": {
            "text/plain": [
              "array([[<matplotlib.axes._subplots.AxesSubplot object at 0x7f83a3667128>,\n",
              "        <matplotlib.axes._subplots.AxesSubplot object at 0x7f83a293a550>,\n",
              "        <matplotlib.axes._subplots.AxesSubplot object at 0x7f83a2244ac8>,\n",
              "        <matplotlib.axes._subplots.AxesSubplot object at 0x7f83a1bd8080>,\n",
              "        <matplotlib.axes._subplots.AxesSubplot object at 0x7f83a14ed438>,\n",
              "        <matplotlib.axes._subplots.AxesSubplot object at 0x7f83a0df49b0>,\n",
              "        <matplotlib.axes._subplots.AxesSubplot object at 0x7f83a07b2f28>],\n",
              "       [<matplotlib.axes._subplots.AxesSubplot object at 0x7f839ff3f518>,\n",
              "        <matplotlib.axes._subplots.AxesSubplot object at 0x7f839ff3f550>,\n",
              "        <matplotlib.axes._subplots.AxesSubplot object at 0x7f839f38dfd0>,\n",
              "        <matplotlib.axes._subplots.AxesSubplot object at 0x7f839eb0b588>,\n",
              "        <matplotlib.axes._subplots.AxesSubplot object at 0x7f839e487b00>,\n",
              "        <matplotlib.axes._subplots.AxesSubplot object at 0x7f839dc460b8>,\n",
              "        <matplotlib.axes._subplots.AxesSubplot object at 0x7f839d72b630>],\n",
              "       [<matplotlib.axes._subplots.AxesSubplot object at 0x7f839d103ba8>,\n",
              "        <matplotlib.axes._subplots.AxesSubplot object at 0x7f839c9e8160>,\n",
              "        <matplotlib.axes._subplots.AxesSubplot object at 0x7f83a46286d8>,\n",
              "        <matplotlib.axes._subplots.AxesSubplot object at 0x7f83a0d59c50>,\n",
              "        <matplotlib.axes._subplots.AxesSubplot object at 0x7f83a447e208>,\n",
              "        <matplotlib.axes._subplots.AxesSubplot object at 0x7f83a6447780>,\n",
              "        <matplotlib.axes._subplots.AxesSubplot object at 0x7f83a5058cf8>],\n",
              "       [<matplotlib.axes._subplots.AxesSubplot object at 0x7f83a350c2b0>,\n",
              "        <matplotlib.axes._subplots.AxesSubplot object at 0x7f83a208e828>,\n",
              "        <matplotlib.axes._subplots.AxesSubplot object at 0x7f83a0664da0>,\n",
              "        <matplotlib.axes._subplots.AxesSubplot object at 0x7f839ef0c358>,\n",
              "        <matplotlib.axes._subplots.AxesSubplot object at 0x7f839da658d0>,\n",
              "        <matplotlib.axes._subplots.AxesSubplot object at 0x7f83a3c98e48>,\n",
              "        <matplotlib.axes._subplots.AxesSubplot object at 0x7f839c6ab400>],\n",
              "       [<matplotlib.axes._subplots.AxesSubplot object at 0x7f839c6c9978>,\n",
              "        <matplotlib.axes._subplots.AxesSubplot object at 0x7f839c665ef0>,\n",
              "        <matplotlib.axes._subplots.AxesSubplot object at 0x7f839c6884a8>,\n",
              "        <matplotlib.axes._subplots.AxesSubplot object at 0x7f839c625a20>,\n",
              "        <matplotlib.axes._subplots.AxesSubplot object at 0x7f839c642f98>,\n",
              "        <matplotlib.axes._subplots.AxesSubplot object at 0x7f839c5e4550>,\n",
              "        <matplotlib.axes._subplots.AxesSubplot object at 0x7f839c600ac8>],\n",
              "       [<matplotlib.axes._subplots.AxesSubplot object at 0x7f839c5a2080>,\n",
              "        <matplotlib.axes._subplots.AxesSubplot object at 0x7f839c5bd5f8>,\n",
              "        <matplotlib.axes._subplots.AxesSubplot object at 0x7f839c55bb70>,\n",
              "        <matplotlib.axes._subplots.AxesSubplot object at 0x7f839c57f128>,\n",
              "        <matplotlib.axes._subplots.AxesSubplot object at 0x7f839c51b6a0>,\n",
              "        <matplotlib.axes._subplots.AxesSubplot object at 0x7f839c537c18>,\n",
              "        <matplotlib.axes._subplots.AxesSubplot object at 0x7f839c4db1d0>],\n",
              "       [<matplotlib.axes._subplots.AxesSubplot object at 0x7f839c4f7748>,\n",
              "        <matplotlib.axes._subplots.AxesSubplot object at 0x7f839c512cc0>,\n",
              "        <matplotlib.axes._subplots.AxesSubplot object at 0x7f839c4b6278>,\n",
              "        <matplotlib.axes._subplots.AxesSubplot object at 0x7f839c4d07f0>,\n",
              "        <matplotlib.axes._subplots.AxesSubplot object at 0x7f839c46dd68>,\n",
              "        <matplotlib.axes._subplots.AxesSubplot object at 0x7f839c490320>,\n",
              "        <matplotlib.axes._subplots.AxesSubplot object at 0x7f839c42d898>]],\n",
              "      dtype=object)"
            ]
          },
          "metadata": {
            "tags": []
          },
          "execution_count": 14
        },
        {
          "output_type": "display_data",
          "data": {
            "image/png": "[encoded data removed]",
            "text/plain": [
              "<Figure size 1224x864 with 49 Axes>"
            ]
          },
          "metadata": {
            "tags": []
          }
        }
      ]
    },
    {
      "cell_type": "markdown",
      "metadata": {
        "id": "Ixu9DAqjIOjK",
        "colab_type": "text"
      },
      "source": [
        "## Кодируем данные"
      ]
    },
    {
      "cell_type": "code",
      "metadata": {
        "id": "Q0dfgAtAnWRm",
        "colab_type": "code",
        "colab": {}
      },
      "source": [
        "codir = cod(df)\n",
        "codir.head(3)"
      ],
      "execution_count": null,
      "outputs": []
    },
    {
      "cell_type": "markdown",
      "metadata": {
        "id": "S3exA3E1GUNG",
        "colab_type": "text"
      },
      "source": [
        "# Выделим основную цель и уберем из тренировочного набора"
      ]
    },
    {
      "cell_type": "code",
      "metadata": {
        "id": "1RUpxgsuGZm3",
        "colab_type": "code",
        "colab": {}
      },
      "source": [
        "y = df['Churn']\n",
        "df = df.drop(['Churn'],axis=1)"
      ],
      "execution_count": null,
      "outputs": []
    },
    {
      "cell_type": "code",
      "metadata": {
        "id": "ptA05x_VHF-m",
        "colab_type": "code",
        "colab": {
          "base_uri": "https://localhost:8080/",
          "height": 85
        },
        "outputId": "98fb0411-6cb9-482f-82f9-efe8e5e62851"
      },
      "source": [
        "y.head(3)"
      ],
      "execution_count": null,
      "outputs": [
        {
          "output_type": "execute_result",
          "data": {
            "text/plain": [
              "0    0\n",
              "1    0\n",
              "2    0\n",
              "Name: Churn, dtype: int64"
            ]
          },
          "metadata": {
            "tags": []
          },
          "execution_count": 18
        }
      ]
    },
    {
      "cell_type": "markdown",
      "metadata": {
        "id": "ni6kLWyp2-E-",
        "colab_type": "text"
      },
      "source": [
        "## Нормировка данных"
      ]
    },
    {
      "cell_type": "code",
      "metadata": {
        "id": "Fm7vsDenOogQ",
        "colab_type": "code",
        "colab": {
          "base_uri": "https://localhost:8080/",
          "height": 238
        },
        "outputId": "045c6a54-2eee-4411-b0f7-6439b5bf9eef"
      },
      "source": [
        "dan = standart(df)\n",
        "dan.head()"
      ],
      "execution_count": null,
      "outputs": [
        {
          "output_type": "execute_result",
          "data": {
            "text/html": [
              "<div>\n",
              "<style scoped>\n",
              "    .dataframe tbody tr th:only-of-type {\n",
              "        vertical-align: middle;\n",
              "    }\n",
              "\n",
              "    .dataframe tbody tr th {\n",
              "        vertical-align: top;\n",
              "    }\n",
              "\n",
              "    .dataframe thead th {\n",
              "        text-align: right;\n",
              "    }\n",
              "</style>\n",
              "<table border=\"1\" class=\"dataframe\">\n",
              "  <thead>\n",
              "    <tr style=\"text-align: right;\">\n",
              "      <th></th>\n",
              "      <th>Total day minutes</th>\n",
              "      <th>Total day charge</th>\n",
              "      <th>Total eve minutes</th>\n",
              "      <th>Total eve charge</th>\n",
              "      <th>Total night minutes</th>\n",
              "      <th>Total night charge</th>\n",
              "      <th>Total intl minutes</th>\n",
              "      <th>Total intl charge</th>\n",
              "      <th>State</th>\n",
              "      <th>Account length</th>\n",
              "      <th>Area code</th>\n",
              "      <th>International plan</th>\n",
              "      <th>Voice mail plan</th>\n",
              "      <th>Number vmail messages</th>\n",
              "      <th>Total day calls</th>\n",
              "      <th>Total eve calls</th>\n",
              "      <th>Total night calls</th>\n",
              "      <th>Total intl calls</th>\n",
              "      <th>Customer service calls</th>\n",
              "    </tr>\n",
              "  </thead>\n",
              "  <tbody>\n",
              "    <tr>\n",
              "      <th>0</th>\n",
              "      <td>1.57</td>\n",
              "      <td>1.57</td>\n",
              "      <td>-0.07</td>\n",
              "      <td>-0.07</td>\n",
              "      <td>0.87</td>\n",
              "      <td>0.87</td>\n",
              "      <td>-0.09</td>\n",
              "      <td>-0.09</td>\n",
              "      <td>-0.68</td>\n",
              "      <td>0.68</td>\n",
              "      <td>-0.52</td>\n",
              "      <td>-0.33</td>\n",
              "      <td>1.62</td>\n",
              "      <td>1.23</td>\n",
              "      <td>0.48</td>\n",
              "      <td>-0.06</td>\n",
              "      <td>-0.47</td>\n",
              "      <td>-0.60</td>\n",
              "      <td>-0.43</td>\n",
              "    </tr>\n",
              "    <tr>\n",
              "      <th>1</th>\n",
              "      <td>-0.33</td>\n",
              "      <td>-0.33</td>\n",
              "      <td>-0.11</td>\n",
              "      <td>-0.11</td>\n",
              "      <td>1.06</td>\n",
              "      <td>1.06</td>\n",
              "      <td>1.24</td>\n",
              "      <td>1.24</td>\n",
              "      <td>0.60</td>\n",
              "      <td>0.15</td>\n",
              "      <td>-0.52</td>\n",
              "      <td>-0.33</td>\n",
              "      <td>1.62</td>\n",
              "      <td>1.31</td>\n",
              "      <td>1.12</td>\n",
              "      <td>0.14</td>\n",
              "      <td>0.15</td>\n",
              "      <td>-0.60</td>\n",
              "      <td>-0.43</td>\n",
              "    </tr>\n",
              "    <tr>\n",
              "      <th>2</th>\n",
              "      <td>1.17</td>\n",
              "      <td>1.17</td>\n",
              "      <td>-1.57</td>\n",
              "      <td>-1.57</td>\n",
              "      <td>-0.76</td>\n",
              "      <td>-0.76</td>\n",
              "      <td>0.70</td>\n",
              "      <td>0.70</td>\n",
              "      <td>0.33</td>\n",
              "      <td>0.90</td>\n",
              "      <td>-0.52</td>\n",
              "      <td>-0.33</td>\n",
              "      <td>-0.62</td>\n",
              "      <td>-0.59</td>\n",
              "      <td>0.68</td>\n",
              "      <td>0.50</td>\n",
              "      <td>0.20</td>\n",
              "      <td>0.21</td>\n",
              "      <td>-1.19</td>\n",
              "    </tr>\n",
              "    <tr>\n",
              "      <th>3</th>\n",
              "      <td>2.20</td>\n",
              "      <td>2.20</td>\n",
              "      <td>-2.74</td>\n",
              "      <td>-2.74</td>\n",
              "      <td>-0.08</td>\n",
              "      <td>-0.08</td>\n",
              "      <td>-1.30</td>\n",
              "      <td>-1.31</td>\n",
              "      <td>0.60</td>\n",
              "      <td>-0.43</td>\n",
              "      <td>-0.69</td>\n",
              "      <td>3.05</td>\n",
              "      <td>-0.62</td>\n",
              "      <td>-0.59</td>\n",
              "      <td>-1.47</td>\n",
              "      <td>-0.61</td>\n",
              "      <td>-0.57</td>\n",
              "      <td>1.02</td>\n",
              "      <td>0.33</td>\n",
              "    </tr>\n",
              "    <tr>\n",
              "      <th>4</th>\n",
              "      <td>-0.24</td>\n",
              "      <td>-0.24</td>\n",
              "      <td>-1.04</td>\n",
              "      <td>-1.04</td>\n",
              "      <td>-0.28</td>\n",
              "      <td>-0.28</td>\n",
              "      <td>-0.05</td>\n",
              "      <td>-0.05</td>\n",
              "      <td>0.67</td>\n",
              "      <td>-0.65</td>\n",
              "      <td>-0.52</td>\n",
              "      <td>3.05</td>\n",
              "      <td>-0.62</td>\n",
              "      <td>-0.59</td>\n",
              "      <td>0.63</td>\n",
              "      <td>1.10</td>\n",
              "      <td>1.07</td>\n",
              "      <td>-0.60</td>\n",
              "      <td>1.09</td>\n",
              "    </tr>\n",
              "  </tbody>\n",
              "</table>\n",
              "</div>"
            ],
            "text/plain": [
              "   Total day minutes  Total day charge  Total eve minutes  Total eve charge  \\\n",
              "0               1.57              1.57              -0.07             -0.07   \n",
              "1              -0.33             -0.33              -0.11             -0.11   \n",
              "2               1.17              1.17              -1.57             -1.57   \n",
              "3               2.20              2.20              -2.74             -2.74   \n",
              "4              -0.24             -0.24              -1.04             -1.04   \n",
              "\n",
              "   Total night minutes  Total night charge  Total intl minutes  \\\n",
              "0                 0.87                0.87               -0.09   \n",
              "1                 1.06                1.06                1.24   \n",
              "2                -0.76               -0.76                0.70   \n",
              "3                -0.08               -0.08               -1.30   \n",
              "4                -0.28               -0.28               -0.05   \n",
              "\n",
              "   Total intl charge  State  Account length  Area code  International plan  \\\n",
              "0              -0.09  -0.68            0.68      -0.52               -0.33   \n",
              "1               1.24   0.60            0.15      -0.52               -0.33   \n",
              "2               0.70   0.33            0.90      -0.52               -0.33   \n",
              "3              -1.31   0.60           -0.43      -0.69                3.05   \n",
              "4              -0.05   0.67           -0.65      -0.52                3.05   \n",
              "\n",
              "   Voice mail plan  Number vmail messages  Total day calls  Total eve calls  \\\n",
              "0             1.62                   1.23             0.48            -0.06   \n",
              "1             1.62                   1.31             1.12             0.14   \n",
              "2            -0.62                  -0.59             0.68             0.50   \n",
              "3            -0.62                  -0.59            -1.47            -0.61   \n",
              "4            -0.62                  -0.59             0.63             1.10   \n",
              "\n",
              "   Total night calls  Total intl calls  Customer service calls  \n",
              "0              -0.47             -0.60                   -0.43  \n",
              "1               0.15             -0.60                   -0.43  \n",
              "2               0.20              0.21                   -1.19  \n",
              "3              -0.57              1.02                    0.33  \n",
              "4               1.07             -0.60                    1.09  "
            ]
          },
          "metadata": {
            "tags": []
          },
          "execution_count": 19
        }
      ]
    },
    {
      "cell_type": "markdown",
      "metadata": {
        "id": "8zmbB3seHlj4",
        "colab_type": "text"
      },
      "source": [
        "# Алгоритмы"
      ]
    },
    {
      "cell_type": "code",
      "metadata": {
        "id": "Ny5oRp3oHj5l",
        "colab_type": "code",
        "colab": {
          "base_uri": "https://localhost:8080/",
          "height": 340
        },
        "outputId": "d4350ba8-c4dc-48c7-dd81-7e75abfc5dc4"
      },
      "source": [
        "KNN(dan, y)"
      ],
      "execution_count": null,
      "outputs": [
        {
          "output_type": "stream",
          "text": [
            "Fitting 5 folds for each of 72 candidates, totalling 360 fits\n"
          ],
          "name": "stdout"
        },
        {
          "output_type": "stream",
          "text": [
            "[Parallel(n_jobs=1)]: Using backend SequentialBackend with 1 concurrent workers.\n"
          ],
          "name": "stderr"
        },
        {
          "output_type": "stream",
          "text": [
            "Best score: 0.8907890789078908\n",
            "Best parameters: {'algorithm': 'ball_tree', 'metric': 'manhattan', 'n_neighbors': 5}\n"
          ],
          "name": "stdout"
        },
        {
          "output_type": "stream",
          "text": [
            "[Parallel(n_jobs=1)]: Done 360 out of 360 | elapsed:   27.3s finished\n"
          ],
          "name": "stderr"
        },
        {
          "output_type": "execute_result",
          "data": {
            "text/plain": [
              "GridSearchCV(cv=StratifiedKFold(n_splits=5, random_state=None, shuffle=False),\n",
              "             error_score='raise-deprecating',\n",
              "             estimator=KNeighborsClassifier(algorithm='auto', leaf_size=30,\n",
              "                                            metric='minkowski',\n",
              "                                            metric_params=None, n_jobs=None,\n",
              "                                            n_neighbors=5, p=2,\n",
              "                                            weights='uniform'),\n",
              "             iid='warn', n_jobs=None,\n",
              "             param_grid={'algorithm': ['ball_tree', 'kd_tree', 'brute'],\n",
              "                         'metric': ['chebyshev', 'manhattan', 'euclidean',\n",
              "                                    'minkowski'],\n",
              "                         'n_neighbors': [2, 5, 10, 15, 20, 25]},\n",
              "             pre_dispatch='2*n_jobs', refit=True, return_train_score=False,\n",
              "             scoring='accuracy', verbose=1)"
            ]
          },
          "metadata": {
            "tags": []
          },
          "execution_count": 20
        }
      ]
    },
    {
      "cell_type": "code",
      "metadata": {
        "id": "trsvD_NnMZb9",
        "colab_type": "code",
        "colab": {
          "base_uri": "https://localhost:8080/",
          "height": 272
        },
        "outputId": "80a90889-2094-403d-c48d-95a35612221f"
      },
      "source": [
        "Bern(dan, y)"
      ],
      "execution_count": null,
      "outputs": [
        {
          "output_type": "stream",
          "text": [
            "[Parallel(n_jobs=1)]: Using backend SequentialBackend with 1 concurrent workers.\n"
          ],
          "name": "stderr"
        },
        {
          "output_type": "stream",
          "text": [
            "Fitting 5 folds for each of 36 candidates, totalling 180 fits\n",
            "Best score: 0.8547854785478548\n",
            "Best parameters: {'alpha': 0.001, 'binarize': 0.0, 'fit_prior': 'True'}\n"
          ],
          "name": "stdout"
        },
        {
          "output_type": "stream",
          "text": [
            "[Parallel(n_jobs=1)]: Done 180 out of 180 | elapsed:    1.0s finished\n"
          ],
          "name": "stderr"
        },
        {
          "output_type": "execute_result",
          "data": {
            "text/plain": [
              "GridSearchCV(cv=StratifiedKFold(n_splits=5, random_state=None, shuffle=False),\n",
              "             error_score='raise-deprecating',\n",
              "             estimator=BernoulliNB(alpha=1.0, binarize=0.0, class_prior=None,\n",
              "                                   fit_prior=True),\n",
              "             iid='warn', n_jobs=None,\n",
              "             param_grid={'alpha': [0.001, 0.01, 0.1, 0.2, 0.5, 1.0],\n",
              "                         'binarize': [0.0, 0.2, 0.5],\n",
              "                         'fit_prior': ['True', 'False']},\n",
              "             pre_dispatch='2*n_jobs', refit=True, return_train_score=False,\n",
              "             scoring='accuracy', verbose=1)"
            ]
          },
          "metadata": {
            "tags": []
          },
          "execution_count": 21
        }
      ]
    },
    {
      "cell_type": "code",
      "metadata": {
        "id": "FuTyRZwJPCTJ",
        "colab_type": "code",
        "colab": {
          "base_uri": "https://localhost:8080/",
          "height": 238
        },
        "outputId": "66274d92-7d41-4726-a212-177b14940287"
      },
      "source": [
        "Gaus(dan, y)"
      ],
      "execution_count": null,
      "outputs": [
        {
          "output_type": "stream",
          "text": [
            "[Parallel(n_jobs=1)]: Using backend SequentialBackend with 1 concurrent workers.\n"
          ],
          "name": "stderr"
        },
        {
          "output_type": "stream",
          "text": [
            "Fitting 5 folds for each of 9 candidates, totalling 45 fits\n",
            "Best score: 0.8658865886588659\n",
            "Best parameters: {'var_smoothing': 1e-09}\n"
          ],
          "name": "stdout"
        },
        {
          "output_type": "stream",
          "text": [
            "[Parallel(n_jobs=1)]: Done  45 out of  45 | elapsed:    0.2s finished\n"
          ],
          "name": "stderr"
        },
        {
          "output_type": "execute_result",
          "data": {
            "text/plain": [
              "GridSearchCV(cv=StratifiedKFold(n_splits=5, random_state=None, shuffle=False),\n",
              "             error_score='raise-deprecating',\n",
              "             estimator=GaussianNB(priors=None, var_smoothing=1e-09), iid='warn',\n",
              "             n_jobs=None,\n",
              "             param_grid={'var_smoothing': [1e-09, 1e-10, 1e-11, 1e-08, 1e-07,\n",
              "                                           1e-06, 1e-05, 0.0001, 0.001]},\n",
              "             pre_dispatch='2*n_jobs', refit=True, return_train_score=False,\n",
              "             scoring='accuracy', verbose=1)"
            ]
          },
          "metadata": {
            "tags": []
          },
          "execution_count": 22
        }
      ]
    },
    {
      "cell_type": "code",
      "metadata": {
        "id": "AVZamq7NPMie",
        "colab_type": "code",
        "colab": {
          "base_uri": "https://localhost:8080/",
          "height": 255
        },
        "outputId": "dfb61b2b-d6ee-47f0-961d-8e85e451b5e1"
      },
      "source": [
        "Multi_nb(df, y)"
      ],
      "execution_count": null,
      "outputs": [
        {
          "output_type": "stream",
          "text": [
            "[Parallel(n_jobs=1)]: Using backend SequentialBackend with 1 concurrent workers.\n"
          ],
          "name": "stderr"
        },
        {
          "output_type": "stream",
          "text": [
            "Fitting 5 folds for each of 12 candidates, totalling 60 fits\n",
            "Best score: 0.6465646564656465\n",
            "Best parameters: {'alpha': 0.5, 'fit_prior': 'True'}\n"
          ],
          "name": "stdout"
        },
        {
          "output_type": "stream",
          "text": [
            "[Parallel(n_jobs=1)]: Done  60 out of  60 | elapsed:    0.3s finished\n"
          ],
          "name": "stderr"
        },
        {
          "output_type": "execute_result",
          "data": {
            "text/plain": [
              "GridSearchCV(cv=StratifiedKFold(n_splits=5, random_state=None, shuffle=False),\n",
              "             error_score='raise-deprecating',\n",
              "             estimator=MultinomialNB(alpha=1.0, class_prior=None,\n",
              "                                     fit_prior=True),\n",
              "             iid='warn', n_jobs=None,\n",
              "             param_grid={'alpha': [0.001, 0.01, 0.1, 0.2, 0.5, 1.0],\n",
              "                         'fit_prior': ['True', 'False']},\n",
              "             pre_dispatch='2*n_jobs', refit=True, return_train_score=False,\n",
              "             scoring='accuracy', verbose=1)"
            ]
          },
          "metadata": {
            "tags": []
          },
          "execution_count": 23
        }
      ]
    },
    {
      "cell_type": "code",
      "metadata": {
        "id": "fFp2Q3LTPlmf",
        "colab_type": "code",
        "colab": {
          "base_uri": "https://localhost:8080/",
          "height": 272
        },
        "outputId": "df280def-fcc5-4c3d-8ade-bf10e6a823cd"
      },
      "source": [
        "Complement_nb(df, y)"
      ],
      "execution_count": null,
      "outputs": [
        {
          "output_type": "stream",
          "text": [
            "[Parallel(n_jobs=1)]: Using backend SequentialBackend with 1 concurrent workers.\n"
          ],
          "name": "stderr"
        },
        {
          "output_type": "stream",
          "text": [
            "Fitting 5 folds for each of 24 candidates, totalling 120 fits\n",
            "Best score: 0.8583858385838584\n",
            "Best parameters: {'alpha': 1.0, 'fit_prior': 'True', 'norm': 'True'}\n"
          ],
          "name": "stdout"
        },
        {
          "output_type": "stream",
          "text": [
            "[Parallel(n_jobs=1)]: Done 120 out of 120 | elapsed:    0.6s finished\n"
          ],
          "name": "stderr"
        },
        {
          "output_type": "execute_result",
          "data": {
            "text/plain": [
              "GridSearchCV(cv=StratifiedKFold(n_splits=5, random_state=None, shuffle=False),\n",
              "             error_score='raise-deprecating',\n",
              "             estimator=ComplementNB(alpha=1.0, class_prior=None, fit_prior=True,\n",
              "                                    norm=False),\n",
              "             iid='warn', n_jobs=None,\n",
              "             param_grid={'alpha': [0.001, 0.01, 0.1, 0.2, 0.5, 1.0],\n",
              "                         'fit_prior': ['True', 'False'],\n",
              "                         'norm': ['True', 'False']},\n",
              "             pre_dispatch='2*n_jobs', refit=True, return_train_score=False,\n",
              "             scoring='accuracy', verbose=1)"
            ]
          },
          "metadata": {
            "tags": []
          },
          "execution_count": 24
        }
      ]
    },
    {
      "cell_type": "code",
      "metadata": {
        "id": "QixqFmNBThGQ",
        "colab_type": "code",
        "colab": {
          "base_uri": "https://localhost:8080/",
          "height": 306
        },
        "outputId": "1f76f851-4368-48e2-d2c9-44935edafbc1"
      },
      "source": [
        "SVM(dan, y)"
      ],
      "execution_count": null,
      "outputs": [
        {
          "output_type": "stream",
          "text": [
            "[Parallel(n_jobs=1)]: Using backend SequentialBackend with 1 concurrent workers.\n"
          ],
          "name": "stderr"
        },
        {
          "output_type": "stream",
          "text": [
            "Fitting 5 folds for each of 20 candidates, totalling 100 fits\n"
          ],
          "name": "stdout"
        },
        {
          "output_type": "stream",
          "text": [
            "[Parallel(n_jobs=1)]: Done 100 out of 100 | elapsed:   25.7s finished\n"
          ],
          "name": "stderr"
        },
        {
          "output_type": "stream",
          "text": [
            "Best score: 0.9171917191719172\n",
            "Best parameters: {'C': 10, 'gamma': 0.01}\n"
          ],
          "name": "stdout"
        },
        {
          "output_type": "execute_result",
          "data": {
            "text/plain": [
              "GridSearchCV(cv=StratifiedKFold(n_splits=5, random_state=None, shuffle=False),\n",
              "             error_score='raise-deprecating',\n",
              "             estimator=SVC(C=1.0, cache_size=200, class_weight=None, coef0=0.0,\n",
              "                           decision_function_shape='ovr', degree=3,\n",
              "                           gamma='auto_deprecated', kernel='rbf', max_iter=-1,\n",
              "                           probability=False, random_state=None, shrinking=True,\n",
              "                           tol=0.001, verbose=False),\n",
              "             iid='warn', n_jobs=None,\n",
              "             param_grid={'C': [0.001, 0.01, 0.1, 1, 10],\n",
              "                         'gamma': [0.001, 0.01, 0.1, 1]},\n",
              "             pre_dispatch='2*n_jobs', refit=True, return_train_score=False,\n",
              "             scoring='accuracy', verbose=1)"
            ]
          },
          "metadata": {
            "tags": []
          },
          "execution_count": 25
        }
      ]
    },
    {
      "cell_type": "markdown",
      "metadata": {
        "id": "oCXScCsscXih",
        "colab_type": "text"
      },
      "source": [
        "# Трансформация признаков, распределение которых далеко от нормального"
      ]
    },
    {
      "cell_type": "code",
      "metadata": {
        "id": "hpkIHYngpxoE",
        "colab_type": "code",
        "colab": {}
      },
      "source": [
        "from sklearn.preprocessing import PowerTransformer\n",
        "\n",
        "box_cox_transform = PowerTransformer(method='box-cox', standardize=False) # only works with strictly positive values\n",
        "yeo_johnson_transform = PowerTransformer(method='yeo-johnson', standardize=False) # works with positive and negative values\n",
        "box = df\n",
        "yeo_d = df\n",
        "log_d = df"
      ],
      "execution_count": null,
      "outputs": []
    },
    {
      "cell_type": "code",
      "metadata": {
        "id": "Zz6-tPY3sQ-q",
        "colab_type": "code",
        "colab": {}
      },
      "source": [
        "box['Account length'] = box_cox_transform.fit_transform(box['Account length'].values.reshape(box.shape[0],-1))\n",
        "box['Total night charge'] = box_cox_transform.fit_transform(box['Total night charge'].values.reshape(box.shape[0],-1))"
      ],
      "execution_count": null,
      "outputs": []
    },
    {
      "cell_type": "code",
      "metadata": {
        "id": "XLArzenrnukv",
        "colab_type": "code",
        "colab": {
          "base_uri": "https://localhost:8080/",
          "height": 1000
        },
        "outputId": "f76c1302-91b6-49df-f7ee-047aa61d10e3"
      },
      "source": [
        "analyze(box)"
      ],
      "execution_count": null,
      "outputs": [
        {
          "output_type": "stream",
          "text": [
            "State\n",
            "~~~~~~~~~~~~~~~~~~~~~~~~~\n",
            "\n",
            "mean :  26.059405940594058\n",
            "var  :  219.7120424913786\n",
            "skew :  -0.06458846650810339\n",
            "kurt :  -1.1812565741755126\n",
            "shapiro :  (0.9532546997070312, 2.1394326323383863e-31)\n",
            "normaltest :  NormaltestResult(statistic=2375.499099044319, pvalue=0.0)\n",
            "~~~~~~~~~~~~~~~~~~~~~~~~~\n",
            "~~~~~~~~~~~~~~~~~~~~~~~~~\n",
            "\n",
            "Account Length\n",
            "~~~~~~~~~~~~~~~~~~~~~~~~~\n",
            "\n",
            "mean :  66.02554201571856\n",
            "var  :  572.4264921218672\n",
            "skew :  -0.050777825533019426\n",
            "kurt :  -0.07491766102248798\n",
            "shapiro :  (0.9988387823104858, 0.02132902666926384)\n",
            "normaltest :  NormaltestResult(statistic=2.1709122069029543, pvalue=0.337747702865478)\n",
            "~~~~~~~~~~~~~~~~~~~~~~~~~\n",
            "~~~~~~~~~~~~~~~~~~~~~~~~~\n",
            "\n",
            "Area Code\n",
            "~~~~~~~~~~~~~~~~~~~~~~~~~\n",
            "\n",
            "mean :  437.18241824182417\n",
            "var  :  1794.7876056732252\n",
            "skew :  1.1263157243742088\n",
            "kurt :  -0.7063737258335823\n",
            "shapiro :  (0.5902662873268127, 0.0)\n",
            "normaltest :  NormaltestResult(statistic=651.8227674471636, pvalue=2.873984750354634e-142)\n",
            "~~~~~~~~~~~~~~~~~~~~~~~~~\n",
            "~~~~~~~~~~~~~~~~~~~~~~~~~\n",
            "\n",
            "International Plan\n",
            "~~~~~~~~~~~~~~~~~~~~~~~~~\n",
            "\n",
            "mean :  0.0969096909690969\n",
            "var  :  0.0875182027653755\n",
            "skew :  2.7251044785505165\n",
            "kurt :  5.426194419016079\n",
            "shapiro :  (0.3360597491264343, 0.0)\n",
            "normaltest :  NormaltestResult(statistic=1772.7200918619708, pvalue=0.0)\n",
            "~~~~~~~~~~~~~~~~~~~~~~~~~\n",
            "~~~~~~~~~~~~~~~~~~~~~~~~~\n",
            "\n",
            "Voice Mail Plan\n",
            "~~~~~~~~~~~~~~~~~~~~~~~~~\n",
            "\n",
            "mean :  0.27662766276627665\n",
            "var  :  0.20010479895875644\n",
            "skew :  0.9986898408240337\n",
            "kurt :  -1.0026186018348657\n",
            "shapiro :  (0.5596225261688232, 0.0)\n",
            "normaltest :  NormaltestResult(statistic=1155.3669896083231, pvalue=1.303904907754029e-251)\n",
            "~~~~~~~~~~~~~~~~~~~~~~~~~\n",
            "~~~~~~~~~~~~~~~~~~~~~~~~~\n",
            "\n",
            "Number Vmail Messages\n",
            "~~~~~~~~~~~~~~~~~~~~~~~~~\n",
            "\n",
            "mean :  8.099009900990099\n",
            "var  :  187.31512953276192\n",
            "skew :  1.2642543349768245\n",
            "kurt :  -0.05285151059052451\n",
            "shapiro :  (0.6219369769096375, 0.0)\n",
            "normaltest :  NormaltestResult(statistic=556.3629445342845, pvalue=1.5392941776140257e-121)\n",
            "~~~~~~~~~~~~~~~~~~~~~~~~~\n",
            "~~~~~~~~~~~~~~~~~~~~~~~~~\n",
            "\n",
            "Total Day Minutes\n",
            "~~~~~~~~~~~~~~~~~~~~~~~~~\n",
            "\n",
            "mean :  179.77509750975116\n",
            "var  :  2965.8063885668544\n",
            "skew :  -0.029063979518119797\n",
            "kurt :  -0.021710117924088834\n",
            "shapiro :  (0.9995365738868713, 0.6374387741088867)\n",
            "normaltest :  NormaltestResult(statistic=0.5096211575886979, pvalue=0.7750632974814358)\n",
            "~~~~~~~~~~~~~~~~~~~~~~~~~\n",
            "~~~~~~~~~~~~~~~~~~~~~~~~~\n",
            "\n",
            "Total Day Calls\n",
            "~~~~~~~~~~~~~~~~~~~~~~~~~\n",
            "\n",
            "mean :  100.43564356435644\n",
            "var  :  402.64729839320404\n",
            "skew :  -0.11173632373075189\n",
            "kurt :  0.24101722895174227\n",
            "shapiro :  (0.9979861974716187, 0.0002773392479866743)\n",
            "normaltest :  NormaltestResult(statistic=13.75152737998376, pvalue=0.0010325088208268448)\n",
            "~~~~~~~~~~~~~~~~~~~~~~~~~\n",
            "~~~~~~~~~~~~~~~~~~~~~~~~~\n",
            "\n",
            "Total Day Charge\n",
            "~~~~~~~~~~~~~~~~~~~~~~~~~\n",
            "\n",
            "mean :  30.562307230723093\n",
            "var  :  85.71140454767361\n",
            "skew :  -0.02907017792703775\n",
            "kurt :  -0.021581719145033595\n",
            "shapiro :  (0.9995384216308594, 0.641385018825531)\n",
            "normaltest :  NormaltestResult(statistic=0.5092159606353127, pvalue=0.7752203400325994)\n",
            "~~~~~~~~~~~~~~~~~~~~~~~~~\n",
            "~~~~~~~~~~~~~~~~~~~~~~~~~\n",
            "\n",
            "Total Eve Minutes\n",
            "~~~~~~~~~~~~~~~~~~~~~~~~~\n",
            "\n",
            "mean :  200.98034803480346\n",
            "var  :  2571.1223710759846\n",
            "skew :  -0.023866708804637538\n",
            "kurt :  0.0237916804447047\n",
            "shapiro :  (0.9995718598365784, 0.711155354976654)\n",
            "normaltest :  NormaltestResult(statistic=0.4342080446809075, pvalue=0.8048462429604736)\n",
            "~~~~~~~~~~~~~~~~~~~~~~~~~\n",
            "~~~~~~~~~~~~~~~~~~~~~~~~~\n",
            "\n",
            "Total Eve Calls\n",
            "~~~~~~~~~~~~~~~~~~~~~~~~~\n",
            "\n",
            "mean :  100.11431143114311\n",
            "var  :  396.7919133947592\n",
            "skew :  -0.05553813000161922\n",
            "kurt :  0.20404769217448226\n",
            "shapiro :  (0.9986738562583923, 0.00886891596019268)\n",
            "normaltest :  NormaltestResult(statistic=6.811357530792158, pvalue=0.03318428808943874)\n",
            "~~~~~~~~~~~~~~~~~~~~~~~~~\n",
            "~~~~~~~~~~~~~~~~~~~~~~~~~\n",
            "\n",
            "Total Eve Charge\n",
            "~~~~~~~~~~~~~~~~~~~~~~~~~\n",
            "\n",
            "mean :  17.083540354035392\n",
            "var  :  18.57628041518822\n",
            "skew :  -0.023847250496276968\n",
            "kurt :  0.02364954586272594\n",
            "shapiro :  (0.9995685815811157, 0.7044191360473633)\n",
            "normaltest :  NormaltestResult(statistic=0.4325726682331947, pvalue=0.8055046253944554)\n",
            "~~~~~~~~~~~~~~~~~~~~~~~~~\n",
            "~~~~~~~~~~~~~~~~~~~~~~~~~\n",
            "\n",
            "Total Night Minutes\n",
            "~~~~~~~~~~~~~~~~~~~~~~~~~\n",
            "\n",
            "mean :  200.87203720372048\n",
            "var  :  2556.9466108212923\n",
            "skew :  0.008917275580987895\n",
            "kurt :  0.08388775499253365\n",
            "shapiro :  (0.9995295405387878, 0.6227363348007202)\n",
            "normaltest :  NormaltestResult(statistic=1.0757351051449409, pvalue=0.5839922583028743)\n",
            "~~~~~~~~~~~~~~~~~~~~~~~~~\n",
            "~~~~~~~~~~~~~~~~~~~~~~~~~\n",
            "\n",
            "Total Night Calls\n",
            "~~~~~~~~~~~~~~~~~~~~~~~~~\n",
            "\n",
            "mean :  100.10771077107711\n",
            "var  :  382.815581108068\n",
            "skew :  0.03248494205404463\n",
            "kurt :  -0.07371122421258836\n",
            "shapiro :  (0.9993115067481995, 0.25032323598861694)\n",
            "normaltest :  NormaltestResult(statistic=1.296432518261487, pvalue=0.5229778021474127)\n",
            "~~~~~~~~~~~~~~~~~~~~~~~~~\n",
            "~~~~~~~~~~~~~~~~~~~~~~~~~\n",
            "\n",
            "Total Night Charge\n",
            "~~~~~~~~~~~~~~~~~~~~~~~~~\n",
            "\n",
            "mean :  7.9763906437621745\n",
            "var  :  5.062697762004802\n",
            "skew :  0.004505317563992264\n",
            "kurt :  0.08476766677769199\n",
            "shapiro :  (0.9995295405387878, 0.6227438449859619)\n",
            "normaltest :  NormaltestResult(statistic=1.0622643173696602, pvalue=0.5879389525396843)\n",
            "~~~~~~~~~~~~~~~~~~~~~~~~~\n",
            "~~~~~~~~~~~~~~~~~~~~~~~~~\n",
            "\n",
            "Total Intl Minutes\n",
            "~~~~~~~~~~~~~~~~~~~~~~~~~\n",
            "\n",
            "mean :  10.237293729372933\n",
            "var  :  7.7920295197836875\n",
            "skew :  -0.24502560348664432\n",
            "kurt :  0.606471635404318\n",
            "shapiro :  (0.9937329888343811, 8.136633727895415e-11)\n",
            "normaltest :  NormaltestResult(statistic=64.21001941586222, pvalue=1.1401748114019145e-14)\n",
            "~~~~~~~~~~~~~~~~~~~~~~~~~\n",
            "~~~~~~~~~~~~~~~~~~~~~~~~~\n",
            "\n",
            "Total Intl Calls\n",
            "~~~~~~~~~~~~~~~~~~~~~~~~~\n",
            "\n",
            "mean :  4.4794479447944795\n",
            "var  :  6.055758231088608\n",
            "skew :  1.3208833668164015\n",
            "kurt :  3.0771654389888514\n",
            "shapiro :  (0.9057914018630981, 2.583573978675665e-41)\n",
            "normaltest :  NormaltestResult(statistic=835.9852267335732, pvalue=2.9384245140168735e-182)\n",
            "~~~~~~~~~~~~~~~~~~~~~~~~~\n",
            "~~~~~~~~~~~~~~~~~~~~~~~~~\n",
            "\n",
            "Total Intl Charge\n",
            "~~~~~~~~~~~~~~~~~~~~~~~~~\n",
            "\n",
            "mean :  2.764581458145804\n",
            "var  :  0.5680026826084938\n",
            "skew :  -0.24517610450098437\n",
            "kurt :  0.6068966666527675\n",
            "shapiro :  (0.9937072992324829, 7.591647449567418e-11)\n",
            "normaltest :  NormaltestResult(statistic=64.28330348321425, pvalue=1.0991526450917466e-14)\n",
            "~~~~~~~~~~~~~~~~~~~~~~~~~\n",
            "~~~~~~~~~~~~~~~~~~~~~~~~~\n",
            "\n",
            "Customer Service Calls\n",
            "~~~~~~~~~~~~~~~~~~~~~~~~~\n",
            "\n",
            "mean :  1.5628562856285628\n",
            "var  :  1.7299974821964845\n",
            "skew :  1.090868260175501\n",
            "kurt :  1.7265184753957081\n",
            "shapiro :  (0.8767161965370178, 1.401298464324817e-45)\n",
            "normaltest :  NormaltestResult(statistic=584.1773154131287, pvalue=1.404454686107752e-127)\n",
            "~~~~~~~~~~~~~~~~~~~~~~~~~\n",
            "~~~~~~~~~~~~~~~~~~~~~~~~~\n",
            "\n"
          ],
          "name": "stdout"
        }
      ]
    },
    {
      "cell_type": "code",
      "metadata": {
        "id": "UP1DOD_7zXQ6",
        "colab_type": "code",
        "colab": {
          "base_uri": "https://localhost:8080/",
          "height": 340
        },
        "outputId": "842fb72d-06c7-4045-e05e-259ad30e3e31"
      },
      "source": [
        "KNN(box, y)"
      ],
      "execution_count": null,
      "outputs": [
        {
          "output_type": "stream",
          "text": [
            "Fitting 5 folds for each of 72 candidates, totalling 360 fits\n"
          ],
          "name": "stdout"
        },
        {
          "output_type": "stream",
          "text": [
            "[Parallel(n_jobs=1)]: Using backend SequentialBackend with 1 concurrent workers.\n"
          ],
          "name": "stderr"
        },
        {
          "output_type": "stream",
          "text": [
            "Best score: 0.8832883288328833\n",
            "Best parameters: {'algorithm': 'ball_tree', 'metric': 'manhattan', 'n_neighbors': 10}\n"
          ],
          "name": "stdout"
        },
        {
          "output_type": "stream",
          "text": [
            "[Parallel(n_jobs=1)]: Done 360 out of 360 | elapsed:   23.2s finished\n"
          ],
          "name": "stderr"
        },
        {
          "output_type": "execute_result",
          "data": {
            "text/plain": [
              "GridSearchCV(cv=StratifiedKFold(n_splits=5, random_state=None, shuffle=False),\n",
              "             error_score='raise-deprecating',\n",
              "             estimator=KNeighborsClassifier(algorithm='auto', leaf_size=30,\n",
              "                                            metric='minkowski',\n",
              "                                            metric_params=None, n_jobs=None,\n",
              "                                            n_neighbors=5, p=2,\n",
              "                                            weights='uniform'),\n",
              "             iid='warn', n_jobs=None,\n",
              "             param_grid={'algorithm': ['ball_tree', 'kd_tree', 'brute'],\n",
              "                         'metric': ['chebyshev', 'manhattan', 'euclidean',\n",
              "                                    'minkowski'],\n",
              "                         'n_neighbors': [2, 5, 10, 15, 20, 25]},\n",
              "             pre_dispatch='2*n_jobs', refit=True, return_train_score=False,\n",
              "             scoring='accuracy', verbose=1)"
            ]
          },
          "metadata": {
            "tags": []
          },
          "execution_count": 29
        }
      ]
    },
    {
      "cell_type": "code",
      "metadata": {
        "id": "CoBTvO3pzgyT",
        "colab_type": "code",
        "colab": {
          "base_uri": "https://localhost:8080/",
          "height": 272
        },
        "outputId": "4a238c9f-c40e-4575-eb3f-38cfd94879b2"
      },
      "source": [
        "Bern(box, y)"
      ],
      "execution_count": null,
      "outputs": [
        {
          "output_type": "stream",
          "text": [
            "[Parallel(n_jobs=1)]: Using backend SequentialBackend with 1 concurrent workers.\n"
          ],
          "name": "stderr"
        },
        {
          "output_type": "stream",
          "text": [
            "Fitting 5 folds for each of 36 candidates, totalling 180 fits\n",
            "Best score: 0.8475847584758476\n",
            "Best parameters: {'alpha': 1.0, 'binarize': 0.5, 'fit_prior': 'True'}\n"
          ],
          "name": "stdout"
        },
        {
          "output_type": "stream",
          "text": [
            "[Parallel(n_jobs=1)]: Done 180 out of 180 | elapsed:    1.0s finished\n"
          ],
          "name": "stderr"
        },
        {
          "output_type": "execute_result",
          "data": {
            "text/plain": [
              "GridSearchCV(cv=StratifiedKFold(n_splits=5, random_state=None, shuffle=False),\n",
              "             error_score='raise-deprecating',\n",
              "             estimator=BernoulliNB(alpha=1.0, binarize=0.0, class_prior=None,\n",
              "                                   fit_prior=True),\n",
              "             iid='warn', n_jobs=None,\n",
              "             param_grid={'alpha': [0.001, 0.01, 0.1, 0.2, 0.5, 1.0],\n",
              "                         'binarize': [0.0, 0.2, 0.5],\n",
              "                         'fit_prior': ['True', 'False']},\n",
              "             pre_dispatch='2*n_jobs', refit=True, return_train_score=False,\n",
              "             scoring='accuracy', verbose=1)"
            ]
          },
          "metadata": {
            "tags": []
          },
          "execution_count": 30
        }
      ]
    },
    {
      "cell_type": "code",
      "metadata": {
        "id": "iFvt5fgXzkqN",
        "colab_type": "code",
        "colab": {
          "base_uri": "https://localhost:8080/",
          "height": 238
        },
        "outputId": "b1fe3d76-64d4-491b-ed16-8d47269b489e"
      },
      "source": [
        "Gaus(box, y)"
      ],
      "execution_count": null,
      "outputs": [
        {
          "output_type": "stream",
          "text": [
            "[Parallel(n_jobs=1)]: Using backend SequentialBackend with 1 concurrent workers.\n"
          ],
          "name": "stderr"
        },
        {
          "output_type": "stream",
          "text": [
            "Fitting 5 folds for each of 9 candidates, totalling 45 fits\n",
            "Best score: 0.8868886888688869\n",
            "Best parameters: {'var_smoothing': 0.001}\n"
          ],
          "name": "stdout"
        },
        {
          "output_type": "stream",
          "text": [
            "[Parallel(n_jobs=1)]: Done  45 out of  45 | elapsed:    0.3s finished\n"
          ],
          "name": "stderr"
        },
        {
          "output_type": "execute_result",
          "data": {
            "text/plain": [
              "GridSearchCV(cv=StratifiedKFold(n_splits=5, random_state=None, shuffle=False),\n",
              "             error_score='raise-deprecating',\n",
              "             estimator=GaussianNB(priors=None, var_smoothing=1e-09), iid='warn',\n",
              "             n_jobs=None,\n",
              "             param_grid={'var_smoothing': [1e-09, 1e-10, 1e-11, 1e-08, 1e-07,\n",
              "                                           1e-06, 1e-05, 0.0001, 0.001]},\n",
              "             pre_dispatch='2*n_jobs', refit=True, return_train_score=False,\n",
              "             scoring='accuracy', verbose=1)"
            ]
          },
          "metadata": {
            "tags": []
          },
          "execution_count": 31
        }
      ]
    },
    {
      "cell_type": "code",
      "metadata": {
        "id": "kVg3MD8_2eBq",
        "colab_type": "code",
        "colab": {
          "base_uri": "https://localhost:8080/",
          "height": 306
        },
        "outputId": "2b4d0fc8-7347-4992-b1fc-20d3fdf07c0a"
      },
      "source": [
        "SVM(box, y)"
      ],
      "execution_count": null,
      "outputs": [
        {
          "output_type": "stream",
          "text": [
            "[Parallel(n_jobs=1)]: Using backend SequentialBackend with 1 concurrent workers.\n"
          ],
          "name": "stderr"
        },
        {
          "output_type": "stream",
          "text": [
            "Fitting 5 folds for each of 20 candidates, totalling 100 fits\n"
          ],
          "name": "stdout"
        },
        {
          "output_type": "stream",
          "text": [
            "[Parallel(n_jobs=1)]: Done 100 out of 100 | elapsed:   43.4s finished\n"
          ],
          "name": "stderr"
        },
        {
          "output_type": "stream",
          "text": [
            "Best score: 0.861986198619862\n",
            "Best parameters: {'C': 1, 'gamma': 0.001}\n"
          ],
          "name": "stdout"
        },
        {
          "output_type": "execute_result",
          "data": {
            "text/plain": [
              "GridSearchCV(cv=StratifiedKFold(n_splits=5, random_state=None, shuffle=False),\n",
              "             error_score='raise-deprecating',\n",
              "             estimator=SVC(C=1.0, cache_size=200, class_weight=None, coef0=0.0,\n",
              "                           decision_function_shape='ovr', degree=3,\n",
              "                           gamma='auto_deprecated', kernel='rbf', max_iter=-1,\n",
              "                           probability=False, random_state=None, shrinking=True,\n",
              "                           tol=0.001, verbose=False),\n",
              "             iid='warn', n_jobs=None,\n",
              "             param_grid={'C': [0.001, 0.01, 0.1, 1, 10],\n",
              "                         'gamma': [0.001, 0.01, 0.1, 1]},\n",
              "             pre_dispatch='2*n_jobs', refit=True, return_train_score=False,\n",
              "             scoring='accuracy', verbose=1)"
            ]
          },
          "metadata": {
            "tags": []
          },
          "execution_count": 32
        }
      ]
    },
    {
      "cell_type": "code",
      "metadata": {
        "id": "JtkD6o2Bwjnq",
        "colab_type": "code",
        "colab": {}
      },
      "source": [
        "yeo_d['Account length'] = yeo_johnson_transform.fit_transform(yeo_d['Account length'].values.reshape(yeo_d.shape[0],-1))\n",
        "yeo_d['Customer service calls'] = yeo_johnson_transform.fit_transform(yeo_d['Customer service calls'].values.reshape(yeo_d.shape[0],-1))"
      ],
      "execution_count": null,
      "outputs": []
    },
    {
      "cell_type": "code",
      "metadata": {
        "id": "p5e2aS0R2t0i",
        "colab_type": "code",
        "colab": {
          "base_uri": "https://localhost:8080/",
          "height": 1000
        },
        "outputId": "1a5c1e75-c356-4a53-bc47-212ba30e972c"
      },
      "source": [
        "analyze(yeo_d)"
      ],
      "execution_count": null,
      "outputs": [
        {
          "output_type": "stream",
          "text": [
            "State\n",
            "~~~~~~~~~~~~~~~~~~~~~~~~~\n",
            "\n",
            "mean :  26.059405940594058\n",
            "var  :  219.7120424913786\n",
            "skew :  -0.06458846650810339\n",
            "kurt :  -1.1812565741755126\n",
            "shapiro :  (0.9532546997070312, 2.1394326323383863e-31)\n",
            "normaltest :  NormaltestResult(statistic=2375.499099044319, pvalue=0.0)\n",
            "~~~~~~~~~~~~~~~~~~~~~~~~~\n",
            "~~~~~~~~~~~~~~~~~~~~~~~~~\n",
            "\n",
            "Account Length\n",
            "~~~~~~~~~~~~~~~~~~~~~~~~~\n",
            "\n",
            "mean :  65.80124182131176\n",
            "var  :  567.6460816991549\n",
            "skew :  -0.05201390646577951\n",
            "kurt :  -0.07430697575518108\n",
            "shapiro :  (0.9988348484039307, 0.020883964374661446)\n",
            "normaltest :  NormaltestResult(statistic=2.228335571403, pvalue=0.32818828826877894)\n",
            "~~~~~~~~~~~~~~~~~~~~~~~~~\n",
            "~~~~~~~~~~~~~~~~~~~~~~~~~\n",
            "\n",
            "Area Code\n",
            "~~~~~~~~~~~~~~~~~~~~~~~~~\n",
            "\n",
            "mean :  437.18241824182417\n",
            "var  :  1794.7876056732252\n",
            "skew :  1.1263157243742088\n",
            "kurt :  -0.7063737258335823\n",
            "shapiro :  (0.5902662873268127, 0.0)\n",
            "normaltest :  NormaltestResult(statistic=651.8227674471636, pvalue=2.873984750354634e-142)\n",
            "~~~~~~~~~~~~~~~~~~~~~~~~~\n",
            "~~~~~~~~~~~~~~~~~~~~~~~~~\n",
            "\n",
            "International Plan\n",
            "~~~~~~~~~~~~~~~~~~~~~~~~~\n",
            "\n",
            "mean :  0.0969096909690969\n",
            "var  :  0.0875182027653755\n",
            "skew :  2.7251044785505165\n",
            "kurt :  5.426194419016079\n",
            "shapiro :  (0.3360597491264343, 0.0)\n",
            "normaltest :  NormaltestResult(statistic=1772.7200918619708, pvalue=0.0)\n",
            "~~~~~~~~~~~~~~~~~~~~~~~~~\n",
            "~~~~~~~~~~~~~~~~~~~~~~~~~\n",
            "\n",
            "Voice Mail Plan\n",
            "~~~~~~~~~~~~~~~~~~~~~~~~~\n",
            "\n",
            "mean :  0.27662766276627665\n",
            "var  :  0.20010479895875644\n",
            "skew :  0.9986898408240337\n",
            "kurt :  -1.0026186018348657\n",
            "shapiro :  (0.5596225261688232, 0.0)\n",
            "normaltest :  NormaltestResult(statistic=1155.3669896083231, pvalue=1.303904907754029e-251)\n",
            "~~~~~~~~~~~~~~~~~~~~~~~~~\n",
            "~~~~~~~~~~~~~~~~~~~~~~~~~\n",
            "\n",
            "Number Vmail Messages\n",
            "~~~~~~~~~~~~~~~~~~~~~~~~~\n",
            "\n",
            "mean :  8.099009900990099\n",
            "var  :  187.31512953276192\n",
            "skew :  1.2642543349768245\n",
            "kurt :  -0.05285151059052451\n",
            "shapiro :  (0.6219369769096375, 0.0)\n",
            "normaltest :  NormaltestResult(statistic=556.3629445342845, pvalue=1.5392941776140257e-121)\n",
            "~~~~~~~~~~~~~~~~~~~~~~~~~\n",
            "~~~~~~~~~~~~~~~~~~~~~~~~~\n",
            "\n",
            "Total Day Minutes\n",
            "~~~~~~~~~~~~~~~~~~~~~~~~~\n",
            "\n",
            "mean :  179.77509750975116\n",
            "var  :  2965.8063885668544\n",
            "skew :  -0.029063979518119797\n",
            "kurt :  -0.021710117924088834\n",
            "shapiro :  (0.9995365738868713, 0.6374387741088867)\n",
            "normaltest :  NormaltestResult(statistic=0.5096211575886979, pvalue=0.7750632974814358)\n",
            "~~~~~~~~~~~~~~~~~~~~~~~~~\n",
            "~~~~~~~~~~~~~~~~~~~~~~~~~\n",
            "\n",
            "Total Day Calls\n",
            "~~~~~~~~~~~~~~~~~~~~~~~~~\n",
            "\n",
            "mean :  100.43564356435644\n",
            "var  :  402.64729839320404\n",
            "skew :  -0.11173632373075189\n",
            "kurt :  0.24101722895174227\n",
            "shapiro :  (0.9979861974716187, 0.0002773392479866743)\n",
            "normaltest :  NormaltestResult(statistic=13.75152737998376, pvalue=0.0010325088208268448)\n",
            "~~~~~~~~~~~~~~~~~~~~~~~~~\n",
            "~~~~~~~~~~~~~~~~~~~~~~~~~\n",
            "\n",
            "Total Day Charge\n",
            "~~~~~~~~~~~~~~~~~~~~~~~~~\n",
            "\n",
            "mean :  30.562307230723093\n",
            "var  :  85.71140454767361\n",
            "skew :  -0.02907017792703775\n",
            "kurt :  -0.021581719145033595\n",
            "shapiro :  (0.9995384216308594, 0.641385018825531)\n",
            "normaltest :  NormaltestResult(statistic=0.5092159606353127, pvalue=0.7752203400325994)\n",
            "~~~~~~~~~~~~~~~~~~~~~~~~~\n",
            "~~~~~~~~~~~~~~~~~~~~~~~~~\n",
            "\n",
            "Total Eve Minutes\n",
            "~~~~~~~~~~~~~~~~~~~~~~~~~\n",
            "\n",
            "mean :  200.98034803480346\n",
            "var  :  2571.1223710759846\n",
            "skew :  -0.023866708804637538\n",
            "kurt :  0.0237916804447047\n",
            "shapiro :  (0.9995718598365784, 0.711155354976654)\n",
            "normaltest :  NormaltestResult(statistic=0.4342080446809075, pvalue=0.8048462429604736)\n",
            "~~~~~~~~~~~~~~~~~~~~~~~~~\n",
            "~~~~~~~~~~~~~~~~~~~~~~~~~\n",
            "\n",
            "Total Eve Calls\n",
            "~~~~~~~~~~~~~~~~~~~~~~~~~\n",
            "\n",
            "mean :  100.11431143114311\n",
            "var  :  396.7919133947592\n",
            "skew :  -0.05553813000161922\n",
            "kurt :  0.20404769217448226\n",
            "shapiro :  (0.9986738562583923, 0.00886891596019268)\n",
            "normaltest :  NormaltestResult(statistic=6.811357530792158, pvalue=0.03318428808943874)\n",
            "~~~~~~~~~~~~~~~~~~~~~~~~~\n",
            "~~~~~~~~~~~~~~~~~~~~~~~~~\n",
            "\n",
            "Total Eve Charge\n",
            "~~~~~~~~~~~~~~~~~~~~~~~~~\n",
            "\n",
            "mean :  17.083540354035392\n",
            "var  :  18.57628041518822\n",
            "skew :  -0.023847250496276968\n",
            "kurt :  0.02364954586272594\n",
            "shapiro :  (0.9995685815811157, 0.7044191360473633)\n",
            "normaltest :  NormaltestResult(statistic=0.4325726682331947, pvalue=0.8055046253944554)\n",
            "~~~~~~~~~~~~~~~~~~~~~~~~~\n",
            "~~~~~~~~~~~~~~~~~~~~~~~~~\n",
            "\n",
            "Total Night Minutes\n",
            "~~~~~~~~~~~~~~~~~~~~~~~~~\n",
            "\n",
            "mean :  200.87203720372048\n",
            "var  :  2556.9466108212923\n",
            "skew :  0.008917275580987895\n",
            "kurt :  0.08388775499253365\n",
            "shapiro :  (0.9995295405387878, 0.6227363348007202)\n",
            "normaltest :  NormaltestResult(statistic=1.0757351051449409, pvalue=0.5839922583028743)\n",
            "~~~~~~~~~~~~~~~~~~~~~~~~~\n",
            "~~~~~~~~~~~~~~~~~~~~~~~~~\n",
            "\n",
            "Total Night Calls\n",
            "~~~~~~~~~~~~~~~~~~~~~~~~~\n",
            "\n",
            "mean :  100.10771077107711\n",
            "var  :  382.815581108068\n",
            "skew :  0.03248494205404463\n",
            "kurt :  -0.07371122421258836\n",
            "shapiro :  (0.9993115067481995, 0.25032323598861694)\n",
            "normaltest :  NormaltestResult(statistic=1.296432518261487, pvalue=0.5229778021474127)\n",
            "~~~~~~~~~~~~~~~~~~~~~~~~~\n",
            "~~~~~~~~~~~~~~~~~~~~~~~~~\n",
            "\n",
            "Total Night Charge\n",
            "~~~~~~~~~~~~~~~~~~~~~~~~~\n",
            "\n",
            "mean :  7.9763906437621745\n",
            "var  :  5.062697762004802\n",
            "skew :  0.004505317563992264\n",
            "kurt :  0.08476766677769199\n",
            "shapiro :  (0.9995295405387878, 0.6227438449859619)\n",
            "normaltest :  NormaltestResult(statistic=1.0622643173696602, pvalue=0.5879389525396843)\n",
            "~~~~~~~~~~~~~~~~~~~~~~~~~\n",
            "~~~~~~~~~~~~~~~~~~~~~~~~~\n",
            "\n",
            "Total Intl Minutes\n",
            "~~~~~~~~~~~~~~~~~~~~~~~~~\n",
            "\n",
            "mean :  10.237293729372933\n",
            "var  :  7.7920295197836875\n",
            "skew :  -0.24502560348664432\n",
            "kurt :  0.606471635404318\n",
            "shapiro :  (0.9937329888343811, 8.136633727895415e-11)\n",
            "normaltest :  NormaltestResult(statistic=64.21001941586222, pvalue=1.1401748114019145e-14)\n",
            "~~~~~~~~~~~~~~~~~~~~~~~~~\n",
            "~~~~~~~~~~~~~~~~~~~~~~~~~\n",
            "\n",
            "Total Intl Calls\n",
            "~~~~~~~~~~~~~~~~~~~~~~~~~\n",
            "\n",
            "mean :  4.4794479447944795\n",
            "var  :  6.055758231088608\n",
            "skew :  1.3208833668164015\n",
            "kurt :  3.0771654389888514\n",
            "shapiro :  (0.9057914018630981, 2.583573978675665e-41)\n",
            "normaltest :  NormaltestResult(statistic=835.9852267335732, pvalue=2.9384245140168735e-182)\n",
            "~~~~~~~~~~~~~~~~~~~~~~~~~\n",
            "~~~~~~~~~~~~~~~~~~~~~~~~~\n",
            "\n",
            "Total Intl Charge\n",
            "~~~~~~~~~~~~~~~~~~~~~~~~~\n",
            "\n",
            "mean :  2.764581458145804\n",
            "var  :  0.5680026826084938\n",
            "skew :  -0.24517610450098437\n",
            "kurt :  0.6068966666527675\n",
            "shapiro :  (0.9937072992324829, 7.591647449567418e-11)\n",
            "normaltest :  NormaltestResult(statistic=64.28330348321425, pvalue=1.0991526450917466e-14)\n",
            "~~~~~~~~~~~~~~~~~~~~~~~~~\n",
            "~~~~~~~~~~~~~~~~~~~~~~~~~\n",
            "\n",
            "Customer Service Calls\n",
            "~~~~~~~~~~~~~~~~~~~~~~~~~\n",
            "\n",
            "mean :  0.8703288546346336\n",
            "var  :  0.3273594944034433\n",
            "skew :  -0.01376361262153766\n",
            "kurt :  -0.6285892619218725\n",
            "shapiro :  (0.9090682864189148, 8.858728631768629e-41)\n",
            "normaltest :  NormaltestResult(statistic=123.06264659532759, pvalue=1.8935894601718273e-27)\n",
            "~~~~~~~~~~~~~~~~~~~~~~~~~\n",
            "~~~~~~~~~~~~~~~~~~~~~~~~~\n",
            "\n"
          ],
          "name": "stdout"
        }
      ]
    },
    {
      "cell_type": "code",
      "metadata": {
        "id": "YyE6YSjAz1pa",
        "colab_type": "code",
        "colab": {
          "base_uri": "https://localhost:8080/",
          "height": 340
        },
        "outputId": "3f102a13-9e6c-4924-d3b8-69183e8dc086"
      },
      "source": [
        "KNN(yeo_d, y)"
      ],
      "execution_count": null,
      "outputs": [
        {
          "output_type": "stream",
          "text": [
            "Fitting 5 folds for each of 72 candidates, totalling 360 fits\n"
          ],
          "name": "stdout"
        },
        {
          "output_type": "stream",
          "text": [
            "[Parallel(n_jobs=1)]: Using backend SequentialBackend with 1 concurrent workers.\n"
          ],
          "name": "stderr"
        },
        {
          "output_type": "stream",
          "text": [
            "Best score: 0.8841884188418841\n",
            "Best parameters: {'algorithm': 'ball_tree', 'metric': 'manhattan', 'n_neighbors': 10}\n"
          ],
          "name": "stdout"
        },
        {
          "output_type": "stream",
          "text": [
            "[Parallel(n_jobs=1)]: Done 360 out of 360 | elapsed:   23.4s finished\n"
          ],
          "name": "stderr"
        },
        {
          "output_type": "execute_result",
          "data": {
            "text/plain": [
              "GridSearchCV(cv=StratifiedKFold(n_splits=5, random_state=None, shuffle=False),\n",
              "             error_score='raise-deprecating',\n",
              "             estimator=KNeighborsClassifier(algorithm='auto', leaf_size=30,\n",
              "                                            metric='minkowski',\n",
              "                                            metric_params=None, n_jobs=None,\n",
              "                                            n_neighbors=5, p=2,\n",
              "                                            weights='uniform'),\n",
              "             iid='warn', n_jobs=None,\n",
              "             param_grid={'algorithm': ['ball_tree', 'kd_tree', 'brute'],\n",
              "                         'metric': ['chebyshev', 'manhattan', 'euclidean',\n",
              "                                    'minkowski'],\n",
              "                         'n_neighbors': [2, 5, 10, 15, 20, 25]},\n",
              "             pre_dispatch='2*n_jobs', refit=True, return_train_score=False,\n",
              "             scoring='accuracy', verbose=1)"
            ]
          },
          "metadata": {
            "tags": []
          },
          "execution_count": 35
        }
      ]
    },
    {
      "cell_type": "code",
      "metadata": {
        "id": "q8ez-IzFzycG",
        "colab_type": "code",
        "colab": {
          "base_uri": "https://localhost:8080/",
          "height": 272
        },
        "outputId": "2f152272-ac8e-4db0-cecb-ba2e8d508b52"
      },
      "source": [
        "Bern(yeo_d, y)"
      ],
      "execution_count": null,
      "outputs": [
        {
          "output_type": "stream",
          "text": [
            "[Parallel(n_jobs=1)]: Using backend SequentialBackend with 1 concurrent workers.\n"
          ],
          "name": "stderr"
        },
        {
          "output_type": "stream",
          "text": [
            "Fitting 5 folds for each of 36 candidates, totalling 180 fits\n",
            "Best score: 0.8475847584758476\n",
            "Best parameters: {'alpha': 1.0, 'binarize': 0.5, 'fit_prior': 'True'}\n"
          ],
          "name": "stdout"
        },
        {
          "output_type": "stream",
          "text": [
            "[Parallel(n_jobs=1)]: Done 180 out of 180 | elapsed:    1.1s finished\n"
          ],
          "name": "stderr"
        },
        {
          "output_type": "execute_result",
          "data": {
            "text/plain": [
              "GridSearchCV(cv=StratifiedKFold(n_splits=5, random_state=None, shuffle=False),\n",
              "             error_score='raise-deprecating',\n",
              "             estimator=BernoulliNB(alpha=1.0, binarize=0.0, class_prior=None,\n",
              "                                   fit_prior=True),\n",
              "             iid='warn', n_jobs=None,\n",
              "             param_grid={'alpha': [0.001, 0.01, 0.1, 0.2, 0.5, 1.0],\n",
              "                         'binarize': [0.0, 0.2, 0.5],\n",
              "                         'fit_prior': ['True', 'False']},\n",
              "             pre_dispatch='2*n_jobs', refit=True, return_train_score=False,\n",
              "             scoring='accuracy', verbose=1)"
            ]
          },
          "metadata": {
            "tags": []
          },
          "execution_count": 36
        }
      ]
    },
    {
      "cell_type": "code",
      "metadata": {
        "id": "y6VurqgPzvZl",
        "colab_type": "code",
        "colab": {
          "base_uri": "https://localhost:8080/",
          "height": 238
        },
        "outputId": "e1dd6f7d-0bdf-4589-fbef-18a1e827af87"
      },
      "source": [
        "Gaus(yeo_d, y)"
      ],
      "execution_count": null,
      "outputs": [
        {
          "output_type": "stream",
          "text": [
            "[Parallel(n_jobs=1)]: Using backend SequentialBackend with 1 concurrent workers.\n"
          ],
          "name": "stderr"
        },
        {
          "output_type": "stream",
          "text": [
            "Fitting 5 folds for each of 9 candidates, totalling 45 fits\n",
            "Best score: 0.8895889588958896\n",
            "Best parameters: {'var_smoothing': 0.0001}\n"
          ],
          "name": "stdout"
        },
        {
          "output_type": "stream",
          "text": [
            "[Parallel(n_jobs=1)]: Done  45 out of  45 | elapsed:    0.3s finished\n"
          ],
          "name": "stderr"
        },
        {
          "output_type": "execute_result",
          "data": {
            "text/plain": [
              "GridSearchCV(cv=StratifiedKFold(n_splits=5, random_state=None, shuffle=False),\n",
              "             error_score='raise-deprecating',\n",
              "             estimator=GaussianNB(priors=None, var_smoothing=1e-09), iid='warn',\n",
              "             n_jobs=None,\n",
              "             param_grid={'var_smoothing': [1e-09, 1e-10, 1e-11, 1e-08, 1e-07,\n",
              "                                           1e-06, 1e-05, 0.0001, 0.001]},\n",
              "             pre_dispatch='2*n_jobs', refit=True, return_train_score=False,\n",
              "             scoring='accuracy', verbose=1)"
            ]
          },
          "metadata": {
            "tags": []
          },
          "execution_count": 37
        }
      ]
    },
    {
      "cell_type": "code",
      "metadata": {
        "id": "E5MVGBV_2qjk",
        "colab_type": "code",
        "colab": {
          "base_uri": "https://localhost:8080/",
          "height": 306
        },
        "outputId": "1a08f45b-58e0-4c8d-cab4-47617c9eaa80"
      },
      "source": [
        "SVM(yeo_d, y)"
      ],
      "execution_count": null,
      "outputs": [
        {
          "output_type": "stream",
          "text": [
            "[Parallel(n_jobs=1)]: Using backend SequentialBackend with 1 concurrent workers.\n"
          ],
          "name": "stderr"
        },
        {
          "output_type": "stream",
          "text": [
            "Fitting 5 folds for each of 20 candidates, totalling 100 fits\n"
          ],
          "name": "stdout"
        },
        {
          "output_type": "stream",
          "text": [
            "[Parallel(n_jobs=1)]: Done 100 out of 100 | elapsed:   43.1s finished\n"
          ],
          "name": "stderr"
        },
        {
          "output_type": "stream",
          "text": [
            "Best score: 0.861986198619862\n",
            "Best parameters: {'C': 1, 'gamma': 0.001}\n"
          ],
          "name": "stdout"
        },
        {
          "output_type": "execute_result",
          "data": {
            "text/plain": [
              "GridSearchCV(cv=StratifiedKFold(n_splits=5, random_state=None, shuffle=False),\n",
              "             error_score='raise-deprecating',\n",
              "             estimator=SVC(C=1.0, cache_size=200, class_weight=None, coef0=0.0,\n",
              "                           decision_function_shape='ovr', degree=3,\n",
              "                           gamma='auto_deprecated', kernel='rbf', max_iter=-1,\n",
              "                           probability=False, random_state=None, shrinking=True,\n",
              "                           tol=0.001, verbose=False),\n",
              "             iid='warn', n_jobs=None,\n",
              "             param_grid={'C': [0.001, 0.01, 0.1, 1, 10],\n",
              "                         'gamma': [0.001, 0.01, 0.1, 1]},\n",
              "             pre_dispatch='2*n_jobs', refit=True, return_train_score=False,\n",
              "             scoring='accuracy', verbose=1)"
            ]
          },
          "metadata": {
            "tags": []
          },
          "execution_count": 38
        }
      ]
    },
    {
      "cell_type": "code",
      "metadata": {
        "colab_type": "code",
        "id": "5vcSITF-uKD2",
        "colab": {}
      },
      "source": [
        "log_d['Total night charge'] = np.log(log_d['Total night charge'].values.reshape(log_d.shape[0],-1))\n",
        "log_d['Total night calls'] = np.log(log_d['Total night calls'].values.reshape(log_d.shape[0],-1))"
      ],
      "execution_count": null,
      "outputs": []
    },
    {
      "cell_type": "code",
      "metadata": {
        "id": "Qlwmt1Ix2say",
        "colab_type": "code",
        "colab": {
          "base_uri": "https://localhost:8080/",
          "height": 1000
        },
        "outputId": "22a2b7b8-cd21-4abc-9eb0-98c4947fd912"
      },
      "source": [
        "analyze(log_d)"
      ],
      "execution_count": null,
      "outputs": [
        {
          "output_type": "stream",
          "text": [
            "State\n",
            "~~~~~~~~~~~~~~~~~~~~~~~~~\n",
            "\n",
            "mean :  26.059405940594058\n",
            "var  :  219.7120424913786\n",
            "skew :  -0.06458846650810339\n",
            "kurt :  -1.1812565741755126\n",
            "shapiro :  (0.9532546997070312, 2.1394326323383863e-31)\n",
            "normaltest :  NormaltestResult(statistic=2375.499099044319, pvalue=0.0)\n",
            "~~~~~~~~~~~~~~~~~~~~~~~~~\n",
            "~~~~~~~~~~~~~~~~~~~~~~~~~\n",
            "\n",
            "Account Length\n",
            "~~~~~~~~~~~~~~~~~~~~~~~~~\n",
            "\n",
            "mean :  65.80124182131176\n",
            "var  :  567.6460816991549\n",
            "skew :  -0.05201390646577951\n",
            "kurt :  -0.07430697575518108\n",
            "shapiro :  (0.9988348484039307, 0.020883964374661446)\n",
            "normaltest :  NormaltestResult(statistic=2.228335571403, pvalue=0.32818828826877894)\n",
            "~~~~~~~~~~~~~~~~~~~~~~~~~\n",
            "~~~~~~~~~~~~~~~~~~~~~~~~~\n",
            "\n",
            "Area Code\n",
            "~~~~~~~~~~~~~~~~~~~~~~~~~\n",
            "\n",
            "mean :  437.18241824182417\n",
            "var  :  1794.7876056732252\n",
            "skew :  1.1263157243742088\n",
            "kurt :  -0.7063737258335823\n",
            "shapiro :  (0.5902662873268127, 0.0)\n",
            "normaltest :  NormaltestResult(statistic=651.8227674471636, pvalue=2.873984750354634e-142)\n",
            "~~~~~~~~~~~~~~~~~~~~~~~~~\n",
            "~~~~~~~~~~~~~~~~~~~~~~~~~\n",
            "\n",
            "International Plan\n",
            "~~~~~~~~~~~~~~~~~~~~~~~~~\n",
            "\n",
            "mean :  0.0969096909690969\n",
            "var  :  0.0875182027653755\n",
            "skew :  2.7251044785505165\n",
            "kurt :  5.426194419016079\n",
            "shapiro :  (0.3360597491264343, 0.0)\n",
            "normaltest :  NormaltestResult(statistic=1772.7200918619708, pvalue=0.0)\n",
            "~~~~~~~~~~~~~~~~~~~~~~~~~\n",
            "~~~~~~~~~~~~~~~~~~~~~~~~~\n",
            "\n",
            "Voice Mail Plan\n",
            "~~~~~~~~~~~~~~~~~~~~~~~~~\n",
            "\n",
            "mean :  0.27662766276627665\n",
            "var  :  0.20010479895875644\n",
            "skew :  0.9986898408240337\n",
            "kurt :  -1.0026186018348657\n",
            "shapiro :  (0.5596225261688232, 0.0)\n",
            "normaltest :  NormaltestResult(statistic=1155.3669896083231, pvalue=1.303904907754029e-251)\n",
            "~~~~~~~~~~~~~~~~~~~~~~~~~\n",
            "~~~~~~~~~~~~~~~~~~~~~~~~~\n",
            "\n",
            "Number Vmail Messages\n",
            "~~~~~~~~~~~~~~~~~~~~~~~~~\n",
            "\n",
            "mean :  8.099009900990099\n",
            "var  :  187.31512953276192\n",
            "skew :  1.2642543349768245\n",
            "kurt :  -0.05285151059052451\n",
            "shapiro :  (0.6219369769096375, 0.0)\n",
            "normaltest :  NormaltestResult(statistic=556.3629445342845, pvalue=1.5392941776140257e-121)\n",
            "~~~~~~~~~~~~~~~~~~~~~~~~~\n",
            "~~~~~~~~~~~~~~~~~~~~~~~~~\n",
            "\n",
            "Total Day Minutes\n",
            "~~~~~~~~~~~~~~~~~~~~~~~~~\n",
            "\n",
            "mean :  179.77509750975116\n",
            "var  :  2965.8063885668544\n",
            "skew :  -0.029063979518119797\n",
            "kurt :  -0.021710117924088834\n",
            "shapiro :  (0.9995365738868713, 0.6374387741088867)\n",
            "normaltest :  NormaltestResult(statistic=0.5096211575886979, pvalue=0.7750632974814358)\n",
            "~~~~~~~~~~~~~~~~~~~~~~~~~\n",
            "~~~~~~~~~~~~~~~~~~~~~~~~~\n",
            "\n",
            "Total Day Calls\n",
            "~~~~~~~~~~~~~~~~~~~~~~~~~\n",
            "\n",
            "mean :  100.43564356435644\n",
            "var  :  402.64729839320404\n",
            "skew :  -0.11173632373075189\n",
            "kurt :  0.24101722895174227\n",
            "shapiro :  (0.9979861974716187, 0.0002773392479866743)\n",
            "normaltest :  NormaltestResult(statistic=13.75152737998376, pvalue=0.0010325088208268448)\n",
            "~~~~~~~~~~~~~~~~~~~~~~~~~\n",
            "~~~~~~~~~~~~~~~~~~~~~~~~~\n",
            "\n",
            "Total Day Charge\n",
            "~~~~~~~~~~~~~~~~~~~~~~~~~\n",
            "\n",
            "mean :  30.562307230723093\n",
            "var  :  85.71140454767361\n",
            "skew :  -0.02907017792703775\n",
            "kurt :  -0.021581719145033595\n",
            "shapiro :  (0.9995384216308594, 0.641385018825531)\n",
            "normaltest :  NormaltestResult(statistic=0.5092159606353127, pvalue=0.7752203400325994)\n",
            "~~~~~~~~~~~~~~~~~~~~~~~~~\n",
            "~~~~~~~~~~~~~~~~~~~~~~~~~\n",
            "\n",
            "Total Eve Minutes\n",
            "~~~~~~~~~~~~~~~~~~~~~~~~~\n",
            "\n",
            "mean :  200.98034803480346\n",
            "var  :  2571.1223710759846\n",
            "skew :  -0.023866708804637538\n",
            "kurt :  0.0237916804447047\n",
            "shapiro :  (0.9995718598365784, 0.711155354976654)\n",
            "normaltest :  NormaltestResult(statistic=0.4342080446809075, pvalue=0.8048462429604736)\n",
            "~~~~~~~~~~~~~~~~~~~~~~~~~\n",
            "~~~~~~~~~~~~~~~~~~~~~~~~~\n",
            "\n",
            "Total Eve Calls\n",
            "~~~~~~~~~~~~~~~~~~~~~~~~~\n",
            "\n",
            "mean :  100.11431143114311\n",
            "var  :  396.7919133947592\n",
            "skew :  -0.05553813000161922\n",
            "kurt :  0.20404769217448226\n",
            "shapiro :  (0.9986738562583923, 0.00886891596019268)\n",
            "normaltest :  NormaltestResult(statistic=6.811357530792158, pvalue=0.03318428808943874)\n",
            "~~~~~~~~~~~~~~~~~~~~~~~~~\n",
            "~~~~~~~~~~~~~~~~~~~~~~~~~\n",
            "\n",
            "Total Eve Charge\n",
            "~~~~~~~~~~~~~~~~~~~~~~~~~\n",
            "\n",
            "mean :  17.083540354035392\n",
            "var  :  18.57628041518822\n",
            "skew :  -0.023847250496276968\n",
            "kurt :  0.02364954586272594\n",
            "shapiro :  (0.9995685815811157, 0.7044191360473633)\n",
            "normaltest :  NormaltestResult(statistic=0.4325726682331947, pvalue=0.8055046253944554)\n",
            "~~~~~~~~~~~~~~~~~~~~~~~~~\n",
            "~~~~~~~~~~~~~~~~~~~~~~~~~\n",
            "\n",
            "Total Night Minutes\n",
            "~~~~~~~~~~~~~~~~~~~~~~~~~\n",
            "\n",
            "mean :  200.87203720372048\n",
            "var  :  2556.9466108212923\n",
            "skew :  0.008917275580987895\n",
            "kurt :  0.08388775499253365\n",
            "shapiro :  (0.9995295405387878, 0.6227363348007202)\n",
            "normaltest :  NormaltestResult(statistic=1.0757351051449409, pvalue=0.5839922583028743)\n",
            "~~~~~~~~~~~~~~~~~~~~~~~~~\n",
            "~~~~~~~~~~~~~~~~~~~~~~~~~\n",
            "\n",
            "Total Night Calls\n",
            "~~~~~~~~~~~~~~~~~~~~~~~~~\n",
            "\n",
            "mean :  4.586036920373857\n",
            "var  :  0.04205749973630108\n",
            "skew :  -0.6038951588619266\n",
            "kurt :  0.7171550386708274\n",
            "shapiro :  (0.9805122017860413, 5.245941478513655e-21)\n",
            "normaltest :  NormaltestResult(statistic=215.49864674145127, pvalue=1.6034795712890938e-47)\n",
            "~~~~~~~~~~~~~~~~~~~~~~~~~\n",
            "~~~~~~~~~~~~~~~~~~~~~~~~~\n",
            "\n",
            "Total Night Charge\n",
            "~~~~~~~~~~~~~~~~~~~~~~~~~\n",
            "\n",
            "mean :  2.0289305273240283\n",
            "var  :  0.11253511486734907\n",
            "skew :  -2.281988993048013\n",
            "kurt :  20.670756680624923\n",
            "shapiro :  (0.8915125131607056, 1.7516230804060213e-43)\n",
            "normaltest :  NormaltestResult(statistic=1982.6244465548898, pvalue=0.0)\n",
            "~~~~~~~~~~~~~~~~~~~~~~~~~\n",
            "~~~~~~~~~~~~~~~~~~~~~~~~~\n",
            "\n",
            "Total Intl Minutes\n",
            "~~~~~~~~~~~~~~~~~~~~~~~~~\n",
            "\n",
            "mean :  10.237293729372933\n",
            "var  :  7.7920295197836875\n",
            "skew :  -0.24502560348664432\n",
            "kurt :  0.606471635404318\n",
            "shapiro :  (0.9937329888343811, 8.136633727895415e-11)\n",
            "normaltest :  NormaltestResult(statistic=64.21001941586222, pvalue=1.1401748114019145e-14)\n",
            "~~~~~~~~~~~~~~~~~~~~~~~~~\n",
            "~~~~~~~~~~~~~~~~~~~~~~~~~\n",
            "\n",
            "Total Intl Calls\n",
            "~~~~~~~~~~~~~~~~~~~~~~~~~\n",
            "\n",
            "mean :  4.4794479447944795\n",
            "var  :  6.055758231088608\n",
            "skew :  1.3208833668164015\n",
            "kurt :  3.0771654389888514\n",
            "shapiro :  (0.9057914018630981, 2.583573978675665e-41)\n",
            "normaltest :  NormaltestResult(statistic=835.9852267335732, pvalue=2.9384245140168735e-182)\n",
            "~~~~~~~~~~~~~~~~~~~~~~~~~\n",
            "~~~~~~~~~~~~~~~~~~~~~~~~~\n",
            "\n",
            "Total Intl Charge\n",
            "~~~~~~~~~~~~~~~~~~~~~~~~~\n",
            "\n",
            "mean :  2.764581458145804\n",
            "var  :  0.5680026826084938\n",
            "skew :  -0.24517610450098437\n",
            "kurt :  0.6068966666527675\n",
            "shapiro :  (0.9937072992324829, 7.591647449567418e-11)\n",
            "normaltest :  NormaltestResult(statistic=64.28330348321425, pvalue=1.0991526450917466e-14)\n",
            "~~~~~~~~~~~~~~~~~~~~~~~~~\n",
            "~~~~~~~~~~~~~~~~~~~~~~~~~\n",
            "\n",
            "Customer Service Calls\n",
            "~~~~~~~~~~~~~~~~~~~~~~~~~\n",
            "\n",
            "mean :  0.8703288546346336\n",
            "var  :  0.3273594944034433\n",
            "skew :  -0.01376361262153766\n",
            "kurt :  -0.6285892619218725\n",
            "shapiro :  (0.9090682864189148, 8.858728631768629e-41)\n",
            "normaltest :  NormaltestResult(statistic=123.06264659532759, pvalue=1.8935894601718273e-27)\n",
            "~~~~~~~~~~~~~~~~~~~~~~~~~\n",
            "~~~~~~~~~~~~~~~~~~~~~~~~~\n",
            "\n"
          ],
          "name": "stdout"
        }
      ]
    },
    {
      "cell_type": "code",
      "metadata": {
        "id": "K1unMHCq25yn",
        "colab_type": "code",
        "colab": {
          "base_uri": "https://localhost:8080/",
          "height": 340
        },
        "outputId": "50623b5c-79f1-4265-f5e4-55f967eb9301"
      },
      "source": [
        "KNN(log_d, y)"
      ],
      "execution_count": null,
      "outputs": [
        {
          "output_type": "stream",
          "text": [
            "Fitting 5 folds for each of 72 candidates, totalling 360 fits\n"
          ],
          "name": "stdout"
        },
        {
          "output_type": "stream",
          "text": [
            "[Parallel(n_jobs=1)]: Using backend SequentialBackend with 1 concurrent workers.\n"
          ],
          "name": "stderr"
        },
        {
          "output_type": "stream",
          "text": [
            "Best score: 0.8844884488448845\n",
            "Best parameters: {'algorithm': 'ball_tree', 'metric': 'manhattan', 'n_neighbors': 15}\n"
          ],
          "name": "stdout"
        },
        {
          "output_type": "stream",
          "text": [
            "[Parallel(n_jobs=1)]: Done 360 out of 360 | elapsed:   22.8s finished\n"
          ],
          "name": "stderr"
        },
        {
          "output_type": "execute_result",
          "data": {
            "text/plain": [
              "GridSearchCV(cv=StratifiedKFold(n_splits=5, random_state=None, shuffle=False),\n",
              "             error_score='raise-deprecating',\n",
              "             estimator=KNeighborsClassifier(algorithm='auto', leaf_size=30,\n",
              "                                            metric='minkowski',\n",
              "                                            metric_params=None, n_jobs=None,\n",
              "                                            n_neighbors=5, p=2,\n",
              "                                            weights='uniform'),\n",
              "             iid='warn', n_jobs=None,\n",
              "             param_grid={'algorithm': ['ball_tree', 'kd_tree', 'brute'],\n",
              "                         'metric': ['chebyshev', 'manhattan', 'euclidean',\n",
              "                                    'minkowski'],\n",
              "                         'n_neighbors': [2, 5, 10, 15, 20, 25]},\n",
              "             pre_dispatch='2*n_jobs', refit=True, return_train_score=False,\n",
              "             scoring='accuracy', verbose=1)"
            ]
          },
          "metadata": {
            "tags": []
          },
          "execution_count": 41
        }
      ]
    },
    {
      "cell_type": "code",
      "metadata": {
        "id": "YHUvQpaC3C5H",
        "colab_type": "code",
        "colab": {
          "base_uri": "https://localhost:8080/",
          "height": 272
        },
        "outputId": "c2be25a8-5915-453c-af60-2959fca6919b"
      },
      "source": [
        "Bern(log_d, y)"
      ],
      "execution_count": null,
      "outputs": [
        {
          "output_type": "stream",
          "text": [
            "[Parallel(n_jobs=1)]: Using backend SequentialBackend with 1 concurrent workers.\n"
          ],
          "name": "stderr"
        },
        {
          "output_type": "stream",
          "text": [
            "Fitting 5 folds for each of 36 candidates, totalling 180 fits\n",
            "Best score: 0.8475847584758476\n",
            "Best parameters: {'alpha': 1.0, 'binarize': 0.5, 'fit_prior': 'True'}\n"
          ],
          "name": "stdout"
        },
        {
          "output_type": "stream",
          "text": [
            "[Parallel(n_jobs=1)]: Done 180 out of 180 | elapsed:    1.0s finished\n"
          ],
          "name": "stderr"
        },
        {
          "output_type": "execute_result",
          "data": {
            "text/plain": [
              "GridSearchCV(cv=StratifiedKFold(n_splits=5, random_state=None, shuffle=False),\n",
              "             error_score='raise-deprecating',\n",
              "             estimator=BernoulliNB(alpha=1.0, binarize=0.0, class_prior=None,\n",
              "                                   fit_prior=True),\n",
              "             iid='warn', n_jobs=None,\n",
              "             param_grid={'alpha': [0.001, 0.01, 0.1, 0.2, 0.5, 1.0],\n",
              "                         'binarize': [0.0, 0.2, 0.5],\n",
              "                         'fit_prior': ['True', 'False']},\n",
              "             pre_dispatch='2*n_jobs', refit=True, return_train_score=False,\n",
              "             scoring='accuracy', verbose=1)"
            ]
          },
          "metadata": {
            "tags": []
          },
          "execution_count": 42
        }
      ]
    },
    {
      "cell_type": "code",
      "metadata": {
        "id": "cktgJP8R3ELU",
        "colab_type": "code",
        "colab": {
          "base_uri": "https://localhost:8080/",
          "height": 238
        },
        "outputId": "1e43419f-f196-4c43-8d66-9606f7fafc9b"
      },
      "source": [
        "Gaus(log_d, y)"
      ],
      "execution_count": null,
      "outputs": [
        {
          "output_type": "stream",
          "text": [
            "[Parallel(n_jobs=1)]: Using backend SequentialBackend with 1 concurrent workers.\n"
          ],
          "name": "stderr"
        },
        {
          "output_type": "stream",
          "text": [
            "Fitting 5 folds for each of 9 candidates, totalling 45 fits\n",
            "Best score: 0.8901890189018902\n",
            "Best parameters: {'var_smoothing': 0.0001}\n"
          ],
          "name": "stdout"
        },
        {
          "output_type": "stream",
          "text": [
            "[Parallel(n_jobs=1)]: Done  45 out of  45 | elapsed:    0.3s finished\n"
          ],
          "name": "stderr"
        },
        {
          "output_type": "execute_result",
          "data": {
            "text/plain": [
              "GridSearchCV(cv=StratifiedKFold(n_splits=5, random_state=None, shuffle=False),\n",
              "             error_score='raise-deprecating',\n",
              "             estimator=GaussianNB(priors=None, var_smoothing=1e-09), iid='warn',\n",
              "             n_jobs=None,\n",
              "             param_grid={'var_smoothing': [1e-09, 1e-10, 1e-11, 1e-08, 1e-07,\n",
              "                                           1e-06, 1e-05, 0.0001, 0.001]},\n",
              "             pre_dispatch='2*n_jobs', refit=True, return_train_score=False,\n",
              "             scoring='accuracy', verbose=1)"
            ]
          },
          "metadata": {
            "tags": []
          },
          "execution_count": 43
        }
      ]
    },
    {
      "cell_type": "code",
      "metadata": {
        "id": "tH2PEglP3LoF",
        "colab_type": "code",
        "colab": {
          "base_uri": "https://localhost:8080/",
          "height": 306
        },
        "outputId": "0e39f35f-0909-4df9-ea7f-db73834bfcd9"
      },
      "source": [
        "SVM(log_d, y)"
      ],
      "execution_count": null,
      "outputs": [
        {
          "output_type": "stream",
          "text": [
            "[Parallel(n_jobs=1)]: Using backend SequentialBackend with 1 concurrent workers.\n"
          ],
          "name": "stderr"
        },
        {
          "output_type": "stream",
          "text": [
            "Fitting 5 folds for each of 20 candidates, totalling 100 fits\n"
          ],
          "name": "stdout"
        },
        {
          "output_type": "stream",
          "text": [
            "[Parallel(n_jobs=1)]: Done 100 out of 100 | elapsed:   43.1s finished\n"
          ],
          "name": "stderr"
        },
        {
          "output_type": "stream",
          "text": [
            "Best score: 0.8661866186618662\n",
            "Best parameters: {'C': 1, 'gamma': 0.001}\n"
          ],
          "name": "stdout"
        },
        {
          "output_type": "execute_result",
          "data": {
            "text/plain": [
              "GridSearchCV(cv=StratifiedKFold(n_splits=5, random_state=None, shuffle=False),\n",
              "             error_score='raise-deprecating',\n",
              "             estimator=SVC(C=1.0, cache_size=200, class_weight=None, coef0=0.0,\n",
              "                           decision_function_shape='ovr', degree=3,\n",
              "                           gamma='auto_deprecated', kernel='rbf', max_iter=-1,\n",
              "                           probability=False, random_state=None, shrinking=True,\n",
              "                           tol=0.001, verbose=False),\n",
              "             iid='warn', n_jobs=None,\n",
              "             param_grid={'C': [0.001, 0.01, 0.1, 1, 10],\n",
              "                         'gamma': [0.001, 0.01, 0.1, 1]},\n",
              "             pre_dispatch='2*n_jobs', refit=True, return_train_score=False,\n",
              "             scoring='accuracy', verbose=1)"
            ]
          },
          "metadata": {
            "tags": []
          },
          "execution_count": 44
        }
      ]
    }
  ]
}