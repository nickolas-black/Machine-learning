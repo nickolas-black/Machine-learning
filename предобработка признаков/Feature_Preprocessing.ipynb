{
  "nbformat": 4,
  "nbformat_minor": 0,
  "metadata": {
    "kernelspec": {
      "display_name": "Python 3",
      "language": "python",
      "name": "python3"
    },
    "language_info": {
      "codemirror_mode": {
        "name": "ipython",
        "version": 3
      },
      "file_extension": ".py",
      "mimetype": "text/x-python",
      "name": "python",
      "nbconvert_exporter": "python",
      "pygments_lexer": "ipython3",
      "version": "3.7.3"
    },
    "colab": {
      "name": "Feature_Preprocessing.ipynb",
      "provenance": []
    }
  },
  "cells": [
    {
      "cell_type": "code",
      "metadata": {
        "id": "CF98HF56wAD5",
        "colab_type": "code",
        "colab": {},
        "outputId": "aaa8db0a-db30-404c-9771-3165e0becc7e"
      },
      "source": [
        "from IPython.display import Image\n",
        "Image(url= \"https://static1.squarespace.com/static/5006453fe4b09ef2252ba068/5095eabce4b06cb305058603/5095eabce4b02d37bef4c24c/1352002236895/100_anniversary_titanic_sinking_by_esai8mellows-d4xbme8.jpg\")"
      ],
      "execution_count": null,
      "outputs": [
        {
          "output_type": "execute_result",
          "data": {
            "text/html": [
              "<img src=\"https://static1.squarespace.com/static/5006453fe4b09ef2252ba068/5095eabce4b06cb305058603/5095eabce4b02d37bef4c24c/1352002236895/100_anniversary_titanic_sinking_by_esai8mellows-d4xbme8.jpg\"/>"
            ],
            "text/plain": [
              "<IPython.core.display.Image object>"
            ]
          },
          "metadata": {
            "tags": []
          },
          "execution_count": 60
        }
      ]
    },
    {
      "cell_type": "code",
      "metadata": {
        "id": "3Jz4AJaOwAEA",
        "colab_type": "code",
        "colab": {}
      },
      "source": [
        "import pandas as pd\n",
        "import numpy as np"
      ],
      "execution_count": null,
      "outputs": []
    },
    {
      "cell_type": "code",
      "metadata": {
        "id": "S17IpU-xwAEE",
        "colab_type": "code",
        "colab": {}
      },
      "source": [
        "train = pd.read_csv(\"titanic_train.csv\")\n",
        "test = pd.read_csv(\"titanic_test.csv\")"
      ],
      "execution_count": null,
      "outputs": []
    },
    {
      "cell_type": "code",
      "metadata": {
        "id": "Q1A0Ilm6wAEH",
        "colab_type": "code",
        "colab": {},
        "outputId": "534631a6-1272-4af9-c9c5-9fd753f1fc6b"
      },
      "source": [
        "train.head(10)"
      ],
      "execution_count": null,
      "outputs": [
        {
          "output_type": "execute_result",
          "data": {
            "text/html": [
              "<div>\n",
              "<style scoped>\n",
              "    .dataframe tbody tr th:only-of-type {\n",
              "        vertical-align: middle;\n",
              "    }\n",
              "\n",
              "    .dataframe tbody tr th {\n",
              "        vertical-align: top;\n",
              "    }\n",
              "\n",
              "    .dataframe thead th {\n",
              "        text-align: right;\n",
              "    }\n",
              "</style>\n",
              "<table border=\"1\" class=\"dataframe\">\n",
              "  <thead>\n",
              "    <tr style=\"text-align: right;\">\n",
              "      <th></th>\n",
              "      <th>PassengerId</th>\n",
              "      <th>Survived</th>\n",
              "      <th>Pclass</th>\n",
              "      <th>Name</th>\n",
              "      <th>Sex</th>\n",
              "      <th>Age</th>\n",
              "      <th>SibSp</th>\n",
              "      <th>Parch</th>\n",
              "      <th>Ticket</th>\n",
              "      <th>Fare</th>\n",
              "      <th>Cabin</th>\n",
              "      <th>Embarked</th>\n",
              "    </tr>\n",
              "  </thead>\n",
              "  <tbody>\n",
              "    <tr>\n",
              "      <th>0</th>\n",
              "      <td>1</td>\n",
              "      <td>0</td>\n",
              "      <td>3</td>\n",
              "      <td>Braund, Mr. Owen Harris</td>\n",
              "      <td>male</td>\n",
              "      <td>22.0</td>\n",
              "      <td>1</td>\n",
              "      <td>0</td>\n",
              "      <td>A/5 21171</td>\n",
              "      <td>7.2500</td>\n",
              "      <td>NaN</td>\n",
              "      <td>S</td>\n",
              "    </tr>\n",
              "    <tr>\n",
              "      <th>1</th>\n",
              "      <td>2</td>\n",
              "      <td>1</td>\n",
              "      <td>1</td>\n",
              "      <td>Cumings, Mrs. John Bradley (Florence Briggs Th...</td>\n",
              "      <td>female</td>\n",
              "      <td>38.0</td>\n",
              "      <td>1</td>\n",
              "      <td>0</td>\n",
              "      <td>PC 17599</td>\n",
              "      <td>71.2833</td>\n",
              "      <td>C85</td>\n",
              "      <td>C</td>\n",
              "    </tr>\n",
              "    <tr>\n",
              "      <th>2</th>\n",
              "      <td>3</td>\n",
              "      <td>1</td>\n",
              "      <td>3</td>\n",
              "      <td>Heikkinen, Miss. Laina</td>\n",
              "      <td>female</td>\n",
              "      <td>26.0</td>\n",
              "      <td>0</td>\n",
              "      <td>0</td>\n",
              "      <td>STON/O2. 3101282</td>\n",
              "      <td>7.9250</td>\n",
              "      <td>NaN</td>\n",
              "      <td>S</td>\n",
              "    </tr>\n",
              "    <tr>\n",
              "      <th>3</th>\n",
              "      <td>4</td>\n",
              "      <td>1</td>\n",
              "      <td>1</td>\n",
              "      <td>Futrelle, Mrs. Jacques Heath (Lily May Peel)</td>\n",
              "      <td>female</td>\n",
              "      <td>35.0</td>\n",
              "      <td>1</td>\n",
              "      <td>0</td>\n",
              "      <td>113803</td>\n",
              "      <td>53.1000</td>\n",
              "      <td>C123</td>\n",
              "      <td>S</td>\n",
              "    </tr>\n",
              "    <tr>\n",
              "      <th>4</th>\n",
              "      <td>5</td>\n",
              "      <td>0</td>\n",
              "      <td>3</td>\n",
              "      <td>Allen, Mr. William Henry</td>\n",
              "      <td>male</td>\n",
              "      <td>35.0</td>\n",
              "      <td>0</td>\n",
              "      <td>0</td>\n",
              "      <td>373450</td>\n",
              "      <td>8.0500</td>\n",
              "      <td>NaN</td>\n",
              "      <td>S</td>\n",
              "    </tr>\n",
              "    <tr>\n",
              "      <th>5</th>\n",
              "      <td>6</td>\n",
              "      <td>0</td>\n",
              "      <td>3</td>\n",
              "      <td>Moran, Mr. James</td>\n",
              "      <td>male</td>\n",
              "      <td>NaN</td>\n",
              "      <td>0</td>\n",
              "      <td>0</td>\n",
              "      <td>330877</td>\n",
              "      <td>8.4583</td>\n",
              "      <td>NaN</td>\n",
              "      <td>Q</td>\n",
              "    </tr>\n",
              "    <tr>\n",
              "      <th>6</th>\n",
              "      <td>7</td>\n",
              "      <td>0</td>\n",
              "      <td>1</td>\n",
              "      <td>McCarthy, Mr. Timothy J</td>\n",
              "      <td>male</td>\n",
              "      <td>54.0</td>\n",
              "      <td>0</td>\n",
              "      <td>0</td>\n",
              "      <td>17463</td>\n",
              "      <td>51.8625</td>\n",
              "      <td>E46</td>\n",
              "      <td>S</td>\n",
              "    </tr>\n",
              "    <tr>\n",
              "      <th>7</th>\n",
              "      <td>8</td>\n",
              "      <td>0</td>\n",
              "      <td>3</td>\n",
              "      <td>Palsson, Master. Gosta Leonard</td>\n",
              "      <td>male</td>\n",
              "      <td>2.0</td>\n",
              "      <td>3</td>\n",
              "      <td>1</td>\n",
              "      <td>349909</td>\n",
              "      <td>21.0750</td>\n",
              "      <td>NaN</td>\n",
              "      <td>S</td>\n",
              "    </tr>\n",
              "    <tr>\n",
              "      <th>8</th>\n",
              "      <td>9</td>\n",
              "      <td>1</td>\n",
              "      <td>3</td>\n",
              "      <td>Johnson, Mrs. Oscar W (Elisabeth Vilhelmina Berg)</td>\n",
              "      <td>female</td>\n",
              "      <td>27.0</td>\n",
              "      <td>0</td>\n",
              "      <td>2</td>\n",
              "      <td>347742</td>\n",
              "      <td>11.1333</td>\n",
              "      <td>NaN</td>\n",
              "      <td>S</td>\n",
              "    </tr>\n",
              "    <tr>\n",
              "      <th>9</th>\n",
              "      <td>10</td>\n",
              "      <td>1</td>\n",
              "      <td>2</td>\n",
              "      <td>Nasser, Mrs. Nicholas (Adele Achem)</td>\n",
              "      <td>female</td>\n",
              "      <td>14.0</td>\n",
              "      <td>1</td>\n",
              "      <td>0</td>\n",
              "      <td>237736</td>\n",
              "      <td>30.0708</td>\n",
              "      <td>NaN</td>\n",
              "      <td>C</td>\n",
              "    </tr>\n",
              "  </tbody>\n",
              "</table>\n",
              "</div>"
            ],
            "text/plain": [
              "   PassengerId  Survived  Pclass  \\\n",
              "0            1         0       3   \n",
              "1            2         1       1   \n",
              "2            3         1       3   \n",
              "3            4         1       1   \n",
              "4            5         0       3   \n",
              "5            6         0       3   \n",
              "6            7         0       1   \n",
              "7            8         0       3   \n",
              "8            9         1       3   \n",
              "9           10         1       2   \n",
              "\n",
              "                                                Name     Sex   Age  SibSp  \\\n",
              "0                            Braund, Mr. Owen Harris    male  22.0      1   \n",
              "1  Cumings, Mrs. John Bradley (Florence Briggs Th...  female  38.0      1   \n",
              "2                             Heikkinen, Miss. Laina  female  26.0      0   \n",
              "3       Futrelle, Mrs. Jacques Heath (Lily May Peel)  female  35.0      1   \n",
              "4                           Allen, Mr. William Henry    male  35.0      0   \n",
              "5                                   Moran, Mr. James    male   NaN      0   \n",
              "6                            McCarthy, Mr. Timothy J    male  54.0      0   \n",
              "7                     Palsson, Master. Gosta Leonard    male   2.0      3   \n",
              "8  Johnson, Mrs. Oscar W (Elisabeth Vilhelmina Berg)  female  27.0      0   \n",
              "9                Nasser, Mrs. Nicholas (Adele Achem)  female  14.0      1   \n",
              "\n",
              "   Parch            Ticket     Fare Cabin Embarked  \n",
              "0      0         A/5 21171   7.2500   NaN        S  \n",
              "1      0          PC 17599  71.2833   C85        C  \n",
              "2      0  STON/O2. 3101282   7.9250   NaN        S  \n",
              "3      0            113803  53.1000  C123        S  \n",
              "4      0            373450   8.0500   NaN        S  \n",
              "5      0            330877   8.4583   NaN        Q  \n",
              "6      0             17463  51.8625   E46        S  \n",
              "7      1            349909  21.0750   NaN        S  \n",
              "8      2            347742  11.1333   NaN        S  \n",
              "9      0            237736  30.0708   NaN        C  "
            ]
          },
          "metadata": {
            "tags": []
          },
          "execution_count": 63
        }
      ]
    },
    {
      "cell_type": "code",
      "metadata": {
        "id": "yzJxLsgjwAEL",
        "colab_type": "code",
        "colab": {},
        "outputId": "e15e8c8e-41ea-4064-c851-f21e4550cb00"
      },
      "source": [
        "train.isnull().sum()"
      ],
      "execution_count": null,
      "outputs": [
        {
          "output_type": "execute_result",
          "data": {
            "text/plain": [
              "PassengerId      0\n",
              "Survived         0\n",
              "Pclass           0\n",
              "Name             0\n",
              "Sex              0\n",
              "Age            177\n",
              "SibSp            0\n",
              "Parch            0\n",
              "Ticket           0\n",
              "Fare             0\n",
              "Cabin          687\n",
              "Embarked         2\n",
              "dtype: int64"
            ]
          },
          "metadata": {
            "tags": []
          },
          "execution_count": 64
        }
      ]
    },
    {
      "cell_type": "code",
      "metadata": {
        "id": "1vTznjCpwAEP",
        "colab_type": "code",
        "colab": {}
      },
      "source": [
        "train['Age'] = train['Age'].fillna( train['Age'].mean() )"
      ],
      "execution_count": null,
      "outputs": []
    },
    {
      "cell_type": "code",
      "metadata": {
        "id": "1SZhxyeWwAES",
        "colab_type": "code",
        "colab": {},
        "outputId": "078de1ee-076b-443e-c1f6-e499b1fa6c4d"
      },
      "source": [
        "train[['Age','Fare']].hist()"
      ],
      "execution_count": null,
      "outputs": [
        {
          "output_type": "execute_result",
          "data": {
            "text/plain": [
              "array([[<matplotlib.axes._subplots.AxesSubplot object at 0x1209a9320>,\n",
              "        <matplotlib.axes._subplots.AxesSubplot object at 0x120d3d128>]],\n",
              "      dtype=object)"
            ]
          },
          "metadata": {
            "tags": []
          },
          "execution_count": 66
        },
        {
          "output_type": "display_data",
          "data": {
            "image/png": "[encoded data removed]",
            "text/plain": [
              "<Figure size 432x288 with 2 Axes>"
            ]
          },
          "metadata": {
            "tags": []
          }
        }
      ]
    },
    {
      "cell_type": "code",
      "metadata": {
        "id": "b0JUz-M3wAEV",
        "colab_type": "code",
        "colab": {}
      },
      "source": [
        "%matplotlib inline\n",
        "import numpy as np\n",
        "import pandas as pd\n",
        "\n",
        "\n",
        "from scipy.stats import kurtosis\n",
        "\n",
        "'''\n",
        "Kurtosis is the fourth central moment divided by the square of the variance. \n",
        "If Fisher’s definition is used, then 3.0 is subtracted from the result \n",
        "to give 0.0 for a normal distribution.\n",
        "\n",
        "If bias is False then the kurtosis is calculated using k statistics \n",
        "to eliminate bias coming from biased moment estimators\n",
        "\n",
        "Use kurtosistest to see if result is close enough to normal.\n",
        "'''\n",
        "\n",
        "from scipy.stats import skew\n",
        "'''\n",
        "For normally distributed data, the skewness should be about 0. \n",
        "A skewness value > 0 means that there is more weight in the left \n",
        "tail of the distribution. The function skewtest can be used to determine \n",
        "if the skewness value is close enough to 0, statistically speaking.\n",
        "'''\n",
        "from scipy.stats import shapiro\n",
        "\n",
        "'''\n",
        "For normally distributed data, the skewness should be about 0. \n",
        "A skewness value > 0 means that there is more weight in the left \n",
        "tail of the distribution. The function skewtest can be used to determine \n",
        "if the skewness value is close enough to 0, statistically speaking.\n",
        "\n",
        "Returns:\n",
        "W : float - The test statistic.\n",
        "\n",
        "p-value : float - The p-value for the hypothesis test.\n",
        "\n",
        "a : array_like, optional - If reta is True, then these are the internally computed “a” values \n",
        "that may be passed into this function on future calls.\n",
        "'''\n",
        "\n",
        "\n",
        "\n",
        "from scipy.stats import normaltest\n",
        "'''\n",
        "Test whether a sample differs from a normal distribution.\n",
        "\n",
        "Returns:\n",
        "\n",
        "statistic float or array\n",
        "s^2 + k^2, where s is the z-score returned by skewtest and k is the z-score returned by kurtosistest.\n",
        "\n",
        "pvaluefloat or array\n",
        "A 2-sided chi squared probability for the hypothesis test.\n",
        "\n",
        "If the p-val is very small, it means it is unlikely that the data came from a normal distribution.\n",
        "'''\n",
        "\n",
        "import matplotlib.pyplot as plt\n",
        "\n",
        "\n",
        "x = np.random.normal(0, 2, 10000)   # create random values based on a normal distribution"
      ],
      "execution_count": null,
      "outputs": []
    },
    {
      "cell_type": "code",
      "metadata": {
        "id": "GEQE-nPQwAEY",
        "colab_type": "code",
        "colab": {}
      },
      "source": [
        "def analyze(data):\n",
        "    plt.style.use('ggplot')\n",
        "    np.var(data)\n",
        "    plt.hist(data, bins=60)\n",
        "    print(\"mean : \", np.mean(data))\n",
        "    print(\"var  : \", np.var(data))\n",
        "    print(\"skew : \", skew(data))\n",
        "    print(\"kurt : \", kurtosis(data))\n",
        "    print(\"shapiro : \", shapiro(data))\n",
        "    print(\"normaltest : \", normaltest(data))"
      ],
      "execution_count": null,
      "outputs": []
    },
    {
      "cell_type": "code",
      "metadata": {
        "id": "q86MVcOPwAEb",
        "colab_type": "code",
        "colab": {},
        "outputId": "bd89e05c-abbc-4b38-e213-c2699198d0c7"
      },
      "source": [
        "x = np.random.normal( 0 , 1 , 100000 )\n",
        "analyze(x)"
      ],
      "execution_count": null,
      "outputs": [
        {
          "output_type": "stream",
          "text": [
            "mean :  0.0027010740212660305\n",
            "var  :  0.9959113856353048\n",
            "skew :  0.011867082577602658\n",
            "kurt :  -0.008177835475299933\n",
            "shapiro :  (0.9999828934669495, 0.9655721783638)\n",
            "normaltest :  NormaltestResult(statistic=2.616140075667525, pvalue=0.2703413017152925)\n"
          ],
          "name": "stdout"
        },
        {
          "output_type": "stream",
          "text": [
            "/Library/Frameworks/Python.framework/Versions/3.7/lib/python3.7/site-packages/scipy/stats/morestats.py:1660: UserWarning: p-value may not be accurate for N > 5000.\n",
            "  warnings.warn(\"p-value may not be accurate for N > 5000.\")\n"
          ],
          "name": "stderr"
        },
        {
          "output_type": "display_data",
          "data": {
            "image/png": "[encoded data removed]",
            "text/plain": [
              "<Figure size 432x288 with 1 Axes>"
            ]
          },
          "metadata": {
            "tags": []
          }
        }
      ]
    },
    {
      "cell_type": "code",
      "metadata": {
        "id": "FhhmGHhRwAEe",
        "colab_type": "code",
        "colab": {},
        "outputId": "e963bb62-71b0-400a-9a7e-e841f7d7ad68"
      },
      "source": [
        "x = np.random.normal(0, 1, 1000000)\n",
        "analyze(x)"
      ],
      "execution_count": null,
      "outputs": [
        {
          "output_type": "stream",
          "text": [
            "mean :  -0.0008496024914271367\n",
            "var  :  0.9962281462014132\n",
            "skew :  0.00355041655996759\n",
            "kurt :  -0.002016612399016182\n"
          ],
          "name": "stdout"
        },
        {
          "output_type": "stream",
          "text": [
            "/Library/Frameworks/Python.framework/Versions/3.7/lib/python3.7/site-packages/scipy/stats/morestats.py:1660: UserWarning: p-value may not be accurate for N > 5000.\n",
            "  warnings.warn(\"p-value may not be accurate for N > 5000.\")\n"
          ],
          "name": "stderr"
        },
        {
          "output_type": "stream",
          "text": [
            "shapiro :  (1.0003881454467773, 1.0)\n",
            "normaltest :  NormaltestResult(statistic=2.267706189329253, pvalue=0.321790973559117)\n"
          ],
          "name": "stdout"
        },
        {
          "output_type": "display_data",
          "data": {
            "image/png": "[encoded data removed]",
            "text/plain": [
              "<Figure size 432x288 with 1 Axes>"
            ]
          },
          "metadata": {
            "tags": []
          }
        }
      ]
    },
    {
      "cell_type": "code",
      "metadata": {
        "id": "2urKjP0QwAEh",
        "colab_type": "code",
        "colab": {},
        "outputId": "31720ad7-679e-42af-909c-87a135e22fab"
      },
      "source": [
        "analyze(train['Age'])"
      ],
      "execution_count": null,
      "outputs": [
        {
          "output_type": "stream",
          "text": [
            "mean :  29.69911764705882\n",
            "var  :  168.86266660394793\n",
            "skew :  0.4337562902461274\n",
            "kurt :  0.9541389157820586\n",
            "shapiro :  (0.9588214159011841, 3.972714542180072e-15)\n",
            "normaltest :  NormaltestResult(statistic=43.858965850515766, pvalue=2.9932746976104566e-10)\n"
          ],
          "name": "stdout"
        },
        {
          "output_type": "display_data",
          "data": {
            "image/png": "[encoded data removed]",
            "text/plain": [
              "<Figure size 432x288 with 1 Axes>"
            ]
          },
          "metadata": {
            "tags": []
          }
        }
      ]
    },
    {
      "cell_type": "code",
      "metadata": {
        "id": "eGg55C3twAEl",
        "colab_type": "code",
        "colab": {},
        "outputId": "8b0d620b-cd72-4634-f113-04ffb1439af8"
      },
      "source": [
        "analyze(train['Fare'])"
      ],
      "execution_count": null,
      "outputs": [
        {
          "output_type": "stream",
          "text": [
            "mean :  32.204207968574636\n",
            "var  :  2466.665311685043\n",
            "skew :  4.7792532923723545\n",
            "kurt :  33.20428925264474\n",
            "shapiro :  (0.5218914747238159, 1.0789998175301091e-43)\n",
            "normaltest :  NormaltestResult(statistic=904.5872705326926, pvalue=3.727091062842147e-197)\n"
          ],
          "name": "stdout"
        },
        {
          "output_type": "display_data",
          "data": {
            "image/png": "[encoded data removed]",
            "text/plain": [
              "<Figure size 432x288 with 1 Axes>"
            ]
          },
          "metadata": {
            "tags": []
          }
        }
      ]
    },
    {
      "cell_type": "markdown",
      "metadata": {
        "id": "FD2HwhCwwAEo",
        "colab_type": "text"
      },
      "source": [
        "### Приводим признаки к нормальному закону распределения"
      ]
    },
    {
      "cell_type": "code",
      "metadata": {
        "id": "IcrPLdeAwAEq",
        "colab_type": "code",
        "colab": {}
      },
      "source": [
        "# Box-cox transformation\n",
        "from sklearn.preprocessing import PowerTransformer\n",
        "\n",
        "'''\n",
        "Apply a power transform featurewise to make data more Gaussian-like.\n",
        "\n",
        "Power transforms are a family of parametric, monotonic transformations \n",
        "that are applied to make data more Gaussian-like. This is useful for \n",
        "modeling issues related to heteroscedasticity (non-constant variance), \n",
        "or other situations where normality is desired.\n",
        "'''\n",
        "box_cox_transform = PowerTransformer(method='box-cox', standardize=False) # only works with strictly positive values\n",
        "yeo_johnson_transform = PowerTransformer(method='yeo-johnson', standardize=False) # works with positive and negative values\n",
        "\n",
        "train['Age_box_cox'] = box_cox_transform.fit_transform(train['Age'].values.reshape(train.shape[0],-1))\n",
        "train['Age_yeo_johnson'] = yeo_johnson_transform.fit_transform(train['Age'].values.reshape(train.shape[0],-1))\n",
        "train['Age_log'] = np.log(train['Age'].values.reshape(train.shape[0],-1))\n"
      ],
      "execution_count": null,
      "outputs": []
    },
    {
      "cell_type": "code",
      "metadata": {
        "id": "FkrDNGwIwAEs",
        "colab_type": "code",
        "colab": {},
        "outputId": "520b8f39-5553-4f96-ebc2-a8829c361190"
      },
      "source": [
        "analyze(train['Age_box_cox'])"
      ],
      "execution_count": null,
      "outputs": [
        {
          "output_type": "stream",
          "text": [
            "mean :  18.269383547373835\n",
            "var  :  52.67816131938318\n",
            "skew :  0.046770276586904164\n",
            "kurt :  0.8852700050785365\n",
            "shapiro :  (0.9627633690834045, 2.7295980620646414e-14)\n",
            "normaltest :  NormaltestResult(statistic=16.309835550311135, pvalue=0.0002873189097956654)\n"
          ],
          "name": "stdout"
        },
        {
          "output_type": "display_data",
          "data": {
            "image/png": "[encoded data removed]",
            "text/plain": [
              "<Figure size 432x288 with 1 Axes>"
            ]
          },
          "metadata": {
            "tags": []
          }
        }
      ]
    },
    {
      "cell_type": "code",
      "metadata": {
        "id": "HFlgS05awAEw",
        "colab_type": "code",
        "colab": {},
        "outputId": "e01d0541-a2a0-4ff8-d7b1-2b29ec06b287"
      },
      "source": [
        "analyze(train['Age_yeo_johnson'])"
      ],
      "execution_count": null,
      "outputs": [
        {
          "output_type": "stream",
          "text": [
            "mean :  18.682714496378292\n",
            "var  :  50.649874577494025\n",
            "skew :  0.06431197097259163\n",
            "kurt :  0.867926786622728\n",
            "shapiro :  (0.9630213975906372, 3.111563334464232e-14)\n",
            "normaltest :  NormaltestResult(statistic=16.164317217870682, pvalue=0.00030900329770613364)\n"
          ],
          "name": "stdout"
        },
        {
          "output_type": "display_data",
          "data": {
            "image/png": "[encoded data removed]",
            "text/plain": [
              "<Figure size 432x288 with 1 Axes>"
            ]
          },
          "metadata": {
            "tags": []
          }
        }
      ]
    },
    {
      "cell_type": "code",
      "metadata": {
        "id": "wF_ORghdwAE1",
        "colab_type": "code",
        "colab": {},
        "outputId": "0ee1beb6-20f2-4ea4-d656-5a70782b70dc"
      },
      "source": [
        "analyze(train['Age_log'])"
      ],
      "execution_count": null,
      "outputs": [
        {
          "output_type": "stream",
          "text": [
            "mean :  3.234606011918465\n",
            "var  :  0.49873134033089006\n",
            "skew :  -2.677849281210266\n",
            "kurt :  9.206259108329784\n",
            "shapiro :  (0.7292896509170532, 1.1566227303336713e-35)\n",
            "normaltest :  NormaltestResult(statistic=528.7154285120732, pvalue=1.5520419302017366e-115)\n"
          ],
          "name": "stdout"
        },
        {
          "output_type": "display_data",
          "data": {
            "image/png": "[encoded data removed]",
            "text/plain": [
              "<Figure size 432x288 with 1 Axes>"
            ]
          },
          "metadata": {
            "tags": []
          }
        }
      ]
    },
    {
      "cell_type": "code",
      "metadata": {
        "id": "BewdJZepwAE7",
        "colab_type": "code",
        "colab": {}
      },
      "source": [
        "#train['Fare_box_cox'] = box_cox_transform.fit_transform(train['Fare'].values.reshape(train.shape[0],-1))\n",
        "train['Fare_yeo_johnson'] = yeo_johnson_transform.fit_transform(train['Fare'].values.reshape(train.shape[0],-1))"
      ],
      "execution_count": null,
      "outputs": []
    },
    {
      "cell_type": "code",
      "metadata": {
        "id": "FEshmYk2wAE_",
        "colab_type": "code",
        "colab": {},
        "outputId": "369c3c6d-679f-4d3f-ee4f-88d1b88d919f"
      },
      "source": [
        "analyze(train['Fare_yeo_johnson'])"
      ],
      "execution_count": null,
      "outputs": [
        {
          "output_type": "stream",
          "text": [
            "mean :  2.5377994102267682\n",
            "var  :  0.5156583102651574\n",
            "skew :  -0.04026125673670591\n",
            "kurt :  1.5169655092544314\n",
            "shapiro :  (0.9120534658432007, 2.744576588670101e-22)\n",
            "normaltest :  NormaltestResult(statistic=32.64593731952731, pvalue=8.147507760164453e-08)\n"
          ],
          "name": "stdout"
        },
        {
          "output_type": "display_data",
          "data": {
            "image/png": "[encoded data removed]",
            "text/plain": [
              "<Figure size 432x288 with 1 Axes>"
            ]
          },
          "metadata": {
            "tags": []
          }
        }
      ]
    },
    {
      "cell_type": "markdown",
      "metadata": {
        "id": "Qz92ZuJpwAFC",
        "colab_type": "text"
      },
      "source": [
        "### Автоматические методы нормировки"
      ]
    },
    {
      "cell_type": "code",
      "metadata": {
        "id": "0Rcru6rWwAFD",
        "colab_type": "code",
        "colab": {},
        "outputId": "a409849a-0a8f-47c3-e189-e395d1d6e724"
      },
      "source": [
        "features_float = list(train.select_dtypes(include=['float']).columns)\n",
        "features_float"
      ],
      "execution_count": null,
      "outputs": [
        {
          "output_type": "execute_result",
          "data": {
            "text/plain": [
              "['Age',\n",
              " 'Fare',\n",
              " 'Age_box_cox',\n",
              " 'Age_yeo_johnson',\n",
              " 'Age_log',\n",
              " 'Fare_yeo_johnson']"
            ]
          },
          "metadata": {
            "tags": []
          },
          "execution_count": 80
        }
      ]
    },
    {
      "cell_type": "code",
      "metadata": {
        "id": "cCxMcpRTwAFN",
        "colab_type": "code",
        "colab": {}
      },
      "source": [
        "train_temp = train[features_float]\n",
        "#test_temp = ...."
      ],
      "execution_count": null,
      "outputs": []
    },
    {
      "cell_type": "code",
      "metadata": {
        "id": "ea-zO-6JwAFU",
        "colab_type": "code",
        "colab": {},
        "outputId": "49206a48-62fd-492d-b66b-d257d0056cce"
      },
      "source": [
        "from sklearn.preprocessing import StandardScaler # MinMaxScaler RobustScaler\n",
        "scaler = StandardScaler()\n",
        "scaler.fit(train_temp)"
      ],
      "execution_count": null,
      "outputs": [
        {
          "output_type": "execute_result",
          "data": {
            "text/plain": [
              "StandardScaler(copy=True, with_mean=True, with_std=True)"
            ]
          },
          "metadata": {
            "tags": []
          },
          "execution_count": 82
        }
      ]
    },
    {
      "cell_type": "code",
      "metadata": {
        "id": "wiIdH6umwAFX",
        "colab_type": "code",
        "colab": {}
      },
      "source": [
        "train_temp_prep = scaler.transform(train_temp)\n",
        "#test_temp_prep = scaler.transform(test_temp)"
      ],
      "execution_count": null,
      "outputs": []
    },
    {
      "cell_type": "code",
      "metadata": {
        "id": "sX1JpO6RwAFa",
        "colab_type": "code",
        "colab": {},
        "outputId": "f6fa49f5-5263-47c8-d7bf-d97d60faee5f"
      },
      "source": [
        "train_temp_prep"
      ],
      "execution_count": null,
      "outputs": [
        {
          "output_type": "execute_result",
          "data": {
            "text/plain": [
              "array([[-0.5924806 , -0.50244517, -0.55355979, -0.55626693, -0.2032876 ,\n",
              "        -0.87882001],\n",
              "       [ 0.63878901,  0.78684529,  0.65683152,  0.65726854,  0.57062438,\n",
              "         1.33665056],\n",
              "       [-0.2846632 , -0.48885426, -0.23948926, -0.24157742,  0.03326285,\n",
              "        -0.79006485],\n",
              "       ...,\n",
              "       [ 0.        , -0.17626324,  0.04338299,  0.04200106,  0.22162178,\n",
              "         0.28888536],\n",
              "       [-0.2846632 , -0.04438104, -0.23948926, -0.24157742,  0.03326285,\n",
              "         0.52790578],\n",
              "       [ 0.17706291, -0.49237783,  0.21615602,  0.21525442,  0.3272825 ,\n",
              "        -0.81234947]])"
            ]
          },
          "metadata": {
            "tags": []
          },
          "execution_count": 86
        }
      ]
    }
  ]
}