{
  "nbformat": 4,
  "nbformat_minor": 0,
  "metadata": {
    "kernelspec": {
      "display_name": "Python 3",
      "language": "python",
      "name": "python3"
    },
    "language_info": {
      "codemirror_mode": {
        "name": "ipython",
        "version": 3
      },
      "file_extension": ".py",
      "mimetype": "text/x-python",
      "name": "python",
      "nbconvert_exporter": "python",
      "pygments_lexer": "ipython3",
      "version": "3.7.3"
    },
    "colab": {
      "name": "Clasterization.ipynb",
      "provenance": []
    }
  },
  "cells": [
    {
      "cell_type": "code",
      "metadata": {
        "id": "vMO3KA_fxfFo",
        "colab_type": "code",
        "colab": {}
      },
      "source": [
        "from sklearn import metrics\n",
        "from sklearn import datasets\n",
        "import pandas as pd\n",
        "import scipy\n",
        "from sklearn.cluster import KMeans, AgglomerativeClustering, AffinityPropagation, SpectralClustering"
      ],
      "execution_count": 1,
      "outputs": []
    },
    {
      "cell_type": "code",
      "metadata": {
        "id": "iH8xgFA1xfFz",
        "colab_type": "code",
        "colab": {}
      },
      "source": [
        "data = datasets.load_digits()\n",
        "X, y = data.data, data.target"
      ],
      "execution_count": 2,
      "outputs": []
    },
    {
      "cell_type": "code",
      "metadata": {
        "id": "9HygGu3AxsMG",
        "colab_type": "code",
        "colab": {
          "base_uri": "https://localhost:8080/",
          "height": 136
        },
        "outputId": "60ba7be5-6216-4133-e624-ab8777af88ec"
      },
      "source": [
        "X"
      ],
      "execution_count": 3,
      "outputs": [
        {
          "output_type": "execute_result",
          "data": {
            "text/plain": [
              "array([[ 0.,  0.,  5., ...,  0.,  0.,  0.],\n",
              "       [ 0.,  0.,  0., ..., 10.,  0.,  0.],\n",
              "       [ 0.,  0.,  0., ..., 16.,  9.,  0.],\n",
              "       ...,\n",
              "       [ 0.,  0.,  1., ...,  6.,  0.,  0.],\n",
              "       [ 0.,  0.,  2., ..., 12.,  0.,  0.],\n",
              "       [ 0.,  0., 10., ..., 12.,  1.,  0.]])"
            ]
          },
          "metadata": {
            "tags": []
          },
          "execution_count": 3
        }
      ]
    },
    {
      "cell_type": "code",
      "metadata": {
        "id": "5d1mImlMxu65",
        "colab_type": "code",
        "colab": {
          "base_uri": "https://localhost:8080/",
          "height": 34
        },
        "outputId": "ebfb2a0e-7ab7-4bd0-9913-823fa15a79ff"
      },
      "source": [
        "y"
      ],
      "execution_count": 4,
      "outputs": [
        {
          "output_type": "execute_result",
          "data": {
            "text/plain": [
              "array([0, 1, 2, ..., 8, 9, 8])"
            ]
          },
          "metadata": {
            "tags": []
          },
          "execution_count": 4
        }
      ]
    },
    {
      "cell_type": "code",
      "metadata": {
        "id": "KOA30X70xfF3",
        "colab_type": "code",
        "colab": {}
      },
      "source": [
        "algorithms = []\n",
        "\n",
        "algorithms.append(KMeans(n_clusters=10, random_state=1))\n",
        "algorithms.append(AffinityPropagation())\n",
        "algorithms.append(SpectralClustering(n_clusters=10, random_state=1,\n",
        "                                     affinity='nearest_neighbors'))\n",
        "algorithms.append(AgglomerativeClustering(n_clusters=10))"
      ],
      "execution_count": 5,
      "outputs": []
    },
    {
      "cell_type": "code",
      "metadata": {
        "id": "0wwwnfYNxfF6",
        "colab_type": "code",
        "colab": {
          "base_uri": "https://localhost:8080/",
          "height": 173
        },
        "outputId": "8296c218-3f73-439e-dcc9-57241bc2c1b2"
      },
      "source": [
        "data = []\n",
        "for algo in algorithms:\n",
        "    algo.fit(X)\n",
        "    data.append(({\n",
        "        'ARI': metrics.adjusted_rand_score(y, algo.labels_),\n",
        "        'AMI': metrics.adjusted_mutual_info_score(y, algo.labels_),\n",
        "        'Homogenity': metrics.homogeneity_score(y, algo.labels_),\n",
        "        'Completeness': metrics.completeness_score(y, algo.labels_),\n",
        "        'V-measure': metrics.v_measure_score(y, algo.labels_),\n",
        "        \n",
        "        'Silhouette': metrics.silhouette_score(X, algo.labels_)}))\n",
        "\n",
        "results = pd.DataFrame(data=data, columns=['ARI', 'AMI', 'Homogenity',\n",
        "                                           'Completeness', 'V-measure', \n",
        "                                           'Silhouette'],\n",
        "                       index=['K-means', 'Affinity', \n",
        "                              'Spectral', 'Agglomerative'])\n",
        "\n",
        "results"
      ],
      "execution_count": 6,
      "outputs": [
        {
          "output_type": "execute_result",
          "data": {
            "text/html": [
              "<div>\n",
              "<style scoped>\n",
              "    .dataframe tbody tr th:only-of-type {\n",
              "        vertical-align: middle;\n",
              "    }\n",
              "\n",
              "    .dataframe tbody tr th {\n",
              "        vertical-align: top;\n",
              "    }\n",
              "\n",
              "    .dataframe thead th {\n",
              "        text-align: right;\n",
              "    }\n",
              "</style>\n",
              "<table border=\"1\" class=\"dataframe\">\n",
              "  <thead>\n",
              "    <tr style=\"text-align: right;\">\n",
              "      <th></th>\n",
              "      <th>ARI</th>\n",
              "      <th>AMI</th>\n",
              "      <th>Homogenity</th>\n",
              "      <th>Completeness</th>\n",
              "      <th>V-measure</th>\n",
              "      <th>Silhouette</th>\n",
              "    </tr>\n",
              "  </thead>\n",
              "  <tbody>\n",
              "    <tr>\n",
              "      <th>K-means</th>\n",
              "      <td>0.668587</td>\n",
              "      <td>0.741156</td>\n",
              "      <td>0.739464</td>\n",
              "      <td>0.748061</td>\n",
              "      <td>0.743737</td>\n",
              "      <td>0.182524</td>\n",
              "    </tr>\n",
              "    <tr>\n",
              "      <th>Affinity</th>\n",
              "      <td>0.175174</td>\n",
              "      <td>0.612460</td>\n",
              "      <td>0.958907</td>\n",
              "      <td>0.486901</td>\n",
              "      <td>0.645857</td>\n",
              "      <td>0.115197</td>\n",
              "    </tr>\n",
              "    <tr>\n",
              "      <th>Spectral</th>\n",
              "      <td>0.756461</td>\n",
              "      <td>0.852040</td>\n",
              "      <td>0.831691</td>\n",
              "      <td>0.876614</td>\n",
              "      <td>0.853562</td>\n",
              "      <td>0.182729</td>\n",
              "    </tr>\n",
              "    <tr>\n",
              "      <th>Agglomerative</th>\n",
              "      <td>0.794003</td>\n",
              "      <td>0.866832</td>\n",
              "      <td>0.857513</td>\n",
              "      <td>0.879096</td>\n",
              "      <td>0.868170</td>\n",
              "      <td>0.178497</td>\n",
              "    </tr>\n",
              "  </tbody>\n",
              "</table>\n",
              "</div>"
            ],
            "text/plain": [
              "                    ARI       AMI  ...  V-measure  Silhouette\n",
              "K-means        0.668587  0.741156  ...   0.743737    0.182524\n",
              "Affinity       0.175174  0.612460  ...   0.645857    0.115197\n",
              "Spectral       0.756461  0.852040  ...   0.853562    0.182729\n",
              "Agglomerative  0.794003  0.866832  ...   0.868170    0.178497\n",
              "\n",
              "[4 rows x 6 columns]"
            ]
          },
          "metadata": {
            "tags": []
          },
          "execution_count": 6
        }
      ]
    }
  ]
}