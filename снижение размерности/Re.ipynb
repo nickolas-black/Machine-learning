{
  "nbformat": 4,
  "nbformat_minor": 0,
  "metadata": {
    "colab": {
      "name": "Re.ipynb",
      "provenance": []
    },
    "kernelspec": {
      "name": "python3",
      "display_name": "Python 3"
    }
  },
  "cells": [
    {
      "cell_type": "code",
      "metadata": {
        "id": "PB-lEKlmWc17",
        "colab_type": "code",
        "colab": {}
      },
      "source": [
        "import re"
      ],
      "execution_count": 1,
      "outputs": []
    },
    {
      "cell_type": "code",
      "metadata": {
        "id": "ruSZz_XzWp6j",
        "colab_type": "code",
        "colab": {
          "base_uri": "https://localhost:8080/",
          "height": 71
        },
        "outputId": "ce80c3e6-80ce-4189-e71c-e4ce62e83171"
      },
      "source": [
        "text = \"100 ИНФ 8(903)6174741 Информатика abc@mail +7(903)6174731 213 МАТ abc@.mail.ru 1.1.91 89036174739 1.1.1991 Математика 1.11.1991 +79036174740 cnn@gmail.com 21.01.1991 156 АНГ  Английский 89036174738 nn@gmail.com\"\n",
        "print(type(text))\n",
        "print(text)"
      ],
      "execution_count": 2,
      "outputs": [
        {
          "output_type": "stream",
          "text": [
            "<class 'str'>\n",
            "100 ИНФ 8(903)6174741 Информатика abc@mail +7(903)6174731 213 МАТ abc@.mail.ru 1.1.91 89036174739 1.1.1991 Математика 1.11.1991 +79036174740 cnn@gmail.com 21.01.1991 156 АНГ  Английский 89036174738 nn@gmail.com\n"
          ],
          "name": "stdout"
        }
      ]
    },
    {
      "cell_type": "code",
      "metadata": {
        "id": "xgtXj6Yloo5Y",
        "colab_type": "code",
        "colab": {
          "base_uri": "https://localhost:8080/",
          "height": 391
        },
        "outputId": "882f0381-e728-4d22-9b45-048aaf758a73"
      },
      "source": [
        "text.split()"
      ],
      "execution_count": 3,
      "outputs": [
        {
          "output_type": "execute_result",
          "data": {
            "text/plain": [
              "['100',\n",
              " 'ИНФ',\n",
              " '8(903)6174741',\n",
              " 'Информатика',\n",
              " 'abc@mail',\n",
              " '+7(903)6174731',\n",
              " '213',\n",
              " 'МАТ',\n",
              " 'abc@.mail.ru',\n",
              " '1.1.91',\n",
              " '89036174739',\n",
              " '1.1.1991',\n",
              " 'Математика',\n",
              " '1.11.1991',\n",
              " '+79036174740',\n",
              " 'cnn@gmail.com',\n",
              " '21.01.1991',\n",
              " '156',\n",
              " 'АНГ',\n",
              " 'Английский',\n",
              " '89036174738',\n",
              " 'nn@gmail.com']"
            ]
          },
          "metadata": {
            "tags": []
          },
          "execution_count": 3
        }
      ]
    },
    {
      "cell_type": "code",
      "metadata": {
        "id": "Cuk882CpW8pZ",
        "colab_type": "code",
        "colab": {
          "base_uri": "https://localhost:8080/",
          "height": 391
        },
        "outputId": "1e5871b1-5f87-47ab-93e8-e71f520c9d5c"
      },
      "source": [
        "# Разделит текст по 1 или более пробелами  \n",
        "re.split('\\s+', text)  \n",
        "# или"
      ],
      "execution_count": 4,
      "outputs": [
        {
          "output_type": "execute_result",
          "data": {
            "text/plain": [
              "['100',\n",
              " 'ИНФ',\n",
              " '8(903)6174741',\n",
              " 'Информатика',\n",
              " 'abc@mail',\n",
              " '+7(903)6174731',\n",
              " '213',\n",
              " 'МАТ',\n",
              " 'abc@.mail.ru',\n",
              " '1.1.91',\n",
              " '89036174739',\n",
              " '1.1.1991',\n",
              " 'Математика',\n",
              " '1.11.1991',\n",
              " '+79036174740',\n",
              " 'cnn@gmail.com',\n",
              " '21.01.1991',\n",
              " '156',\n",
              " 'АНГ',\n",
              " 'Английский',\n",
              " '89036174738',\n",
              " 'nn@gmail.com']"
            ]
          },
          "metadata": {
            "tags": []
          },
          "execution_count": 4
        }
      ]
    },
    {
      "cell_type": "code",
      "metadata": {
        "id": "UEqEzfBfo_3M",
        "colab_type": "code",
        "colab": {
          "base_uri": "https://localhost:8080/",
          "height": 391
        },
        "outputId": "4a1dd7ff-cdf5-4470-e9c3-d0a230cb4226"
      },
      "source": [
        "regex = re.compile('\\s+') # \\s соответствует любому символу пробела\n",
        "regex.split(text)"
      ],
      "execution_count": 5,
      "outputs": [
        {
          "output_type": "execute_result",
          "data": {
            "text/plain": [
              "['100',\n",
              " 'ИНФ',\n",
              " '8(903)6174741',\n",
              " 'Информатика',\n",
              " 'abc@mail',\n",
              " '+7(903)6174731',\n",
              " '213',\n",
              " 'МАТ',\n",
              " 'abc@.mail.ru',\n",
              " '1.1.91',\n",
              " '89036174739',\n",
              " '1.1.1991',\n",
              " 'Математика',\n",
              " '1.11.1991',\n",
              " '+79036174740',\n",
              " 'cnn@gmail.com',\n",
              " '21.01.1991',\n",
              " '156',\n",
              " 'АНГ',\n",
              " 'Английский',\n",
              " '89036174738',\n",
              " 'nn@gmail.com']"
            ]
          },
          "metadata": {
            "tags": []
          },
          "execution_count": 5
        }
      ]
    },
    {
      "cell_type": "code",
      "metadata": {
        "id": "EM0MyLtUUnxj",
        "colab_type": "code",
        "colab": {
          "base_uri": "https://localhost:8080/",
          "height": 442
        },
        "outputId": "7838a7e0-75cb-47b4-cdfe-bab0fa807ef0"
      },
      "source": [
        "regex = re.compile('\\d+') # \\d соответствует цифре\n",
        "regex.split(text)"
      ],
      "execution_count": 6,
      "outputs": [
        {
          "output_type": "execute_result",
          "data": {
            "text/plain": [
              "['',\n",
              " ' ИНФ ',\n",
              " '(',\n",
              " ')',\n",
              " ' Информатика abc@mail +',\n",
              " '(',\n",
              " ')',\n",
              " ' ',\n",
              " ' МАТ abc@.mail.ru ',\n",
              " '.',\n",
              " '.',\n",
              " ' ',\n",
              " ' ',\n",
              " '.',\n",
              " '.',\n",
              " ' Математика ',\n",
              " '.',\n",
              " '.',\n",
              " ' +',\n",
              " ' cnn@gmail.com ',\n",
              " '.',\n",
              " '.',\n",
              " ' ',\n",
              " ' АНГ  Английский ',\n",
              " ' nn@gmail.com']"
            ]
          },
          "metadata": {
            "tags": []
          },
          "execution_count": 6
        }
      ]
    },
    {
      "cell_type": "markdown",
      "metadata": {
        "id": "fApp-SaI5pqI",
        "colab_type": "text"
      },
      "source": [
        " **SEARCH and FINDALL and FINDITER**  "
      ]
    },
    {
      "cell_type": "code",
      "metadata": {
        "id": "5pL0sqcG4Vmk",
        "colab_type": "code",
        "colab": {
          "base_uri": "https://localhost:8080/",
          "height": 34
        },
        "outputId": "4b854b0b-78a0-4582-f579-f3aa66473113"
      },
      "source": [
        "re.search(r'\\d{11}', text) # находит первый объект"
      ],
      "execution_count": 7,
      "outputs": [
        {
          "output_type": "execute_result",
          "data": {
            "text/plain": [
              "<_sre.SRE_Match object; span=(86, 97), match='89036174739'>"
            ]
          },
          "metadata": {
            "tags": []
          },
          "execution_count": 7
        }
      ]
    },
    {
      "cell_type": "code",
      "metadata": {
        "id": "lDDdTjEGV3ep",
        "colab_type": "code",
        "colab": {
          "base_uri": "https://localhost:8080/",
          "height": 34
        },
        "outputId": "5ae0548d-ed9f-4f43-a16f-08c950a0db48"
      },
      "source": [
        "print(re.search(r'\\d{12}', text))"
      ],
      "execution_count": 8,
      "outputs": [
        {
          "output_type": "stream",
          "text": [
            "None\n"
          ],
          "name": "stdout"
        }
      ]
    },
    {
      "cell_type": "code",
      "metadata": {
        "id": "VMzz0ZHU9HRd",
        "colab_type": "code",
        "colab": {
          "base_uri": "https://localhost:8080/",
          "height": 68
        },
        "outputId": "f434ea98-1883-40b5-b8f2-2b4703325243"
      },
      "source": [
        " # скомпилируйте regex и найдите шаблоны\n",
        "regex_num = re.compile('\\d{11}')\n",
        "\n",
        "s = regex_num.search(text)  \n",
        "print('Первый индекс: ', s.start())  \n",
        "print('Последний индекс: ', s.end())  \n",
        "print(text[s.start():s.end()])"
      ],
      "execution_count": 9,
      "outputs": [
        {
          "output_type": "stream",
          "text": [
            "Первый индекс:  86\n",
            "Последний индекс:  97\n",
            "89036174739\n"
          ],
          "name": "stdout"
        }
      ]
    },
    {
      "cell_type": "code",
      "metadata": {
        "id": "qbzL9zBeqgga",
        "colab_type": "code",
        "colab": {
          "base_uri": "https://localhost:8080/",
          "height": 68
        },
        "outputId": "8ffd4924-adb2-430f-ce8f-513c88bb3841"
      },
      "source": [
        "for m in re.finditer('\\d{11}', text): \n",
        "    print('Номер', m[0], 'начинается с позиции', m.start())"
      ],
      "execution_count": 10,
      "outputs": [
        {
          "output_type": "stream",
          "text": [
            "Номер 89036174739 начинается с позиции 86\n",
            "Номер 79036174740 начинается с позиции 129\n",
            "Номер 89036174738 начинается с позиции 186\n"
          ],
          "name": "stdout"
        }
      ]
    },
    {
      "cell_type": "code",
      "metadata": {
        "id": "odUzlT3HM4Dh",
        "colab_type": "code",
        "colab": {
          "base_uri": "https://localhost:8080/",
          "height": 34
        },
        "outputId": "3e123d85-f08a-417d-a962-f1b8761da945"
      },
      "source": [
        "type(re.finditer('\\d{11}', text))"
      ],
      "execution_count": 11,
      "outputs": [
        {
          "output_type": "execute_result",
          "data": {
            "text/plain": [
              "callable_iterator"
            ]
          },
          "metadata": {
            "tags": []
          },
          "execution_count": 11
        }
      ]
    },
    {
      "cell_type": "code",
      "metadata": {
        "id": "43e7ViA2YDa-",
        "colab_type": "code",
        "colab": {
          "base_uri": "https://localhost:8080/",
          "height": 34
        },
        "outputId": "622638b6-d2a1-4bf2-a8f3-68596f3f154b"
      },
      "source": [
        "#findall \n",
        "regex_num.findall(text)"
      ],
      "execution_count": 12,
      "outputs": [
        {
          "output_type": "execute_result",
          "data": {
            "text/plain": [
              "['89036174739', '79036174740', '89036174738']"
            ]
          },
          "metadata": {
            "tags": []
          },
          "execution_count": 12
        }
      ]
    },
    {
      "cell_type": "markdown",
      "metadata": {
        "id": "b2-ZIt5IYhMM",
        "colab_type": "text"
      },
      "source": [
        "Шаблон для выделения даты"
      ]
    },
    {
      "cell_type": "code",
      "metadata": {
        "id": "kqoxcTaGYnMm",
        "colab_type": "code",
        "colab": {
          "base_uri": "https://localhost:8080/",
          "height": 34
        },
        "outputId": "5adbf043-5e8b-49d9-8e72-5c25e385dfe3"
      },
      "source": [
        "text = \"100 01/21/1991 ИНФ 21.123757 8(903)6174741 Информатика abc@mail +7(903)6174731 213 МАТ abc@.mail.ru 1.1.91 89036174739 1.1.1991 Математика 1.11.1991 +79036174740 cnn@gmail.com 21.01.1991 156 АНГ  Английский 89036174738 nn@gmail.com\"\n",
        "re.findall(r'\\d{1,2}[./]\\d{1,2}[./]\\d{2,4}', text) # \\d - цифра . - любой символ"
      ],
      "execution_count": 13,
      "outputs": [
        {
          "output_type": "execute_result",
          "data": {
            "text/plain": [
              "['01/21/1991', '1.1.91', '1.1.1991', '1.11.1991', '21.01.1991']"
            ]
          },
          "metadata": {
            "tags": []
          },
          "execution_count": 13
        }
      ]
    },
    {
      "cell_type": "code",
      "metadata": {
        "id": "YDOCOkEqakIQ",
        "colab_type": "code",
        "colab": {
          "base_uri": "https://localhost:8080/",
          "height": 34
        },
        "outputId": "fd27f815-ecce-4f69-9257-28175e25f36c"
      },
      "source": [
        "re.findall(r'\\d{1,2}\\D\\d{1,2}\\D\\d{4}', text) # \\D - любой символ, кроме цифры"
      ],
      "execution_count": 14,
      "outputs": [
        {
          "output_type": "execute_result",
          "data": {
            "text/plain": [
              "['01/21/1991', '1.91 8903', '1.1.1991', '1.11.1991', '21.01.1991']"
            ]
          },
          "metadata": {
            "tags": []
          },
          "execution_count": 14
        }
      ]
    },
    {
      "cell_type": "code",
      "metadata": {
        "id": "mEdZURGKtFXm",
        "colab_type": "code",
        "colab": {
          "base_uri": "https://localhost:8080/",
          "height": 85
        },
        "outputId": "bd2a5904-3023-4cb2-c797-04bc2dd8de21"
      },
      "source": [
        "for m in re.finditer(r'\\d{1,2}[.]\\d{1,2}[.]\\d{2,4}', text): \n",
        "    print('Номер', m[0], 'начинается с позиции', m.start(), type(m), m)"
      ],
      "execution_count": 15,
      "outputs": [
        {
          "output_type": "stream",
          "text": [
            "Номер 1.1.91 начинается с позиции 100 <class '_sre.SRE_Match'> <_sre.SRE_Match object; span=(100, 106), match='1.1.91'>\n",
            "Номер 1.1.1991 начинается с позиции 119 <class '_sre.SRE_Match'> <_sre.SRE_Match object; span=(119, 127), match='1.1.1991'>\n",
            "Номер 1.11.1991 начинается с позиции 139 <class '_sre.SRE_Match'> <_sre.SRE_Match object; span=(139, 148), match='1.11.1991'>\n",
            "Номер 21.01.1991 начинается с позиции 176 <class '_sre.SRE_Match'> <_sre.SRE_Match object; span=(176, 186), match='21.01.1991'>\n"
          ],
          "name": "stdout"
        }
      ]
    },
    {
      "cell_type": "markdown",
      "metadata": {
        "id": "XNHIRRpma-F4",
        "colab_type": "text"
      },
      "source": [
        "Шаблон для выделения номера телефона"
      ]
    },
    {
      "cell_type": "code",
      "metadata": {
        "id": "SAXyqsKjtdO2",
        "colab_type": "code",
        "colab": {
          "base_uri": "https://localhost:8080/",
          "height": 54
        },
        "outputId": "c5eb2ad0-c3f1-42e6-f601-c6d1b2bf2089"
      },
      "source": [
        "print(text)"
      ],
      "execution_count": 16,
      "outputs": [
        {
          "output_type": "stream",
          "text": [
            "100 01/21/1991 ИНФ 21.123757 8(903)6174741 Информатика abc@mail +7(903)6174731 213 МАТ abc@.mail.ru 1.1.91 89036174739 1.1.1991 Математика 1.11.1991 +79036174740 cnn@gmail.com 21.01.1991 156 АНГ  Английский 89036174738 nn@gmail.com\n"
          ],
          "name": "stdout"
        }
      ]
    },
    {
      "cell_type": "code",
      "metadata": {
        "id": "ilP-8U1ka8-L",
        "colab_type": "code",
        "colab": {
          "base_uri": "https://localhost:8080/",
          "height": 34
        },
        "outputId": "56131f67-cfe5-4909-cc5d-22abb3acff90"
      },
      "source": [
        "re.findall(r'\\d{11}', text) # находит первый объект"
      ],
      "execution_count": 17,
      "outputs": [
        {
          "output_type": "execute_result",
          "data": {
            "text/plain": [
              "['89036174739', '79036174740', '89036174738']"
            ]
          },
          "metadata": {
            "tags": []
          },
          "execution_count": 17
        }
      ]
    },
    {
      "cell_type": "code",
      "metadata": {
        "id": "qJ6o1UUYct-N",
        "colab_type": "code",
        "colab": {
          "base_uri": "https://localhost:8080/",
          "height": 34
        },
        "outputId": "3d9fa172-59b9-49c6-b3fe-6101fdf9fcbd"
      },
      "source": [
        "re.findall(r'\\S{1,2}\\d{10}', text) # \\s - любой пробельный символ, \\S - любой непробельный символ"
      ],
      "execution_count": 18,
      "outputs": [
        {
          "output_type": "execute_result",
          "data": {
            "text/plain": [
              "['89036174739', '+79036174740', '89036174738']"
            ]
          },
          "metadata": {
            "tags": []
          },
          "execution_count": 18
        }
      ]
    },
    {
      "cell_type": "code",
      "metadata": {
        "id": "gP3i33x8d6yA",
        "colab_type": "code",
        "colab": {
          "base_uri": "https://localhost:8080/",
          "height": 102
        },
        "outputId": "813a0f6f-a4ef-4cb4-c82f-945b96213e52"
      },
      "source": [
        "re.findall(r'\\S{1,3}\\d{3}\\S?\\d{7}', text) # ? - символ может быть, а может и нет"
      ],
      "execution_count": 19,
      "outputs": [
        {
          "output_type": "execute_result",
          "data": {
            "text/plain": [
              "['8(903)6174741',\n",
              " '+7(903)6174731',\n",
              " '89036174739',\n",
              " '+79036174740',\n",
              " '89036174738']"
            ]
          },
          "metadata": {
            "tags": []
          },
          "execution_count": 19
        }
      ]
    },
    {
      "cell_type": "code",
      "metadata": {
        "id": "psE6clVVsbP9",
        "colab_type": "code",
        "colab": {
          "base_uri": "https://localhost:8080/",
          "height": 102
        },
        "outputId": "3d6ef9b8-319a-49c4-f33f-c7d048d78f30"
      },
      "source": [
        "for m in re.finditer(r'\\S{1,3}\\d{3}\\S{0,1}\\d{7}', text): \n",
        "    print('Номер', m[0], 'начинается с позиции', m.start())"
      ],
      "execution_count": 20,
      "outputs": [
        {
          "output_type": "stream",
          "text": [
            "Номер 8(903)6174741 начинается с позиции 29\n",
            "Номер +7(903)6174731 начинается с позиции 64\n",
            "Номер 89036174739 начинается с позиции 107\n",
            "Номер +79036174740 начинается с позиции 149\n",
            "Номер 89036174738 начинается с позиции 207\n"
          ],
          "name": "stdout"
        }
      ]
    },
    {
      "cell_type": "markdown",
      "metadata": {
        "id": "9zkawfcKf1yK",
        "colab_type": "text"
      },
      "source": [
        "Шаблон для выделения email"
      ]
    },
    {
      "cell_type": "code",
      "metadata": {
        "id": "SCaXZ7vUtgdY",
        "colab_type": "code",
        "colab": {
          "base_uri": "https://localhost:8080/",
          "height": 54
        },
        "outputId": "517a9579-fdec-4925-d7ed-c617c1188456"
      },
      "source": [
        "print(text)"
      ],
      "execution_count": 21,
      "outputs": [
        {
          "output_type": "stream",
          "text": [
            "100 01/21/1991 ИНФ 21.123757 8(903)6174741 Информатика abc@mail +7(903)6174731 213 МАТ abc@.mail.ru 1.1.91 89036174739 1.1.1991 Математика 1.11.1991 +79036174740 cnn@gmail.com 21.01.1991 156 АНГ  Английский 89036174738 nn@gmail.com\n"
          ],
          "name": "stdout"
        }
      ]
    },
    {
      "cell_type": "code",
      "metadata": {
        "id": "OqS7bbUpf53q",
        "colab_type": "code",
        "colab": {
          "base_uri": "https://localhost:8080/",
          "height": 34
        },
        "outputId": "e636d1fe-d884-48c1-df29-95e2a6e11a6b"
      },
      "source": [
        "re.findall(r'\\S+[@]\\S+', text) "
      ],
      "execution_count": 22,
      "outputs": [
        {
          "output_type": "execute_result",
          "data": {
            "text/plain": [
              "['abc@mail', 'abc@.mail.ru', 'cnn@gmail.com', 'nn@gmail.com']"
            ]
          },
          "metadata": {
            "tags": []
          },
          "execution_count": 22
        }
      ]
    },
    {
      "cell_type": "code",
      "metadata": {
        "id": "-DS6fQL1hGJY",
        "colab_type": "code",
        "colab": {
          "base_uri": "https://localhost:8080/",
          "height": 34
        },
        "outputId": "a8de80ab-d16f-491f-cd35-74b126e76618"
      },
      "source": [
        "re.findall(r'\\b\\S+@[a-zA-Z]\\S+', text) # \\b - граница слова"
      ],
      "execution_count": 23,
      "outputs": [
        {
          "output_type": "execute_result",
          "data": {
            "text/plain": [
              "['abc@mail', 'cnn@gmail.com', 'nn@gmail.com']"
            ]
          },
          "metadata": {
            "tags": []
          },
          "execution_count": 23
        }
      ]
    },
    {
      "cell_type": "code",
      "metadata": {
        "id": "IJgnFNsBhec-",
        "colab_type": "code",
        "colab": {
          "base_uri": "https://localhost:8080/",
          "height": 34
        },
        "outputId": "1c7cd548-9220-406e-9b97-d984194c626c"
      },
      "source": [
        "re.findall(r'\\b\\S+@[a-zA-Z]\\S+[.]\\S+', text) # \\b - граница слова"
      ],
      "execution_count": 24,
      "outputs": [
        {
          "output_type": "execute_result",
          "data": {
            "text/plain": [
              "['cnn@gmail.com', 'nn@gmail.com']"
            ]
          },
          "metadata": {
            "tags": []
          },
          "execution_count": 24
        }
      ]
    },
    {
      "cell_type": "code",
      "metadata": {
        "id": "6Y6NbVwVtZKe",
        "colab_type": "code",
        "colab": {
          "base_uri": "https://localhost:8080/",
          "height": 51
        },
        "outputId": "20dd32a7-42e9-4add-e372-4572e991aa4e"
      },
      "source": [
        "for m in re.finditer(r'\\b\\S+@[a-zA-Z]\\S+[.]\\S+', text): \n",
        "    print('Номер', m[0], 'начинается с позиции', m.start())"
      ],
      "execution_count": 25,
      "outputs": [
        {
          "output_type": "stream",
          "text": [
            "Номер cnn@gmail.com начинается с позиции 162\n",
            "Номер nn@gmail.com начинается с позиции 219\n"
          ],
          "name": "stdout"
        }
      ]
    },
    {
      "cell_type": "markdown",
      "metadata": {
        "id": "Vsj7_wULhpvA",
        "colab_type": "text"
      },
      "source": [
        "**SUB**"
      ]
    },
    {
      "cell_type": "code",
      "metadata": {
        "id": "4hmW6ykitiAs",
        "colab_type": "code",
        "colab": {
          "base_uri": "https://localhost:8080/",
          "height": 54
        },
        "outputId": "58bb763b-6bf1-40d3-d929-ed6bd2d8e2fe"
      },
      "source": [
        "print(text)"
      ],
      "execution_count": 26,
      "outputs": [
        {
          "output_type": "stream",
          "text": [
            "100 01/21/1991 ИНФ 21.123757 8(903)6174741 Информатика abc@mail +7(903)6174731 213 МАТ abc@.mail.ru 1.1.91 89036174739 1.1.1991 Математика 1.11.1991 +79036174740 cnn@gmail.com 21.01.1991 156 АНГ  Английский 89036174738 nn@gmail.com\n"
          ],
          "name": "stdout"
        }
      ]
    },
    {
      "cell_type": "code",
      "metadata": {
        "id": "DCERPbADhosD",
        "colab_type": "code",
        "colab": {
          "base_uri": "https://localhost:8080/",
          "height": 52
        },
        "outputId": "4d9f269c-da97-43dc-8f7f-53822a606f5b"
      },
      "source": [
        "re.sub(r'\\d{1,2}[./]\\d{1,2}[./]\\d{2,4}', 'DATA', text) # заменяем даты"
      ],
      "execution_count": 27,
      "outputs": [
        {
          "output_type": "execute_result",
          "data": {
            "application/vnd.google.colaboratory.intrinsic+json": {
              "type": "string"
            },
            "text/plain": [
              "'100 DATA ИНФ 21.123757 8(903)6174741 Информатика abc@mail +7(903)6174731 213 МАТ abc@.mail.ru DATA 89036174739 DATA Математика DATA +79036174740 cnn@gmail.com DATA 156 АНГ  Английский 89036174738 nn@gmail.com'"
            ]
          },
          "metadata": {
            "tags": []
          },
          "execution_count": 27
        }
      ]
    },
    {
      "cell_type": "code",
      "metadata": {
        "id": "_VNQOqz-kPs1",
        "colab_type": "code",
        "colab": {
          "base_uri": "https://localhost:8080/",
          "height": 35
        },
        "outputId": "e08872dc-5a42-4894-bc7d-197841ab5d48"
      },
      "source": [
        "re.sub(r'\\d{1,2}\\D\\d{1,2}[.]\\d{2,4}', r'', text) # заменяем все даты"
      ],
      "execution_count": 28,
      "outputs": [
        {
          "output_type": "execute_result",
          "data": {
            "application/vnd.google.colaboratory.intrinsic+json": {
              "type": "string"
            },
            "text/plain": [
              "'100 01/21/1991 ИНФ 21.123757 8(903)6174741 Информатика abc@mail +7(903)6174731 213 МАТ abc@.mail.ru  89036174739  Математика  +79036174740 cnn@gmail.com  156 АНГ  Английский 89036174738 nn@gmail.com'"
            ]
          },
          "metadata": {
            "tags": []
          },
          "execution_count": 28
        }
      ]
    },
    {
      "cell_type": "markdown",
      "metadata": {
        "id": "PwBDhqqamm1u",
        "colab_type": "text"
      },
      "source": [
        "**MATCH**"
      ]
    },
    {
      "cell_type": "code",
      "metadata": {
        "id": "l3mKHR1Vtj1N",
        "colab_type": "code",
        "colab": {
          "base_uri": "https://localhost:8080/",
          "height": 54
        },
        "outputId": "6d718a2a-a3cb-42a5-8e64-c0e921e3f221"
      },
      "source": [
        "print(text)"
      ],
      "execution_count": 29,
      "outputs": [
        {
          "output_type": "stream",
          "text": [
            "100 01/21/1991 ИНФ 21.123757 8(903)6174741 Информатика abc@mail +7(903)6174731 213 МАТ abc@.mail.ru 1.1.91 89036174739 1.1.1991 Математика 1.11.1991 +79036174740 cnn@gmail.com 21.01.1991 156 АНГ  Английский 89036174738 nn@gmail.com\n"
          ],
          "name": "stdout"
        }
      ]
    },
    {
      "cell_type": "code",
      "metadata": {
        "id": "-qigGw5bltBO",
        "colab_type": "code",
        "colab": {
          "base_uri": "https://localhost:8080/",
          "height": 153
        },
        "outputId": "6f082be3-8746-4b31-dd14-b7bdd72f2e63"
      },
      "source": [
        "telephone_numbers = ['8(903)6174741','+7(903)6174731','cnn@gmail.com','89036174739','+79036174740','89036174738', '+7903617473745','asd@mail.ru']\n",
        "\n",
        "for i in range(len(telephone_numbers)):\n",
        "  print(telephone_numbers[i], re.match(r'\\S+[@][a-zA-Z]\\S+[.]\\S+', telephone_numbers[i]))"
      ],
      "execution_count": 30,
      "outputs": [
        {
          "output_type": "stream",
          "text": [
            "8(903)6174741 None\n",
            "+7(903)6174731 None\n",
            "cnn@gmail.com <_sre.SRE_Match object; span=(0, 13), match='cnn@gmail.com'>\n",
            "89036174739 None\n",
            "+79036174740 None\n",
            "89036174738 None\n",
            "+7903617473745 None\n",
            "asd@mail.ru <_sre.SRE_Match object; span=(0, 11), match='asd@mail.ru'>\n"
          ],
          "name": "stdout"
        }
      ]
    },
    {
      "cell_type": "markdown",
      "metadata": {
        "id": "oqaFFG-FvDhd",
        "colab_type": "text"
      },
      "source": [
        "**EXAMPLE**"
      ]
    },
    {
      "cell_type": "code",
      "metadata": {
        "id": "1iNPIUTuvCic",
        "colab_type": "code",
        "colab": {
          "base_uri": "https://localhost:8080/",
          "height": 34
        },
        "outputId": "1e06d482-2c93-42a2-eddc-ca5620ae8036"
      },
      "source": [
        "# удалить все знаки препинания\n",
        "sentence = \"A, very very; irregular_sentence\"\n",
        "sentence = re.sub(r'[^a-zA-Z]',' ', sentence)\n",
        "sentence = re.sub('  ',' ', sentence)\n",
        "print(sentence)"
      ],
      "execution_count": 31,
      "outputs": [
        {
          "output_type": "stream",
          "text": [
            "A very very irregular sentence\n"
          ],
          "name": "stdout"
        }
      ]
    },
    {
      "cell_type": "code",
      "metadata": {
        "id": "Za75FwlruvlX",
        "colab_type": "code",
        "colab": {
          "base_uri": "https://localhost:8080/",
          "height": 34
        },
        "outputId": "e4f3aadf-cff8-4951-dd55-2f5e92934cfe"
      },
      "source": [
        "# удалить все знаки препинания\n",
        "sentence = \"A, very very; irregular_sentence\"\n",
        "sentence = re.sub(r'[^a-zA-Z]',' ', sentence)\n",
        "sentence = re.sub(r'\\s+',' ', sentence)\n",
        "print(sentence)"
      ],
      "execution_count": 32,
      "outputs": [
        {
          "output_type": "stream",
          "text": [
            "A very very irregular sentence\n"
          ],
          "name": "stdout"
        }
      ]
    }
  ]
}