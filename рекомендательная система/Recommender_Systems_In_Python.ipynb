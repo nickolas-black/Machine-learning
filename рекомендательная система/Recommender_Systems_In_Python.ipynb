{
  "nbformat": 4,
  "nbformat_minor": 0,
  "metadata": {
    "kernelspec": {
      "display_name": "Python 3",
      "language": "python",
      "name": "python3"
    },
    "language_info": {
      "codemirror_mode": {
        "name": "ipython",
        "version": 3
      },
      "file_extension": ".py",
      "mimetype": "text/x-python",
      "name": "python",
      "nbconvert_exporter": "python",
      "pygments_lexer": "ipython3",
      "version": "3.7.3"
    },
    "colab": {
      "name": "Recommender Systems In Python.ipynb",
      "provenance": []
    }
  },
  "cells": [
    {
      "cell_type": "markdown",
      "metadata": {
        "id": "cHb-t7ix_vlU",
        "colab_type": "text"
      },
      "source": [
        "# Разработка рекомендательной системы на Python"
      ]
    },
    {
      "cell_type": "markdown",
      "metadata": {
        "id": "ewzXs3Io_vlV",
        "colab_type": "text"
      },
      "source": [
        "_Примечание: в контексте данной работы единицами рекомендаций будут являвляться фильмы, т.к. использование этого термина будет удобно с точки зрения используемого датасета._"
      ]
    },
    {
      "cell_type": "markdown",
      "metadata": {
        "id": "GiBa89eR_vlW",
        "colab_type": "text"
      },
      "source": [
        "Можно выделить  два основных типа рекомендательных систем."
      ]
    },
    {
      "cell_type": "markdown",
      "metadata": {
        "id": "RGVxBggj_vlX",
        "colab_type": "text"
      },
      "source": [
        "**Content-based**\n",
        "\n",
        "* Пользователю рекомендуются фильмы, похожие на те, которые он уже посмотрел.\n",
        "* Похожести оцениваются по признакам содержимого объектов.\n",
        "* Сильная зависимость от предметной области, полезность рекомендаций ограничена.\n",
        "\n",
        "Коллаборативная фильтрация (**Collaborative Filtering**)\n",
        "\n",
        "* Для рекомендации используется история оценок как самого пользователя, так и других пользователей.\n",
        "* Более универсальный подход, часто дает лучший результат.\n",
        "* Есть свои проблемы (например, холодный старт)."
      ]
    },
    {
      "cell_type": "markdown",
      "metadata": {
        "id": "RD1WBv9z_vlX",
        "colab_type": "text"
      },
      "source": [
        "В большинстве случаев алгоритмы коллаборативной фильтрации (CF) показывают лучший результат, чем content-based системы. В данной работе будут рассматриваться два типа CF: **Memory-Based Collaborative Filtering** и **Model-Based Collaborative filtering**."
      ]
    },
    {
      "cell_type": "markdown",
      "metadata": {
        "id": "pssfX78e_vlY",
        "colab_type": "text"
      },
      "source": [
        "## Датасет"
      ]
    },
    {
      "cell_type": "markdown",
      "metadata": {
        "id": "ie9tSfAC_vlY",
        "colab_type": "text"
      },
      "source": [
        "В данной работе используется MovieLens Dataset (Small). Посмотреть информацию или скачать датасет можно [отсюда](https://grouplens.org/datasets/movielens/)."
      ]
    },
    {
      "cell_type": "markdown",
      "metadata": {
        "id": "FcdZOohx_vlZ",
        "colab_type": "text"
      },
      "source": [
        "https://www.kaggle.com/grouplens/movielens-20m-dataset"
      ]
    },
    {
      "cell_type": "code",
      "metadata": {
        "id": "i2ErmN37_vla",
        "colab_type": "code",
        "colab": {}
      },
      "source": [
        "import numpy as np\n",
        "import pandas as pd"
      ],
      "execution_count": null,
      "outputs": []
    },
    {
      "cell_type": "code",
      "metadata": {
        "id": "wwXNQit7_vld",
        "colab_type": "code",
        "colab": {}
      },
      "source": [
        "# загружаем датасет\n",
        "df = pd.read_csv('data/ratings.csv')"
      ],
      "execution_count": null,
      "outputs": []
    },
    {
      "cell_type": "code",
      "metadata": {
        "id": "96z96bOT_vlg",
        "colab_type": "code",
        "colab": {},
        "outputId": "08131b0a-b30b-42fc-a33a-3a13024fc4af"
      },
      "source": [
        "# смотрим на структуру\n",
        "df[:100]"
      ],
      "execution_count": null,
      "outputs": [
        {
          "output_type": "execute_result",
          "data": {
            "text/html": [
              "<div>\n",
              "<style scoped>\n",
              "    .dataframe tbody tr th:only-of-type {\n",
              "        vertical-align: middle;\n",
              "    }\n",
              "\n",
              "    .dataframe tbody tr th {\n",
              "        vertical-align: top;\n",
              "    }\n",
              "\n",
              "    .dataframe thead th {\n",
              "        text-align: right;\n",
              "    }\n",
              "</style>\n",
              "<table border=\"1\" class=\"dataframe\">\n",
              "  <thead>\n",
              "    <tr style=\"text-align: right;\">\n",
              "      <th></th>\n",
              "      <th>userId</th>\n",
              "      <th>movieId</th>\n",
              "      <th>rating</th>\n",
              "      <th>timestamp</th>\n",
              "    </tr>\n",
              "  </thead>\n",
              "  <tbody>\n",
              "    <tr>\n",
              "      <th>0</th>\n",
              "      <td>1</td>\n",
              "      <td>31</td>\n",
              "      <td>2.5</td>\n",
              "      <td>1260759144</td>\n",
              "    </tr>\n",
              "    <tr>\n",
              "      <th>1</th>\n",
              "      <td>1</td>\n",
              "      <td>1029</td>\n",
              "      <td>3.0</td>\n",
              "      <td>1260759179</td>\n",
              "    </tr>\n",
              "    <tr>\n",
              "      <th>2</th>\n",
              "      <td>1</td>\n",
              "      <td>1061</td>\n",
              "      <td>3.0</td>\n",
              "      <td>1260759182</td>\n",
              "    </tr>\n",
              "    <tr>\n",
              "      <th>3</th>\n",
              "      <td>1</td>\n",
              "      <td>1129</td>\n",
              "      <td>2.0</td>\n",
              "      <td>1260759185</td>\n",
              "    </tr>\n",
              "    <tr>\n",
              "      <th>4</th>\n",
              "      <td>1</td>\n",
              "      <td>1172</td>\n",
              "      <td>4.0</td>\n",
              "      <td>1260759205</td>\n",
              "    </tr>\n",
              "    <tr>\n",
              "      <th>5</th>\n",
              "      <td>1</td>\n",
              "      <td>1263</td>\n",
              "      <td>2.0</td>\n",
              "      <td>1260759151</td>\n",
              "    </tr>\n",
              "    <tr>\n",
              "      <th>6</th>\n",
              "      <td>1</td>\n",
              "      <td>1287</td>\n",
              "      <td>2.0</td>\n",
              "      <td>1260759187</td>\n",
              "    </tr>\n",
              "    <tr>\n",
              "      <th>7</th>\n",
              "      <td>1</td>\n",
              "      <td>1293</td>\n",
              "      <td>2.0</td>\n",
              "      <td>1260759148</td>\n",
              "    </tr>\n",
              "    <tr>\n",
              "      <th>8</th>\n",
              "      <td>1</td>\n",
              "      <td>1339</td>\n",
              "      <td>3.5</td>\n",
              "      <td>1260759125</td>\n",
              "    </tr>\n",
              "    <tr>\n",
              "      <th>9</th>\n",
              "      <td>1</td>\n",
              "      <td>1343</td>\n",
              "      <td>2.0</td>\n",
              "      <td>1260759131</td>\n",
              "    </tr>\n",
              "    <tr>\n",
              "      <th>10</th>\n",
              "      <td>1</td>\n",
              "      <td>1371</td>\n",
              "      <td>2.5</td>\n",
              "      <td>1260759135</td>\n",
              "    </tr>\n",
              "    <tr>\n",
              "      <th>11</th>\n",
              "      <td>1</td>\n",
              "      <td>1405</td>\n",
              "      <td>1.0</td>\n",
              "      <td>1260759203</td>\n",
              "    </tr>\n",
              "    <tr>\n",
              "      <th>12</th>\n",
              "      <td>1</td>\n",
              "      <td>1953</td>\n",
              "      <td>4.0</td>\n",
              "      <td>1260759191</td>\n",
              "    </tr>\n",
              "    <tr>\n",
              "      <th>13</th>\n",
              "      <td>1</td>\n",
              "      <td>2105</td>\n",
              "      <td>4.0</td>\n",
              "      <td>1260759139</td>\n",
              "    </tr>\n",
              "    <tr>\n",
              "      <th>14</th>\n",
              "      <td>1</td>\n",
              "      <td>2150</td>\n",
              "      <td>3.0</td>\n",
              "      <td>1260759194</td>\n",
              "    </tr>\n",
              "    <tr>\n",
              "      <th>15</th>\n",
              "      <td>1</td>\n",
              "      <td>2193</td>\n",
              "      <td>2.0</td>\n",
              "      <td>1260759198</td>\n",
              "    </tr>\n",
              "    <tr>\n",
              "      <th>16</th>\n",
              "      <td>1</td>\n",
              "      <td>2294</td>\n",
              "      <td>2.0</td>\n",
              "      <td>1260759108</td>\n",
              "    </tr>\n",
              "    <tr>\n",
              "      <th>17</th>\n",
              "      <td>1</td>\n",
              "      <td>2455</td>\n",
              "      <td>2.5</td>\n",
              "      <td>1260759113</td>\n",
              "    </tr>\n",
              "    <tr>\n",
              "      <th>18</th>\n",
              "      <td>1</td>\n",
              "      <td>2968</td>\n",
              "      <td>1.0</td>\n",
              "      <td>1260759200</td>\n",
              "    </tr>\n",
              "    <tr>\n",
              "      <th>19</th>\n",
              "      <td>1</td>\n",
              "      <td>3671</td>\n",
              "      <td>3.0</td>\n",
              "      <td>1260759117</td>\n",
              "    </tr>\n",
              "    <tr>\n",
              "      <th>20</th>\n",
              "      <td>2</td>\n",
              "      <td>10</td>\n",
              "      <td>4.0</td>\n",
              "      <td>835355493</td>\n",
              "    </tr>\n",
              "    <tr>\n",
              "      <th>21</th>\n",
              "      <td>2</td>\n",
              "      <td>17</td>\n",
              "      <td>5.0</td>\n",
              "      <td>835355681</td>\n",
              "    </tr>\n",
              "    <tr>\n",
              "      <th>22</th>\n",
              "      <td>2</td>\n",
              "      <td>39</td>\n",
              "      <td>5.0</td>\n",
              "      <td>835355604</td>\n",
              "    </tr>\n",
              "    <tr>\n",
              "      <th>23</th>\n",
              "      <td>2</td>\n",
              "      <td>47</td>\n",
              "      <td>4.0</td>\n",
              "      <td>835355552</td>\n",
              "    </tr>\n",
              "    <tr>\n",
              "      <th>24</th>\n",
              "      <td>2</td>\n",
              "      <td>50</td>\n",
              "      <td>4.0</td>\n",
              "      <td>835355586</td>\n",
              "    </tr>\n",
              "    <tr>\n",
              "      <th>25</th>\n",
              "      <td>2</td>\n",
              "      <td>52</td>\n",
              "      <td>3.0</td>\n",
              "      <td>835356031</td>\n",
              "    </tr>\n",
              "    <tr>\n",
              "      <th>26</th>\n",
              "      <td>2</td>\n",
              "      <td>62</td>\n",
              "      <td>3.0</td>\n",
              "      <td>835355749</td>\n",
              "    </tr>\n",
              "    <tr>\n",
              "      <th>27</th>\n",
              "      <td>2</td>\n",
              "      <td>110</td>\n",
              "      <td>4.0</td>\n",
              "      <td>835355532</td>\n",
              "    </tr>\n",
              "    <tr>\n",
              "      <th>28</th>\n",
              "      <td>2</td>\n",
              "      <td>144</td>\n",
              "      <td>3.0</td>\n",
              "      <td>835356016</td>\n",
              "    </tr>\n",
              "    <tr>\n",
              "      <th>29</th>\n",
              "      <td>2</td>\n",
              "      <td>150</td>\n",
              "      <td>5.0</td>\n",
              "      <td>835355395</td>\n",
              "    </tr>\n",
              "    <tr>\n",
              "      <th>...</th>\n",
              "      <td>...</td>\n",
              "      <td>...</td>\n",
              "      <td>...</td>\n",
              "      <td>...</td>\n",
              "    </tr>\n",
              "    <tr>\n",
              "      <th>70</th>\n",
              "      <td>2</td>\n",
              "      <td>468</td>\n",
              "      <td>4.0</td>\n",
              "      <td>835355790</td>\n",
              "    </tr>\n",
              "    <tr>\n",
              "      <th>71</th>\n",
              "      <td>2</td>\n",
              "      <td>474</td>\n",
              "      <td>2.0</td>\n",
              "      <td>835355828</td>\n",
              "    </tr>\n",
              "    <tr>\n",
              "      <th>72</th>\n",
              "      <td>2</td>\n",
              "      <td>480</td>\n",
              "      <td>4.0</td>\n",
              "      <td>835355643</td>\n",
              "    </tr>\n",
              "    <tr>\n",
              "      <th>73</th>\n",
              "      <td>2</td>\n",
              "      <td>485</td>\n",
              "      <td>3.0</td>\n",
              "      <td>835355918</td>\n",
              "    </tr>\n",
              "    <tr>\n",
              "      <th>74</th>\n",
              "      <td>2</td>\n",
              "      <td>497</td>\n",
              "      <td>3.0</td>\n",
              "      <td>835355880</td>\n",
              "    </tr>\n",
              "    <tr>\n",
              "      <th>75</th>\n",
              "      <td>2</td>\n",
              "      <td>500</td>\n",
              "      <td>4.0</td>\n",
              "      <td>835355731</td>\n",
              "    </tr>\n",
              "    <tr>\n",
              "      <th>76</th>\n",
              "      <td>2</td>\n",
              "      <td>508</td>\n",
              "      <td>4.0</td>\n",
              "      <td>835355860</td>\n",
              "    </tr>\n",
              "    <tr>\n",
              "      <th>77</th>\n",
              "      <td>2</td>\n",
              "      <td>509</td>\n",
              "      <td>4.0</td>\n",
              "      <td>835355719</td>\n",
              "    </tr>\n",
              "    <tr>\n",
              "      <th>78</th>\n",
              "      <td>2</td>\n",
              "      <td>515</td>\n",
              "      <td>4.0</td>\n",
              "      <td>835355817</td>\n",
              "    </tr>\n",
              "    <tr>\n",
              "      <th>79</th>\n",
              "      <td>2</td>\n",
              "      <td>527</td>\n",
              "      <td>4.0</td>\n",
              "      <td>835355731</td>\n",
              "    </tr>\n",
              "    <tr>\n",
              "      <th>80</th>\n",
              "      <td>2</td>\n",
              "      <td>537</td>\n",
              "      <td>4.0</td>\n",
              "      <td>835356199</td>\n",
              "    </tr>\n",
              "    <tr>\n",
              "      <th>81</th>\n",
              "      <td>2</td>\n",
              "      <td>539</td>\n",
              "      <td>3.0</td>\n",
              "      <td>835355767</td>\n",
              "    </tr>\n",
              "    <tr>\n",
              "      <th>82</th>\n",
              "      <td>2</td>\n",
              "      <td>550</td>\n",
              "      <td>3.0</td>\n",
              "      <td>835356109</td>\n",
              "    </tr>\n",
              "    <tr>\n",
              "      <th>83</th>\n",
              "      <td>2</td>\n",
              "      <td>551</td>\n",
              "      <td>5.0</td>\n",
              "      <td>835355767</td>\n",
              "    </tr>\n",
              "    <tr>\n",
              "      <th>84</th>\n",
              "      <td>2</td>\n",
              "      <td>552</td>\n",
              "      <td>3.0</td>\n",
              "      <td>835355860</td>\n",
              "    </tr>\n",
              "    <tr>\n",
              "      <th>85</th>\n",
              "      <td>2</td>\n",
              "      <td>585</td>\n",
              "      <td>5.0</td>\n",
              "      <td>835355817</td>\n",
              "    </tr>\n",
              "    <tr>\n",
              "      <th>86</th>\n",
              "      <td>2</td>\n",
              "      <td>586</td>\n",
              "      <td>3.0</td>\n",
              "      <td>835355790</td>\n",
              "    </tr>\n",
              "    <tr>\n",
              "      <th>87</th>\n",
              "      <td>2</td>\n",
              "      <td>587</td>\n",
              "      <td>3.0</td>\n",
              "      <td>835355779</td>\n",
              "    </tr>\n",
              "    <tr>\n",
              "      <th>88</th>\n",
              "      <td>2</td>\n",
              "      <td>588</td>\n",
              "      <td>3.0</td>\n",
              "      <td>835355441</td>\n",
              "    </tr>\n",
              "    <tr>\n",
              "      <th>89</th>\n",
              "      <td>2</td>\n",
              "      <td>589</td>\n",
              "      <td>5.0</td>\n",
              "      <td>835355697</td>\n",
              "    </tr>\n",
              "    <tr>\n",
              "      <th>90</th>\n",
              "      <td>2</td>\n",
              "      <td>590</td>\n",
              "      <td>5.0</td>\n",
              "      <td>835355395</td>\n",
              "    </tr>\n",
              "    <tr>\n",
              "      <th>91</th>\n",
              "      <td>2</td>\n",
              "      <td>592</td>\n",
              "      <td>5.0</td>\n",
              "      <td>835355395</td>\n",
              "    </tr>\n",
              "    <tr>\n",
              "      <th>92</th>\n",
              "      <td>2</td>\n",
              "      <td>593</td>\n",
              "      <td>3.0</td>\n",
              "      <td>835355511</td>\n",
              "    </tr>\n",
              "    <tr>\n",
              "      <th>93</th>\n",
              "      <td>2</td>\n",
              "      <td>616</td>\n",
              "      <td>3.0</td>\n",
              "      <td>835355932</td>\n",
              "    </tr>\n",
              "    <tr>\n",
              "      <th>94</th>\n",
              "      <td>2</td>\n",
              "      <td>661</td>\n",
              "      <td>4.0</td>\n",
              "      <td>835356141</td>\n",
              "    </tr>\n",
              "    <tr>\n",
              "      <th>95</th>\n",
              "      <td>2</td>\n",
              "      <td>720</td>\n",
              "      <td>4.0</td>\n",
              "      <td>835355978</td>\n",
              "    </tr>\n",
              "    <tr>\n",
              "      <th>96</th>\n",
              "      <td>3</td>\n",
              "      <td>60</td>\n",
              "      <td>3.0</td>\n",
              "      <td>1298861675</td>\n",
              "    </tr>\n",
              "    <tr>\n",
              "      <th>97</th>\n",
              "      <td>3</td>\n",
              "      <td>110</td>\n",
              "      <td>4.0</td>\n",
              "      <td>1298922049</td>\n",
              "    </tr>\n",
              "    <tr>\n",
              "      <th>98</th>\n",
              "      <td>3</td>\n",
              "      <td>247</td>\n",
              "      <td>3.5</td>\n",
              "      <td>1298861637</td>\n",
              "    </tr>\n",
              "    <tr>\n",
              "      <th>99</th>\n",
              "      <td>3</td>\n",
              "      <td>267</td>\n",
              "      <td>3.0</td>\n",
              "      <td>1298861761</td>\n",
              "    </tr>\n",
              "  </tbody>\n",
              "</table>\n",
              "<p>100 rows × 4 columns</p>\n",
              "</div>"
            ],
            "text/plain": [
              "    userId  movieId  rating   timestamp\n",
              "0        1       31     2.5  1260759144\n",
              "1        1     1029     3.0  1260759179\n",
              "2        1     1061     3.0  1260759182\n",
              "3        1     1129     2.0  1260759185\n",
              "4        1     1172     4.0  1260759205\n",
              "5        1     1263     2.0  1260759151\n",
              "6        1     1287     2.0  1260759187\n",
              "7        1     1293     2.0  1260759148\n",
              "8        1     1339     3.5  1260759125\n",
              "9        1     1343     2.0  1260759131\n",
              "10       1     1371     2.5  1260759135\n",
              "11       1     1405     1.0  1260759203\n",
              "12       1     1953     4.0  1260759191\n",
              "13       1     2105     4.0  1260759139\n",
              "14       1     2150     3.0  1260759194\n",
              "15       1     2193     2.0  1260759198\n",
              "16       1     2294     2.0  1260759108\n",
              "17       1     2455     2.5  1260759113\n",
              "18       1     2968     1.0  1260759200\n",
              "19       1     3671     3.0  1260759117\n",
              "20       2       10     4.0   835355493\n",
              "21       2       17     5.0   835355681\n",
              "22       2       39     5.0   835355604\n",
              "23       2       47     4.0   835355552\n",
              "24       2       50     4.0   835355586\n",
              "25       2       52     3.0   835356031\n",
              "26       2       62     3.0   835355749\n",
              "27       2      110     4.0   835355532\n",
              "28       2      144     3.0   835356016\n",
              "29       2      150     5.0   835355395\n",
              "..     ...      ...     ...         ...\n",
              "70       2      468     4.0   835355790\n",
              "71       2      474     2.0   835355828\n",
              "72       2      480     4.0   835355643\n",
              "73       2      485     3.0   835355918\n",
              "74       2      497     3.0   835355880\n",
              "75       2      500     4.0   835355731\n",
              "76       2      508     4.0   835355860\n",
              "77       2      509     4.0   835355719\n",
              "78       2      515     4.0   835355817\n",
              "79       2      527     4.0   835355731\n",
              "80       2      537     4.0   835356199\n",
              "81       2      539     3.0   835355767\n",
              "82       2      550     3.0   835356109\n",
              "83       2      551     5.0   835355767\n",
              "84       2      552     3.0   835355860\n",
              "85       2      585     5.0   835355817\n",
              "86       2      586     3.0   835355790\n",
              "87       2      587     3.0   835355779\n",
              "88       2      588     3.0   835355441\n",
              "89       2      589     5.0   835355697\n",
              "90       2      590     5.0   835355395\n",
              "91       2      592     5.0   835355395\n",
              "92       2      593     3.0   835355511\n",
              "93       2      616     3.0   835355932\n",
              "94       2      661     4.0   835356141\n",
              "95       2      720     4.0   835355978\n",
              "96       3       60     3.0  1298861675\n",
              "97       3      110     4.0  1298922049\n",
              "98       3      247     3.5  1298861637\n",
              "99       3      267     3.0  1298861761\n",
              "\n",
              "[100 rows x 4 columns]"
            ]
          },
          "metadata": {
            "tags": []
          },
          "execution_count": 4
        }
      ]
    },
    {
      "cell_type": "code",
      "metadata": {
        "id": "1ZASFEs6_vlk",
        "colab_type": "code",
        "colab": {}
      },
      "source": [
        "# выводим количество пользователей и фильмов\n",
        "n_users = df['userId'].unique().shape[0]\n",
        "n_items = df['movieId'].unique().shape[0]"
      ],
      "execution_count": null,
      "outputs": []
    },
    {
      "cell_type": "code",
      "metadata": {
        "id": "9CjR6nR6_vln",
        "colab_type": "code",
        "colab": {},
        "outputId": "e6c7d79e-5e40-4856-a512-e1a62cf95bd3"
      },
      "source": [
        "print('Users: {}, Items: {}'.format(n_users, n_items))"
      ],
      "execution_count": null,
      "outputs": [
        {
          "output_type": "stream",
          "text": [
            "Users: 671, Items: 9066\n"
          ],
          "name": "stdout"
        }
      ]
    },
    {
      "cell_type": "code",
      "metadata": {
        "id": "zfrcqJLv_vlr",
        "colab_type": "code",
        "colab": {}
      },
      "source": [
        "# чтобы можно было удобно работать дальше, необходимо отмасштабировать \n",
        "# значения в колонке movieId (новые значения будут в диапазоне от 1 до\n",
        "# количества фильмов)\n",
        "input_list = df['movieId'].unique()\n",
        "\n",
        "def scale_movie_id(input_id):\n",
        "    return np.where(input_list == input_id)[0][0] + 1\n",
        "\n",
        "df['movieId'] = df['movieId'].apply(scale_movie_id)"
      ],
      "execution_count": null,
      "outputs": []
    },
    {
      "cell_type": "code",
      "metadata": {
        "id": "AQdkgHj8_vlv",
        "colab_type": "code",
        "colab": {}
      },
      "source": [
        "from sklearn.model_selection import train_test_split\n",
        "\n",
        "# делим данные на тренировочный и тестовый наборы\n",
        "train_data, test_data = train_test_split(df, test_size=0.20)"
      ],
      "execution_count": null,
      "outputs": []
    },
    {
      "cell_type": "markdown",
      "metadata": {
        "id": "QjDmv3fc_vlx",
        "colab_type": "text"
      },
      "source": [
        "## Memory-Based Collaborative Filtering"
      ]
    },
    {
      "cell_type": "markdown",
      "metadata": {
        "id": "ZVSqDpS8_vly",
        "colab_type": "text"
      },
      "source": [
        "Memory-Based Collaborative Filtering подходы можно разделить на две части: **user-item filtering** and **item-item filtering**."
      ]
    },
    {
      "cell_type": "markdown",
      "metadata": {
        "id": "IIRZ1wTw_vlz",
        "colab_type": "text"
      },
      "source": [
        "В user-item filtering мы:\n",
        "\n",
        "1. Берём исходного пользователя\n",
        "2. Находим группу пользователей, которая максимально похожа на него (основываясь, например, оценках) и узнаём, какие фильмы понравились этой группе.\n",
        "3. Нашему исходному пользователю рекомендуем фильмы, которые нравятся найденной группе пользователей.\n",
        "\n",
        "На входе пользователь, на выходе – рекомендация фильмов для данного пользователя."
      ]
    },
    {
      "cell_type": "markdown",
      "metadata": {
        "id": "owuFbsyt_vlz",
        "colab_type": "text"
      },
      "source": [
        "В item-item filtering мы:\n",
        "    \n",
        "1. Берём какой-либо фильм\n",
        "2. Находим пользователей, которым нравится этот фильм\n",
        "3. Смотрим на фильмы, которые нравятся найденным пользователям и выводим их в качестве рекомендации к исходному товару\n",
        "\n",
        "На входе фильм, на выходе – рекомендация в виде похожих фильмов."
      ]
    },
    {
      "cell_type": "markdown",
      "metadata": {
        "id": "GW8YB5g5_vl0",
        "colab_type": "text"
      },
      "source": [
        "* Item-Item Collaborative Filtering: \"Пользователям, которым нравится данный фильм, может так же понравиться это ...\"\n",
        "* User-Item Collaborative Filtering: \"Похожим на вас пользователям нравится это ...\""
      ]
    },
    {
      "cell_type": "markdown",
      "metadata": {
        "id": "n3-T-h9a_vl0",
        "colab_type": "text"
      },
      "source": [
        "В обоих случаях нам необходимо создать user-item матрицу, которая будет выглядеть следующим образом:\n",
        "\n",
        "|       | Item1 | Item2 | Item3 |\n",
        "|-------|-------|-------|-------|\n",
        "| User1 |   5   |   3   |   4   |\n",
        "| User2 |   4   |   0   |   0   |\n",
        "| User3 |   0   |   0   |   0   |\n",
        "\n",
        "В ячейках матрицы будет записана информация об оценке фильма $m$ пользователя $n$."
      ]
    },
    {
      "cell_type": "code",
      "metadata": {
        "id": "69aekqrP_vl1",
        "colab_type": "code",
        "colab": {}
      },
      "source": [
        "# создаём две user-item матрицы – для обучения и для теста\n",
        "train_data_matrix = np.zeros((n_users, n_items))\n",
        "\n",
        "for line in train_data.itertuples():\n",
        "    train_data_matrix[line[1] - 1, line[2] - 1] = line[3]  \n",
        "\n",
        "test_data_matrix = np.zeros((n_users, n_items))\n",
        "\n",
        "for line in test_data.itertuples():\n",
        "    test_data_matrix[line[1] - 1, line[2] - 1] = line[3]"
      ],
      "execution_count": null,
      "outputs": []
    },
    {
      "cell_type": "code",
      "metadata": {
        "id": "aqZ3rAbh_vl3",
        "colab_type": "code",
        "colab": {},
        "outputId": "2b7e9138-197c-4db0-bd3d-3066db476253"
      },
      "source": [
        "train_data_matrix.shape"
      ],
      "execution_count": null,
      "outputs": [
        {
          "output_type": "execute_result",
          "data": {
            "text/plain": [
              "(671, 9066)"
            ]
          },
          "metadata": {
            "tags": []
          },
          "execution_count": 10
        }
      ]
    },
    {
      "cell_type": "code",
      "metadata": {
        "id": "UklbhW7o_vl7",
        "colab_type": "code",
        "colab": {},
        "outputId": "ab137364-72c3-4347-af6a-bd066bf0ae6d"
      },
      "source": [
        "train_data_matrix[0]"
      ],
      "execution_count": null,
      "outputs": [
        {
          "output_type": "execute_result",
          "data": {
            "text/plain": [
              "array([2.5, 3. , 3. , ..., 0. , 0. , 0. ])"
            ]
          },
          "metadata": {
            "tags": []
          },
          "execution_count": 12
        }
      ]
    },
    {
      "cell_type": "code",
      "metadata": {
        "id": "kHbYMdw2_vl-",
        "colab_type": "code",
        "colab": {},
        "outputId": "00d352b1-7a25-46b7-f914-0da555e4d3eb"
      },
      "source": [
        "test_data_matrix.shape"
      ],
      "execution_count": null,
      "outputs": [
        {
          "output_type": "execute_result",
          "data": {
            "text/plain": [
              "(671, 9066)"
            ]
          },
          "metadata": {
            "tags": []
          },
          "execution_count": 11
        }
      ]
    },
    {
      "cell_type": "markdown",
      "metadata": {
        "id": "Wx2M1q-Q_vmA",
        "colab_type": "text"
      },
      "source": [
        "После того, как мы построим данную матрицу, на её основе необходимо будет рассчитать две новые матрицы с коэффициентами сходства (похожести, близости) для пользователей и для фильмов."
      ]
    },
    {
      "cell_type": "markdown",
      "metadata": {
        "id": "9kCDSqPE_vmB",
        "colab_type": "text"
      },
      "source": [
        "В качестве метрики близости в данной работе используется косинусное расстояние между векторами пользователей (фильмов)."
      ]
    },
    {
      "cell_type": "markdown",
      "metadata": {
        "id": "sRohwA7y_vmB",
        "colab_type": "text"
      },
      "source": [
        "Формула для пользователей:"
      ]
    },
    {
      "cell_type": "markdown",
      "metadata": {
        "id": "LeRJ86OD_vmC",
        "colab_type": "text"
      },
      "source": [
        "$$ s_{u}^{cos}(u_k, u_a) = \\frac{u_k \\cdot  u_a}{\\left \\| u_k \\right \\| \\left \\| u_a \\right \\|} = \\frac{\\sum x_{k,m} x_{a,m}}{\\sqrt{\\sum x_{k,m}^2 \\sum x_{a,m}^2}} $$"
      ]
    },
    {
      "cell_type": "markdown",
      "metadata": {
        "id": "Mvm6QjFE_vmC",
        "colab_type": "text"
      },
      "source": [
        "Формула для фильмов:"
      ]
    },
    {
      "cell_type": "markdown",
      "metadata": {
        "id": "a3OjyCBw_vmD",
        "colab_type": "text"
      },
      "source": [
        "$$ s_{u}^{cos}(i_m, i_b) = \\frac{i_m \\cdot  i_b}{\\left \\| i_m \\right \\| \\left \\| i_b \\right \\|} = \\frac{\\sum x_{a,m} x_{a,b}}{\\sqrt{\\sum x_{a,m}^2 \\sum x_{a,b}^2}} $$"
      ]
    },
    {
      "cell_type": "code",
      "metadata": {
        "id": "H6HSGA5y_vmD",
        "colab_type": "code",
        "colab": {}
      },
      "source": [
        "from sklearn.metrics.pairwise import pairwise_distances\n",
        "\n",
        "# считаем косинусное расстояние для пользователей и фильмов\n",
        "user_similarity = pairwise_distances(train_data_matrix, metric='cosine')\n",
        "\n",
        "\n",
        "item_similarity = pairwise_distances(train_data_matrix.T, metric='cosine')"
      ],
      "execution_count": null,
      "outputs": []
    },
    {
      "cell_type": "code",
      "metadata": {
        "id": "YTQDvOm__vmG",
        "colab_type": "code",
        "colab": {},
        "outputId": "ee2b4317-9a68-4eda-c23d-d19110cf67c9"
      },
      "source": [
        "user_similarity.shape"
      ],
      "execution_count": null,
      "outputs": [
        {
          "output_type": "execute_result",
          "data": {
            "text/plain": [
              "(671, 671)"
            ]
          },
          "metadata": {
            "tags": []
          },
          "execution_count": 14
        }
      ]
    },
    {
      "cell_type": "code",
      "metadata": {
        "id": "MPgmP8Ux_vmJ",
        "colab_type": "code",
        "colab": {},
        "outputId": "34899e2d-20ca-4700-d2ed-065f71a52f5c"
      },
      "source": [
        "item_similarity.shape"
      ],
      "execution_count": null,
      "outputs": [
        {
          "output_type": "execute_result",
          "data": {
            "text/plain": [
              "(9066, 9066)"
            ]
          },
          "metadata": {
            "tags": []
          },
          "execution_count": 15
        }
      ]
    },
    {
      "cell_type": "markdown",
      "metadata": {
        "id": "rtCGKOhX_vmM",
        "colab_type": "text"
      },
      "source": [
        "Матрица \"похожести\" для пользователей имеет следующий вид (аналогичную структуру имеет и матрицы для фильмов):\n",
        "\n",
        "|       | User1 | User1 | User3 |\n",
        "|-------|-------|-------|-------|\n",
        "| User1 |   0   | 0.87  | 0.99  |\n",
        "| User2 |   123   |   0   |   123123   |\n",
        "| User3 |   123   |   123   |   0  |"
      ]
    },
    {
      "cell_type": "markdown",
      "metadata": {
        "id": "ItZLSYz5_vmM",
        "colab_type": "text"
      },
      "source": [
        "Для предсказания в user-based CF необходимо применить следующую формулу:"
      ]
    },
    {
      "cell_type": "markdown",
      "metadata": {
        "id": "8LXUDJhg_vmM",
        "colab_type": "text"
      },
      "source": [
        "$$ \\hat{x}_{k,m} = \\overline{x}_k + \\frac{\\sum_{u_a} sim_u(u_k, u_a)(x_{a,m} - \\overline{x}_{u_a})}{\\sum_{u_a} \\left | sim_u(u_k, u_a) \\right |} $$"
      ]
    },
    {
      "cell_type": "markdown",
      "metadata": {
        "id": "58yTd1s-_vmN",
        "colab_type": "text"
      },
      "source": [
        "Для item-based CF:"
      ]
    },
    {
      "cell_type": "markdown",
      "metadata": {
        "id": "dkT_hx7q_vmN",
        "colab_type": "text"
      },
      "source": [
        "$$ \\hat{x}_{k,m} = \\frac{\\sum_{i_b} sim_i(i_m, i_b)(x_{k,b})}{\\sum_{i_b} \\left | sim_i(i_m, i_b) \\right |} $$"
      ]
    },
    {
      "cell_type": "code",
      "metadata": {
        "id": "HZEBRmZ8_vmO",
        "colab_type": "code",
        "colab": {}
      },
      "source": [
        "def predict(ratings, similarity, type='user'):\n",
        "    if type == 'user':\n",
        "        mean_user_rating = ratings.mean(axis=1)\n",
        "        ratings_diff = (ratings - mean_user_rating[:, np.newaxis]) \n",
        "        pred = mean_user_rating[:, np.newaxis] + similarity.dot(ratings_diff) / np.array([np.abs(similarity).sum(axis=1)]).T\n",
        "    \n",
        "    elif type == 'item':\n",
        "        \n",
        "        pred = ratings.dot(similarity) / np.array([np.abs(similarity).sum(axis=1)])     \n",
        "    return pred"
      ],
      "execution_count": null,
      "outputs": []
    },
    {
      "cell_type": "code",
      "metadata": {
        "id": "_zswiRI-_vmQ",
        "colab_type": "code",
        "colab": {}
      },
      "source": [
        "item_prediction = predict(train_data_matrix, item_similarity, type='item')\n",
        "\n",
        "user_prediction = predict(train_data_matrix, user_similarity, type='user')"
      ],
      "execution_count": null,
      "outputs": []
    },
    {
      "cell_type": "code",
      "metadata": {
        "id": "qKaj72ax_vmS",
        "colab_type": "code",
        "colab": {},
        "outputId": "b6b65ce0-0d0b-48c8-8113-5e1225482d7b"
      },
      "source": [
        "item_prediction.shape"
      ],
      "execution_count": null,
      "outputs": [
        {
          "output_type": "execute_result",
          "data": {
            "text/plain": [
              "(671, 9066)"
            ]
          },
          "metadata": {
            "tags": []
          },
          "execution_count": 18
        }
      ]
    },
    {
      "cell_type": "code",
      "metadata": {
        "id": "-UhffVf6_vmV",
        "colab_type": "code",
        "colab": {},
        "outputId": "b9ce5fe9-ab54-46fe-d3b7-9023ec4ea18a"
      },
      "source": [
        "user_prediction.shape"
      ],
      "execution_count": null,
      "outputs": [
        {
          "output_type": "execute_result",
          "data": {
            "text/plain": [
              "(671, 9066)"
            ]
          },
          "metadata": {
            "tags": []
          },
          "execution_count": 19
        }
      ]
    },
    {
      "cell_type": "markdown",
      "metadata": {
        "id": "IQnw9GgS_vmY",
        "colab_type": "text"
      },
      "source": [
        "Для оценки качества предсказания используем метрику RMSE (Root Mean Square Error, cреднеквадратичная ошибка):"
      ]
    },
    {
      "cell_type": "markdown",
      "metadata": {
        "id": "O4F_nriI_vmZ",
        "colab_type": "text"
      },
      "source": [
        "$$ RMSE = \\sqrt{\\frac{1}{N}\\sum (x_i - \\hat{x}_i)^2} $$"
      ]
    },
    {
      "cell_type": "code",
      "metadata": {
        "id": "L0mx_DHH_vmZ",
        "colab_type": "code",
        "colab": {}
      },
      "source": [
        "from sklearn.metrics import mean_squared_error\n",
        "from math import sqrt\n",
        "\n",
        "def rmse(prediction, ground_truth):\n",
        "    prediction = prediction[ground_truth.nonzero()].flatten()\n",
        "    \n",
        "    ground_truth = ground_truth[ground_truth.nonzero()].flatten()\n",
        "    \n",
        "    return sqrt(mean_squared_error(prediction, ground_truth))\n"
      ],
      "execution_count": null,
      "outputs": []
    },
    {
      "cell_type": "code",
      "metadata": {
        "id": "TJL4aPV0_vmc",
        "colab_type": "code",
        "colab": {},
        "outputId": "9feedbfb-5015-4c96-871b-b7b7e49c4f70"
      },
      "source": [
        "print('User-based CF RMSE: ' + str(rmse(user_prediction, test_data_matrix)))\n",
        "print('Item-based CF RMSE: ' + str(rmse(item_prediction, test_data_matrix)))"
      ],
      "execution_count": null,
      "outputs": [
        {
          "output_type": "stream",
          "text": [
            "User-based CF RMSE: 3.343723868885161\n",
            "Item-based CF RMSE: 3.5720923684381316\n"
          ],
          "name": "stdout"
        }
      ]
    },
    {
      "cell_type": "markdown",
      "metadata": {
        "id": "bsa3zjH-_vme",
        "colab_type": "text"
      },
      "source": [
        "## Model-based Collaborative Filtering"
      ]
    },
    {
      "cell_type": "markdown",
      "metadata": {
        "id": "MobcaCXx_vmf",
        "colab_type": "text"
      },
      "source": [
        "Model-based Collaborative Filtering основана на разложении матрицы. В данной работе используется метод разложения, который называется **singular value decomposition** (SVD, cингулярное разложение). Смысл этого разложения в том, что исходную матрицу $X$ мы разбиваем на произведение ортогональных матриц $U$ и $V^T$ и диагональной матрицы $S$."
      ]
    },
    {
      "cell_type": "markdown",
      "metadata": {
        "id": "k0fgZ-bR_vmf",
        "colab_type": "text"
      },
      "source": [
        "$$ X = UV^TS $$"
      ]
    },
    {
      "cell_type": "markdown",
      "metadata": {
        "id": "toxAMF72_vmg",
        "colab_type": "text"
      },
      "source": [
        "В нашем случае $X$ – разреженная (состоящая преимущественно из нулей) user-item матрица. Разложив её на компоненты, мы можем их вновь перемножить и получить \"восстановленную\" матрицу $\\hat{X}$. Матрица $\\hat{X}$ и будет являться нашим предсказанием – метод SVD сделал сам за нас всё работу и заполнил пропуски в исходной матрице $X$"
      ]
    },
    {
      "cell_type": "markdown",
      "metadata": {
        "id": "sbHr70RV_vmg",
        "colab_type": "text"
      },
      "source": [
        "$$ UV^TS \\approx \\hat{X}$$"
      ]
    },
    {
      "cell_type": "code",
      "metadata": {
        "id": "3MwbOvua_vmh",
        "colab_type": "code",
        "colab": {}
      },
      "source": [
        "import scipy.sparse as sp\n",
        "from scipy.sparse.linalg import svds"
      ],
      "execution_count": null,
      "outputs": []
    },
    {
      "cell_type": "code",
      "metadata": {
        "id": "RX74LAyK_vmj",
        "colab_type": "code",
        "colab": {},
        "outputId": "a48125f1-3634-4e1b-fe75-b8c0f72a07c7"
      },
      "source": [
        "# делаем SVD\n",
        "u, s, vt = svds(train_data_matrix, k=10)\n",
        "\n",
        "s_diag_matrix = np.diag(s)"
      ],
      "execution_count": null,
      "outputs": [
        {
          "output_type": "stream",
          "text": [
            "User-based CF MSE: 2.9996144694820677\n"
          ],
          "name": "stdout"
        }
      ]
    },
    {
      "cell_type": "code",
      "metadata": {
        "id": "tO6xqeY6_vml",
        "colab_type": "code",
        "colab": {},
        "outputId": "472a5ce9-0c0c-4e4f-dfdc-a6fb0eb4fbc8"
      },
      "source": [
        "s"
      ],
      "execution_count": null,
      "outputs": [
        {
          "output_type": "execute_result",
          "data": {
            "text/plain": [
              "array([103.54958816, 104.96230484, 110.26226428, 113.96452264,\n",
              "       124.19324794, 135.45434079, 137.17017054, 167.43754559,\n",
              "       199.7861463 , 415.10837323])"
            ]
          },
          "metadata": {
            "tags": []
          },
          "execution_count": 29
        }
      ]
    },
    {
      "cell_type": "code",
      "metadata": {
        "id": "3WjnVNQu_vmo",
        "colab_type": "code",
        "colab": {},
        "outputId": "ade7936c-e28e-4ce2-daa2-40b5bc7be5d4"
      },
      "source": [
        "s.shape"
      ],
      "execution_count": null,
      "outputs": [
        {
          "output_type": "execute_result",
          "data": {
            "text/plain": [
              "(10,)"
            ]
          },
          "metadata": {
            "tags": []
          },
          "execution_count": 27
        }
      ]
    },
    {
      "cell_type": "code",
      "metadata": {
        "id": "Lu83niR9_vmq",
        "colab_type": "code",
        "colab": {},
        "outputId": "737bf247-ceff-4f9d-f1d4-283b278da00b"
      },
      "source": [
        "s_diag_matrix.shape"
      ],
      "execution_count": null,
      "outputs": [
        {
          "output_type": "execute_result",
          "data": {
            "text/plain": [
              "(10, 10)"
            ]
          },
          "metadata": {
            "tags": []
          },
          "execution_count": 28
        }
      ]
    },
    {
      "cell_type": "code",
      "metadata": {
        "id": "bborVa0N_vmt",
        "colab_type": "code",
        "colab": {}
      },
      "source": [
        "# предсказываем\n",
        "X_pred = np.dot(np.dot(u, s_diag_matrix), vt)"
      ],
      "execution_count": null,
      "outputs": []
    },
    {
      "cell_type": "code",
      "metadata": {
        "id": "xWGDCWQ9_vmv",
        "colab_type": "code",
        "colab": {},
        "outputId": "9d961fdf-580c-4780-d04a-8285cc192c2a"
      },
      "source": [
        "X_pred.shape"
      ],
      "execution_count": null,
      "outputs": [
        {
          "output_type": "execute_result",
          "data": {
            "text/plain": [
              "(671, 9066)"
            ]
          },
          "metadata": {
            "tags": []
          },
          "execution_count": 26
        }
      ]
    },
    {
      "cell_type": "code",
      "metadata": {
        "id": "WG4Y2RHB_vmx",
        "colab_type": "code",
        "colab": {},
        "outputId": "f0e75d76-710c-4419-e629-1c7ecaa3e2a3"
      },
      "source": [
        "# выводим метрику\n",
        "print('User-based CF MSE: ' + str(rmse(X_pred, test_data_matrix)))"
      ],
      "execution_count": null,
      "outputs": [
        {
          "output_type": "stream",
          "text": [
            "User-based CF MSE: 2.9996144694820677\n"
          ],
          "name": "stdout"
        }
      ]
    }
  ]
}
