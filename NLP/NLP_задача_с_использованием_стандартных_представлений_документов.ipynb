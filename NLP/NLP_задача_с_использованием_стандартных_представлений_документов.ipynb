{
  "nbformat": 4,
  "nbformat_minor": 0,
  "metadata": {
    "kernelspec": {
      "display_name": "Python 3",
      "language": "python",
      "name": "python3"
    },
    "language_info": {
      "codemirror_mode": {
        "name": "ipython",
        "version": 3
      },
      "file_extension": ".py",
      "mimetype": "text/x-python",
      "name": "python",
      "nbconvert_exporter": "python",
      "pygments_lexer": "ipython3",
      "version": "3.7.3"
    },
    "colab": {
      "name": "NLP_задача_с_использованием_стандартных_представлений_документов",
      "provenance": [],
      "collapsed_sections": [],
      "toc_visible": true
    }
  },
  "cells": [
    {
      "cell_type": "code",
      "metadata": {
        "id": "3Sf9qPXKJjaD",
        "colab_type": "code",
        "colab": {}
      },
      "source": [
        "import pandas as pd"
      ],
      "execution_count": null,
      "outputs": []
    },
    {
      "cell_type": "code",
      "metadata": {
        "id": "UcJHzicSTH8B",
        "colab_type": "code",
        "colab": {
          "base_uri": "https://localhost:8080/",
          "height": 121
        },
        "outputId": "fa34914f-9c9e-4d45-e9a7-c8cf82bada3d"
      },
      "source": [
        "from google.colab import drive\n",
        "drive.mount('/content/drive')"
      ],
      "execution_count": null,
      "outputs": [
        {
          "output_type": "stream",
          "text": [
            "Go to this URL in a browser: https://accounts.google.com/o/oauth2/auth?client_id=947318989803-6bn6qk8qdgf4n4g3pfee6491hc0brc4i.apps.googleusercontent.com&redirect_uri=urn%3Aietf%3Awg%3Aoauth%3A2.0%3Aoob&scope=email%20https%3A%2F%2Fwww.googleapis.com%2Fauth%2Fdocs.test%20https%3A%2F%2Fwww.googleapis.com%2Fauth%2Fdrive%20https%3A%2F%2Fwww.googleapis.com%2Fauth%2Fdrive.photos.readonly%20https%3A%2F%2Fwww.googleapis.com%2Fauth%2Fpeopleapi.readonly&response_type=code\n",
            "\n",
            "Enter your authorization code:\n",
            "··········\n",
            "Mounted at /content/drive\n"
          ],
          "name": "stdout"
        }
      ]
    },
    {
      "cell_type": "code",
      "metadata": {
        "id": "S9ZdwBykTjwC",
        "colab_type": "code",
        "colab": {}
      },
      "source": [
        "path='/content/drive/My Drive/ML_COURSE/HW8/'"
      ],
      "execution_count": null,
      "outputs": []
    },
    {
      "cell_type": "code",
      "metadata": {
        "id": "KgnHZ5PSJjaI",
        "colab_type": "code",
        "colab": {}
      },
      "source": [
        "train = pd.read_csv(path+\"train.tsv\", sep ='\\t')"
      ],
      "execution_count": null,
      "outputs": []
    },
    {
      "cell_type": "code",
      "metadata": {
        "id": "JpoC445rJjaL",
        "colab_type": "code",
        "colab": {
          "base_uri": "https://localhost:8080/",
          "height": 518
        },
        "outputId": "eda4ad01-aacc-459e-f7c2-931de663ec71"
      },
      "source": [
        "train.head()"
      ],
      "execution_count": null,
      "outputs": [
        {
          "output_type": "execute_result",
          "data": {
            "text/html": [
              "<div>\n",
              "<style scoped>\n",
              "    .dataframe tbody tr th:only-of-type {\n",
              "        vertical-align: middle;\n",
              "    }\n",
              "\n",
              "    .dataframe tbody tr th {\n",
              "        vertical-align: top;\n",
              "    }\n",
              "\n",
              "    .dataframe thead th {\n",
              "        text-align: right;\n",
              "    }\n",
              "</style>\n",
              "<table border=\"1\" class=\"dataframe\">\n",
              "  <thead>\n",
              "    <tr style=\"text-align: right;\">\n",
              "      <th></th>\n",
              "      <th>url</th>\n",
              "      <th>urlid</th>\n",
              "      <th>boilerplate</th>\n",
              "      <th>alchemy_category</th>\n",
              "      <th>alchemy_category_score</th>\n",
              "      <th>avglinksize</th>\n",
              "      <th>commonlinkratio_1</th>\n",
              "      <th>commonlinkratio_2</th>\n",
              "      <th>commonlinkratio_3</th>\n",
              "      <th>commonlinkratio_4</th>\n",
              "      <th>compression_ratio</th>\n",
              "      <th>embed_ratio</th>\n",
              "      <th>framebased</th>\n",
              "      <th>frameTagRatio</th>\n",
              "      <th>hasDomainLink</th>\n",
              "      <th>html_ratio</th>\n",
              "      <th>image_ratio</th>\n",
              "      <th>is_news</th>\n",
              "      <th>lengthyLinkDomain</th>\n",
              "      <th>linkwordscore</th>\n",
              "      <th>news_front_page</th>\n",
              "      <th>non_markup_alphanum_characters</th>\n",
              "      <th>numberOfLinks</th>\n",
              "      <th>numwords_in_url</th>\n",
              "      <th>parametrizedLinkRatio</th>\n",
              "      <th>spelling_errors_ratio</th>\n",
              "      <th>label</th>\n",
              "    </tr>\n",
              "  </thead>\n",
              "  <tbody>\n",
              "    <tr>\n",
              "      <th>0</th>\n",
              "      <td>http://www.bloomberg.com/news/2010-12-23/ibm-p...</td>\n",
              "      <td>4042</td>\n",
              "      <td>{\"title\":\"IBM Sees Holographic Calls Air Breat...</td>\n",
              "      <td>business</td>\n",
              "      <td>0.789131</td>\n",
              "      <td>2.055556</td>\n",
              "      <td>0.676471</td>\n",
              "      <td>0.205882</td>\n",
              "      <td>0.047059</td>\n",
              "      <td>0.023529</td>\n",
              "      <td>0.443783</td>\n",
              "      <td>0.0</td>\n",
              "      <td>0</td>\n",
              "      <td>0.090774</td>\n",
              "      <td>0</td>\n",
              "      <td>0.245831</td>\n",
              "      <td>0.003883</td>\n",
              "      <td>1</td>\n",
              "      <td>1</td>\n",
              "      <td>24</td>\n",
              "      <td>0</td>\n",
              "      <td>5424</td>\n",
              "      <td>170</td>\n",
              "      <td>8</td>\n",
              "      <td>0.152941</td>\n",
              "      <td>0.079130</td>\n",
              "      <td>0</td>\n",
              "    </tr>\n",
              "    <tr>\n",
              "      <th>1</th>\n",
              "      <td>http://www.popsci.com/technology/article/2012-...</td>\n",
              "      <td>8471</td>\n",
              "      <td>{\"title\":\"The Fully Electronic Futuristic Star...</td>\n",
              "      <td>recreation</td>\n",
              "      <td>0.574147</td>\n",
              "      <td>3.677966</td>\n",
              "      <td>0.508021</td>\n",
              "      <td>0.288770</td>\n",
              "      <td>0.213904</td>\n",
              "      <td>0.144385</td>\n",
              "      <td>0.468649</td>\n",
              "      <td>0.0</td>\n",
              "      <td>0</td>\n",
              "      <td>0.098707</td>\n",
              "      <td>0</td>\n",
              "      <td>0.203490</td>\n",
              "      <td>0.088652</td>\n",
              "      <td>1</td>\n",
              "      <td>1</td>\n",
              "      <td>40</td>\n",
              "      <td>0</td>\n",
              "      <td>4973</td>\n",
              "      <td>187</td>\n",
              "      <td>9</td>\n",
              "      <td>0.181818</td>\n",
              "      <td>0.125448</td>\n",
              "      <td>1</td>\n",
              "    </tr>\n",
              "    <tr>\n",
              "      <th>2</th>\n",
              "      <td>http://www.menshealth.com/health/flu-fighting-...</td>\n",
              "      <td>1164</td>\n",
              "      <td>{\"title\":\"Fruits that Fight the Flu fruits tha...</td>\n",
              "      <td>health</td>\n",
              "      <td>0.996526</td>\n",
              "      <td>2.382883</td>\n",
              "      <td>0.562016</td>\n",
              "      <td>0.321705</td>\n",
              "      <td>0.120155</td>\n",
              "      <td>0.042636</td>\n",
              "      <td>0.525448</td>\n",
              "      <td>0.0</td>\n",
              "      <td>0</td>\n",
              "      <td>0.072448</td>\n",
              "      <td>0</td>\n",
              "      <td>0.226402</td>\n",
              "      <td>0.120536</td>\n",
              "      <td>1</td>\n",
              "      <td>1</td>\n",
              "      <td>55</td>\n",
              "      <td>0</td>\n",
              "      <td>2240</td>\n",
              "      <td>258</td>\n",
              "      <td>11</td>\n",
              "      <td>0.166667</td>\n",
              "      <td>0.057613</td>\n",
              "      <td>1</td>\n",
              "    </tr>\n",
              "    <tr>\n",
              "      <th>3</th>\n",
              "      <td>http://www.dumblittleman.com/2007/12/10-foolpr...</td>\n",
              "      <td>6684</td>\n",
              "      <td>{\"title\":\"10 Foolproof Tips for Better Sleep \"...</td>\n",
              "      <td>health</td>\n",
              "      <td>0.801248</td>\n",
              "      <td>1.543103</td>\n",
              "      <td>0.400000</td>\n",
              "      <td>0.100000</td>\n",
              "      <td>0.016667</td>\n",
              "      <td>0.000000</td>\n",
              "      <td>0.480725</td>\n",
              "      <td>0.0</td>\n",
              "      <td>0</td>\n",
              "      <td>0.095861</td>\n",
              "      <td>0</td>\n",
              "      <td>0.265656</td>\n",
              "      <td>0.035343</td>\n",
              "      <td>1</td>\n",
              "      <td>0</td>\n",
              "      <td>24</td>\n",
              "      <td>0</td>\n",
              "      <td>2737</td>\n",
              "      <td>120</td>\n",
              "      <td>5</td>\n",
              "      <td>0.041667</td>\n",
              "      <td>0.100858</td>\n",
              "      <td>1</td>\n",
              "    </tr>\n",
              "    <tr>\n",
              "      <th>4</th>\n",
              "      <td>http://bleacherreport.com/articles/1205138-the...</td>\n",
              "      <td>9006</td>\n",
              "      <td>{\"title\":\"The 50 Coolest Jerseys You Didn t Kn...</td>\n",
              "      <td>sports</td>\n",
              "      <td>0.719157</td>\n",
              "      <td>2.676471</td>\n",
              "      <td>0.500000</td>\n",
              "      <td>0.222222</td>\n",
              "      <td>0.123457</td>\n",
              "      <td>0.043210</td>\n",
              "      <td>0.446143</td>\n",
              "      <td>0.0</td>\n",
              "      <td>0</td>\n",
              "      <td>0.024908</td>\n",
              "      <td>0</td>\n",
              "      <td>0.228887</td>\n",
              "      <td>0.050473</td>\n",
              "      <td>1</td>\n",
              "      <td>1</td>\n",
              "      <td>14</td>\n",
              "      <td>0</td>\n",
              "      <td>12032</td>\n",
              "      <td>162</td>\n",
              "      <td>10</td>\n",
              "      <td>0.098765</td>\n",
              "      <td>0.082569</td>\n",
              "      <td>0</td>\n",
              "    </tr>\n",
              "  </tbody>\n",
              "</table>\n",
              "</div>"
            ],
            "text/plain": [
              "                                                 url  ...  label\n",
              "0  http://www.bloomberg.com/news/2010-12-23/ibm-p...  ...      0\n",
              "1  http://www.popsci.com/technology/article/2012-...  ...      1\n",
              "2  http://www.menshealth.com/health/flu-fighting-...  ...      1\n",
              "3  http://www.dumblittleman.com/2007/12/10-foolpr...  ...      1\n",
              "4  http://bleacherreport.com/articles/1205138-the...  ...      0\n",
              "\n",
              "[5 rows x 27 columns]"
            ]
          },
          "metadata": {
            "tags": []
          },
          "execution_count": 6
        }
      ]
    },
    {
      "cell_type": "markdown",
      "metadata": {
        "id": "O4ucu3tR4tCG",
        "colab_type": "text"
      },
      "source": [
        ""
      ]
    },
    {
      "cell_type": "code",
      "metadata": {
        "id": "4lzbRny_BhmT",
        "colab_type": "code",
        "colab": {
          "base_uri": "https://localhost:8080/",
          "height": 304
        },
        "outputId": "37f02e91-ef8e-4ee3-8dae-0ee393dc105c"
      },
      "source": [
        "train.describe()"
      ],
      "execution_count": null,
      "outputs": [
        {
          "output_type": "execute_result",
          "data": {
            "text/html": [
              "<div>\n",
              "<style scoped>\n",
              "    .dataframe tbody tr th:only-of-type {\n",
              "        vertical-align: middle;\n",
              "    }\n",
              "\n",
              "    .dataframe tbody tr th {\n",
              "        vertical-align: top;\n",
              "    }\n",
              "\n",
              "    .dataframe thead th {\n",
              "        text-align: right;\n",
              "    }\n",
              "</style>\n",
              "<table border=\"1\" class=\"dataframe\">\n",
              "  <thead>\n",
              "    <tr style=\"text-align: right;\">\n",
              "      <th></th>\n",
              "      <th>urlid</th>\n",
              "      <th>avglinksize</th>\n",
              "      <th>commonlinkratio_1</th>\n",
              "      <th>commonlinkratio_2</th>\n",
              "      <th>commonlinkratio_3</th>\n",
              "      <th>commonlinkratio_4</th>\n",
              "      <th>compression_ratio</th>\n",
              "      <th>embed_ratio</th>\n",
              "      <th>framebased</th>\n",
              "      <th>frameTagRatio</th>\n",
              "      <th>hasDomainLink</th>\n",
              "      <th>html_ratio</th>\n",
              "      <th>image_ratio</th>\n",
              "      <th>lengthyLinkDomain</th>\n",
              "      <th>linkwordscore</th>\n",
              "      <th>non_markup_alphanum_characters</th>\n",
              "      <th>numberOfLinks</th>\n",
              "      <th>numwords_in_url</th>\n",
              "      <th>parametrizedLinkRatio</th>\n",
              "      <th>spelling_errors_ratio</th>\n",
              "      <th>label</th>\n",
              "    </tr>\n",
              "  </thead>\n",
              "  <tbody>\n",
              "    <tr>\n",
              "      <th>count</th>\n",
              "      <td>7395.000000</td>\n",
              "      <td>7395.000000</td>\n",
              "      <td>7395.000000</td>\n",
              "      <td>7395.000000</td>\n",
              "      <td>7395.000000</td>\n",
              "      <td>7395.000000</td>\n",
              "      <td>7395.000000</td>\n",
              "      <td>7395.000000</td>\n",
              "      <td>7395.0</td>\n",
              "      <td>7395.000000</td>\n",
              "      <td>7395.000000</td>\n",
              "      <td>7395.000000</td>\n",
              "      <td>7395.000000</td>\n",
              "      <td>7395.000000</td>\n",
              "      <td>7395.000000</td>\n",
              "      <td>7395.000000</td>\n",
              "      <td>7395.000000</td>\n",
              "      <td>7395.000000</td>\n",
              "      <td>7395.000000</td>\n",
              "      <td>7395.000000</td>\n",
              "      <td>7395.000000</td>\n",
              "    </tr>\n",
              "    <tr>\n",
              "      <th>mean</th>\n",
              "      <td>5305.704665</td>\n",
              "      <td>2.761823</td>\n",
              "      <td>0.468230</td>\n",
              "      <td>0.214080</td>\n",
              "      <td>0.092062</td>\n",
              "      <td>0.049262</td>\n",
              "      <td>2.255103</td>\n",
              "      <td>-0.103750</td>\n",
              "      <td>0.0</td>\n",
              "      <td>0.056423</td>\n",
              "      <td>0.021231</td>\n",
              "      <td>0.233778</td>\n",
              "      <td>0.275709</td>\n",
              "      <td>0.660311</td>\n",
              "      <td>30.077079</td>\n",
              "      <td>5716.598242</td>\n",
              "      <td>178.754564</td>\n",
              "      <td>4.960649</td>\n",
              "      <td>0.172864</td>\n",
              "      <td>0.101221</td>\n",
              "      <td>0.513320</td>\n",
              "    </tr>\n",
              "    <tr>\n",
              "      <th>std</th>\n",
              "      <td>3048.384114</td>\n",
              "      <td>8.619793</td>\n",
              "      <td>0.203133</td>\n",
              "      <td>0.146743</td>\n",
              "      <td>0.095978</td>\n",
              "      <td>0.072629</td>\n",
              "      <td>5.704313</td>\n",
              "      <td>0.306545</td>\n",
              "      <td>0.0</td>\n",
              "      <td>0.041446</td>\n",
              "      <td>0.144162</td>\n",
              "      <td>0.052487</td>\n",
              "      <td>1.919320</td>\n",
              "      <td>0.473636</td>\n",
              "      <td>20.393101</td>\n",
              "      <td>8875.432430</td>\n",
              "      <td>179.466198</td>\n",
              "      <td>3.233111</td>\n",
              "      <td>0.183286</td>\n",
              "      <td>0.079231</td>\n",
              "      <td>0.499856</td>\n",
              "    </tr>\n",
              "    <tr>\n",
              "      <th>min</th>\n",
              "      <td>1.000000</td>\n",
              "      <td>0.000000</td>\n",
              "      <td>0.000000</td>\n",
              "      <td>0.000000</td>\n",
              "      <td>0.000000</td>\n",
              "      <td>0.000000</td>\n",
              "      <td>0.000000</td>\n",
              "      <td>-1.000000</td>\n",
              "      <td>0.0</td>\n",
              "      <td>0.000000</td>\n",
              "      <td>0.000000</td>\n",
              "      <td>0.045564</td>\n",
              "      <td>-1.000000</td>\n",
              "      <td>0.000000</td>\n",
              "      <td>0.000000</td>\n",
              "      <td>0.000000</td>\n",
              "      <td>1.000000</td>\n",
              "      <td>0.000000</td>\n",
              "      <td>0.000000</td>\n",
              "      <td>0.000000</td>\n",
              "      <td>0.000000</td>\n",
              "    </tr>\n",
              "    <tr>\n",
              "      <th>25%</th>\n",
              "      <td>2688.500000</td>\n",
              "      <td>1.602062</td>\n",
              "      <td>0.340370</td>\n",
              "      <td>0.105263</td>\n",
              "      <td>0.022222</td>\n",
              "      <td>0.000000</td>\n",
              "      <td>0.442616</td>\n",
              "      <td>0.000000</td>\n",
              "      <td>0.0</td>\n",
              "      <td>0.028502</td>\n",
              "      <td>0.000000</td>\n",
              "      <td>0.201061</td>\n",
              "      <td>0.025900</td>\n",
              "      <td>0.000000</td>\n",
              "      <td>14.000000</td>\n",
              "      <td>1579.000000</td>\n",
              "      <td>82.000000</td>\n",
              "      <td>3.000000</td>\n",
              "      <td>0.040984</td>\n",
              "      <td>0.068739</td>\n",
              "      <td>0.000000</td>\n",
              "    </tr>\n",
              "    <tr>\n",
              "      <th>50%</th>\n",
              "      <td>5304.000000</td>\n",
              "      <td>2.088235</td>\n",
              "      <td>0.481481</td>\n",
              "      <td>0.202454</td>\n",
              "      <td>0.068627</td>\n",
              "      <td>0.022222</td>\n",
              "      <td>0.483680</td>\n",
              "      <td>0.000000</td>\n",
              "      <td>0.0</td>\n",
              "      <td>0.045775</td>\n",
              "      <td>0.000000</td>\n",
              "      <td>0.230564</td>\n",
              "      <td>0.083051</td>\n",
              "      <td>1.000000</td>\n",
              "      <td>25.000000</td>\n",
              "      <td>3500.000000</td>\n",
              "      <td>139.000000</td>\n",
              "      <td>5.000000</td>\n",
              "      <td>0.113402</td>\n",
              "      <td>0.089312</td>\n",
              "      <td>1.000000</td>\n",
              "    </tr>\n",
              "    <tr>\n",
              "      <th>75%</th>\n",
              "      <td>7946.500000</td>\n",
              "      <td>2.627451</td>\n",
              "      <td>0.616604</td>\n",
              "      <td>0.300000</td>\n",
              "      <td>0.133333</td>\n",
              "      <td>0.065065</td>\n",
              "      <td>0.578227</td>\n",
              "      <td>0.000000</td>\n",
              "      <td>0.0</td>\n",
              "      <td>0.073459</td>\n",
              "      <td>0.000000</td>\n",
              "      <td>0.260770</td>\n",
              "      <td>0.236700</td>\n",
              "      <td>1.000000</td>\n",
              "      <td>43.000000</td>\n",
              "      <td>6377.000000</td>\n",
              "      <td>222.000000</td>\n",
              "      <td>7.000000</td>\n",
              "      <td>0.241299</td>\n",
              "      <td>0.112376</td>\n",
              "      <td>1.000000</td>\n",
              "    </tr>\n",
              "    <tr>\n",
              "      <th>max</th>\n",
              "      <td>10566.000000</td>\n",
              "      <td>363.000000</td>\n",
              "      <td>1.000000</td>\n",
              "      <td>1.000000</td>\n",
              "      <td>0.980392</td>\n",
              "      <td>0.980392</td>\n",
              "      <td>21.000000</td>\n",
              "      <td>0.250000</td>\n",
              "      <td>0.0</td>\n",
              "      <td>0.444444</td>\n",
              "      <td>1.000000</td>\n",
              "      <td>0.716883</td>\n",
              "      <td>113.333333</td>\n",
              "      <td>1.000000</td>\n",
              "      <td>100.000000</td>\n",
              "      <td>207952.000000</td>\n",
              "      <td>4997.000000</td>\n",
              "      <td>22.000000</td>\n",
              "      <td>1.000000</td>\n",
              "      <td>1.000000</td>\n",
              "      <td>1.000000</td>\n",
              "    </tr>\n",
              "  </tbody>\n",
              "</table>\n",
              "</div>"
            ],
            "text/plain": [
              "              urlid  avglinksize  ...  spelling_errors_ratio        label\n",
              "count   7395.000000  7395.000000  ...            7395.000000  7395.000000\n",
              "mean    5305.704665     2.761823  ...               0.101221     0.513320\n",
              "std     3048.384114     8.619793  ...               0.079231     0.499856\n",
              "min        1.000000     0.000000  ...               0.000000     0.000000\n",
              "25%     2688.500000     1.602062  ...               0.068739     0.000000\n",
              "50%     5304.000000     2.088235  ...               0.089312     1.000000\n",
              "75%     7946.500000     2.627451  ...               0.112376     1.000000\n",
              "max    10566.000000   363.000000  ...               1.000000     1.000000\n",
              "\n",
              "[8 rows x 21 columns]"
            ]
          },
          "metadata": {
            "tags": []
          },
          "execution_count": 18
        }
      ]
    },
    {
      "cell_type": "markdown",
      "metadata": {
        "id": "d-ViYG7VmaFr",
        "colab_type": "text"
      },
      "source": [
        "<h1>Вариант с обработкой только одного признака (boilerplate)<br> Без предобработки текста"
      ]
    },
    {
      "cell_type": "code",
      "metadata": {
        "id": "41n7DASzhuac",
        "colab_type": "code",
        "colab": {
          "base_uri": "https://localhost:8080/",
          "height": 944
        },
        "outputId": "4a75f916-b3e1-459f-b531-49093445a93f"
      },
      "source": [
        "import numpy as np\n",
        "from sklearn import metrics,preprocessing,model_selection\n",
        "from sklearn.model_selection import cross_val_score\n",
        "from sklearn.feature_extraction.text import TfidfVectorizer\n",
        "import sklearn.linear_model as lm\n",
        "import pandas as p\n",
        "\n",
        "path='/content/drive/My Drive/ML_COURSE/HW8/'\n",
        "\n",
        "\n",
        "\n",
        "print(\"loading data..\")\n",
        "traindata = list(np.array(p.read_table(path+'train.tsv'))[:,2])\n",
        "testdata = list(np.array(p.read_table(path+'test.tsv'))[:,2])\n",
        "y = np.array(p.read_table(path+'train.tsv'))[:,-1]\n",
        "\n",
        "y=y.astype('int')\n",
        "\n",
        "tfv = TfidfVectorizer(min_df=3, max_features=None, strip_accents='unicode',  \n",
        "      analyzer='word',token_pattern=r'\\w{1,}',ngram_range=(1, 2), use_idf=1,smooth_idf=1,sublinear_tf=1)\n",
        "\n",
        "rd = lm.LogisticRegression(penalty='l2', dual=True, tol=0.0001, \n",
        "                           C=1, fit_intercept=True, intercept_scaling=1.0, \n",
        "                           class_weight=None, random_state=None)\n",
        "\n",
        "X_all = traindata + testdata\n",
        "lentrain = len(traindata)\n",
        "\n",
        "print(\"fitting pipeline\")\n",
        "tfv.fit(X_all)\n",
        "print(\"transforming data\")\n",
        "X_all = tfv.transform(X_all)\n",
        "\n",
        "X = X_all[:lentrain]\n",
        "X_test = X_all[lentrain:]\n",
        "\n",
        "           \n",
        "print(\"20 Fold CV Score: \", np.mean(cross_val_score(rd, X, y, cv=20, scoring='roc_auc')))\n",
        "\n",
        "print(\"training on full data\")\n",
        "rd.fit(X,y)\n",
        "pred = rd.predict_proba(X_test)[:,1]\n",
        "testfile = p.read_csv(path+'test.tsv', sep=\"\\t\", na_values=['?'], index_col=1)\n",
        "pred_df = p.DataFrame(pred, index=testfile.index, columns=['label'])\n",
        "pred_df.to_csv('benchmark.csv')\n",
        "print(\"submission file created..\")\n",
        "\n"
      ],
      "execution_count": null,
      "outputs": [
        {
          "output_type": "stream",
          "text": [
            "loading data..\n"
          ],
          "name": "stdout"
        },
        {
          "output_type": "stream",
          "text": [
            "/usr/local/lib/python3.6/dist-packages/ipykernel_launcher.py:13: FutureWarning: read_table is deprecated, use read_csv instead, passing sep='\\t'.\n",
            "  del sys.path[0]\n",
            "/usr/local/lib/python3.6/dist-packages/ipykernel_launcher.py:14: FutureWarning: read_table is deprecated, use read_csv instead, passing sep='\\t'.\n",
            "  \n",
            "/usr/local/lib/python3.6/dist-packages/ipykernel_launcher.py:15: FutureWarning: read_table is deprecated, use read_csv instead, passing sep='\\t'.\n",
            "  from ipykernel import kernelapp as app\n"
          ],
          "name": "stderr"
        },
        {
          "output_type": "stream",
          "text": [
            "fitting pipeline\n",
            "transforming data\n"
          ],
          "name": "stdout"
        },
        {
          "output_type": "stream",
          "text": [
            "/usr/local/lib/python3.6/dist-packages/sklearn/linear_model/logistic.py:432: FutureWarning: Default solver will be changed to 'lbfgs' in 0.22. Specify a solver to silence this warning.\n",
            "  FutureWarning)\n",
            "/usr/local/lib/python3.6/dist-packages/sklearn/linear_model/logistic.py:432: FutureWarning: Default solver will be changed to 'lbfgs' in 0.22. Specify a solver to silence this warning.\n",
            "  FutureWarning)\n",
            "/usr/local/lib/python3.6/dist-packages/sklearn/linear_model/logistic.py:432: FutureWarning: Default solver will be changed to 'lbfgs' in 0.22. Specify a solver to silence this warning.\n",
            "  FutureWarning)\n",
            "/usr/local/lib/python3.6/dist-packages/sklearn/linear_model/logistic.py:432: FutureWarning: Default solver will be changed to 'lbfgs' in 0.22. Specify a solver to silence this warning.\n",
            "  FutureWarning)\n",
            "/usr/local/lib/python3.6/dist-packages/sklearn/linear_model/logistic.py:432: FutureWarning: Default solver will be changed to 'lbfgs' in 0.22. Specify a solver to silence this warning.\n",
            "  FutureWarning)\n",
            "/usr/local/lib/python3.6/dist-packages/sklearn/linear_model/logistic.py:432: FutureWarning: Default solver will be changed to 'lbfgs' in 0.22. Specify a solver to silence this warning.\n",
            "  FutureWarning)\n",
            "/usr/local/lib/python3.6/dist-packages/sklearn/linear_model/logistic.py:432: FutureWarning: Default solver will be changed to 'lbfgs' in 0.22. Specify a solver to silence this warning.\n",
            "  FutureWarning)\n",
            "/usr/local/lib/python3.6/dist-packages/sklearn/linear_model/logistic.py:432: FutureWarning: Default solver will be changed to 'lbfgs' in 0.22. Specify a solver to silence this warning.\n",
            "  FutureWarning)\n",
            "/usr/local/lib/python3.6/dist-packages/sklearn/linear_model/logistic.py:432: FutureWarning: Default solver will be changed to 'lbfgs' in 0.22. Specify a solver to silence this warning.\n",
            "  FutureWarning)\n",
            "/usr/local/lib/python3.6/dist-packages/sklearn/linear_model/logistic.py:432: FutureWarning: Default solver will be changed to 'lbfgs' in 0.22. Specify a solver to silence this warning.\n",
            "  FutureWarning)\n",
            "/usr/local/lib/python3.6/dist-packages/sklearn/linear_model/logistic.py:432: FutureWarning: Default solver will be changed to 'lbfgs' in 0.22. Specify a solver to silence this warning.\n",
            "  FutureWarning)\n",
            "/usr/local/lib/python3.6/dist-packages/sklearn/linear_model/logistic.py:432: FutureWarning: Default solver will be changed to 'lbfgs' in 0.22. Specify a solver to silence this warning.\n",
            "  FutureWarning)\n",
            "/usr/local/lib/python3.6/dist-packages/sklearn/linear_model/logistic.py:432: FutureWarning: Default solver will be changed to 'lbfgs' in 0.22. Specify a solver to silence this warning.\n",
            "  FutureWarning)\n",
            "/usr/local/lib/python3.6/dist-packages/sklearn/linear_model/logistic.py:432: FutureWarning: Default solver will be changed to 'lbfgs' in 0.22. Specify a solver to silence this warning.\n",
            "  FutureWarning)\n",
            "/usr/local/lib/python3.6/dist-packages/sklearn/linear_model/logistic.py:432: FutureWarning: Default solver will be changed to 'lbfgs' in 0.22. Specify a solver to silence this warning.\n",
            "  FutureWarning)\n",
            "/usr/local/lib/python3.6/dist-packages/sklearn/linear_model/logistic.py:432: FutureWarning: Default solver will be changed to 'lbfgs' in 0.22. Specify a solver to silence this warning.\n",
            "  FutureWarning)\n",
            "/usr/local/lib/python3.6/dist-packages/sklearn/linear_model/logistic.py:432: FutureWarning: Default solver will be changed to 'lbfgs' in 0.22. Specify a solver to silence this warning.\n",
            "  FutureWarning)\n",
            "/usr/local/lib/python3.6/dist-packages/sklearn/linear_model/logistic.py:432: FutureWarning: Default solver will be changed to 'lbfgs' in 0.22. Specify a solver to silence this warning.\n",
            "  FutureWarning)\n",
            "/usr/local/lib/python3.6/dist-packages/sklearn/linear_model/logistic.py:432: FutureWarning: Default solver will be changed to 'lbfgs' in 0.22. Specify a solver to silence this warning.\n",
            "  FutureWarning)\n",
            "/usr/local/lib/python3.6/dist-packages/sklearn/linear_model/logistic.py:432: FutureWarning: Default solver will be changed to 'lbfgs' in 0.22. Specify a solver to silence this warning.\n",
            "  FutureWarning)\n"
          ],
          "name": "stderr"
        },
        {
          "output_type": "stream",
          "text": [
            "20 Fold CV Score:  0.8771223762342266\n",
            "training on full data\n"
          ],
          "name": "stdout"
        },
        {
          "output_type": "stream",
          "text": [
            "/usr/local/lib/python3.6/dist-packages/sklearn/linear_model/logistic.py:432: FutureWarning: Default solver will be changed to 'lbfgs' in 0.22. Specify a solver to silence this warning.\n",
            "  FutureWarning)\n"
          ],
          "name": "stderr"
        },
        {
          "output_type": "stream",
          "text": [
            "submission file created..\n"
          ],
          "name": "stdout"
        }
      ]
    },
    {
      "cell_type": "code",
      "metadata": {
        "id": "NLts1_1D48s7",
        "colab_type": "code",
        "colab": {}
      },
      "source": [
        "traindata"
      ],
      "execution_count": null,
      "outputs": []
    },
    {
      "cell_type": "markdown",
      "metadata": {
        "id": "BIISDupLnB07",
        "colab_type": "text"
      },
      "source": [
        "<h1>20 Fold CV Score:  0.8771223762342266"
      ]
    },
    {
      "cell_type": "markdown",
      "metadata": {
        "id": "JmR1HZbFnHjq",
        "colab_type": "text"
      },
      "source": [
        "<h1>Делаем небольшую предобработку с "
      ]
    },
    {
      "cell_type": "code",
      "metadata": {
        "id": "fv7jRnQTUvBk",
        "colab_type": "code",
        "colab": {
          "base_uri": "https://localhost:8080/",
          "height": 101
        },
        "outputId": "0f01fd74-ff2e-49eb-9c23-7bf633657362"
      },
      "source": [
        "nltk.download('punkt')\n",
        "nltk.download('wordnet')"
      ],
      "execution_count": null,
      "outputs": [
        {
          "output_type": "stream",
          "text": [
            "[nltk_data] Downloading package punkt to /root/nltk_data...\n",
            "[nltk_data]   Package punkt is already up-to-date!\n",
            "[nltk_data] Downloading package wordnet to /root/nltk_data...\n",
            "[nltk_data]   Unzipping corpora/wordnet.zip.\n"
          ],
          "name": "stdout"
        },
        {
          "output_type": "execute_result",
          "data": {
            "text/plain": [
              "True"
            ]
          },
          "metadata": {
            "tags": []
          },
          "execution_count": 11
        }
      ]
    },
    {
      "cell_type": "code",
      "metadata": {
        "id": "QwqsT-X9U3im",
        "colab_type": "code",
        "colab": {}
      },
      "source": [
        "import nltk\n",
        "from nltk.stem import WordNetLemmatizer,PorterStemmer \n",
        "import re\n",
        "\n",
        "\n",
        "def tokenize_stem_lem(text):\n",
        "    lemma = nltk.wordnet.WordNetLemmatizer()\n",
        "    stemmer = nltk.stem.PorterStemmer()\n",
        "    \"\"\"\n",
        "    First tokenize by sentence, then by word to ensure that punctuation is caught as it's own token\n",
        "    \"\"\"\n",
        "    tokens = [word for sent in nltk.sent_tokenize(text) for word in nltk.word_tokenize(sent)]\n",
        "    filtered_tokens = []\n",
        "    # filter out any tokens not containing letters (e.g., numeric tokens, raw punctuation)\n",
        "    for token in tokens:\n",
        "        if re.search('[a-zA-Z]', token):\n",
        "            if 'title' == token:\n",
        "                token = ''\n",
        "            if 'url' == token:\n",
        "                token = ''\n",
        "            if 'titl' == token:\n",
        "                token = ''\n",
        "            filtered_tokens.append(token)\n",
        "    stems = [lemma.lemmatize(stemmer.stem(t)) for t in filtered_tokens if len(t) > 0]\n",
        "    return stems "
      ],
      "execution_count": null,
      "outputs": []
    },
    {
      "cell_type": "code",
      "metadata": {
        "id": "DbCrB1InMHkh",
        "colab_type": "code",
        "colab": {
          "base_uri": "https://localhost:8080/",
          "height": 961
        },
        "outputId": "43ee04ae-9d74-4d37-8aed-ad603b21a616"
      },
      "source": [
        "#from preprocessing import preprocess_pipeline\n",
        "\n",
        "#Change and add following:\n",
        "\n",
        "print(\"loading data..\")\n",
        "traindata = list(np.array(p.read_table(path+'train.tsv'))[:,2])\n",
        "testdata = list(np.array(p.read_table(path+'test.tsv'))[:,2])\n",
        "y = np.array(p.read_table(path+'train.tsv'))[:,-1]\n",
        "\n",
        "y=y.astype('int')\n",
        "\n",
        "\n",
        "print(\"pre-processing data\")\n",
        "\n",
        "\n",
        "traindataraw = []\n",
        "testdataraw = []\n",
        "\n",
        "for observation in traindata:\n",
        "  arr = tokenize_stem_lem(observation)\n",
        "  s = ' '.join(arr)\n",
        "  traindataraw.append(s.lower())\n",
        "for observation in testdata:\n",
        "  arr = tokenize_stem_lem(observation)\n",
        "  s = ' '.join(arr)\n",
        "  testdataraw.append(s.lower())\n",
        "\n",
        "tfv = TfidfVectorizer(min_df=3, max_features=None, strip_accents='unicode',  \n",
        "      analyzer='word',token_pattern=r'\\w{1,}',ngram_range=(1, 2), use_idf=1,smooth_idf=1,sublinear_tf=1)\n",
        "\n",
        "rd = lm.LogisticRegression(penalty='l2', dual=True, tol=0.0001, \n",
        "                           C=1, fit_intercept=True, intercept_scaling=1.0, \n",
        "                           class_weight=None, random_state=None)\n",
        "\n",
        "X_all = traindataraw + testdataraw\n",
        "lentrain = len(traindata)\n",
        "\n",
        "print(\"fitting pipeline\")\n",
        "tfv.fit(X_all)\n",
        "print(\"transforming data\")\n",
        "X_all = tfv.transform(X_all)\n",
        "\n",
        "X = X_all[:lentrain]\n",
        "X_test = X_all[lentrain:]\n",
        "\n",
        "           \n",
        "print(\"20 Fold CV Score: \", np.mean(cross_val_score(rd, X, y, cv=20, scoring='roc_auc')))\n",
        "\n",
        "print(\"training on full data\")\n",
        "rd.fit(X,y)\n",
        "pred = rd.predict_proba(X_test)[:,1]\n",
        "testfile = p.read_csv(path+'test.tsv', sep=\"\\t\", na_values=['?'], index_col=1)\n",
        "pred_df = p.DataFrame(pred, index=testfile.index, columns=['label'])\n",
        "pred_df.to_csv('benchmark.csv')\n",
        "print(\"submission file created..\")\n",
        "\n",
        "\n"
      ],
      "execution_count": null,
      "outputs": [
        {
          "output_type": "stream",
          "text": [
            "loading data..\n"
          ],
          "name": "stdout"
        },
        {
          "output_type": "stream",
          "text": [
            "/usr/local/lib/python3.6/dist-packages/ipykernel_launcher.py:3: FutureWarning: read_table is deprecated, use read_csv instead, passing sep='\\t'.\n",
            "  This is separate from the ipykernel package so we can avoid doing imports until\n",
            "/usr/local/lib/python3.6/dist-packages/ipykernel_launcher.py:4: FutureWarning: read_table is deprecated, use read_csv instead, passing sep='\\t'.\n",
            "  after removing the cwd from sys.path.\n",
            "/usr/local/lib/python3.6/dist-packages/ipykernel_launcher.py:5: FutureWarning: read_table is deprecated, use read_csv instead, passing sep='\\t'.\n",
            "  \"\"\"\n"
          ],
          "name": "stderr"
        },
        {
          "output_type": "stream",
          "text": [
            "pre-processing data\n",
            "fitting pipeline\n",
            "transforming data\n"
          ],
          "name": "stdout"
        },
        {
          "output_type": "stream",
          "text": [
            "/usr/local/lib/python3.6/dist-packages/sklearn/linear_model/logistic.py:432: FutureWarning: Default solver will be changed to 'lbfgs' in 0.22. Specify a solver to silence this warning.\n",
            "  FutureWarning)\n",
            "/usr/local/lib/python3.6/dist-packages/sklearn/linear_model/logistic.py:432: FutureWarning: Default solver will be changed to 'lbfgs' in 0.22. Specify a solver to silence this warning.\n",
            "  FutureWarning)\n",
            "/usr/local/lib/python3.6/dist-packages/sklearn/linear_model/logistic.py:432: FutureWarning: Default solver will be changed to 'lbfgs' in 0.22. Specify a solver to silence this warning.\n",
            "  FutureWarning)\n",
            "/usr/local/lib/python3.6/dist-packages/sklearn/linear_model/logistic.py:432: FutureWarning: Default solver will be changed to 'lbfgs' in 0.22. Specify a solver to silence this warning.\n",
            "  FutureWarning)\n",
            "/usr/local/lib/python3.6/dist-packages/sklearn/linear_model/logistic.py:432: FutureWarning: Default solver will be changed to 'lbfgs' in 0.22. Specify a solver to silence this warning.\n",
            "  FutureWarning)\n",
            "/usr/local/lib/python3.6/dist-packages/sklearn/linear_model/logistic.py:432: FutureWarning: Default solver will be changed to 'lbfgs' in 0.22. Specify a solver to silence this warning.\n",
            "  FutureWarning)\n",
            "/usr/local/lib/python3.6/dist-packages/sklearn/linear_model/logistic.py:432: FutureWarning: Default solver will be changed to 'lbfgs' in 0.22. Specify a solver to silence this warning.\n",
            "  FutureWarning)\n",
            "/usr/local/lib/python3.6/dist-packages/sklearn/linear_model/logistic.py:432: FutureWarning: Default solver will be changed to 'lbfgs' in 0.22. Specify a solver to silence this warning.\n",
            "  FutureWarning)\n",
            "/usr/local/lib/python3.6/dist-packages/sklearn/linear_model/logistic.py:432: FutureWarning: Default solver will be changed to 'lbfgs' in 0.22. Specify a solver to silence this warning.\n",
            "  FutureWarning)\n",
            "/usr/local/lib/python3.6/dist-packages/sklearn/linear_model/logistic.py:432: FutureWarning: Default solver will be changed to 'lbfgs' in 0.22. Specify a solver to silence this warning.\n",
            "  FutureWarning)\n",
            "/usr/local/lib/python3.6/dist-packages/sklearn/linear_model/logistic.py:432: FutureWarning: Default solver will be changed to 'lbfgs' in 0.22. Specify a solver to silence this warning.\n",
            "  FutureWarning)\n",
            "/usr/local/lib/python3.6/dist-packages/sklearn/linear_model/logistic.py:432: FutureWarning: Default solver will be changed to 'lbfgs' in 0.22. Specify a solver to silence this warning.\n",
            "  FutureWarning)\n",
            "/usr/local/lib/python3.6/dist-packages/sklearn/linear_model/logistic.py:432: FutureWarning: Default solver will be changed to 'lbfgs' in 0.22. Specify a solver to silence this warning.\n",
            "  FutureWarning)\n",
            "/usr/local/lib/python3.6/dist-packages/sklearn/linear_model/logistic.py:432: FutureWarning: Default solver will be changed to 'lbfgs' in 0.22. Specify a solver to silence this warning.\n",
            "  FutureWarning)\n",
            "/usr/local/lib/python3.6/dist-packages/sklearn/linear_model/logistic.py:432: FutureWarning: Default solver will be changed to 'lbfgs' in 0.22. Specify a solver to silence this warning.\n",
            "  FutureWarning)\n",
            "/usr/local/lib/python3.6/dist-packages/sklearn/linear_model/logistic.py:432: FutureWarning: Default solver will be changed to 'lbfgs' in 0.22. Specify a solver to silence this warning.\n",
            "  FutureWarning)\n",
            "/usr/local/lib/python3.6/dist-packages/sklearn/linear_model/logistic.py:432: FutureWarning: Default solver will be changed to 'lbfgs' in 0.22. Specify a solver to silence this warning.\n",
            "  FutureWarning)\n",
            "/usr/local/lib/python3.6/dist-packages/sklearn/linear_model/logistic.py:432: FutureWarning: Default solver will be changed to 'lbfgs' in 0.22. Specify a solver to silence this warning.\n",
            "  FutureWarning)\n",
            "/usr/local/lib/python3.6/dist-packages/sklearn/linear_model/logistic.py:432: FutureWarning: Default solver will be changed to 'lbfgs' in 0.22. Specify a solver to silence this warning.\n",
            "  FutureWarning)\n",
            "/usr/local/lib/python3.6/dist-packages/sklearn/linear_model/logistic.py:432: FutureWarning: Default solver will be changed to 'lbfgs' in 0.22. Specify a solver to silence this warning.\n",
            "  FutureWarning)\n"
          ],
          "name": "stderr"
        },
        {
          "output_type": "stream",
          "text": [
            "20 Fold CV Score:  0.8768655886474583\n",
            "training on full data\n"
          ],
          "name": "stdout"
        },
        {
          "output_type": "stream",
          "text": [
            "/usr/local/lib/python3.6/dist-packages/sklearn/linear_model/logistic.py:432: FutureWarning: Default solver will be changed to 'lbfgs' in 0.22. Specify a solver to silence this warning.\n",
            "  FutureWarning)\n"
          ],
          "name": "stderr"
        },
        {
          "output_type": "stream",
          "text": [
            "submission file created..\n"
          ],
          "name": "stdout"
        }
      ]
    },
    {
      "cell_type": "code",
      "metadata": {
        "id": "8Nu1FT9qocpz",
        "colab_type": "code",
        "colab": {}
      },
      "source": [
        ""
      ],
      "execution_count": null,
      "outputs": []
    },
    {
      "cell_type": "markdown",
      "metadata": {
        "id": "yhZ7TahnuAd4",
        "colab_type": "text"
      },
      "source": [
        "<h1>20 Fold CV Score:  0.8768655886474583 <br> Тоесть предобработка чуть хуже дает р-т"
      ]
    },
    {
      "cell_type": "markdown",
      "metadata": {
        "id": "JMzg2zB9vFKO",
        "colab_type": "text"
      },
      "source": [
        "<h1>Добавим bag ансамбли из LogisticRegression"
      ]
    },
    {
      "cell_type": "code",
      "metadata": {
        "id": "bKacKgHi9Rum",
        "colab_type": "code",
        "colab": {}
      },
      "source": [
        ""
      ],
      "execution_count": null,
      "outputs": []
    },
    {
      "cell_type": "code",
      "metadata": {
        "id": "-M3EIzgLl-R9",
        "colab_type": "code",
        "colab": {
          "base_uri": "https://localhost:8080/",
          "height": 860
        },
        "outputId": "c12b9b91-5f19-4f10-8a78-207996f55092"
      },
      "source": [
        "print(\"loading data..\")\n",
        "traindata = list(np.array(p.read_table(path+'train.tsv'))[:,2])\n",
        "testdata = list(np.array(p.read_table(path+'test.tsv'))[:,2])\n",
        "y = np.array(p.read_table(path+'train.tsv'))[:,-1]\n",
        "\n",
        "y=y.astype('int')\n",
        "\n",
        "\n",
        "tfv = TfidfVectorizer(min_df=3, max_features=None, strip_accents='unicode',  \n",
        "      analyzer='word',token_pattern=r'\\w{1,}',ngram_range=(1, 2), use_idf=1,smooth_idf=1,sublinear_tf=1)\n",
        "\n",
        "###rd = lm.LogisticRegression(penalty='l2', dual=True, tol=0.0001,                            C=1, fit_intercept=True, intercept_scaling=1.0,                            class_weight=None, random_state=None)\n",
        "\n",
        "clf  = lm.LogisticRegression(penalty='l2', dual=True, tol=0.0001,  max_iter=5000, C=1, fit_intercept=True, intercept_scaling=1.0,                            class_weight=None, random_state=None)\n",
        "\n",
        "seed = 7\n",
        "kfold = model_selection.KFold(n_splits=20, random_state=seed)\n",
        "num_trees = 20\n",
        "rd = BaggingClassifier(clf, 20, 0.75,0.75,False,False)\n",
        "\n",
        "\n",
        "X_all = traindata + testdata\n",
        "lentrain = len(traindata)\n",
        "\n",
        "print(\"fitting pipeline\")\n",
        "tfv.fit(X_all)\n",
        "print(\"transforming data\")\n",
        "X_all = tfv.transform(X_all)\n",
        "\n",
        "X = X_all[:lentrain]\n",
        "X_test = X_all[lentrain:]\n",
        "\n",
        "           \n",
        "#print(\"20 Fold CV Score: \", np.mean(cross_val_score(rd, X, y, cv=20, scoring='roc_auc')))\n",
        "results = model_selection.cross_val_score(rd, X, y, cv=kfold)\n",
        "print(results.mean())\n",
        "\n",
        "\n",
        "print(\"training on full data\")\n",
        "rd.fit(X,y)\n",
        "pred = rd.predict_proba(X_test)[:,1]\n",
        "testfile = p.read_csv(path+'test.tsv', sep=\"\\t\", na_values=['?'], index_col=1)\n",
        "pred_df = p.DataFrame(pred, index=testfile.index, columns=['label'])\n",
        "pred_df.to_csv('benchmark.csv')\n",
        "print(\"submission file created..\")\n",
        "\n",
        "\n",
        "\n"
      ],
      "execution_count": null,
      "outputs": [
        {
          "output_type": "stream",
          "text": [
            "loading data..\n"
          ],
          "name": "stdout"
        },
        {
          "output_type": "stream",
          "text": [
            "/usr/local/lib/python3.6/dist-packages/ipykernel_launcher.py:2: FutureWarning: read_table is deprecated, use read_csv instead, passing sep='\\t'.\n",
            "  \n",
            "/usr/local/lib/python3.6/dist-packages/ipykernel_launcher.py:3: FutureWarning: read_table is deprecated, use read_csv instead, passing sep='\\t'.\n",
            "  This is separate from the ipykernel package so we can avoid doing imports until\n",
            "/usr/local/lib/python3.6/dist-packages/ipykernel_launcher.py:4: FutureWarning: read_table is deprecated, use read_csv instead, passing sep='\\t'.\n",
            "  after removing the cwd from sys.path.\n"
          ],
          "name": "stderr"
        },
        {
          "output_type": "stream",
          "text": [
            "fitting pipeline\n",
            "transforming data\n"
          ],
          "name": "stdout"
        },
        {
          "output_type": "stream",
          "text": [
            "/usr/local/lib/python3.6/dist-packages/sklearn/linear_model/logistic.py:432: FutureWarning: Default solver will be changed to 'lbfgs' in 0.22. Specify a solver to silence this warning.\n",
            "  FutureWarning)\n",
            "/usr/local/lib/python3.6/dist-packages/sklearn/svm/base.py:929: ConvergenceWarning: Liblinear failed to converge, increase the number of iterations.\n",
            "  \"the number of iterations.\", ConvergenceWarning)\n",
            "/usr/local/lib/python3.6/dist-packages/sklearn/linear_model/logistic.py:432: FutureWarning: Default solver will be changed to 'lbfgs' in 0.22. Specify a solver to silence this warning.\n",
            "  FutureWarning)\n",
            "/usr/local/lib/python3.6/dist-packages/sklearn/svm/base.py:929: ConvergenceWarning: Liblinear failed to converge, increase the number of iterations.\n",
            "  \"the number of iterations.\", ConvergenceWarning)\n",
            "/usr/local/lib/python3.6/dist-packages/sklearn/linear_model/logistic.py:432: FutureWarning: Default solver will be changed to 'lbfgs' in 0.22. Specify a solver to silence this warning.\n",
            "  FutureWarning)\n",
            "/usr/local/lib/python3.6/dist-packages/sklearn/svm/base.py:929: ConvergenceWarning: Liblinear failed to converge, increase the number of iterations.\n",
            "  \"the number of iterations.\", ConvergenceWarning)\n",
            "/usr/local/lib/python3.6/dist-packages/sklearn/linear_model/logistic.py:432: FutureWarning: Default solver will be changed to 'lbfgs' in 0.22. Specify a solver to silence this warning.\n",
            "  FutureWarning)\n",
            "/usr/local/lib/python3.6/dist-packages/sklearn/svm/base.py:929: ConvergenceWarning: Liblinear failed to converge, increase the number of iterations.\n",
            "  \"the number of iterations.\", ConvergenceWarning)\n",
            "/usr/local/lib/python3.6/dist-packages/sklearn/linear_model/logistic.py:432: FutureWarning: Default solver will be changed to 'lbfgs' in 0.22. Specify a solver to silence this warning.\n",
            "  FutureWarning)\n",
            "/usr/local/lib/python3.6/dist-packages/sklearn/svm/base.py:929: ConvergenceWarning: Liblinear failed to converge, increase the number of iterations.\n",
            "  \"the number of iterations.\", ConvergenceWarning)\n",
            "/usr/local/lib/python3.6/dist-packages/sklearn/linear_model/logistic.py:432: FutureWarning: Default solver will be changed to 'lbfgs' in 0.22. Specify a solver to silence this warning.\n",
            "  FutureWarning)\n",
            "/usr/local/lib/python3.6/dist-packages/sklearn/svm/base.py:929: ConvergenceWarning: Liblinear failed to converge, increase the number of iterations.\n",
            "  \"the number of iterations.\", ConvergenceWarning)\n",
            "/usr/local/lib/python3.6/dist-packages/sklearn/linear_model/logistic.py:432: FutureWarning: Default solver will be changed to 'lbfgs' in 0.22. Specify a solver to silence this warning.\n",
            "  FutureWarning)\n",
            "/usr/local/lib/python3.6/dist-packages/sklearn/svm/base.py:929: ConvergenceWarning: Liblinear failed to converge, increase the number of iterations.\n",
            "  \"the number of iterations.\", ConvergenceWarning)\n",
            "/usr/local/lib/python3.6/dist-packages/sklearn/linear_model/logistic.py:432: FutureWarning: Default solver will be changed to 'lbfgs' in 0.22. Specify a solver to silence this warning.\n",
            "  FutureWarning)\n",
            "/usr/local/lib/python3.6/dist-packages/sklearn/svm/base.py:929: ConvergenceWarning: Liblinear failed to converge, increase the number of iterations.\n",
            "  \"the number of iterations.\", ConvergenceWarning)\n",
            "/usr/local/lib/python3.6/dist-packages/sklearn/linear_model/logistic.py:432: FutureWarning: Default solver will be changed to 'lbfgs' in 0.22. Specify a solver to silence this warning.\n",
            "  FutureWarning)\n",
            "/usr/local/lib/python3.6/dist-packages/sklearn/svm/base.py:929: ConvergenceWarning: Liblinear failed to converge, increase the number of iterations.\n",
            "  \"the number of iterations.\", ConvergenceWarning)\n",
            "/usr/local/lib/python3.6/dist-packages/sklearn/linear_model/logistic.py:432: FutureWarning: Default solver will be changed to 'lbfgs' in 0.22. Specify a solver to silence this warning.\n",
            "  FutureWarning)\n",
            "/usr/local/lib/python3.6/dist-packages/sklearn/svm/base.py:929: ConvergenceWarning: Liblinear failed to converge, increase the number of iterations.\n",
            "  \"the number of iterations.\", ConvergenceWarning)\n"
          ],
          "name": "stderr"
        }
      ]
    },
    {
      "cell_type": "markdown",
      "metadata": {
        "id": "u7zLSyTpEeEM",
        "colab_type": "text"
      },
      "source": [
        "<h1> Получили 0.48667318875032006 что намного хуже"
      ]
    },
    {
      "cell_type": "markdown",
      "metadata": {
        "id": "gM2I9Rr_F7EY",
        "colab_type": "text"
      },
      "source": [
        "<h1>DecisionTreeClassifier()\n",
        "  \n",
        "  https://machinelearningmastery.com/ensemble-machine-learning-algorithms-python-scikit-learn/"
      ]
    },
    {
      "cell_type": "code",
      "metadata": {
        "id": "7Q_WM6gWFsBO",
        "colab_type": "code",
        "colab": {
          "base_uri": "https://localhost:8080/",
          "height": 238
        },
        "outputId": "04a80f49-a7ed-4cbf-9d30-3b93044ab66b"
      },
      "source": [
        "from sklearn import model_selection\n",
        "from sklearn.ensemble import BaggingClassifier\n",
        "from sklearn.tree import DecisionTreeClassifier\n",
        "\n",
        "print(\"loading data..\")\n",
        "traindata = list(np.array(p.read_table(path+'train.tsv'))[:,2])\n",
        "testdata = list(np.array(p.read_table(path+'test.tsv'))[:,2])\n",
        "y = np.array(p.read_table(path+'train.tsv'))[:,-1]\n",
        "\n",
        "y=y.astype('int')\n",
        "\n",
        "\n",
        "tfv = TfidfVectorizer(min_df=3, max_features=None, strip_accents='unicode',  \n",
        "      analyzer='word',token_pattern=r'\\w{1,}',ngram_range=(1, 2), use_idf=1,smooth_idf=1,sublinear_tf=1)\n",
        "\n",
        "###rd = lm.LogisticRegression(penalty='l2', dual=True, tol=0.0001,                            C=1, fit_intercept=True, intercept_scaling=1.0,                            class_weight=None, random_state=None)\n",
        "\n",
        "clf  = DecisionTreeClassifier()\n",
        "\n",
        "seed = 7\n",
        "kfold = model_selection.KFold(n_splits=10, random_state=seed)\n",
        "num_trees = 20\n",
        "rd = BaggingClassifier(base_estimator=clf, n_estimators=num_trees, random_state=seed)\n",
        "\n",
        "X_all = traindata + testdata\n",
        "lentrain = len(traindata)\n",
        "\n",
        "print(\"fitting pipeline\")\n",
        "tfv.fit(X_all)\n",
        "print(\"transforming data\")\n",
        "X_all = tfv.transform(X_all)\n",
        "\n",
        "X = X_all[:lentrain]\n",
        "X_test = X_all[lentrain:]\n",
        "\n",
        "           \n",
        "#print(\"20 Fold CV Score: \", np.mean(cross_val_score(rd, X, y, cv=20, scoring='roc_auc')))\n",
        "results = model_selection.cross_val_score(rd, X, y, cv=kfold)\n",
        "print('RESULT==',results.mean())\n",
        "\n",
        "\n",
        "print(\"training on full data\")\n",
        "rd.fit(X,y)\n",
        "pred = rd.predict_proba(X_test)[:,1]\n",
        "testfile = p.read_csv(path+'test.tsv', sep=\"\\t\", na_values=['?'], index_col=1)\n",
        "pred_df = p.DataFrame(pred, index=testfile.index, columns=['label'])\n",
        "pred_df.to_csv('benchmark.csv')\n",
        "print(\"submission file created..\")\n",
        "\n"
      ],
      "execution_count": null,
      "outputs": [
        {
          "output_type": "stream",
          "text": [
            "loading data..\n"
          ],
          "name": "stdout"
        },
        {
          "output_type": "stream",
          "text": [
            "/usr/local/lib/python3.6/dist-packages/ipykernel_launcher.py:6: FutureWarning: read_table is deprecated, use read_csv instead, passing sep='\\t'.\n",
            "  \n",
            "/usr/local/lib/python3.6/dist-packages/ipykernel_launcher.py:7: FutureWarning: read_table is deprecated, use read_csv instead, passing sep='\\t'.\n",
            "  import sys\n",
            "/usr/local/lib/python3.6/dist-packages/ipykernel_launcher.py:8: FutureWarning: read_table is deprecated, use read_csv instead, passing sep='\\t'.\n",
            "  \n"
          ],
          "name": "stderr"
        },
        {
          "output_type": "stream",
          "text": [
            "fitting pipeline\n",
            "transforming data\n",
            "RESULT== 0.7863478769703398\n",
            "training on full data\n",
            "submission file created..\n"
          ],
          "name": "stdout"
        }
      ]
    },
    {
      "cell_type": "markdown",
      "metadata": {
        "id": "6ObCHdIwvL4o",
        "colab_type": "text"
      },
      "source": [
        "<h1> DecisionTreeClassifier BAG:<br>0.7863478769703398"
      ]
    },
    {
      "cell_type": "markdown",
      "metadata": {
        "id": "KBEZmDCeF5iL",
        "colab_type": "text"
      },
      "source": [
        ""
      ]
    },
    {
      "cell_type": "markdown",
      "metadata": {
        "id": "QmXiZltVFAQS",
        "colab_type": "text"
      },
      "source": [
        "<h1>Gradient Boosting classifier"
      ]
    },
    {
      "cell_type": "code",
      "metadata": {
        "id": "YJUJ44XLE502",
        "colab_type": "code",
        "colab": {
          "base_uri": "https://localhost:8080/",
          "height": 238
        },
        "outputId": "8ab855e1-b65f-44c5-d20b-a6c906ba06e7"
      },
      "source": [
        "from sklearn.ensemble import GradientBoostingClassifier\n",
        "\n",
        "print(\"loading data..\")\n",
        "traindata = list(np.array(p.read_table(path+'train.tsv'))[:,2])\n",
        "testdata = list(np.array(p.read_table(path+'test.tsv'))[:,2])\n",
        "y = np.array(p.read_table(path+'train.tsv'))[:,-1]\n",
        "\n",
        "y=y.astype('int')\n",
        "\n",
        "\n",
        "tfv = TfidfVectorizer(min_df=3, max_features=None, strip_accents='unicode',  \n",
        "      analyzer='word',token_pattern=r'\\w{1,}',ngram_range=(1, 2), use_idf=1,smooth_idf=1,sublinear_tf=1)\n",
        "\n",
        "\n",
        "seed = 7\n",
        "kfold = model_selection.KFold(n_splits=10, random_state=seed)\n",
        "num_trees = 100\n",
        "\n",
        "rd  = GradientBoostingClassifier(n_estimators=num_trees, random_state=seed)\n",
        "\n",
        "\n",
        "\n",
        "X_all = traindata + testdata\n",
        "lentrain = len(traindata)\n",
        "\n",
        "print(\"fitting pipeline\")\n",
        "tfv.fit(X_all)\n",
        "print(\"transforming data\")\n",
        "X_all = tfv.transform(X_all)\n",
        "\n",
        "X = X_all[:lentrain]\n",
        "X_test = X_all[lentrain:]\n",
        "\n",
        "           \n",
        "#print(\"20 Fold CV Score: \", np.mean(cross_val_score(rd, X, y, cv=20, scoring='roc_auc')))\n",
        "results = model_selection.cross_val_score(rd, X, y, cv=kfold)\n",
        "print(results.mean())\n",
        "\n",
        "\n",
        "print(\"training on full data\")\n",
        "rd.fit(X,y)\n",
        "pred = rd.predict_proba(X_test)[:,1]\n",
        "testfile = p.read_csv(path+'test.tsv', sep=\"\\t\", na_values=['?'], index_col=1)\n",
        "pred_df = p.DataFrame(pred, index=testfile.index, columns=['label'])\n",
        "pred_df.to_csv('benchmark.csv')\n",
        "print(\"submission file created..\")\n"
      ],
      "execution_count": null,
      "outputs": [
        {
          "output_type": "stream",
          "text": [
            "loading data..\n"
          ],
          "name": "stdout"
        },
        {
          "output_type": "stream",
          "text": [
            "/usr/local/lib/python3.6/dist-packages/ipykernel_launcher.py:4: FutureWarning: read_table is deprecated, use read_csv instead, passing sep='\\t'.\n",
            "  after removing the cwd from sys.path.\n",
            "/usr/local/lib/python3.6/dist-packages/ipykernel_launcher.py:5: FutureWarning: read_table is deprecated, use read_csv instead, passing sep='\\t'.\n",
            "  \"\"\"\n",
            "/usr/local/lib/python3.6/dist-packages/ipykernel_launcher.py:6: FutureWarning: read_table is deprecated, use read_csv instead, passing sep='\\t'.\n",
            "  \n"
          ],
          "name": "stderr"
        },
        {
          "output_type": "stream",
          "text": [
            "fitting pipeline\n",
            "transforming data\n",
            "0.7921594192297846\n",
            "training on full data\n",
            "submission file created..\n"
          ],
          "name": "stdout"
        }
      ]
    },
    {
      "cell_type": "markdown",
      "metadata": {
        "id": "CL9IgnT63O4r",
        "colab_type": "text"
      },
      "source": [
        "<h1> GradientBoosting 0.7921594192297846"
      ]
    }
  ]
}