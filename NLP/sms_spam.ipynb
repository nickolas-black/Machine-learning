{
  "nbformat": 4,
  "nbformat_minor": 0,
  "metadata": {
    "kernelspec": {
      "display_name": "Python 3",
      "language": "python",
      "name": "python3"
    },
    "language_info": {
      "codemirror_mode": {
        "name": "ipython",
        "version": 3
      },
      "file_extension": ".py",
      "mimetype": "text/x-python",
      "name": "python",
      "nbconvert_exporter": "python",
      "pygments_lexer": "ipython3",
      "version": "3.7.3"
    },
    "colab": {
      "name": "sms_spam.ipynb",
      "provenance": []
    }
  },
  "cells": [
    {
      "cell_type": "markdown",
      "metadata": {
        "id": "DBjGlr9jgeor",
        "colab_type": "text"
      },
      "source": [
        "### Простой NLP пример\n",
        "\n",
        "https://www.kaggle.com/uciml/sms-spam-collection-dataset"
      ]
    },
    {
      "cell_type": "code",
      "metadata": {
        "id": "Em_siuw-geos",
        "colab_type": "code",
        "colab": {}
      },
      "source": [
        "import pandas as pd\n",
        "import numpy as np\n",
        "import matplotlib.pyplot as plt\n",
        "import re\n",
        "from nltk.stem import WordNetLemmatizer\n",
        "\n",
        "from sklearn.feature_extraction.text import CountVectorizer\n",
        "from sklearn.model_selection import train_test_split\n",
        "from sklearn.naive_bayes import MultinomialNB,  GaussianNB\n",
        "from sklearn.svm import SVC\n",
        "from sklearn.metrics import accuracy_score, f1_score, recall_score, roc_curve, precision_score, auc, roc_auc_score\n",
        "from sklearn.feature_extraction.text import TfidfVectorizer\n",
        "from sklearn.decomposition import TruncatedSVD\n",
        "from sklearn.preprocessing import Normalizer\n",
        "from sklearn.pipeline import make_pipeline\n",
        "\n",
        "def value_of_metrics(y_true, y_pred):\n",
        "    print('Accuracy: ', accuracy_score(y_true, y_pred))\n",
        "    print('Recall: ', recall_score(y_true, y_pred))\n",
        "    print('Precision: ', precision_score(y_true, y_pred))  \n",
        "    print('F1: ', f1_score(y_true, y_pred))\n",
        "    print('Roc_AUC: ', roc_auc_score(y_true, y_pred))\n",
        "    \n",
        "    fpr, tpr, threshold = roc_curve(y_true, y_pred)\n",
        "    roc_auc = auc(fpr, tpr)\n",
        "    plt.title('My DataSet')\n",
        "    plt.plot(fpr, tpr, 'b', label = 'AUC = %0.2f' % roc_auc)\n",
        "    plt.legend(loc = 'lower right')\n",
        "    plt.plot([0, 1], [0, 1],'r--')\n",
        "    plt.xlim([0, 1])\n",
        "    plt.ylim([0, 1])\n",
        "    plt.ylabel('True Positive Rate')\n",
        "    plt.xlabel('False Positive Rate')\n",
        "    plt.show()"
      ],
      "execution_count": null,
      "outputs": []
    },
    {
      "cell_type": "code",
      "metadata": {
        "id": "JyIEDVB9geow",
        "colab_type": "code",
        "colab": {}
      },
      "source": [
        "def text_preprocess(text):    \n",
        "    reg = re.compile('[^а-яА-Яa-zA-Z0-9]') #\n",
        "    text = text.lower()\n",
        "    text = reg.sub(' ', text)\n",
        "    lemmatizer = WordNetLemmatizer()\n",
        "    text_ =''\n",
        "    for word in text.split():\n",
        "        #text_.append(lemmatizer.lemmatize(word))\n",
        "        text_ = text_+ ' ' + lemmatizer.lemmatize(word)\n",
        "    return text_"
      ],
      "execution_count": null,
      "outputs": []
    },
    {
      "cell_type": "markdown",
      "metadata": {
        "id": "01wqOhDdgeoz",
        "colab_type": "text"
      },
      "source": [
        "#### Загрузка данных из csv файла"
      ]
    },
    {
      "cell_type": "code",
      "metadata": {
        "id": "tFx5cGJcgeo0",
        "colab_type": "code",
        "colab": {},
        "outputId": "106857f3-d821-4060-8f1f-a35c53c8a34e"
      },
      "source": [
        "df = pd.read_csv('sms/spam.csv', encoding=\"latin-1\")\n",
        "df.drop(['Unnamed: 2', 'Unnamed: 3', 'Unnamed: 4'], axis=1, inplace=True)\n",
        "df.head()"
      ],
      "execution_count": null,
      "outputs": [
        {
          "output_type": "execute_result",
          "data": {
            "text/html": [
              "<div>\n",
              "<style scoped>\n",
              "    .dataframe tbody tr th:only-of-type {\n",
              "        vertical-align: middle;\n",
              "    }\n",
              "\n",
              "    .dataframe tbody tr th {\n",
              "        vertical-align: top;\n",
              "    }\n",
              "\n",
              "    .dataframe thead th {\n",
              "        text-align: right;\n",
              "    }\n",
              "</style>\n",
              "<table border=\"1\" class=\"dataframe\">\n",
              "  <thead>\n",
              "    <tr style=\"text-align: right;\">\n",
              "      <th></th>\n",
              "      <th>v1</th>\n",
              "      <th>v2</th>\n",
              "    </tr>\n",
              "  </thead>\n",
              "  <tbody>\n",
              "    <tr>\n",
              "      <th>0</th>\n",
              "      <td>ham</td>\n",
              "      <td>Go until jurong point, crazy.. Available only ...</td>\n",
              "    </tr>\n",
              "    <tr>\n",
              "      <th>1</th>\n",
              "      <td>ham</td>\n",
              "      <td>Ok lar... Joking wif u oni...</td>\n",
              "    </tr>\n",
              "    <tr>\n",
              "      <th>2</th>\n",
              "      <td>spam</td>\n",
              "      <td>Free entry in 2 a wkly comp to win FA Cup fina...</td>\n",
              "    </tr>\n",
              "    <tr>\n",
              "      <th>3</th>\n",
              "      <td>ham</td>\n",
              "      <td>U dun say so early hor... U c already then say...</td>\n",
              "    </tr>\n",
              "    <tr>\n",
              "      <th>4</th>\n",
              "      <td>ham</td>\n",
              "      <td>Nah I don't think he goes to usf, he lives aro...</td>\n",
              "    </tr>\n",
              "  </tbody>\n",
              "</table>\n",
              "</div>"
            ],
            "text/plain": [
              "     v1                                                 v2\n",
              "0   ham  Go until jurong point, crazy.. Available only ...\n",
              "1   ham                      Ok lar... Joking wif u oni...\n",
              "2  spam  Free entry in 2 a wkly comp to win FA Cup fina...\n",
              "3   ham  U dun say so early hor... U c already then say...\n",
              "4   ham  Nah I don't think he goes to usf, he lives aro..."
            ]
          },
          "metadata": {
            "tags": []
          },
          "execution_count": 29
        }
      ]
    },
    {
      "cell_type": "code",
      "metadata": {
        "id": "29TkCgeCgeo4",
        "colab_type": "code",
        "colab": {},
        "outputId": "4f70c7dd-e79d-4fc8-c690-0c2e3695d066"
      },
      "source": [
        "df['v2'].iloc[2]"
      ],
      "execution_count": null,
      "outputs": [
        {
          "output_type": "execute_result",
          "data": {
            "text/plain": [
              "\"Free entry in 2 a wkly comp to win FA Cup final tkts 21st May 2005. Text FA to 87121 to receive entry question(std txt rate)T&C's apply 08452810075over18's\""
            ]
          },
          "metadata": {
            "tags": []
          },
          "execution_count": 20
        }
      ]
    },
    {
      "cell_type": "markdown",
      "metadata": {
        "id": "KGnMRW4Ygeo7",
        "colab_type": "text"
      },
      "source": [
        "#### Подготовка данных"
      ]
    },
    {
      "cell_type": "code",
      "metadata": {
        "id": "s9gYCctPgeo8",
        "colab_type": "code",
        "colab": {}
      },
      "source": [
        "df['label'] = df['v1'].map({'ham': 0, 'spam': 1})"
      ],
      "execution_count": null,
      "outputs": []
    },
    {
      "cell_type": "code",
      "metadata": {
        "id": "soanNzEygeo_",
        "colab_type": "code",
        "colab": {}
      },
      "source": [
        "df['v2'] = df['v2'].apply(text_preprocess)"
      ],
      "execution_count": null,
      "outputs": []
    },
    {
      "cell_type": "code",
      "metadata": {
        "id": "3gqHraXygepC",
        "colab_type": "code",
        "colab": {},
        "outputId": "07f39e44-7273-438c-8da2-a0491dce641f"
      },
      "source": [
        "df['v2'].iloc[2]"
      ],
      "execution_count": null,
      "outputs": [
        {
          "output_type": "execute_result",
          "data": {
            "text/plain": [
              "'free entry in 2 a wkly comp to win fa cup final tkts 21st may 2005  text fa to 87121 to receive entry question std txt rate t c s apply 08452810075over18 s'"
            ]
          },
          "metadata": {
            "tags": []
          },
          "execution_count": 23
        }
      ]
    },
    {
      "cell_type": "code",
      "metadata": {
        "id": "nntuZgoFgepG",
        "colab_type": "code",
        "colab": {}
      },
      "source": [
        "def f(x, ....):\n",
        "    x[v1]\n",
        "    x[v2]....\n",
        "\n",
        "df['v2_new'] = df.apply(lambda x: f(x, ....... ) , axis = 1)"
      ],
      "execution_count": null,
      "outputs": []
    },
    {
      "cell_type": "code",
      "metadata": {
        "id": "GpuvB3s_gepJ",
        "colab_type": "code",
        "colab": {},
        "outputId": "bdfb5fef-c405-4f95-bda4-10c7557699d8"
      },
      "source": [
        "df.head()"
      ],
      "execution_count": null,
      "outputs": [
        {
          "output_type": "execute_result",
          "data": {
            "text/html": [
              "<div>\n",
              "<style scoped>\n",
              "    .dataframe tbody tr th:only-of-type {\n",
              "        vertical-align: middle;\n",
              "    }\n",
              "\n",
              "    .dataframe tbody tr th {\n",
              "        vertical-align: top;\n",
              "    }\n",
              "\n",
              "    .dataframe thead th {\n",
              "        text-align: right;\n",
              "    }\n",
              "</style>\n",
              "<table border=\"1\" class=\"dataframe\">\n",
              "  <thead>\n",
              "    <tr style=\"text-align: right;\">\n",
              "      <th></th>\n",
              "      <th>v1</th>\n",
              "      <th>v2</th>\n",
              "      <th>label</th>\n",
              "    </tr>\n",
              "  </thead>\n",
              "  <tbody>\n",
              "    <tr>\n",
              "      <th>0</th>\n",
              "      <td>ham</td>\n",
              "      <td>go until jurong point crazy available only in...</td>\n",
              "      <td>0</td>\n",
              "    </tr>\n",
              "    <tr>\n",
              "      <th>1</th>\n",
              "      <td>ham</td>\n",
              "      <td>ok lar joking wif u oni</td>\n",
              "      <td>0</td>\n",
              "    </tr>\n",
              "    <tr>\n",
              "      <th>2</th>\n",
              "      <td>spam</td>\n",
              "      <td>free entry in 2 a wkly comp to win fa cup fin...</td>\n",
              "      <td>1</td>\n",
              "    </tr>\n",
              "    <tr>\n",
              "      <th>3</th>\n",
              "      <td>ham</td>\n",
              "      <td>u dun say so early hor u c already then say</td>\n",
              "      <td>0</td>\n",
              "    </tr>\n",
              "    <tr>\n",
              "      <th>4</th>\n",
              "      <td>ham</td>\n",
              "      <td>nah i don t think he go to usf he life around...</td>\n",
              "      <td>0</td>\n",
              "    </tr>\n",
              "  </tbody>\n",
              "</table>\n",
              "</div>"
            ],
            "text/plain": [
              "     v1                                                 v2  label\n",
              "0   ham   go until jurong point crazy available only in...      0\n",
              "1   ham                            ok lar joking wif u oni      0\n",
              "2  spam   free entry in 2 a wkly comp to win fa cup fin...      1\n",
              "3   ham        u dun say so early hor u c already then say      0\n",
              "4   ham   nah i don t think he go to usf he life around...      0"
            ]
          },
          "metadata": {
            "tags": []
          },
          "execution_count": 12
        }
      ]
    },
    {
      "cell_type": "code",
      "metadata": {
        "id": "_JjVnX9CgepM",
        "colab_type": "code",
        "colab": {},
        "outputId": "08c6caa7-016b-4c11-847c-4bcc8abe3c82"
      },
      "source": [
        "df['label'].value_counts()"
      ],
      "execution_count": null,
      "outputs": [
        {
          "output_type": "execute_result",
          "data": {
            "text/plain": [
              "0    4825\n",
              "1     747\n",
              "Name: label, dtype: int64"
            ]
          },
          "metadata": {
            "tags": []
          },
          "execution_count": 13
        }
      ]
    },
    {
      "cell_type": "code",
      "metadata": {
        "id": "ANT3dlp5gepP",
        "colab_type": "code",
        "colab": {}
      },
      "source": [
        "X = df['v2']\n",
        "y = df['label']\n",
        "#cv = CountVectorizer() # Bag of WORDS (BOW)\n",
        "cv = TfidfVectorizer()\n",
        "X = cv.fit_transform(X)"
      ],
      "execution_count": null,
      "outputs": []
    },
    {
      "cell_type": "code",
      "metadata": {
        "id": "qprHfUjHgepT",
        "colab_type": "code",
        "colab": {}
      },
      "source": [
        "X_train, X_test, y_train, y_test = train_test_split(X, y, test_size=0.33, random_state=42)"
      ],
      "execution_count": null,
      "outputs": []
    },
    {
      "cell_type": "code",
      "metadata": {
        "id": "TjmRCU9OgepV",
        "colab_type": "code",
        "colab": {}
      },
      "source": [
        "clf = MultinomialNB()\n",
        "clf.fit(X_train,y_train)\n",
        "clf.score(X_test,y_test)\n",
        "y_pred = clf.predict(X_test)"
      ],
      "execution_count": null,
      "outputs": []
    },
    {
      "cell_type": "code",
      "metadata": {
        "id": "Dng7ONlFgepY",
        "colab_type": "code",
        "colab": {},
        "outputId": "4558f502-82a8-4815-88bc-afa262f2bfff"
      },
      "source": [
        "value_of_metrics(y_test, y_pred)"
      ],
      "execution_count": null,
      "outputs": [
        {
          "output_type": "stream",
          "text": [
            "Accuracy:  0.9793365959760739\n",
            "Recall:  0.9206349206349206\n",
            "Precision:  0.928\n",
            "F1:  0.9243027888446215\n",
            "Roc_AUC:  0.9546463828127343\n"
          ],
          "name": "stdout"
        },
        {
          "output_type": "display_data",
          "data": {
            "image/png": "[encoded data removed]",
            "text/plain": [
              "<Figure size 432x288 with 1 Axes>"
            ]
          },
          "metadata": {
            "tags": [],
            "needs_background": "light"
          }
        }
      ]
    },
    {
      "cell_type": "code",
      "metadata": {
        "id": "SdRTcjG2gepb",
        "colab_type": "code",
        "colab": {},
        "outputId": "649238ba-b288-43d9-ee91-2f08d995acb6"
      },
      "source": [
        "value_of_metrics(y_test, y_pred)"
      ],
      "execution_count": null,
      "outputs": [
        {
          "output_type": "stream",
          "text": [
            "Accuracy:  0.955410549211528\n",
            "Recall:  0.6746031746031746\n",
            "Precision:  1.0\n",
            "F1:  0.8056872037914692\n",
            "Roc_AUC:  0.8373015873015873\n"
          ],
          "name": "stdout"
        },
        {
          "output_type": "display_data",
          "data": {
            "image/png": "[encoded data removed]",
            "text/plain": [
              "<Figure size 432x288 with 1 Axes>"
            ]
          },
          "metadata": {
            "tags": [],
            "needs_background": "light"
          }
        }
      ]
    },
    {
      "cell_type": "markdown",
      "metadata": {
        "id": "OO5xKAQegepe",
        "colab_type": "text"
      },
      "source": [
        "### Векторные представления документов с помощью SVD разложений"
      ]
    },
    {
      "cell_type": "code",
      "metadata": {
        "id": "lDFFqMD8gepe",
        "colab_type": "code",
        "colab": {}
      },
      "source": [
        "#обучаем tf_idf vectorizer ---------------------------------\n",
        "tfidf = TfidfVectorizer()\n",
        "sms_tf_idf = tfidf.fit_transform(df['v2'])\n",
        "#обучаем tf_idf vectorizer ---------------------------------"
      ],
      "execution_count": null,
      "outputs": []
    },
    {
      "cell_type": "code",
      "metadata": {
        "id": "h6IFO5QUgeph",
        "colab_type": "code",
        "colab": {}
      },
      "source": [
        "X_train, X_test, y_train, y_test = train_test_split(sms_tf_idf, y, test_size=0.33, random_state=42)"
      ],
      "execution_count": null,
      "outputs": []
    },
    {
      "cell_type": "code",
      "metadata": {
        "id": "-8N2UQmKgepj",
        "colab_type": "code",
        "colab": {}
      },
      "source": [
        "#находим svd разложение---------------------------------------\n",
        "svd = TruncatedSVD(80)\n",
        "lsa = make_pipeline(svd, Normalizer(copy=False))\n",
        "#находим svd разложение---------------------------------------"
      ],
      "execution_count": null,
      "outputs": []
    },
    {
      "cell_type": "code",
      "metadata": {
        "id": "6NKlWrh9gepm",
        "colab_type": "code",
        "colab": {}
      },
      "source": [
        "sms_svd_train = lsa.fit_transform(X_train)"
      ],
      "execution_count": null,
      "outputs": []
    },
    {
      "cell_type": "code",
      "metadata": {
        "id": "WZjj2EJwgepo",
        "colab_type": "code",
        "colab": {},
        "outputId": "f9113516-b2de-4c50-c636-fd64380dc641"
      },
      "source": [
        "sms_svd_train.shape"
      ],
      "execution_count": null,
      "outputs": [
        {
          "output_type": "execute_result",
          "data": {
            "text/plain": [
              "(3733, 80)"
            ]
          },
          "metadata": {
            "tags": []
          },
          "execution_count": 77
        }
      ]
    },
    {
      "cell_type": "code",
      "metadata": {
        "id": "Xpv3K73Jgepr",
        "colab_type": "code",
        "colab": {},
        "outputId": "21c5a870-c5ec-4ac5-f995-6056b0212fb2"
      },
      "source": [
        "sms_svd_train[0]"
      ],
      "execution_count": null,
      "outputs": [
        {
          "output_type": "execute_result",
          "data": {
            "text/plain": [
              "array([ 0.47684354,  0.02336576,  0.10808429,  0.00936714, -0.0416762 ,\n",
              "       -0.12268978,  0.24163549,  0.06427661,  0.11813401,  0.02098399,\n",
              "        0.32414095, -0.26790802,  0.07165351, -0.03234406, -0.09500948,\n",
              "       -0.18534405, -0.06373009, -0.20985034,  0.0417371 , -0.10241831,\n",
              "       -0.14455837, -0.04271965, -0.03219546, -0.02727121, -0.10484639,\n",
              "        0.18593394,  0.07910484, -0.05692433, -0.20004424, -0.20090167,\n",
              "       -0.11275444, -0.10509018,  0.02932791, -0.14964208, -0.02850823,\n",
              "       -0.03581049,  0.03373392, -0.00640829, -0.10197941,  0.01537982,\n",
              "       -0.00476028,  0.04221703,  0.01749142, -0.07366425, -0.10251243,\n",
              "       -0.06771644, -0.01561836, -0.12898078,  0.10956101,  0.0033725 ,\n",
              "       -0.08682197,  0.00073832, -0.03040141,  0.05137349, -0.03745858,\n",
              "       -0.01218503, -0.04070253,  0.02881306, -0.18139288,  0.01022785,\n",
              "       -0.03893296,  0.00291324,  0.0415237 ,  0.04104729, -0.00548023,\n",
              "        0.01108124, -0.01162079,  0.07553721,  0.01439704,  0.05240305,\n",
              "       -0.03747328,  0.03314009, -0.03305308,  0.05844527,  0.12290147,\n",
              "        0.09366368, -0.03580004, -0.00279005, -0.04960585, -0.10396521])"
            ]
          },
          "metadata": {
            "tags": []
          },
          "execution_count": 78
        }
      ]
    },
    {
      "cell_type": "code",
      "metadata": {
        "id": "5ryTeRpZgept",
        "colab_type": "code",
        "colab": {},
        "outputId": "aa6eb935-775d-4052-9466-61f2a7faf5a9"
      },
      "source": [
        "#clf = SVC()\n",
        "clf = GaussianNB()\n",
        "clf.fit(sms_svd_train, y_train)"
      ],
      "execution_count": null,
      "outputs": [
        {
          "output_type": "execute_result",
          "data": {
            "text/plain": [
              "GaussianNB(priors=None, var_smoothing=1e-09)"
            ]
          },
          "metadata": {
            "tags": []
          },
          "execution_count": 79
        }
      ]
    },
    {
      "cell_type": "code",
      "metadata": {
        "id": "vOBHUD4agepx",
        "colab_type": "code",
        "colab": {}
      },
      "source": [
        "sms_svd_test = lsa.transform(X_test)"
      ],
      "execution_count": null,
      "outputs": []
    },
    {
      "cell_type": "code",
      "metadata": {
        "id": "ILPAT4Yzgepz",
        "colab_type": "code",
        "colab": {}
      },
      "source": [
        "y_pred = clf.predict(sms_svd_test)"
      ],
      "execution_count": null,
      "outputs": []
    },
    {
      "cell_type": "code",
      "metadata": {
        "id": "uOFeZWMYgep2",
        "colab_type": "code",
        "colab": {},
        "outputId": "3659d579-68f5-4abc-e611-03c29abbebc7"
      },
      "source": [
        "value_of_metrics(y_test, y_pred)"
      ],
      "execution_count": null,
      "outputs": [
        {
          "output_type": "stream",
          "text": [
            "Accuracy:  0.9651984774333877\n",
            "Recall:  0.8492063492063492\n",
            "Precision:  0.8916666666666667\n",
            "F1:  0.8699186991869918\n",
            "Roc_AUC:  0.9164116182074595\n"
          ],
          "name": "stdout"
        },
        {
          "output_type": "display_data",
          "data": {
            "image/png": "[encoded data removed]",
            "text/plain": [
              "<Figure size 432x288 with 1 Axes>"
            ]
          },
          "metadata": {
            "tags": [],
            "needs_background": "light"
          }
        }
      ]
    }
  ]
}