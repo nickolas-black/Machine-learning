{
  "nbformat": 4,
  "nbformat_minor": 0,
  "metadata": {
    "colab": {
      "name": "использование text summarization",
      "provenance": [],
      "collapsed_sections": []
    },
    "kernelspec": {
      "name": "python3",
      "display_name": "Python 3"
    },
    "accelerator": "GPU"
  },
  "cells": [
    {
      "cell_type": "markdown",
      "metadata": {
        "id": "_vrkl8139pqZ",
        "colab_type": "text"
      },
      "source": [
        "## News text summarization"
      ]
    },
    {
      "cell_type": "code",
      "metadata": {
        "id": "-dGyQl5PwyOY",
        "colab_type": "code",
        "colab": {}
      },
      "source": [
        "# API e0207a9648fb4f85af10c206189158e9\n"
      ],
      "execution_count": null,
      "outputs": []
    },
    {
      "cell_type": "markdown",
      "metadata": {
        "id": "s-yqN2yW9zn1",
        "colab_type": "text"
      },
      "source": [
        "## import"
      ]
    },
    {
      "cell_type": "code",
      "metadata": {
        "id": "U1-QrbbDxVGP",
        "colab_type": "code",
        "colab": {}
      },
      "source": [
        "# общие\n",
        "import requests\n",
        "import numpy as np\n",
        "import pandas as pd\n",
        "import json\n",
        "import csv"
      ],
      "execution_count": null,
      "outputs": []
    },
    {
      "cell_type": "code",
      "metadata": {
        "id": "qp0GsQTn-k5y",
        "colab_type": "code",
        "colab": {}
      },
      "source": [
        "# для сохранения файлов\n",
        "from google.colab import files"
      ],
      "execution_count": null,
      "outputs": []
    },
    {
      "cell_type": "code",
      "metadata": {
        "id": "SbuPXNUi-8J0",
        "colab_type": "code",
        "colab": {
          "base_uri": "https://localhost:8080/",
          "height": 52
        },
        "outputId": "34971ef5-8788-4af7-ae51-21d02c670eb4"
      },
      "source": [
        "# для обработки текста\n",
        "import nltk\n",
        "\n",
        "from nltk.corpus import stopwords\n",
        "from scipy.io import mmread\n",
        "from nltk.tokenize import sent_tokenize\n",
        "from gensim.summarization import keywords\n",
        "from gensim.summarization.summarizer import summarize\n",
        "\n",
        "from sklearn.metrics.pairwise import cosine_similarity\n",
        "import networkx as nx\n",
        "nltk.download('punkt') # one time execution\n",
        "import re"
      ],
      "execution_count": null,
      "outputs": [
        {
          "output_type": "stream",
          "text": [
            "[nltk_data] Downloading package punkt to /root/nltk_data...\n",
            "[nltk_data]   Unzipping tokenizers/punkt.zip.\n"
          ],
          "name": "stdout"
        }
      ]
    },
    {
      "cell_type": "markdown",
      "metadata": {
        "id": "lPwNoHEw95AG",
        "colab_type": "text"
      },
      "source": [
        "## Get and save news"
      ]
    },
    {
      "cell_type": "code",
      "metadata": {
        "id": "lUscMM1-xyyR",
        "colab_type": "code",
        "colab": {}
      },
      "source": [
        "# url\n",
        "url = 'https://newsapi.org/v2/top-headlines?country=us&apiKey=e0207a9648fb4f85af10c206189158e9'\n"
      ],
      "execution_count": null,
      "outputs": []
    },
    {
      "cell_type": "code",
      "metadata": {
        "id": "ETcxdL8DyDe1",
        "colab_type": "code",
        "colab": {}
      },
      "source": [
        "# запрашиваем адрес\n",
        "get = requests.get(url).json()"
      ],
      "execution_count": null,
      "outputs": []
    },
    {
      "cell_type": "code",
      "metadata": {
        "id": "EHppx8FAjBKS",
        "colab_type": "code",
        "colab": {
          "base_uri": "https://localhost:8080/",
          "height": 1000
        },
        "outputId": "f1104290-f9e0-40c8-e0fb-77508f90d372"
      },
      "source": [
        "get"
      ],
      "execution_count": null,
      "outputs": [
        {
          "output_type": "execute_result",
          "data": {
            "text/plain": [
              "{'articles': [{'author': None,\n",
              "   'content': 'LOS ANGELES Robert Forster, the handsome and omnipresent character actor who got a career resurgence and Oscar nomination for playing bail bondsman Max Cherry in Jackie Brown, died Friday. He was 78.\\r\\nPublicist Kathie Berlin said Forster died of brain cancer … [+4087 chars]',\n",
              "   'description': 'Robert Forster, the actor who got a career resurgence for playing bail bondsman Max Cherry in “Jackie Brown,” has died. He was 78.',\n",
              "   'publishedAt': '2019-10-12T08:30:00Z',\n",
              "   'source': {'id': 'usa-today', 'name': 'USA Today'},\n",
              "   'title': \"Robert Forster, Oscar-nominated actor for 'Jackie Brown,' dies at 78 - USA TODAY\",\n",
              "   'url': 'https://www.usatoday.com/story/entertainment/2019/10/12/robert-forster-academy-award-nominee-jackie-brown-actor/3957049002/?utm_source=google&utm_medium=amp&utm_campaign=speakable',\n",
              "   'urlToImage': 'https://www.gannett-cdn.com/presto/2019/10/12/USAT/1442e1dd-4f78-46a5-97f5-8be051c34497-AP_Obit_Robert_Forster.JPG?crop=2451,1379,x134,y330&width=3200&height=1680&fit=bounds'},\n",
              "  {'author': None,\n",
              "   'content': 'What the event lacked in officially sanctioned gravitas it seemed determined to make up for with theater and grandiose proclamations.\\r\\nThe run, organized by the petrochemical company INEOS, featured a cycle of hype and commercial buildup more reminiscent of a… [+620 chars]',\n",
              "   'description': 'In Vienna, the Kenyan achieved a milestone once believed to be unattainable. But his time, 1:59:40, will not be recognized as a world record.',\n",
              "   'publishedAt': '2019-10-12T08:17:00Z',\n",
              "   'source': {'id': 'the-new-york-times', 'name': 'The New York Times'},\n",
              "   'title': 'Eliud Kipchoge Breaks Two-Hour Marathon Barrier - The New York Times',\n",
              "   'url': 'https://www.nytimes.com/2019/10/12/sports/eliud-kipchoge-marathon-record.html',\n",
              "   'urlToImage': 'https://static01.nyt.com/images/2019/10/12/world/12marathon-sub/12marathon-sub-facebookJumbo.jpg'},\n",
              "  {'author': None,\n",
              "   'content': 'As Hagibis approached this week at one point the equivalent of a Category 5 hurricane, with 160 m.p.h. winds the Japanese authorities prepared for disruptions in the lives of millions. About 1.5 million people live below sea level in eastern parts of Tokyo, a… [+1361 chars]',\n",
              "   'description': 'The storm made landfall about 7 p.m. Saturday. Many rivers were already at dangerously high levels, and more than a million people have been urged to evacuate.',\n",
              "   'publishedAt': '2019-10-12T06:22:00Z',\n",
              "   'source': {'id': 'the-new-york-times', 'name': 'The New York Times'},\n",
              "   'title': 'Landslides, Floods and a Quake as Typhoon Hagibis Bears Down on Japan - The New York Times',\n",
              "   'url': 'https://www.nytimes.com/2019/10/12/world/asia/typhoon-hagibis.html',\n",
              "   'urlToImage': 'https://static01.nyt.com/images/2019/10/12/world/12typhoon-hagibis-watch1/12typhoon-hagibis-watch1-facebookJumbo.jpg'},\n",
              "  {'author': None,\n",
              "   'content': 'Despite the official announcement being on Tuesday, Best Buy in Canada has already listed the Pixel 4 and Pixel 4 XL for pre-order. A dedicated product page notes the key features and specs, while also allowing buyers to place a deposit.\\r\\nThe official marketi… [+2156 chars]',\n",
              "   'description': 'Ahead of the official launch being on Tuesday, Best Buy in Canada has already listed the Pixel 4 and Pixel 4 XL for pre-order. A Pixel 4 specs leak...',\n",
              "   'publishedAt': '2019-10-12T06:12:00Z',\n",
              "   'source': {'id': None, 'name': '9to5google.com'},\n",
              "   'title': 'Pixel 4 fully detailed by Best Buy Canada with specs, comparison, and pre-order - 9to5Google',\n",
              "   'url': 'https://9to5google.com/2019/10/11/pixel-4-specs-leak/',\n",
              "   'urlToImage': 'https://9to5google.com/wp-content/uploads/sites/4/2019/10/pixel-4-specs-leak-2.jpg?quality=82&strip=all'},\n",
              "  {'author': 'Patrick McGreevy',\n",
              "   'content': 'Gov. Gavin Newsom on Friday did what two of his predecessors refused to do: He prohibited smoking and vaping in most areas of California state parks and beaches.\\r\\nPeople caught using cigarettes, cigars, pipes or electronic cigarettes will face a fine of up to… [+2965 chars]',\n",
              "   'description': 'Gov. Gavin Newsom did what his two predecessors refused to do: prohibited smoking and vaping in most areas of California state parks and beaches.',\n",
              "   'publishedAt': '2019-10-12T05:14:00Z',\n",
              "   'source': {'id': None, 'name': 'Latimes.com'},\n",
              "   'title': 'A smoking ban in California parks or at beaches under new state law - Los Angeles Times',\n",
              "   'url': 'https://www.latimes.com/california/story/2019-10-11/californians-banned-smoking-state-parks-beaches',\n",
              "   'urlToImage': 'https://ca-times.brightspotcdn.com/dims4/default/4c802c5/2147483647/strip/true/crop/500x263+0+17/resize/1200x630!/quality/90/?url=https%3A%2F%2Fca-times.brightspotcdn.com%2Fae%2Fbd%2F6a6cda18bdc7e9641ea2f4b53da2%2Fla-tr-oceanbeach'},\n",
              "  {'author': None,\n",
              "   'content': 'Share this article\\r\\nCompanies in this article\\r\\nBlizzard\\r\\nOn Friday evening, Blizzard Entertainment president J. Allen Brack released a statement in response to a week of ongoing criticism from players, developers, and even politicians over its decision to ban… [+3011 chars]',\n",
              "   'description': \"Hearthstone developer reduces punishments for pro player's support of Hong Kong protesters as president J. Allen Brack insists response would have been the same to pro-China views\",\n",
              "   'publishedAt': '2019-10-12T05:10:05Z',\n",
              "   'source': {'id': None, 'name': 'Gamesindustry.biz'},\n",
              "   'title': 'Blizzard: Chinese interests \"had no influence\" on Blitzchung ban - GamesIndustry.biz',\n",
              "   'url': 'https://www.gamesindustry.biz/articles/2019-10-12-blizzard-chinese-interests-had-no-influence-on-blitzchung-ban',\n",
              "   'urlToImage': 'https://images.eurogamer.net/2019/articles/2019-10-12-06-02/jallenbrack.jpg'},\n",
              "  {'author': '{ \"@type\":\"Person\", \"name\":\"Wendy Wu\" }',\n",
              "   'content': 'Published: 12:13pm, 12 Oct, 2019\\r\\nUpdated: 12:16pm, 12 Oct, 2019',\n",
              "   'description': 'The latest',\n",
              "   'publishedAt': '2019-10-12T04:13:20Z',\n",
              "   'source': {'id': None, 'name': 'Scmp.com'},\n",
              "   'title': 'Trade talks ‘constructive’ but there may be trouble ahead, Beijing warns - South China Morning Post',\n",
              "   'url': 'https://www.scmp.com/news/china/diplomacy/article/3032639/beijing-warns-more-uncertainty-trade-war-negotiations-despite',\n",
              "   'urlToImage': 'https://cdn.i-scmp.com/sites/default/files/styles/og_image_scmp_generic/public/d8/images/methode/2019/10/12/3c9baa5c-ec99-11e9-9e8e-4022fb9638c4_image_hires_121616.jpg?itok=yjJSwM9E&v=1570853784'},\n",
              "  {'author': 'Li Cohen',\n",
              "   'content': 'California is cutting ties with the for-profit detainment sector. Governor Gavin Newsom signed a bill Friday that will ban all new contracts and contract renewals with for-profit, private prisons starting January 1.\\xa0\\r\\nCalifornia is the first state to enact a … [+2123 chars]',\n",
              "   'description': 'The state will completely phase out for-profit, private prisons or civil detention centers by 2028',\n",
              "   'publishedAt': '2019-10-12T02:54:00Z',\n",
              "   'source': {'id': 'cbs-news', 'name': 'CBS News'},\n",
              "   'title': 'California bans private prisons and detention centers - CBS News',\n",
              "   'url': 'https://www.cbsnews.com/news/california-california-bans-private-prisons-and-detention-centers-law-signed-today-2019-10-11/',\n",
              "   'urlToImage': 'https://cbsnews1.cbsistatic.com/hub/i/r/2019/10/12/5cb61aae-105c-4a0e-bc46-c10246acb7b5/thumbnail/1200x630/3a88b2bf9f4c1f62d438cf3c60b7df9a/gettyimages-450371317.jpg'},\n",
              "  {'author': None,\n",
              "   'content': 'Most of the time, NCAA scheduling sees the best matchups (in terms of rankings) go to the network that pays for the first pick in the conference in question, but that’s not the case with the SEC this week. CBS pays for first pick each week in its\\xa0SEC on CBS p… [+3758 chars]',\n",
              "   'description': \"The only top-10 matchup in college football this weekend didn't go to the network with first pick in its conference. CBS instead chose Alabama-Texas A&M.\",\n",
              "   'publishedAt': '2019-10-12T02:49:22Z',\n",
              "   'source': {'id': None, 'name': 'Awfulannouncing.com'},\n",
              "   'title': 'No. 7 Florida-No. 5 LSU is on ESPN rather than CBS thanks to an interesting CBS decision - Awful Announcing',\n",
              "   'url': 'https://awfulannouncing.com/ncaa/florida-lsu-espn-cbs-scheduling.html',\n",
              "   'urlToImage': 'https://cdn1.thecomeback.com/wp-content/uploads/sites/94/2019/10/Alabama-AM-CBS-2.jpg'},\n",
              "  {'author': None,\n",
              "   'content': 'The USA wasted no time taking control of the game as McKennie scored the second fastest goal in modern USMNT history, netting the game’s opener just 30 seconds into the contest. He added a second four minutes later on a second-consecutive assist from Morris b… [+10236 chars]',\n",
              "   'description': 'Weston McKennie Notches Fastest USMNT Hat Trick from the Start of a Match Just 13 Minutes in; Jordan Morris, Josh Sargent and Christian Pulisic Also Add Goals in USA’s Record Six-Goal First Half; USMNT Continues CNL Play vs. Canada on Oct. 15 in Toronto (7:30…',\n",
              "   'publishedAt': '2019-10-12T02:22:18Z',\n",
              "   'source': {'id': None, 'name': 'Ussoccer.com'},\n",
              "   'title': 'Nations League 2019: USA vs. Cuba - Match Report, Stats & Standings - U.S. Soccer',\n",
              "   'url': 'https://www.ussoccer.com/stories/2019/10/nations-league-2019-usmnt-vs-cuba-preview-match-report-stats-and-standings',\n",
              "   'urlToImage': 'https://cdn.ussoccer.com/-/media/project/ussf/2019-stories/10/mntvcub/mntvcub-reportp1m2.ashx?h=787&la=en-US&w=1500&rev=26c67a9a977c4bfbb1c0be1d4eedb883&hash=26C316A6E67A86E4F5FC77268C73036D'},\n",
              "  {'author': None,\n",
              "   'content': 'Mr. Giuliani said that because Democrats had questioned his business consulting for foreign clients, his contracts explicitly say he does not lobby or act as an agent of foreigners.\\r\\nThrough his two associates who also worked to oust the ambassador, Lev Parna… [+1880 chars]',\n",
              "   'description': 'Prosecutors are investigating whether the president’s lawyer broke laws meant to prevent covert foreign influence on the government.',\n",
              "   'publishedAt': '2019-10-12T02:12:00Z',\n",
              "   'source': {'id': 'the-new-york-times', 'name': 'The New York Times'},\n",
              "   'title': 'Giuliani Is Said to Be Under Investigation for Ukraine Work - The New York Times',\n",
              "   'url': 'https://www.nytimes.com/2019/10/11/us/politics/rudy-giuliani-investigation.html',\n",
              "   'urlToImage': 'https://static01.nyt.com/images/2019/10/11/us/politics/11dc-giuliani1/11dc-giuliani1-facebookJumbo.jpg'},\n",
              "  {'author': 'http://www.facebook.com/ktla5',\n",
              "   'content': 'Several people lost their homes in the\\xa0 Saddleridge Fire that continued to burn Friday through thousands of acres in the northern foothills of the San Fernando Valley.\\r\\n\"We\\'ve lived through a lot of the evacuations in the past, but like I said, this is the wo… [+3520 chars]',\n",
              "   'description': 'Several people lost their homes in the\\xa0 Saddleridge Fire that continued to burn Friday through thousands of acres in the northern foothills of the San Fernando Valley.\\r\\n\\n\"We\\'ve lived through a lot of the evacuations in the past, but like I said, this is the w…',\n",
              "   'publishedAt': '2019-10-12T02:09:00Z',\n",
              "   'source': {'id': None, 'name': 'Ktla.com'},\n",
              "   'title': 'Granada Hills and Porter Ranch Residents Lose Homes in Devastating Saddleridge Fire - KTLA Los Angeles',\n",
              "   'url': 'https://ktla.com/2019/10/11/granada-hills-and-porter-ranch-residents-lose-homes-in-devastating-saddleridge-fire/',\n",
              "   'urlToImage': 'https://tribktla.files.wordpress.com/2019/10/gettyimages-1175341853-1.jpg?quality=85&strip=all&w=1200'},\n",
              "  {'author': 'Reuters',\n",
              "   'content': 'President Donald Trump said on Friday that acting Homeland Security Secretary Kevin McAleenan was stepping down and a new acting chief of the agency would be named next week.\\r\\nMcAleenan became the fourth person to lead the agency under Trump in April after th… [+1455 chars]',\n",
              "   'description': 'President Donald Trump said on Friday that acting Homeland Security Secretary Kevin McAleenan was stepping down and a new acting chief of the agency would be named next week. McAleenan became the f…',\n",
              "   'publishedAt': '2019-10-12T02:06:00Z',\n",
              "   'source': {'id': None, 'name': 'Nypost.com'},\n",
              "   'title': 'Kevin McAleenan resigns as acting Homeland Security secretary - New York Post ',\n",
              "   'url': 'https://nypost.com/2019/10/11/kevin-mcaleenan-resigns-as-acting-homeland-security-secretary/',\n",
              "   'urlToImage': 'https://thenypost.files.wordpress.com/2019/10/191011-kevin-mcaleenan.jpg?quality=90&strip=all&w=1200'},\n",
              "  {'author': 'Vlad',\n",
              "   'content': \"If you've been looking at the Samsung Galaxy Note10+ but couldn't so far get yourself to actually order one, the Korean company is now running a promo that may just tip the scales for you.\\r\\nFirst off, you can get up to $500 off the price of the device with a … [+825 chars]\",\n",
              "   'description': \"It's quite an impressive offer that Samsung is currently running in the US.\",\n",
              "   'publishedAt': '2019-10-12T02:00:02Z',\n",
              "   'source': {'id': None, 'name': 'Gsmarena.com'},\n",
              "   'title': 'Deal: get $500 off the Galaxy Note10+ with trade-in, and $200 credit or free Galaxy Fit and Galaxy Buds - GSMArena.com news - GSMArena.com',\n",
              "   'url': 'https://www.gsmarena.com/deal_get_500_off_the_galaxy_note10_with_tradein_also_free_200_credit_or_galaxy_fit_and_galaxy_buds-news-39596.php',\n",
              "   'urlToImage': 'https://fdn.gsmarena.com/imgroot/news/19/10/note10-plus-trade-in-promo/-476x249w4/gsmarena_001.jpg'},\n",
              "  {'author': None,\n",
              "   'content': 'Theyve been trying to stop us for the past three years with a lot of crap, he stated matter-of-factly about his Democratic opponents on Capitol Hill. \\r\\nIt was the same version of Trump that voters saw on Thursday when the president rallied in Minneapolis, the… [+5308 chars]',\n",
              "   'description': None,\n",
              "   'publishedAt': '2019-10-12T01:56:00Z',\n",
              "   'source': {'id': 'politico', 'name': 'Politico'},\n",
              "   'title': \"Raw, angry, uncensored: Welcome to Trump's impeachment-era campaign - POLITICO\",\n",
              "   'url': 'https://www.politico.com/news/2019/10/11/trump-impeachment-campaign-044829',\n",
              "   'urlToImage': 'https://static.politico.com/28/b4/6110a78b47209cde48d890a27cc3/191011-trump-gty-773.jpg'},\n",
              "  {'author': 'Julius Young',\n",
              "   'content': 'Justin Bieber is dipping\\xa0into his rap\\xa0bag\\xa0as he debuts\\xa0potential new music.\\r\\nThe pop superstar went on Instagram Stories Thursday night to share a number of snippets of a remix record in which he flipped 50 Cent’s “Many Men” from his 2003 debut album, “Get Ri… [+2016 chars]',\n",
              "   'description': 'Justin Bieber dipped into his rap bag of bars as he debuted potential new music.',\n",
              "   'publishedAt': '2019-10-12T00:43:20Z',\n",
              "   'source': {'id': 'fox-news', 'name': 'Fox News'},\n",
              "   'title': \"Justin Bieber channels 50 Cent, raps about his wife, Hailey Baldwin, and depression in 'Many Men' remix - Fox News\",\n",
              "   'url': 'https://www.foxnews.com/entertainment/justin-bieber-50-cent-raps-hailey-baldwin-depression-many-men-remix',\n",
              "   'urlToImage': 'https://static.foxnews.com/foxnews.com/content/uploads/2019/02/GettyImages-1033341194.jpg'},\n",
              "  {'author': 'McKenna Aiello',\n",
              "   'content': 'Zack Clayton Carpinello is\\xa0seeking forgiveness.\\xa0\\r\\nHours after E! News confirmed\\xa0Jenni \"JWoww\" Farleyended their relationship over\\xa0Angelina Pivarnick\\'s claim that Zack inappropriately touched her during a night out with the\\xa0Jersey Shore cast, he wants to publi… [+693 chars]',\n",
              "   'description': \"<i>Jersey Shore</i>'s Angelina Pivarnick accused her co-star's man of inappropriate behavior\",\n",
              "   'publishedAt': '2019-10-12T00:35:00Z',\n",
              "   'source': {'id': None, 'name': 'Eonline.com'},\n",
              "   'title': \"JWoww's Ex Zack Addresses Split and Groping Allegations - E! NEWS\",\n",
              "   'url': 'https://www.eonline.com/news/1082283/jenni-jwoww-farley-s-ex-zack-addresses-split-and-groping-allegations',\n",
              "   'urlToImage': 'https://akns-images.eonline.com/eol_images/Entire_Site/2019426/rs_600x600-190526120413-600-jwoww-boyfriend-zack-clayton-carpinello-vegas-4-052519.jpg?fit=around|600:467&crop=600:467;center,top&output-quality=90'},\n",
              "  {'author': 'Gregory Barber',\n",
              "   'content': 'Then there were 22. Last week, PayPal became the first to defect from the 28-member Libra Association, declining to participate in Facebooks vision for global paymentsa vision it helped seed. Now, Visa, Mastercard, Stripe, eBay, and Mercado Pago have followed… [+3789 chars]',\n",
              "   'description': 'The departures of Visa, Mastercard, and three others mean that more than ever, Libra is Facebook’s cryptocurrency project.',\n",
              "   'publishedAt': '2019-10-12T00:15:00Z',\n",
              "   'source': {'id': 'wired', 'name': 'Wired'},\n",
              "   'title': 'Facebook Is Losing Its Cover for Libra As More Members Flee - WIRED',\n",
              "   'url': 'https://www.wired.com/story/facebook-losing-cover-libra-more-members-flee/',\n",
              "   'urlToImage': 'https://media.wired.com/photos/5da1088e28aa8800084348f9/master/w_2560,c_limit/Biz_Libra_-1155966869.jpg'},\n",
              "  {'author': 'Joe Kukura',\n",
              "   'content': 'Well, this may explain why San Francisco didnt get its power shut off. The mayor and city attorney offered to buy all of PG&amp;Es local assets, but the company wouldnt bite.\\r\\nApparently quite a bit was going on behind the scenes this week while as many as tw… [+2101 chars]',\n",
              "   'description': 'As news breaks that PG&E executives threw a ritzy Sonoma winery bash on the eve of the blackouts, we also learn the company rejected a multibillion-dollar offer from City Hall to buy their local lines.',\n",
              "   'publishedAt': '2019-10-11T23:50:28Z',\n",
              "   'source': {'id': None, 'name': 'Sfist.com'},\n",
              "   'title': \"SF Offered to Buy PG&E's Local Power Lines for $2.5 Billion, Beleaguered Utility Turned It Down - SFist\",\n",
              "   'url': 'https://sfist.com/2019/10/11/sf-offered-to-buy-pg-es-local-power-lines-for-2-5-billion-beleaguered-utility-turned-it-down/',\n",
              "   'urlToImage': 'https://img.sfist.com/2019/10/6239554525_9e638f3768_b.jpg'},\n",
              "  {'author': 'Ali Younes',\n",
              "   'content': 'The Pentagon on Friday strongly denied accusations it was abandoning its Kurdish allies in Syria as Turkey continued its military offensive in the country\\'s northeast, forcing 100,000 people to flee amid heavy fighting.\\r\\n\"To be clear, we are not abandoning ou… [+5561 chars]',\n",
              "   'description': \"US Secretary of Defense Mark Esper responds to criticism, says US did not 'green-light' Turkey offensive.\",\n",
              "   'publishedAt': '2019-10-11T23:30:00Z',\n",
              "   'source': {'id': 'al-jazeera-english', 'name': 'Al Jazeera English'},\n",
              "   'title': \"US defence chief: We're not abandoning the Kurds in Syria - Aljazeera.com\",\n",
              "   'url': 'https://www.aljazeera.com/news/2019/10/defence-chief-abandoning-kurds-syria-191011141042010.html',\n",
              "   'urlToImage': 'https://www.aljazeera.com/mritems/Images/2019/10/11/37197d5b3e9346acb13a3010bf9b1af9_18.jpg'}],\n",
              " 'status': 'ok',\n",
              " 'totalResults': 38}"
            ]
          },
          "metadata": {
            "tags": []
          },
          "execution_count": 19
        }
      ]
    },
    {
      "cell_type": "code",
      "metadata": {
        "id": "hTWdMpXbyenL",
        "colab_type": "code",
        "colab": {}
      },
      "source": [
        "# метка\n",
        "my_article = get['articles']"
      ],
      "execution_count": null,
      "outputs": []
    },
    {
      "cell_type": "code",
      "metadata": {
        "id": "xcryE09ZzamZ",
        "colab_type": "code",
        "colab": {}
      },
      "source": [
        "# создаем список для новостей\n",
        "list1 = []\n",
        "\n",
        "# функция парсинга новостей\n",
        "def get_news(lst):\n",
        "  for ar in my_article:\n",
        "    news_dict=dict()\n",
        "    \n",
        "    news_dict['author'] = ar['author']\n",
        "    news_dict['published At'] = ar['publishedAt']\n",
        "    news_dict['title'] = ar['title']\n",
        "    news_dict['content'] = ar['content']\n",
        "    news_dict['url'] = ar['url']\n",
        "    \n",
        "    lst.append(news_dict)\n",
        "    #print(news_dict)\n",
        "  return\n",
        "    "
      ],
      "execution_count": null,
      "outputs": []
    },
    {
      "cell_type": "code",
      "metadata": {
        "id": "E9UaImns5ZH4",
        "colab_type": "code",
        "colab": {}
      },
      "source": [
        "# получаем новости\n",
        "get_news(list1)"
      ],
      "execution_count": null,
      "outputs": []
    },
    {
      "cell_type": "code",
      "metadata": {
        "id": "Bf6swu788Ene",
        "colab_type": "code",
        "colab": {}
      },
      "source": [
        "# ключи для датафрейма csv\n",
        "csv_keys = ['author', 'published At', 'title', 'content', 'url']"
      ],
      "execution_count": null,
      "outputs": []
    },
    {
      "cell_type": "code",
      "metadata": {
        "id": "ZrnNgGyp8vcW",
        "colab_type": "code",
        "colab": {}
      },
      "source": [
        "# создаем csv файл\n",
        "with open('news.csv', 'w') as f:\n",
        "    writer = csv.DictWriter(f, fieldnames=csv_keys)\n",
        "    writer.writeheader()\n",
        "    for item in list1:\n",
        "        writer.writerow(item)"
      ],
      "execution_count": null,
      "outputs": []
    },
    {
      "cell_type": "code",
      "metadata": {
        "id": "PC3QKj1i-NvN",
        "colab_type": "code",
        "colab": {}
      },
      "source": [
        "# сохраняем парсинг\n",
        "files.download('news.csv')"
      ],
      "execution_count": null,
      "outputs": []
    },
    {
      "cell_type": "code",
      "metadata": {
        "id": "ZFY83VA79FYy",
        "colab_type": "code",
        "colab": {
          "base_uri": "https://localhost:8080/",
          "height": 401
        },
        "outputId": "ca7a6968-7735-4fa9-e918-ab090274e5b5"
      },
      "source": [
        "data = pd.read_csv('news.csv')\n",
        "data.head(3)"
      ],
      "execution_count": null,
      "outputs": [
        {
          "output_type": "execute_result",
          "data": {
            "text/html": [
              "<div>\n",
              "<style scoped>\n",
              "    .dataframe tbody tr th:only-of-type {\n",
              "        vertical-align: middle;\n",
              "    }\n",
              "\n",
              "    .dataframe tbody tr th {\n",
              "        vertical-align: top;\n",
              "    }\n",
              "\n",
              "    .dataframe thead th {\n",
              "        text-align: right;\n",
              "    }\n",
              "</style>\n",
              "<table border=\"1\" class=\"dataframe\">\n",
              "  <thead>\n",
              "    <tr style=\"text-align: right;\">\n",
              "      <th></th>\n",
              "      <th>author</th>\n",
              "      <th>published At</th>\n",
              "      <th>title</th>\n",
              "      <th>content</th>\n",
              "      <th>url</th>\n",
              "    </tr>\n",
              "  </thead>\n",
              "  <tbody>\n",
              "    <tr>\n",
              "      <th>0</th>\n",
              "      <td>NaN</td>\n",
              "      <td>2019-10-12T08:30:00Z</td>\n",
              "      <td>Robert Forster, Oscar-nominated actor for 'Jac...</td>\n",
              "      <td>LOS ANGELES Robert Forster, the handsome and o...</td>\n",
              "      <td>https://www.usatoday.com/story/entertainment/2...</td>\n",
              "    </tr>\n",
              "    <tr>\n",
              "      <th>1</th>\n",
              "      <td>NaN</td>\n",
              "      <td>2019-10-12T08:17:00Z</td>\n",
              "      <td>Eliud Kipchoge Breaks Two-Hour Marathon Barrie...</td>\n",
              "      <td>What the event lacked in officially sanctioned...</td>\n",
              "      <td>https://www.nytimes.com/2019/10/12/sports/eliu...</td>\n",
              "    </tr>\n",
              "    <tr>\n",
              "      <th>2</th>\n",
              "      <td>NaN</td>\n",
              "      <td>2019-10-12T06:22:00Z</td>\n",
              "      <td>Landslides, Floods and a Quake as Typhoon Hagi...</td>\n",
              "      <td>As Hagibis approached this week at one point t...</td>\n",
              "      <td>https://www.nytimes.com/2019/10/12/world/asia/...</td>\n",
              "    </tr>\n",
              "  </tbody>\n",
              "</table>\n",
              "</div>"
            ],
            "text/plain": [
              "  author  ...                                                url\n",
              "0    NaN  ...  https://www.usatoday.com/story/entertainment/2...\n",
              "1    NaN  ...  https://www.nytimes.com/2019/10/12/sports/eliu...\n",
              "2    NaN  ...  https://www.nytimes.com/2019/10/12/world/asia/...\n",
              "\n",
              "[3 rows x 5 columns]"
            ]
          },
          "metadata": {
            "tags": []
          },
          "execution_count": 14
        }
      ]
    },
    {
      "cell_type": "markdown",
      "metadata": {
        "id": "Ej7qNUVf-wpt",
        "colab_type": "text"
      },
      "source": [
        "## text processing"
      ]
    },
    {
      "cell_type": "code",
      "metadata": {
        "id": "mzm9NhHX-4Cq",
        "colab_type": "code",
        "colab": {}
      },
      "source": [
        "# Разделение текстов на предложение\n",
        "\n",
        "sentences = []\n",
        "for i in data['content']:\n",
        "  sentences.append(sent_tokenize(i))"
      ],
      "execution_count": null,
      "outputs": []
    },
    {
      "cell_type": "code",
      "metadata": {
        "id": "CQ-gbsddinZ0",
        "colab_type": "code",
        "colab": {
          "base_uri": "https://localhost:8080/",
          "height": 436
        },
        "outputId": "08f3b85c-190b-401c-d497-3317c1cbb4f9"
      },
      "source": [
        "# проверим предложения\n",
        "sentences[0:10]"
      ],
      "execution_count": null,
      "outputs": [
        {
          "output_type": "execute_result",
          "data": {
            "text/plain": [
              "[['LOS ANGELES Robert Forster, the handsome and omnipresent character actor who got a career resurgence and Oscar nomination for playing bail bondsman Max Cherry in Jackie Brown, died Friday.',\n",
              "  'He was 78.',\n",
              "  'Publicist Kathie Berlin said Forster died of brain cancer … [+4087 chars]'],\n",
              " ['What the event lacked in officially sanctioned gravitas it seemed determined to make up for with theater and grandiose proclamations.',\n",
              "  'The run, organized by the petrochemical company INEOS, featured a cycle of hype and commercial buildup more reminiscent of a… [+620 chars]'],\n",
              " ['As Hagibis approached this week at one point the equivalent of a Category 5 hurricane, with 160 m.p.h.',\n",
              "  'winds the Japanese authorities prepared for disruptions in the lives of millions.',\n",
              "  'About 1.5 million people live below sea level in eastern parts of Tokyo, a… [+1361 chars]'],\n",
              " ['Despite the official announcement being on Tuesday, Best Buy in Canada has already listed the Pixel 4 and Pixel 4 XL for pre-order.',\n",
              "  'A dedicated product page notes the key features and specs, while also allowing buyers to place a deposit.',\n",
              "  'The official marketi… [+2156 chars]'],\n",
              " ['Gov.',\n",
              "  'Gavin Newsom on Friday did what two of his predecessors refused to do: He prohibited smoking and vaping in most areas of California state parks and beaches.',\n",
              "  'People caught using cigarettes, cigars, pipes or electronic cigarettes will face a fine of up to… [+2965 chars]'],\n",
              " ['Share this article\\r\\nCompanies in this article\\r\\nBlizzard\\r\\nOn Friday evening, Blizzard Entertainment president J. Allen Brack released a statement in response to a week of ongoing criticism from players, developers, and even politicians over its decision to ban… [+3011 chars]'],\n",
              " ['Published: 12:13pm, 12 Oct, 2019\\r\\nUpdated: 12:16pm, 12 Oct, 2019'],\n",
              " ['California is cutting ties with the for-profit detainment sector.',\n",
              "  'Governor Gavin Newsom signed a bill Friday that will ban all new contracts and contract renewals with for-profit, private prisons starting January 1.',\n",
              "  'California is the first state to enact a … [+2123 chars]'],\n",
              " ['Most of the time, NCAA scheduling sees the best matchups (in terms of rankings) go to the network that pays for the first pick in the conference in question, but that’s not the case with the SEC this week.',\n",
              "  'CBS pays for first pick each week in its\\xa0SEC on CBS p… [+3758 chars]'],\n",
              " ['The USA wasted no time taking control of the game as McKennie scored the second fastest goal in modern USMNT history, netting the game’s opener just 30 seconds into the contest.',\n",
              "  'He added a second four minutes later on a second-consecutive assist from Morris b… [+10236 chars]']]"
            ]
          },
          "metadata": {
            "tags": []
          },
          "execution_count": 22
        }
      ]
    },
    {
      "cell_type": "code",
      "metadata": {
        "id": "ThEgJ04MkGmv",
        "colab_type": "code",
        "colab": {}
      },
      "source": [
        "# flatten\n",
        "sentences = [y for x in sentences for y in x ]"
      ],
      "execution_count": null,
      "outputs": []
    },
    {
      "cell_type": "code",
      "metadata": {
        "id": "QLeu64B2kW7x",
        "colab_type": "code",
        "colab": {
          "base_uri": "https://localhost:8080/",
          "height": 89
        },
        "outputId": "c69ab274-54f2-4827-b687-07388237b0a1"
      },
      "source": [
        "sentences[]"
      ],
      "execution_count": null,
      "outputs": [
        {
          "output_type": "execute_result",
          "data": {
            "text/plain": [
              "['LOS ANGELES Robert Forster, the handsome and omnipresent character actor who got a career resurgence and Oscar nomination for playing bail bondsman Max Cherry in Jackie Brown, died Friday.',\n",
              " 'He was 78.',\n",
              " 'Publicist Kathie Berlin said Forster died of brain cancer … [+4087 chars]']"
            ]
          },
          "metadata": {
            "tags": []
          },
          "execution_count": 25
        }
      ]
    },
    {
      "cell_type": "code",
      "metadata": {
        "id": "asGvgPgYkxla",
        "colab_type": "code",
        "colab": {}
      },
      "source": [
        "# Удаляем пунктуацию и лишние знаки, приводим к нижнему регистру\n",
        "\n",
        "clean_sent = pd.Series(sentences).str.replace(\"[^a-zA-Z]\", \" \")\n",
        "clean_sent = [s.lower() for s in clean_sent]"
      ],
      "execution_count": null,
      "outputs": []
    },
    {
      "cell_type": "code",
      "metadata": {
        "id": "Pr2SEga4l84G",
        "colab_type": "code",
        "colab": {
          "base_uri": "https://localhost:8080/",
          "height": 55
        },
        "outputId": "3b9e5b24-6735-48ab-936a-a177bdeed44a"
      },
      "source": [
        "clean_sent[0]"
      ],
      "execution_count": null,
      "outputs": [
        {
          "output_type": "execute_result",
          "data": {
            "text/plain": [
              "'los angeles robert forster  the handsome and omnipresent character actor who got a career resurgence and oscar nomination for playing bail bondsman max cherry in jackie brown  died friday '"
            ]
          },
          "metadata": {
            "tags": []
          },
          "execution_count": 29
        }
      ]
    },
    {
      "cell_type": "code",
      "metadata": {
        "id": "YLS8iEYLmEAT",
        "colab_type": "code",
        "colab": {
          "base_uri": "https://localhost:8080/",
          "height": 69
        },
        "outputId": "99947844-b858-42c4-8bbe-12efdaf41492"
      },
      "source": [
        "# \n",
        "nltk.download('stopwords')"
      ],
      "execution_count": null,
      "outputs": [
        {
          "output_type": "stream",
          "text": [
            "[nltk_data] Downloading package stopwords to /root/nltk_data...\n",
            "[nltk_data]   Unzipping corpora/stopwords.zip.\n"
          ],
          "name": "stdout"
        },
        {
          "output_type": "execute_result",
          "data": {
            "text/plain": [
              "True"
            ]
          },
          "metadata": {
            "tags": []
          },
          "execution_count": 31
        }
      ]
    },
    {
      "cell_type": "code",
      "metadata": {
        "id": "IaRGvKRfmyAW",
        "colab_type": "code",
        "colab": {}
      },
      "source": [
        "# stopwords\n",
        "stop_words = stopwords.words('english')"
      ],
      "execution_count": null,
      "outputs": []
    },
    {
      "cell_type": "code",
      "metadata": {
        "id": "92IfE3nCnGXe",
        "colab_type": "code",
        "colab": {
          "base_uri": "https://localhost:8080/",
          "height": 35
        },
        "outputId": "607f0666-48de-4231-ab3c-33a62f416fb1"
      },
      "source": [
        "# проверяем кол-во\n",
        "len(stop_words)"
      ],
      "execution_count": null,
      "outputs": [
        {
          "output_type": "execute_result",
          "data": {
            "text/plain": [
              "179"
            ]
          },
          "metadata": {
            "tags": []
          },
          "execution_count": 34
        }
      ]
    },
    {
      "cell_type": "code",
      "metadata": {
        "id": "qZjt7uOend34",
        "colab_type": "code",
        "colab": {}
      },
      "source": [
        "# удаляем стоп слова из предложений\n",
        "def remove_sw(sen):\n",
        "  sen_new = \" \".join([i for i in sen if i not in stop_words])\n",
        "  return sen_new\n",
        "\n",
        "clean_sent = [remove_sw(r.split()) for r in clean_sent]"
      ],
      "execution_count": null,
      "outputs": []
    },
    {
      "cell_type": "code",
      "metadata": {
        "id": "21JHI0o8pZf3",
        "colab_type": "code",
        "colab": {
          "base_uri": "https://localhost:8080/",
          "height": 384
        },
        "outputId": "317953ee-249a-43a2-bf6f-c8bf786767b8"
      },
      "source": [
        "# качаем Glove\n",
        "!wget http://nlp.stanford.edu/data/glove.6B.zip"
      ],
      "execution_count": null,
      "outputs": [
        {
          "output_type": "stream",
          "text": [
            "--2019-10-12 11:06:07--  http://nlp.stanford.edu/data/glove.6B.zip\n",
            "Resolving nlp.stanford.edu (nlp.stanford.edu)... 171.64.67.140\n",
            "Connecting to nlp.stanford.edu (nlp.stanford.edu)|171.64.67.140|:80... connected.\n",
            "HTTP request sent, awaiting response... 302 Found\n",
            "Location: https://nlp.stanford.edu/data/glove.6B.zip [following]\n",
            "--2019-10-12 11:06:07--  https://nlp.stanford.edu/data/glove.6B.zip\n",
            "Connecting to nlp.stanford.edu (nlp.stanford.edu)|171.64.67.140|:443... connected.\n",
            "HTTP request sent, awaiting response... 301 Moved Permanently\n",
            "Location: http://downloads.cs.stanford.edu/nlp/data/glove.6B.zip [following]\n",
            "--2019-10-12 11:06:08--  http://downloads.cs.stanford.edu/nlp/data/glove.6B.zip\n",
            "Resolving downloads.cs.stanford.edu (downloads.cs.stanford.edu)... 171.64.64.22\n",
            "Connecting to downloads.cs.stanford.edu (downloads.cs.stanford.edu)|171.64.64.22|:80... connected.\n",
            "HTTP request sent, awaiting response... 200 OK\n",
            "Length: 862182613 (822M) [application/zip]\n",
            "Saving to: ‘glove.6B.zip’\n",
            "\n",
            "glove.6B.zip        100%[===================>] 822.24M  1.98MB/s    in 6m 29s  \n",
            "\n",
            "2019-10-12 11:12:37 (2.11 MB/s) - ‘glove.6B.zip’ saved [862182613/862182613]\n",
            "\n"
          ],
          "name": "stdout"
        }
      ]
    },
    {
      "cell_type": "code",
      "metadata": {
        "id": "b0ivcGyMpaYJ",
        "colab_type": "code",
        "colab": {
          "base_uri": "https://localhost:8080/",
          "height": 104
        },
        "outputId": "72a5b588-5a33-4eac-be9d-2a9b2f41079b"
      },
      "source": [
        "# Распаковываем Glove\n",
        "!unzip glove.6B.zip"
      ],
      "execution_count": null,
      "outputs": [
        {
          "output_type": "stream",
          "text": [
            "Archive:  glove.6B.zip\n",
            "  inflating: glove.6B.50d.txt        \n",
            "  inflating: glove.6B.100d.txt       \n",
            "  inflating: glove.6B.200d.txt       \n",
            "  inflating: glove.6B.300d.txt       \n"
          ],
          "name": "stdout"
        }
      ]
    },
    {
      "cell_type": "code",
      "metadata": {
        "id": "PXEvWdWPo4K4",
        "colab_type": "code",
        "colab": {}
      },
      "source": [
        "# создаем словарь с векторами слов\n",
        "word_embeddings = {}\n",
        "\n",
        "f = open('glove.6B.100d.txt', encoding='utf-8')\n",
        "\n",
        "for line in f:\n",
        "    values = line.split()\n",
        "    word = values[0]\n",
        "    coefs = np.asarray(values[1:], dtype='float32')\n",
        "    word_embeddings[word] = coefs\n",
        "f.close()"
      ],
      "execution_count": null,
      "outputs": []
    },
    {
      "cell_type": "code",
      "metadata": {
        "id": "LitZFjaNpf9P",
        "colab_type": "code",
        "colab": {
          "base_uri": "https://localhost:8080/",
          "height": 381
        },
        "outputId": "68e0a9bc-c067-49af-cd48-9de2c2370c22"
      },
      "source": [
        "word_embeddings['cat']"
      ],
      "execution_count": null,
      "outputs": [
        {
          "output_type": "execute_result",
          "data": {
            "text/plain": [
              "array([ 0.23088  ,  0.28283  ,  0.6318   , -0.59411  , -0.58599  ,\n",
              "        0.63255  ,  0.24402  , -0.14108  ,  0.060815 , -0.7898   ,\n",
              "       -0.29102  ,  0.14287  ,  0.72274  ,  0.20428  ,  0.1407   ,\n",
              "        0.98757  ,  0.52533  ,  0.097456 ,  0.8822   ,  0.51221  ,\n",
              "        0.40204  ,  0.21169  , -0.013109 , -0.71616  ,  0.55387  ,\n",
              "        1.1452   , -0.88044  , -0.50216  , -0.22814  ,  0.023885 ,\n",
              "        0.1072   ,  0.083739 ,  0.55015  ,  0.58479  ,  0.75816  ,\n",
              "        0.45706  , -0.28001  ,  0.25225  ,  0.68965  , -0.60972  ,\n",
              "        0.19578  ,  0.044209 , -0.31136  , -0.68826  , -0.22721  ,\n",
              "        0.46185  , -0.77162  ,  0.10208  ,  0.55636  ,  0.067417 ,\n",
              "       -0.57207  ,  0.23735  ,  0.4717   ,  0.82765  , -0.29263  ,\n",
              "       -1.3422   , -0.099277 ,  0.28139  ,  0.41604  ,  0.10583  ,\n",
              "        0.62203  ,  0.89496  , -0.23446  ,  0.51349  ,  0.99379  ,\n",
              "        1.1846   , -0.16364  ,  0.20653  ,  0.73854  ,  0.24059  ,\n",
              "       -0.96473  ,  0.13481  , -0.0072484,  0.33016  , -0.12365  ,\n",
              "        0.27191  , -0.40951  ,  0.021909 , -0.6069   ,  0.40755  ,\n",
              "        0.19566  , -0.41802  ,  0.18636  , -0.032652 , -0.78571  ,\n",
              "       -0.13847  ,  0.044007 , -0.084423 ,  0.04911  ,  0.24104  ,\n",
              "        0.45273  , -0.18682  ,  0.46182  ,  0.089068 , -0.18185  ,\n",
              "       -0.01523  , -0.7368   , -0.14532  ,  0.15104  , -0.71493  ],\n",
              "      dtype=float32)"
            ]
          },
          "metadata": {
            "tags": []
          },
          "execution_count": 44
        }
      ]
    },
    {
      "cell_type": "code",
      "metadata": {
        "id": "3xEHQt3hsk4t",
        "colab_type": "code",
        "colab": {}
      },
      "source": [
        "sen_vectors = []\n",
        "\n",
        "\n",
        "for i in clean_sent:\n",
        "    \n",
        "    if len(i) != 0:\n",
        "        v = sum([word_embeddings.get(w, np.zeros((100,))) for w in i.split()])/(len(i.split())+0.001)\n",
        "    else:\n",
        "        v = np.zeros((100,))\n",
        "    sen_vectors.append(v)"
      ],
      "execution_count": null,
      "outputs": []
    },
    {
      "cell_type": "code",
      "metadata": {
        "id": "clxEv3FatZT1",
        "colab_type": "code",
        "colab": {
          "base_uri": "https://localhost:8080/",
          "height": 35
        },
        "outputId": "1d9a7c24-7357-434a-d497-f53dc77ab529"
      },
      "source": [
        "len(sen_vectors)"
      ],
      "execution_count": null,
      "outputs": [
        {
          "output_type": "execute_result",
          "data": {
            "text/plain": [
              "46"
            ]
          },
          "metadata": {
            "tags": []
          },
          "execution_count": 54
        }
      ]
    },
    {
      "cell_type": "code",
      "metadata": {
        "id": "Zm_6zg6itgnQ",
        "colab_type": "code",
        "colab": {}
      },
      "source": [
        "sim_mat = np.zeros([len(sentences), len(sentences)])"
      ],
      "execution_count": null,
      "outputs": []
    },
    {
      "cell_type": "code",
      "metadata": {
        "id": "4rDws0Evt-4p",
        "colab_type": "code",
        "colab": {}
      },
      "source": [
        "for i in range(len(sentences)):\n",
        "  for j in range(len(sentences)):\n",
        "    if i != j:\n",
        "      sim_mat[i][j] = cosine_similarity(sen_vectors[i].reshape(1,100), sen_vectors[j].reshape(1,100))[0,0]\n",
        "      "
      ],
      "execution_count": null,
      "outputs": []
    },
    {
      "cell_type": "code",
      "metadata": {
        "id": "fC6b-of-u0Ju",
        "colab_type": "code",
        "colab": {}
      },
      "source": [
        "nx_graph = nx.from_numpy_array(sim_mat)\n",
        "\n",
        "scores = nx.pagerank(nx_graph)"
      ],
      "execution_count": null,
      "outputs": []
    },
    {
      "cell_type": "code",
      "metadata": {
        "id": "TAhrLAzcu5uf",
        "colab_type": "code",
        "colab": {}
      },
      "source": [
        "ranked_sentences = sorted(((scores[i],s) for i,s in enumerate(sentences)), reverse=True)"
      ],
      "execution_count": null,
      "outputs": []
    },
    {
      "cell_type": "code",
      "metadata": {
        "id": "voup68shu76K",
        "colab_type": "code",
        "colab": {
          "base_uri": "https://localhost:8080/",
          "height": 35
        },
        "outputId": "5c7e511a-fcbf-4df8-e7e0-d9b9b6cb34d0"
      },
      "source": [
        "len(ranked_sentences)"
      ],
      "execution_count": null,
      "outputs": [
        {
          "output_type": "execute_result",
          "data": {
            "text/plain": [
              "46"
            ]
          },
          "metadata": {
            "tags": []
          },
          "execution_count": 62
        }
      ]
    },
    {
      "cell_type": "code",
      "metadata": {
        "id": "4j2oIk_ku93y",
        "colab_type": "code",
        "colab": {
          "base_uri": "https://localhost:8080/",
          "height": 1000
        },
        "outputId": "06ffccc3-7f9b-46d5-ccab-09a7c6bc4aea"
      },
      "source": [
        "# Specify number of sentences to form the summary\n",
        "sn = 10\n",
        "\n",
        "# Generate summary\n",
        "for i in range(sn):\n",
        "    print(i,'=====\\n',ranked_sentences[i][1])\n",
        "    print('\\n\\nkewords:\\n',keywords(ranked_sentences[i][1]))"
      ],
      "execution_count": null,
      "outputs": [
        {
          "output_type": "stream",
          "text": [
            "0 =====\n",
            " Share this article\r\n",
            "Companies in this article\r\n",
            "Blizzard\r\n",
            "On Friday evening, Blizzard Entertainment president J. Allen Brack released a statement in response to a week of ongoing criticism from players, developers, and even politicians over its decision to ban… [+3011 chars]\n",
            "\n",
            "\n",
            "kewords:\n",
            " blizzard\n",
            "brack\n",
            "evening\n",
            "1 =====\n",
            " If you've been looking at the Samsung Galaxy Note10+ but couldn't so far get yourself to actually order one, the Korean company is now running a promo that may just tip the scales for you.\n",
            "\n",
            "\n",
            "kewords:\n",
            " galaxy\n",
            "2 =====\n",
            " Despite the official announcement being on Tuesday, Best Buy in Canada has already listed the Pixel 4 and Pixel 4 XL for pre-order.\n",
            "\n",
            "\n",
            "kewords:\n",
            " best\n",
            "3 =====\n",
            " Theyve been trying to stop us for the past three years with a lot of crap, he stated matter-of-factly about his Democratic opponents on Capitol Hill.\n",
            "\n",
            "\n",
            "kewords:\n",
            " stated\n",
            "4 =====\n",
            " McAleenan became the fourth person to lead the agency under Trump in April after th… [+1455 chars]\n",
            "\n",
            "\n",
            "kewords:\n",
            " \n",
            "5 =====\n",
            " Well, this may explain why San Francisco didnt get its power shut off.\n",
            "\n",
            "\n",
            "kewords:\n",
            " francisco\n",
            "6 =====\n",
            " Most of the time, NCAA scheduling sees the best matchups (in terms of rankings) go to the network that pays for the first pick in the conference in question, but that’s not the case with the SEC this week.\n",
            "\n",
            "\n",
            "kewords:\n",
            " ncaa\n",
            "7 =====\n",
            " Last week, PayPal became the first to defect from the 28-member Libra Association, declining to participate in Facebooks vision for global paymentsa vision it helped seed.\n",
            "\n",
            "\n",
            "kewords:\n",
            " association\n",
            "libra\n",
            "8 =====\n",
            " It was the same version of Trump that voters saw on Thursday when the president rallied in Minneapolis, the… [+5308 chars]\n",
            "\n",
            "\n",
            "kewords:\n",
            " \n",
            "9 =====\n",
            " President Donald Trump said on Friday that acting Homeland Security Secretary Kevin McAleenan was stepping down and a new acting chief of the agency would be named next week.\n",
            "\n",
            "\n",
            "kewords:\n",
            " acting\n",
            "trump\n"
          ],
          "name": "stdout"
        }
      ]
    }
  ]
}