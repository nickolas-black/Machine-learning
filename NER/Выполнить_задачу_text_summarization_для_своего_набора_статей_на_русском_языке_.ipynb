{
  "nbformat": 4,
  "nbformat_minor": 0,
  "metadata": {
    "colab": {
      "name": "Выполнить задачу text summarization для своего набора статей на русском языке.",
      "provenance": [],
      "collapsed_sections": []
    },
    "kernelspec": {
      "name": "python3",
      "display_name": "Python 3"
    },
    "accelerator": "GPU"
  },
  "cells": [
    {
      "cell_type": "markdown",
      "metadata": {
        "id": "0v-sOtU49vBy",
        "colab_type": "text"
      },
      "source": [
        "Выполнить задачу text summarization для своего набора статей на русском языке. \n",
        "В качестве векторных представлений предложений использовать либо предобученные \n",
        "модели https://rusvectores.org/ru/models/ или собственный embending, \n",
        "полученный из SVD разложения.\n"
      ]
    },
    {
      "cell_type": "code",
      "metadata": {
        "id": "42u3TqJ6JfQP",
        "colab_type": "code",
        "colab": {
          "base_uri": "https://localhost:8080/",
          "height": 102
        },
        "outputId": "0c6feddf-a338-46d3-a14d-500d96957a57"
      },
      "source": [
        "import re\n",
        "import numpy as np\n",
        "import numpy as np\n",
        "import pandas as pd\n",
        "import nltk\n",
        "import networkx as nx\n",
        "from nltk.tokenize import sent_tokenize\n",
        "from nltk.corpus import stopwords\n",
        "from sklearn.metrics.pairwise import cosine_similarity\n",
        "nltk.download('punkt') # one time execution\n",
        "nltk.download('stopwords')# one time execution"
      ],
      "execution_count": null,
      "outputs": [
        {
          "output_type": "stream",
          "text": [
            "[nltk_data] Downloading package punkt to /root/nltk_data...\n",
            "[nltk_data]   Unzipping tokenizers/punkt.zip.\n",
            "[nltk_data] Downloading package stopwords to /root/nltk_data...\n",
            "[nltk_data]   Unzipping corpora/stopwords.zip.\n"
          ],
          "name": "stdout"
        },
        {
          "output_type": "execute_result",
          "data": {
            "text/plain": [
              "True"
            ]
          },
          "metadata": {
            "tags": []
          },
          "execution_count": 1
        }
      ]
    },
    {
      "cell_type": "code",
      "metadata": {
        "id": "BYO_e4x7AJCE",
        "colab_type": "code",
        "colab": {
          "base_uri": "https://localhost:8080/",
          "height": 122
        },
        "outputId": "9f80b9a5-6444-494d-e9ee-4ac7d1cf5aa2"
      },
      "source": [
        "from google.colab import drive\n",
        "drive.mount('/content/drive')"
      ],
      "execution_count": null,
      "outputs": [
        {
          "output_type": "stream",
          "text": [
            "Go to this URL in a browser: https://accounts.google.com/o/oauth2/auth?client_id=947318989803-6bn6qk8qdgf4n4g3pfee6491hc0brc4i.apps.googleusercontent.com&redirect_uri=urn%3Aietf%3Awg%3Aoauth%3A2.0%3Aoob&scope=email%20https%3A%2F%2Fwww.googleapis.com%2Fauth%2Fdocs.test%20https%3A%2F%2Fwww.googleapis.com%2Fauth%2Fdrive%20https%3A%2F%2Fwww.googleapis.com%2Fauth%2Fdrive.photos.readonly%20https%3A%2F%2Fwww.googleapis.com%2Fauth%2Fpeopleapi.readonly&response_type=code\n",
            "\n",
            "Enter your authorization code:\n",
            "··········\n",
            "Mounted at /content/drive\n"
          ],
          "name": "stdout"
        }
      ]
    },
    {
      "cell_type": "markdown",
      "metadata": {
        "id": "A2xbPIhcOxKU",
        "colab_type": "text"
      },
      "source": [
        "## Word embeddings"
      ]
    },
    {
      "cell_type": "code",
      "metadata": {
        "id": "gpO2SRvl9tqw",
        "colab_type": "code",
        "colab": {}
      },
      "source": [
        "with open('/content/drive/My Drive/ML/Homework_9/model.txt', encoding='utf-8') as f:\n",
        "  text = f.read()"
      ],
      "execution_count": null,
      "outputs": []
    },
    {
      "cell_type": "code",
      "metadata": {
        "id": "2t-qQjunAb_v",
        "colab_type": "code",
        "colab": {}
      },
      "source": [
        "text_list = re.sub('_VERB|_NOUN|_ADV|_ADJ|_INTJ|_PROPN|_NUM', '', text).split('\\n')"
      ],
      "execution_count": null,
      "outputs": []
    },
    {
      "cell_type": "code",
      "metadata": {
        "id": "nYRPc_PUJAM5",
        "colab_type": "code",
        "colab": {}
      },
      "source": [
        "word_embeddings = {}\n",
        "\n",
        "for line in text_list[1:]:\n",
        "  line_list = line.split(' ')\n",
        "  word = line_list[0]\n",
        "  vec = np.array(line_list[1:], dtype='float64')\n",
        "  word_embeddings[word] = vec"
      ],
      "execution_count": null,
      "outputs": []
    },
    {
      "cell_type": "markdown",
      "metadata": {
        "id": "rvAL2IOaO7hD",
        "colab_type": "text"
      },
      "source": [
        "## Статья"
      ]
    },
    {
      "cell_type": "code",
      "metadata": {
        "id": "cXGt-g8GZXl6",
        "colab_type": "code",
        "colab": {}
      },
      "source": [
        "with open('/content/drive/My Drive/ML/Homework_9/Article.txt', 'r') as f:\n",
        "  text = f.read()"
      ],
      "execution_count": null,
      "outputs": []
    },
    {
      "cell_type": "code",
      "metadata": {
        "id": "Jff7714FaRUt",
        "colab_type": "code",
        "colab": {}
      },
      "source": [
        "text = re.sub('\\n+', ' ', text)\n",
        "sentences = sent_tokenize(text)"
      ],
      "execution_count": null,
      "outputs": []
    },
    {
      "cell_type": "code",
      "metadata": {
        "id": "wQqrOCPuaRq1",
        "colab_type": "code",
        "colab": {}
      },
      "source": [
        "sentences = [re.sub(\"[^а-яА-Я]+\", \" \", i).lower() for i in sentences]"
      ],
      "execution_count": null,
      "outputs": []
    },
    {
      "cell_type": "code",
      "metadata": {
        "id": "NDoSN2DCcpmH",
        "colab_type": "code",
        "colab": {}
      },
      "source": [
        "stop_words = stopwords.words('russian')"
      ],
      "execution_count": null,
      "outputs": []
    },
    {
      "cell_type": "code",
      "metadata": {
        "id": "Jukk-9r1iPi7",
        "colab_type": "code",
        "colab": {}
      },
      "source": [
        "sno = nltk.stem.SnowballStemmer('russian')"
      ],
      "execution_count": null,
      "outputs": []
    },
    {
      "cell_type": "code",
      "metadata": {
        "id": "cuKvA7Hcf1YW",
        "colab_type": "code",
        "colab": {}
      },
      "source": [
        "def remove_stopwords(sen):\n",
        "    sen_new = \" \".join([sno.stem(i) for i in sen if sno.stem(i) not in stop_words])\n",
        "    return sen_new"
      ],
      "execution_count": null,
      "outputs": []
    },
    {
      "cell_type": "code",
      "metadata": {
        "id": "vHd26KMygENc",
        "colab_type": "code",
        "colab": {}
      },
      "source": [
        "sentences_new = [remove_stopwords(r.split()) for r in sentences]"
      ],
      "execution_count": null,
      "outputs": []
    },
    {
      "cell_type": "code",
      "metadata": {
        "id": "X38kbOVFhN0M",
        "colab_type": "code",
        "colab": {}
      },
      "source": [
        "sentence_vectors = []\n",
        "\n",
        "for i in sentences_new:\n",
        "    \n",
        "    if len(i) != 0:\n",
        "        v = sum([word_embeddings.get(w, np.zeros((300,))) for w in i.split()])/(len(i.split())+0.001)\n",
        "    else:\n",
        "        v = np.zeros((300,))\n",
        "    sentence_vectors.append(v)"
      ],
      "execution_count": null,
      "outputs": []
    },
    {
      "cell_type": "code",
      "metadata": {
        "id": "rpVW6QEWjdFe",
        "colab_type": "code",
        "colab": {}
      },
      "source": [
        "sim_mat = np.zeros([len(sentences), len(sentences)])"
      ],
      "execution_count": null,
      "outputs": []
    },
    {
      "cell_type": "code",
      "metadata": {
        "id": "LQNNreKMlxNZ",
        "colab_type": "code",
        "colab": {}
      },
      "source": [
        "for i in range(len(sentences)):\n",
        "    for j in range(len(sentences)):\n",
        "        if i != j:\n",
        "            sim_mat[i][j] = cosine_similarity(sentence_vectors[i].reshape(1,300), sentence_vectors[j].reshape(1,300))[0,0]"
      ],
      "execution_count": null,
      "outputs": []
    },
    {
      "cell_type": "code",
      "metadata": {
        "id": "5ekheOHnl4ig",
        "colab_type": "code",
        "colab": {}
      },
      "source": [
        "nx_graph = nx.from_numpy_array(sim_mat)\n",
        "scores = nx.pagerank(nx_graph)"
      ],
      "execution_count": null,
      "outputs": []
    },
    {
      "cell_type": "code",
      "metadata": {
        "id": "P6M8Ngral9n4",
        "colab_type": "code",
        "colab": {}
      },
      "source": [
        "ranked_sentences = sorted(((scores[i],s) for i,s in enumerate(sentences)), reverse=True)"
      ],
      "execution_count": null,
      "outputs": []
    },
    {
      "cell_type": "code",
      "metadata": {
        "id": "mgcjivUQmAko",
        "colab_type": "code",
        "colab": {
          "base_uri": "https://localhost:8080/",
          "height": 139
        },
        "outputId": "249979b9-a20c-495c-9e03-7e79572852db"
      },
      "source": [
        "for i in range(3):\n",
        "    print(ranked_sentences[i][1])\n",
        "    print('')"
      ],
      "execution_count": null,
      "outputs": [
        {
          "output_type": "stream",
          "text": [
            "работа по воспитанию навыков безопасного поведения детей на улицах ни в коем случае не должна быть одноразовой акцией \n",
            "\n",
            "для реализации намеченной цели и поставленных задач разработали перспективный план работы по формированию навыков безопасного поведения на дороге у дошкольников приложение большое внимание уделяем работе с родителями ведь именно они каждый день не раз переходят с ребятишками дорогу и несут за них ответственность \n",
            "\n",
            "таким образом полученные результаты дают нам возможность предполагать что использование комплекса разнообразных мероприятий методов форм тесная работа педагогического коллектива с воспитанниками педагогами дополнительного образования инспекторами гибдд и родителями а так же систематичность и регулярность проводимой работы имеют положительное воздействие на повышение уровня безопасного поведения дошкольников на улицах города помогает нашим детям быть уверенными на дороге и избежать травматизма \n",
            "\n"
          ],
          "name": "stdout"
        }
      ]
    },
    {
      "cell_type": "markdown",
      "metadata": {
        "id": "Bv9qsTqfCsaX",
        "colab_type": "text"
      },
      "source": [
        "### SVD + TFIDF"
      ]
    },
    {
      "cell_type": "code",
      "metadata": {
        "id": "mL2YD6hruCnK",
        "colab_type": "code",
        "colab": {}
      },
      "source": [
        "from sklearn.feature_extraction.text import TfidfVectorizer\n",
        "from sklearn.decomposition import TruncatedSVD\n",
        "from sklearn.preprocessing import normalize"
      ],
      "execution_count": null,
      "outputs": []
    },
    {
      "cell_type": "code",
      "metadata": {
        "id": "mwtWe8h1C1VI",
        "colab_type": "code",
        "colab": {}
      },
      "source": [
        "vectorizer = TfidfVectorizer()\n",
        "X = vectorizer.fit_transform(sentences_new)"
      ],
      "execution_count": null,
      "outputs": []
    },
    {
      "cell_type": "code",
      "metadata": {
        "id": "cqsDksMSC63E",
        "colab_type": "code",
        "colab": {}
      },
      "source": [
        "svd = TruncatedSVD(n_components=8, random_state=42)\n",
        "sentence_vectors = normalize(svd.fit_transform(X))"
      ],
      "execution_count": null,
      "outputs": []
    },
    {
      "cell_type": "code",
      "metadata": {
        "id": "5fEfQ0B6C9VQ",
        "colab_type": "code",
        "colab": {}
      },
      "source": [
        "sim_mat = np.zeros([len(sentences), len(sentences)])\n",
        "for i in range(len(sentences)):\n",
        "    for j in range(len(sentences)):\n",
        "        if i != j:\n",
        "            sim_mat[i][j] = cosine_similarity(sentence_vectors[i].reshape(1, 8), sentence_vectors[j].reshape(1, 8))[0,0]"
      ],
      "execution_count": null,
      "outputs": []
    },
    {
      "cell_type": "code",
      "metadata": {
        "id": "L9V1OBljDXAt",
        "colab_type": "code",
        "colab": {}
      },
      "source": [
        "nx_graph = nx.from_numpy_array(sim_mat)\n",
        "scores = nx.pagerank(nx_graph)"
      ],
      "execution_count": null,
      "outputs": []
    },
    {
      "cell_type": "code",
      "metadata": {
        "id": "Vuzz_iBeD0T9",
        "colab_type": "code",
        "colab": {}
      },
      "source": [
        "ranked_sentences = sorted(((scores[i],s) for i,s in enumerate(sentences)), reverse=True)"
      ],
      "execution_count": null,
      "outputs": []
    },
    {
      "cell_type": "code",
      "metadata": {
        "id": "Qonb_GekEMce",
        "colab_type": "code",
        "colab": {
          "base_uri": "https://localhost:8080/",
          "height": 139
        },
        "outputId": "7b1cd13c-71bf-44eb-af0a-4ee56639e246"
      },
      "source": [
        "for i in range(3):\n",
        "    print(ranked_sentences[i][1])\n",
        "    print('')"
      ],
      "execution_count": null,
      "outputs": [
        {
          "output_type": "stream",
          "text": [
            "активизируем работу по пропаганде правил дорожного движения и безопасного образа жизни среди родителей через разнообразные формы анкетирование родителей безопасность на дороге какой вы пешеход знаете ли вы правила дорожного движения \n",
            "\n",
            "приводит к этому незнание правил дорожного движения пренебрежение ими отсутствие навыков поведения на дороге а также безучастное отношение взрослых к поведению детей на дороге \n",
            "\n",
            "все это позволяет комплексно решать задачи обучения детей безопасному поведению в дорожной среде учитывая возрастные особенности детей уровень их психического и физического развития воспитывать дисциплинированность и сознательное выполнение правил дорожного движения культуру поведения в дорожно транспортной среде \n",
            "\n"
          ],
          "name": "stdout"
        }
      ]
    },
    {
      "cell_type": "markdown",
      "metadata": {
        "id": "LFiqdQlYH9J_",
        "colab_type": "text"
      },
      "source": [
        "### TFIDF"
      ]
    },
    {
      "cell_type": "code",
      "metadata": {
        "id": "r587vFCzH-9X",
        "colab_type": "code",
        "colab": {}
      },
      "source": [
        "sentence_vectors = X"
      ],
      "execution_count": null,
      "outputs": []
    },
    {
      "cell_type": "code",
      "metadata": {
        "id": "7I4mUmheJEYh",
        "colab_type": "code",
        "colab": {}
      },
      "source": [
        "sim_mat = np.zeros([len(sentences), len(sentences)])\n",
        "for i in range(len(sentences)):\n",
        "    for j in range(len(sentences)):\n",
        "        if i != j:\n",
        "            sim_mat[i][j] = cosine_similarity(sentence_vectors[i].reshape(1, 390), sentence_vectors[j].reshape(1, 390))[0,0]"
      ],
      "execution_count": null,
      "outputs": []
    },
    {
      "cell_type": "code",
      "metadata": {
        "id": "4utHZ3cpJHhv",
        "colab_type": "code",
        "colab": {}
      },
      "source": [
        "nx_graph = nx.from_numpy_array(sim_mat)\n",
        "scores = nx.pagerank(nx_graph)"
      ],
      "execution_count": null,
      "outputs": []
    },
    {
      "cell_type": "code",
      "metadata": {
        "id": "HrP3hqlkJLU9",
        "colab_type": "code",
        "colab": {}
      },
      "source": [
        "ranked_sentences = sorted(((scores[i],s) for i,s in enumerate(sentences)), reverse=True)"
      ],
      "execution_count": null,
      "outputs": []
    },
    {
      "cell_type": "code",
      "metadata": {
        "id": "hXRfgLyWJMp4",
        "colab_type": "code",
        "colab": {
          "base_uri": "https://localhost:8080/",
          "height": 139
        },
        "outputId": "36d54418-b563-4056-abfb-1129a8293c9f"
      },
      "source": [
        "for i in range(3):\n",
        "    print(ranked_sentences[i][1])\n",
        "    print('')"
      ],
      "execution_count": null,
      "outputs": [
        {
          "output_type": "stream",
          "text": [
            "основными целями изучения правил дорожного движения и поведения на улице являются снижение дорожно транспортного травматизма среди детей посредством повышения уровня знаний ими правил дорожного движения развитие психофизиологических качеств ребенка формирование культуры общественного поведения в процессе общения с дорогой \n",
            "\n",
            "активизируем работу по пропаганде правил дорожного движения и безопасного образа жизни среди родителей через разнообразные формы анкетирование родителей безопасность на дороге какой вы пешеход знаете ли вы правила дорожного движения \n",
            "\n",
            "все это позволяет комплексно решать задачи обучения детей безопасному поведению в дорожной среде учитывая возрастные особенности детей уровень их психического и физического развития воспитывать дисциплинированность и сознательное выполнение правил дорожного движения культуру поведения в дорожно транспортной среде \n",
            "\n"
          ],
          "name": "stdout"
        }
      ]
    },
    {
      "cell_type": "markdown",
      "metadata": {
        "id": "zUBdhZ7QGOxQ",
        "colab_type": "text"
      },
      "source": [
        "### Текст"
      ]
    },
    {
      "cell_type": "code",
      "metadata": {
        "id": "tj-Ff3wZF2SJ",
        "colab_type": "code",
        "colab": {
          "base_uri": "https://localhost:8080/",
          "height": 649
        },
        "outputId": "8bf68308-3d57-427f-b6af-6556e06619be"
      },
      "source": [
        "sentences"
      ],
      "execution_count": null,
      "outputs": [
        {
          "output_type": "execute_result",
          "data": {
            "text/plain": [
              "['формирование навыков безопасности дорожного движения для дошкольников проблема дорожно транспортных происшествий дтп в россии по своим масштабам и тяжести травм имеет все признаки национальной катастрофы ',\n",
              " 'особую тревогу вызывает ситуация с детским дорожно транспортным травматизмом ',\n",
              " 'причиной дорожно транспортных происшествий чаще всего являются сами дети ',\n",
              " 'приводит к этому незнание правил дорожного движения пренебрежение ими отсутствие навыков поведения на дороге а также безучастное отношение взрослых к поведению детей на дороге ',\n",
              " 'воспитание безопасного поведения у детей одна из важнейших задач дошкольного учреждения ',\n",
              " 'реб нок становится пешеходом значительно раньше чем он по своим знаниям усилиям развитию становится к этому подготовленным ',\n",
              " 'с первых дней пребывания реб нка в детском саду следует так организовать его воспитание и обучение чтобы к моменту перехода из детского сада в школу он легко ориентировался в ближайшем окружении умел наблюдать и правильно оценивать дорожные ситуации владел навыками безопасного поведения в этих ситуациях ',\n",
              " 'именно в детском саду все дети могут и должны получить систематизированную информацию о безопасном поведении на улице и приобрести необходимые навыки такого поведения ',\n",
              " 'основными целями изучения правил дорожного движения и поведения на улице являются снижение дорожно транспортного травматизма среди детей посредством повышения уровня знаний ими правил дорожного движения развитие психофизиологических качеств ребенка формирование культуры общественного поведения в процессе общения с дорогой ',\n",
              " 'для достижения поставленной цели нами определены задачи формировать у воспитанников знания о правилах безопасного поведения на улицах города развивать у детей способность к предвидению возможной опасности в конкретно меняющейся ситуации и построению адекватного безопасного поведения ',\n",
              " 'вырабатывать у дошкольников привычку правильно вести себя на дорогах ',\n",
              " 'воспитывать в детях грамотных пешеходов ',\n",
              " 'повышать уровень психофизиологических качеств обеспечивающих безопасность ребенка на улице посредством реализации проектов и практической деятельности ',\n",
              " 'использовать дополнительные возможности интеграции специалистов инспекторов гибдд воспитателей воспитанников и родителей в работе по формированию безопасного поведения в дорожно транспортной среде ',\n",
              " 'работа по воспитанию навыков безопасного поведения детей на улицах ни в коем случае не должна быть одноразовой акцией ',\n",
              " 'е нужно проводить планово систематически постоянно ',\n",
              " 'она не должна выноситься в самостоятельный раздел а входить логическим элементом во все виды детской деятельности для того чтобы полученные теоретические знания реб нок пропускал через продуктивную деятельность и затем реализовывал в играх и повседневной жизни за пределами детского сада ',\n",
              " 'когда и сколько времени отводить на тот или иной вид деятельности с детьми в данном направлении определяем мы сами в зависимости от условий темы сезонности состояния детей вида занятий и т д работа по обучению воспитанников правилам дорожного движения включает в себя разнообразные формы приложение не менее раз в неделю организуем беседы с детьми о безопасном поведении на улицах и дорогах о дорожно транспортных происшествиях связывая это с изменениями погоды и особенностями дороги голол д дождь рано темнеет и т ',\n",
              " 'д ',\n",
              " ' подвижные дидактические игры моделирование дорожных ситуаций путешествия в страну дорожной азбуки загадки и задачки мультипликационных героев помогают детям научиться правильно вести себя в окружающей дорожной среде обучение правилам дорожного движения правилам поведения на улице проводится на непосредственно образовательной деятельности по развитию речи и ознакомлению с окружающим через рассматривание картин транспорт улица нашего города дети и дорога просмотр диафильмов беседы разучивание стихотворений чтение рассказов по развитию элементарных математических представлений даем понятия левая правая сторона т е ориентируют в окружающем пространстве изодеятельности учим рисовать лепить изображать в аппликации различные виды транспорта трудового воспитания конструирования формируется интерес к созданию разнообразных зданий и сооружений из строительного материала мост для пешеходов мост для транспорта на музыкальных и физкультурных занятиях ',\n",
              " 'организацию работы с детьми по обучению дошкольников правилам дорожного движения мы начали с оснащения предметно развивающей среды это изготовление макетов для сюжетно ролевых игр изготовление дорожных знаков дидактического материала по обучению дошкольникам правилам дорожного движения ',\n",
              " 'для реализации намеченной цели и поставленных задач разработали перспективный план работы по формированию навыков безопасного поведения на дороге у дошкольников приложение большое внимание уделяем работе с родителями ведь именно они каждый день не раз переходят с ребятишками дорогу и несут за них ответственность ',\n",
              " 'однако иногда случается что сами дети знают значительно больше родителей и даже поправляют их поведение на дороге ',\n",
              " 'активизируем работу по пропаганде правил дорожного движения и безопасного образа жизни среди родителей через разнообразные формы анкетирование родителей безопасность на дороге какой вы пешеход знаете ли вы правила дорожного движения ',\n",
              " 'это помогает определить уровень знаний родителей и подобрать наиболее эффективные методы подачи дорожной грамотности выбрать формы общения ',\n",
              " ' памятки и листовки обращения к родителям о необходимости соблюдения пдд папки передвижки в которых содержится материал о правилах дорожного движения необходимый для усвоения как детьми так и взрослыми консультационный материал дошкольник и дорога выпуск газеты безопасная дорога детства традицией стало проведение встреч бесед родителей с инспектором гибдд на которых он консультирует родителей по интересующим их вопросам помогает решить проблемные дорожные ситуации роль семьи в профилактике дорожного травматизма типичные ошибки детей при переходе улиц и дорог ',\n",
              " 'конкурсы викторины и развлечения по пдд с участием педагогов детей и родителей дают положительный результат в усвоении детьми знаний по правилам дорожного движения и сближают всех участников воспитательно образовательного процесса ',\n",
              " ' увлекательна и интересна новая форма работы семейный мастер класс которая позволяет знакомить родителей с игровыми технологиями по обучению детей с основами безопасного поведения на улице и обмениваться опытом семейного воспитания по данной проблеме ',\n",
              " 'в информационных стендах для родителей систематически появляется информация которая знакомит родителей с методами формирования дорожной культуры у детей сознательного выполнения правил дорожного движения самими взрослыми ',\n",
              " 'рекомендованный материал вызывает большой интерес и отклик у родителей ',\n",
              " 'все это позволяет комплексно решать задачи обучения детей безопасному поведению в дорожной среде учитывая возрастные особенности детей уровень их психического и физического развития воспитывать дисциплинированность и сознательное выполнение правил дорожного движения культуру поведения в дорожно транспортной среде ',\n",
              " 'поэтому при обучении детей основам дорожной грамоты мы придерживаемся следующих правил не механически заучивать с детьми правила дорожного движения а воспитывать у дошкольников культуру поведения на дороге ',\n",
              " ' сочетать изучение правил с развитием у детей координации внимания наблюдательности ',\n",
              " ' использовать все доступные формы и методы работы не считая какую то форму основной а какую то второстепенной ',\n",
              " 'рассказ и игра викторина и рисование практическое занятие и показ видеофильмов чтение книги и экскурсия все необходимо поставить на службу воспитания у детей навыков безопасного поведения на дороге ',\n",
              " 'таким образом полученные результаты дают нам возможность предполагать что использование комплекса разнообразных мероприятий методов форм тесная работа педагогического коллектива с воспитанниками педагогами дополнительного образования инспекторами гибдд и родителями а так же систематичность и регулярность проводимой работы имеют положительное воздействие на повышение уровня безопасного поведения дошкольников на улицах города помогает нашим детям быть уверенными на дороге и избежать травматизма ']"
            ]
          },
          "metadata": {
            "tags": []
          },
          "execution_count": 177
        }
      ]
    }
  ]
}