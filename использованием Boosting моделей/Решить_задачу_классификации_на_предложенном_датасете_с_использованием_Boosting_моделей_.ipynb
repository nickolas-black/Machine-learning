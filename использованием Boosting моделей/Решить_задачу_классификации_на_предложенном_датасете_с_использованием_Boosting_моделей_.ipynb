{
  "nbformat": 4,
  "nbformat_minor": 0,
  "metadata": {
    "kernelspec": {
      "display_name": "Python 3",
      "language": "python",
      "name": "python3"
    },
    "language_info": {
      "codemirror_mode": {
        "name": "ipython",
        "version": 3
      },
      "file_extension": ".py",
      "mimetype": "text/x-python",
      "name": "python",
      "nbconvert_exporter": "python",
      "pygments_lexer": "ipython3",
      "version": "3.7.3"
    },
    "colab": {
      "name": "Решить задачу классификации на предложенном датасете с использованием Boosting моделей.",
      "provenance": [],
      "collapsed_sections": []
    }
  },
  "cells": [
    {
      "cell_type": "markdown",
      "metadata": {
        "id": "i6LtPy62ubOB",
        "colab_type": "text"
      },
      "source": [
        "### решить задачу классификации на предложенном датасете с использованием Boosting моделей.\n",
        "Датасет: https://www.kaggle.com/uciml/red-wine-quality-cortez-et-al-2009\n"
      ]
    },
    {
      "cell_type": "markdown",
      "metadata": {
        "id": "ZRNrCpKuuvH-",
        "colab_type": "text"
      },
      "source": [
        "# IMPORTS"
      ]
    },
    {
      "cell_type": "code",
      "metadata": {
        "id": "uk4idj4ZubOD",
        "colab_type": "code",
        "colab": {}
      },
      "source": [
        "import pandas as pd\n",
        "from os import path\n",
        "\n",
        "import xgboost as xgb\n",
        "from xgboost.sklearn import XGBClassifier, XGBRegressor\n",
        "\n",
        "from sklearn import metrics\n",
        "from sklearn.model_selection import cross_val_score,  train_test_split\n",
        "\n",
        "from sklearn.model_selection import StratifiedKFold\n",
        "from sklearn.model_selection import GridSearchCV"
      ],
      "execution_count": null,
      "outputs": []
    },
    {
      "cell_type": "markdown",
      "metadata": {
        "id": "PNoYVEd2uw1q",
        "colab_type": "text"
      },
      "source": [
        "# MOUNT DRIVE"
      ]
    },
    {
      "cell_type": "code",
      "metadata": {
        "id": "HEdMLMLDuyqi",
        "colab_type": "code",
        "colab": {
          "base_uri": "https://localhost:8080/",
          "height": 122
        },
        "outputId": "eca241b5-1e2e-4db7-ea7b-dec325de7dc6"
      },
      "source": [
        "# Mount gdrive\n",
        "from google.colab import drive\n",
        "drive.mount('/content/gdrive')\n",
        "\n",
        "ROOT_PATH = f\"/content/gdrive/My Drive/temp/\""
      ],
      "execution_count": null,
      "outputs": [
        {
          "output_type": "stream",
          "text": [
            "Go to this URL in a browser: https://accounts.google.com/o/oauth2/auth?client_id=947318989803-6bn6qk8qdgf4n4g3pfee6491hc0brc4i.apps.googleusercontent.com&redirect_uri=urn%3Aietf%3Awg%3Aoauth%3A2.0%3Aoob&scope=email%20https%3A%2F%2Fwww.googleapis.com%2Fauth%2Fdocs.test%20https%3A%2F%2Fwww.googleapis.com%2Fauth%2Fdrive%20https%3A%2F%2Fwww.googleapis.com%2Fauth%2Fdrive.photos.readonly%20https%3A%2F%2Fwww.googleapis.com%2Fauth%2Fpeopleapi.readonly&response_type=code\n",
            "\n",
            "Enter your authorization code:\n",
            "··········\n",
            "Mounted at /content/gdrive\n"
          ],
          "name": "stdout"
        }
      ]
    },
    {
      "cell_type": "code",
      "metadata": {
        "id": "27Vytbv8ubOH",
        "colab_type": "code",
        "colab": {}
      },
      "source": [
        "#Loading dataset\n",
        "filename = \"winequality-red.csv\"\n",
        "wine = pd.read_csv(path.join(ROOT_PATH, filename))"
      ],
      "execution_count": null,
      "outputs": []
    },
    {
      "cell_type": "code",
      "metadata": {
        "id": "cymsmUj7ubOK",
        "colab_type": "code",
        "colab": {
          "base_uri": "https://localhost:8080/",
          "height": 221
        },
        "outputId": "df2517d0-9ac1-4e9c-b05a-5273b8068604"
      },
      "source": [
        "wine.head()"
      ],
      "execution_count": null,
      "outputs": [
        {
          "output_type": "execute_result",
          "data": {
            "text/html": [
              "<div>\n",
              "<style scoped>\n",
              "    .dataframe tbody tr th:only-of-type {\n",
              "        vertical-align: middle;\n",
              "    }\n",
              "\n",
              "    .dataframe tbody tr th {\n",
              "        vertical-align: top;\n",
              "    }\n",
              "\n",
              "    .dataframe thead th {\n",
              "        text-align: right;\n",
              "    }\n",
              "</style>\n",
              "<table border=\"1\" class=\"dataframe\">\n",
              "  <thead>\n",
              "    <tr style=\"text-align: right;\">\n",
              "      <th></th>\n",
              "      <th>fixed acidity</th>\n",
              "      <th>volatile acidity</th>\n",
              "      <th>citric acid</th>\n",
              "      <th>residual sugar</th>\n",
              "      <th>chlorides</th>\n",
              "      <th>free sulfur dioxide</th>\n",
              "      <th>total sulfur dioxide</th>\n",
              "      <th>density</th>\n",
              "      <th>pH</th>\n",
              "      <th>sulphates</th>\n",
              "      <th>alcohol</th>\n",
              "      <th>quality</th>\n",
              "    </tr>\n",
              "  </thead>\n",
              "  <tbody>\n",
              "    <tr>\n",
              "      <th>0</th>\n",
              "      <td>7.4</td>\n",
              "      <td>0.70</td>\n",
              "      <td>0.00</td>\n",
              "      <td>1.9</td>\n",
              "      <td>0.076</td>\n",
              "      <td>11.0</td>\n",
              "      <td>34.0</td>\n",
              "      <td>0.9978</td>\n",
              "      <td>3.51</td>\n",
              "      <td>0.56</td>\n",
              "      <td>9.4</td>\n",
              "      <td>5</td>\n",
              "    </tr>\n",
              "    <tr>\n",
              "      <th>1</th>\n",
              "      <td>7.8</td>\n",
              "      <td>0.88</td>\n",
              "      <td>0.00</td>\n",
              "      <td>2.6</td>\n",
              "      <td>0.098</td>\n",
              "      <td>25.0</td>\n",
              "      <td>67.0</td>\n",
              "      <td>0.9968</td>\n",
              "      <td>3.20</td>\n",
              "      <td>0.68</td>\n",
              "      <td>9.8</td>\n",
              "      <td>5</td>\n",
              "    </tr>\n",
              "    <tr>\n",
              "      <th>2</th>\n",
              "      <td>7.8</td>\n",
              "      <td>0.76</td>\n",
              "      <td>0.04</td>\n",
              "      <td>2.3</td>\n",
              "      <td>0.092</td>\n",
              "      <td>15.0</td>\n",
              "      <td>54.0</td>\n",
              "      <td>0.9970</td>\n",
              "      <td>3.26</td>\n",
              "      <td>0.65</td>\n",
              "      <td>9.8</td>\n",
              "      <td>5</td>\n",
              "    </tr>\n",
              "    <tr>\n",
              "      <th>3</th>\n",
              "      <td>11.2</td>\n",
              "      <td>0.28</td>\n",
              "      <td>0.56</td>\n",
              "      <td>1.9</td>\n",
              "      <td>0.075</td>\n",
              "      <td>17.0</td>\n",
              "      <td>60.0</td>\n",
              "      <td>0.9980</td>\n",
              "      <td>3.16</td>\n",
              "      <td>0.58</td>\n",
              "      <td>9.8</td>\n",
              "      <td>6</td>\n",
              "    </tr>\n",
              "    <tr>\n",
              "      <th>4</th>\n",
              "      <td>7.4</td>\n",
              "      <td>0.70</td>\n",
              "      <td>0.00</td>\n",
              "      <td>1.9</td>\n",
              "      <td>0.076</td>\n",
              "      <td>11.0</td>\n",
              "      <td>34.0</td>\n",
              "      <td>0.9978</td>\n",
              "      <td>3.51</td>\n",
              "      <td>0.56</td>\n",
              "      <td>9.4</td>\n",
              "      <td>5</td>\n",
              "    </tr>\n",
              "  </tbody>\n",
              "</table>\n",
              "</div>"
            ],
            "text/plain": [
              "   fixed acidity  volatile acidity  citric acid  ...  sulphates  alcohol  quality\n",
              "0            7.4              0.70         0.00  ...       0.56      9.4        5\n",
              "1            7.8              0.88         0.00  ...       0.68      9.8        5\n",
              "2            7.8              0.76         0.04  ...       0.65      9.8        5\n",
              "3           11.2              0.28         0.56  ...       0.58      9.8        6\n",
              "4            7.4              0.70         0.00  ...       0.56      9.4        5\n",
              "\n",
              "[5 rows x 12 columns]"
            ]
          },
          "metadata": {
            "tags": []
          },
          "execution_count": 4
        }
      ]
    },
    {
      "cell_type": "code",
      "metadata": {
        "id": "9Gv4t5-NubOP",
        "colab_type": "code",
        "colab": {
          "base_uri": "https://localhost:8080/",
          "height": 136
        },
        "outputId": "13e1dff3-d7f9-43e7-ca22-c857200b1a95"
      },
      "source": [
        "wine['quality'].value_counts()"
      ],
      "execution_count": null,
      "outputs": [
        {
          "output_type": "execute_result",
          "data": {
            "text/plain": [
              "5    681\n",
              "6    638\n",
              "7    199\n",
              "4     53\n",
              "8     18\n",
              "3     10\n",
              "Name: quality, dtype: int64"
            ]
          },
          "metadata": {
            "tags": []
          },
          "execution_count": 5
        }
      ]
    },
    {
      "cell_type": "code",
      "metadata": {
        "id": "sTQ2cTUBvTiM",
        "colab_type": "code",
        "colab": {
          "base_uri": "https://localhost:8080/",
          "height": 238
        },
        "outputId": "142e5e5b-90e4-4655-d4c2-e53ac3f6870d"
      },
      "source": [
        "wine.isnull().sum()"
      ],
      "execution_count": null,
      "outputs": [
        {
          "output_type": "execute_result",
          "data": {
            "text/plain": [
              "fixed acidity           0\n",
              "volatile acidity        0\n",
              "citric acid             0\n",
              "residual sugar          0\n",
              "chlorides               0\n",
              "free sulfur dioxide     0\n",
              "total sulfur dioxide    0\n",
              "density                 0\n",
              "pH                      0\n",
              "sulphates               0\n",
              "alcohol                 0\n",
              "quality                 0\n",
              "dtype: int64"
            ]
          },
          "metadata": {
            "tags": []
          },
          "execution_count": 6
        }
      ]
    },
    {
      "cell_type": "markdown",
      "metadata": {
        "id": "kQ2sqmKIvW8N",
        "colab_type": "text"
      },
      "source": [
        "We have no gapes."
      ]
    },
    {
      "cell_type": "markdown",
      "metadata": {
        "id": "-8eVT1ibvPWl",
        "colab_type": "text"
      },
      "source": [
        "# PREPROCESSING"
      ]
    },
    {
      "cell_type": "code",
      "metadata": {
        "id": "-CjFosXHvRMC",
        "colab_type": "code",
        "colab": {}
      },
      "source": [
        "X = wine.drop([\"quality\"], axis=1)\n",
        "y = wine[\"quality\"]"
      ],
      "execution_count": null,
      "outputs": []
    },
    {
      "cell_type": "code",
      "metadata": {
        "id": "U6awOXJkvRRW",
        "colab_type": "code",
        "colab": {
          "base_uri": "https://localhost:8080/",
          "height": 34
        },
        "outputId": "e453129c-9d10-41e3-d871-5eddac91e30c"
      },
      "source": [
        "from sklearn.preprocessing import StandardScaler\n",
        "\n",
        "scaler = StandardScaler()\n",
        "scaler.fit(X)"
      ],
      "execution_count": null,
      "outputs": [
        {
          "output_type": "execute_result",
          "data": {
            "text/plain": [
              "StandardScaler(copy=True, with_mean=True, with_std=True)"
            ]
          },
          "metadata": {
            "tags": []
          },
          "execution_count": 11
        }
      ]
    },
    {
      "cell_type": "code",
      "metadata": {
        "id": "R_lVtWdwwB2H",
        "colab_type": "code",
        "colab": {}
      },
      "source": [
        "X_scaled = scaler.fit_transform(X)"
      ],
      "execution_count": null,
      "outputs": []
    },
    {
      "cell_type": "code",
      "metadata": {
        "id": "e4_EwqM2wE9u",
        "colab_type": "code",
        "colab": {
          "base_uri": "https://localhost:8080/",
          "height": 34
        },
        "outputId": "444ca7e7-92ae-46f9-e0db-c098a3e2fbf5"
      },
      "source": [
        "X_scaled.shape"
      ],
      "execution_count": null,
      "outputs": [
        {
          "output_type": "execute_result",
          "data": {
            "text/plain": [
              "(1599, 11)"
            ]
          },
          "metadata": {
            "tags": []
          },
          "execution_count": 13
        }
      ]
    },
    {
      "cell_type": "code",
      "metadata": {
        "id": "s3WbTjo6wGvl",
        "colab_type": "code",
        "colab": {
          "base_uri": "https://localhost:8080/",
          "height": 527
        },
        "outputId": "cbd916c1-3642-4381-bd0f-ea058220e820"
      },
      "source": [
        "X_scaled[10:20,:]"
      ],
      "execution_count": null,
      "outputs": [
        {
          "output_type": "execute_result",
          "data": {
            "text/plain": [
              "array([[-0.93053092,  0.29149948, -0.98066858, -0.5241662 ,  0.20262147,\n",
              "        -0.08366945,  0.56354529, -0.44875156, -0.20159105, -0.69723268,\n",
              "        -1.1479806 ],\n",
              "       [-0.47090657, -0.15541864,  0.45714436,  2.5265889 , -0.3499753 ,\n",
              "         0.10759209,  1.68867708,  0.55827446,  0.25195842,  0.83710732,\n",
              "         0.07229363],\n",
              "       [-1.56251441,  0.48702616, -1.39147228, -0.66606179,  0.0325917 ,\n",
              "         0.01196132,  0.38109149, -1.29677347,  1.74219238, -0.81525883,\n",
              "        -0.49090986],\n",
              "       [-0.29854743,  0.45909378,  0.09769112, -0.66606179,  0.56393475,\n",
              "        -0.65745405, -0.53117752,  0.34626898, -0.33117661,  5.32210117,\n",
              "        -1.24184785],\n",
              "       [ 0.33343606,  0.51495855, -0.46716396,  0.89478966,  1.88166551,\n",
              "         3.45466896,  2.99626267,  0.98228542, -0.97910442,  1.30921194,\n",
              "        -1.1479806 ],\n",
              "       [ 0.33343606,  0.51495855, -0.4158135 ,  0.96573745,  1.75414318,\n",
              "         3.35903819,  3.08748957,  0.98228542, -0.91431164,  1.60427732,\n",
              "        -1.1479806 ],\n",
              "       [ 0.10362388, -1.38444349,  1.4841536 , -0.5241662 ,  0.09635286,\n",
              "         1.82894591,  1.71908605,  0.08126214, -0.07200549,  0.54204194,\n",
              "         0.07229363],\n",
              "       [-0.1261883 ,  0.17976995,  0.04634066, -0.59511399,  5.96238012,\n",
              "         0.01196132,  0.28986459,  0.02826077, -1.30306833,  3.66973501,\n",
              "        -1.05411336],\n",
              "       [-0.52835961,  0.34736425, -0.98066858,  1.32047642, -0.03116947,\n",
              "        -0.94434636, -0.53117752,  0.34626898,  0.44633676, -0.93328498,\n",
              "        -1.3357151 ],\n",
              "       [-0.24109439, -1.16098443,  1.22740129, -0.5241662 ,  5.38852963,\n",
              "         0.10759209,  0.28986459,  0.08126214, -1.75661779,  2.48947348,\n",
              "        -1.1479806 ]])"
            ]
          },
          "metadata": {
            "tags": []
          },
          "execution_count": 14
        }
      ]
    },
    {
      "cell_type": "markdown",
      "metadata": {
        "id": "I6UWziULwgiY",
        "colab_type": "text"
      },
      "source": [
        "# train/test split"
      ]
    },
    {
      "cell_type": "code",
      "metadata": {
        "id": "8dr9lCkqwwcy",
        "colab_type": "code",
        "colab": {}
      },
      "source": [
        "train_test_split?"
      ],
      "execution_count": null,
      "outputs": []
    },
    {
      "cell_type": "code",
      "metadata": {
        "id": "tepVDUZhwiJ-",
        "colab_type": "code",
        "colab": {}
      },
      "source": [
        "from sklearn.model_selection import train_test_split\n",
        "\n",
        "# TODO: сдлелать stratify после upsampling'а\n",
        "X_train, X_test, y_train, y_test = train_test_split(X, y, test_size=0.25, shuffle=True, random_state=42784)"
      ],
      "execution_count": null,
      "outputs": []
    },
    {
      "cell_type": "markdown",
      "metadata": {
        "id": "1va790jawT-3",
        "colab_type": "text"
      },
      "source": [
        "# models"
      ]
    },
    {
      "cell_type": "code",
      "metadata": {
        "id": "JQBVLVgywSMM",
        "colab_type": "code",
        "colab": {}
      },
      "source": [
        "def fit_model(model, X, y, X_test, y_test, parameters, scoring=\"accuracy\"):  \n",
        "  cross_validation = StratifiedKFold(n_splits=5)\n",
        "\n",
        "  grid_search = GridSearchCV(model,\n",
        "                              scoring=scoring,\n",
        "                              param_grid=parameters,\n",
        "                              cv=cross_validation,\n",
        "                              verbose=1\n",
        "                            )\n",
        "\n",
        "  grid_search.fit(X, y)\n",
        "  parameters=grid_search.best_params_\n",
        "  print('Best score: {}'.format(grid_search.best_score_))\n",
        "  print('Best parameters: {}'.format(parameters))\n",
        "\n",
        "  return grid_search"
      ],
      "execution_count": null,
      "outputs": []
    },
    {
      "cell_type": "markdown",
      "metadata": {
        "id": "VYQDKbMxzFYX",
        "colab_type": "text"
      },
      "source": [
        "## XGBClassifier"
      ]
    },
    {
      "cell_type": "code",
      "metadata": {
        "id": "Z_i0pG9SwgAK",
        "colab_type": "code",
        "colab": {}
      },
      "source": [
        "XGBClassifier?"
      ],
      "execution_count": null,
      "outputs": []
    },
    {
      "cell_type": "markdown",
      "metadata": {
        "id": "cjifQgSLzHWF",
        "colab_type": "text"
      },
      "source": [
        "```\n",
        "Init signature: XGBClassifier(max_depth=3, learning_rate=0.1, n_estimators=100, verbosity=1, silent=None, objective='binary:logistic', booster='gbtree', n_jobs=1, nthread=None, gamma=0, min_child_weight=1, max_delta_step=0, subsample=1, colsample_bytree=1, colsample_bylevel=1, colsample_bynode=1, reg_alpha=0, reg_lambda=1, scale_pos_weight=1, base_score=0.5, random_state=0, seed=None, missing=None, **kwargs)\n",
        "Docstring:     \n",
        "Implementation of the scikit-learn API for XGBoost classification.\n",
        "\n",
        "Parameters\n",
        "----------\n",
        "max_depth : int\n",
        "    Maximum tree depth for base learners.\n",
        "learning_rate : float\n",
        "    Boosting learning rate (xgb's \"eta\")\n",
        "n_estimators : int\n",
        "    Number of trees to fit.\n",
        "verbosity : int\n",
        "    The degree of verbosity. Valid values are 0 (silent) - 3 (debug).\n",
        "silent : boolean\n",
        "    Whether to print messages while running boosting. Deprecated. Use verbosity instead.\n",
        "objective : string or callable\n",
        "    Specify the learning task and the corresponding learning objective or\n",
        "    a custom objective function to be used (see note below).\n",
        "booster: string\n",
        "    Specify which booster to use: gbtree, gblinear or dart.\n",
        "nthread : int\n",
        "    Number of parallel threads used to run xgboost.  (Deprecated, please use ``n_jobs``)\n",
        "n_jobs : int\n",
        "    Number of parallel threads used to run xgboost.  (replaces ``nthread``)\n",
        "gamma : float\n",
        "    Minimum loss reduction required to make a further partition on a leaf node of the tree.\n",
        "min_child_weight : int\n",
        "    Minimum sum of instance weight(hessian) needed in a child.\n",
        "max_delta_step : int\n",
        "    Maximum delta step we allow each tree's weight estimation to be.\n",
        "subsample : float\n",
        "    Subsample ratio of the training instance.\n",
        "colsample_bytree : float\n",
        "    Subsample ratio of columns when constructing each tree.\n",
        "colsample_bylevel : float\n",
        "    Subsample ratio of columns for each level.\n",
        "colsample_bynode : float\n",
        "    Subsample ratio of columns for each split.\n",
        "reg_alpha : float (xgb's alpha)\n",
        "    L1 regularization term on weights\n",
        "reg_lambda : float (xgb's lambda)\n",
        "    L2 regularization term on weights\n",
        "scale_pos_weight : float\n",
        "    Balancing of positive and negative weights.\n",
        "base_score:\n",
        "    The initial prediction score of all instances, global bias.\n",
        "seed : int\n",
        "    Random number seed.  (Deprecated, please use random_state)\n",
        "random_state : int\n",
        "    Random number seed.  (replaces seed)\n",
        "missing : float, optional\n",
        "    Value in the data which needs to be present as a missing value. If\n",
        "    None, defaults to np.nan.\n",
        "importance_type: string, default \"gain\"\n",
        "    The feature importance type for the feature_importances_ property: either \"gain\",\n",
        "    \"weight\", \"cover\", \"total_gain\" or \"total_cover\".\n",
        "\\*\\*kwargs : dict, optional\n",
        "    Keyword arguments for XGBoost Booster object.  Full documentation of parameters can\n",
        "    be found here: https://github.com/dmlc/xgboost/blob/master/doc/parameter.rst.\n",
        "    Attempting to set a parameter via the constructor args and \\*\\*kwargs dict simultaneously\n",
        "    will result in a TypeError.\n",
        "\n",
        "    .. note:: \\*\\*kwargs unsupported by scikit-learn\n",
        "\n",
        "        \\*\\*kwargs is unsupported by scikit-learn.  We do not guarantee that parameters\n",
        "        passed via this argument will interact properly with scikit-learn.\n",
        "\n",
        "Note\n",
        "----\n",
        "A custom objective function can be provided for the ``objective``\n",
        "parameter. In this case, it should have the signature\n",
        "``objective(y_true, y_pred) -> grad, hess``:\n",
        "\n",
        "y_true: array_like of shape [n_samples]\n",
        "    The target values\n",
        "y_pred: array_like of shape [n_samples]\n",
        "    The predicted values\n",
        "\n",
        "grad: array_like of shape [n_samples]\n",
        "    The value of the gradient for each sample point.\n",
        "hess: array_like of shape [n_samples]\n",
        "    The value of the second derivative for each sample point\n",
        "File:           /usr/local/lib/python3.6/dist-packages/xgboost/sklearn.py\n",
        "Type:           type\n",
        "```"
      ]
    },
    {
      "cell_type": "code",
      "metadata": {
        "id": "FburlU0d1Rg1",
        "colab_type": "code",
        "colab": {
          "base_uri": "https://localhost:8080/",
          "height": 34
        },
        "outputId": "80a23a7f-35a5-4d84-efc4-42bc827cd5e4"
      },
      "source": [
        "from sklearn.preprocessing import LabelEncoder\n",
        "\n",
        "label_encoder = LabelEncoder()\n",
        "\n",
        "label_encoder.fit(y)"
      ],
      "execution_count": null,
      "outputs": [
        {
          "output_type": "execute_result",
          "data": {
            "text/plain": [
              "array([2, 2, 2, ..., 3, 2, 3])"
            ]
          },
          "metadata": {
            "tags": []
          },
          "execution_count": 29
        }
      ]
    },
    {
      "cell_type": "code",
      "metadata": {
        "id": "PLcA-8Ci1mb_",
        "colab_type": "code",
        "colab": {}
      },
      "source": [
        "y_train_labeled = label_encoder.transform(y_train)\n",
        "y_test_labeled = label_encoder.transform(y_test)"
      ],
      "execution_count": null,
      "outputs": []
    },
    {
      "cell_type": "code",
      "metadata": {
        "id": "z7uaIDSZ0dDQ",
        "colab_type": "code",
        "colab": {
          "base_uri": "https://localhost:8080/",
          "height": 102
        },
        "outputId": "fc2efd50-475f-4a83-edba-4f7907320596"
      },
      "source": [
        "xgb1 = XGBClassifier(\n",
        "        learning_rate =0.1,\n",
        "        n_estimators=2,\n",
        "        max_depth=5,\n",
        "        min_child_weight=1,\n",
        "        gamma=0,\n",
        "        subsample=0.8,\n",
        "        colsample_bytree=0.8,\n",
        "        objective= 'multi:softmax',\n",
        "        nthread=4,\n",
        "        scale_pos_weight=1,\n",
        "        seed=27)\n",
        "\n",
        "cv_parameters = {\n",
        "  \"n_estimators\": [2,3,5,10,20],\n",
        "  \"max_depth\": range(2,10+1),\n",
        "  'gamma': [i/10.0 for i in range(0,5)]\n",
        "}\n",
        "\n",
        "trained = fit_model(xgb1, X_train, y_train_labeled, X_test, y_test_labeled, parameters=cv_parameters, scoring=\"accuracy\")"
      ],
      "execution_count": null,
      "outputs": [
        {
          "output_type": "stream",
          "text": [
            "Fitting 5 folds for each of 225 candidates, totalling 1125 fits\n"
          ],
          "name": "stdout"
        },
        {
          "output_type": "stream",
          "text": [
            "[Parallel(n_jobs=1)]: Using backend SequentialBackend with 1 concurrent workers.\n",
            "[Parallel(n_jobs=1)]: Done 1125 out of 1125 | elapsed:  1.5min finished\n"
          ],
          "name": "stderr"
        },
        {
          "output_type": "stream",
          "text": [
            "Best score: 0.6613844870725605\n",
            "Best parameters: {'gamma': 0.1, 'max_depth': 10, 'n_estimators': 20}\n"
          ],
          "name": "stdout"
        }
      ]
    },
    {
      "cell_type": "code",
      "metadata": {
        "id": "hQ14QiB58a--",
        "colab_type": "code",
        "colab": {
          "base_uri": "https://localhost:8080/",
          "height": 85
        },
        "outputId": "250ff1a7-5bff-45a3-dc9a-b7b4e347ac53"
      },
      "source": [
        "#Predict training set:\n",
        "dtrain_predictions = trained.predict(X_train)\n",
        "dtrain_predprob = trained.predict_proba(X_train)[:,1]\n",
        "    \n",
        "#Print model report:\n",
        "print (\"\\nModel Report\")\n",
        "print (\"Accuracy (Train): %.4g\" % metrics.accuracy_score(y_train_labeled, dtrain_predictions))\n",
        "# print (\"AUC Score (Train): %f\" % metrics.roc_auc_score(y_train_labeled, dtrain_predprob))\n",
        "\n",
        "# Predict on testing data:\n",
        "dtest_predictions = trained.predict(X_test)\n",
        "dtest_predprob = trained.predict_proba(X_test)[:,1]\n",
        "print (\"Accuracy (Test): %.4g\" % metrics.accuracy_score(y_test_labeled, dtest_predictions))\n",
        "#print ('AUC Score (Test): %f' % metrics.roc_auc_score(y_test_labeled, dtest_predprob))"
      ],
      "execution_count": null,
      "outputs": [
        {
          "output_type": "stream",
          "text": [
            "\n",
            "Model Report\n",
            "Accuracy (Train): 0.9508\n",
            "Accuracy (Test): 0.68\n"
          ],
          "name": "stdout"
        }
      ]
    }
  ]
}