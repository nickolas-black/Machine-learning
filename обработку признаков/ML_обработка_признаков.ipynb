{
  "nbformat": 4,
  "nbformat_minor": 0,
  "metadata": {
    "kernelspec": {
      "display_name": "Python 3",
      "language": "python",
      "name": "python3"
    },
    "language_info": {
      "codemirror_mode": {
        "name": "ipython",
        "version": 3
      },
      "file_extension": ".py",
      "mimetype": "text/x-python",
      "name": "python",
      "nbconvert_exporter": "python",
      "pygments_lexer": "ipython3",
      "version": "3.7.3"
    },
    "colab": {
      "name": "ML_обработка_признаков",
      "provenance": [],
      "collapsed_sections": [],
      "toc_visible": true
    }
  },
  "cells": [
    {
      "cell_type": "code",
      "metadata": {
        "id": "-ngav9I9Jp7g",
        "colab_type": "code",
        "colab": {}
      },
      "source": [
        "# импортируем необходимые библиотеки\n",
        "import pandas as pd\n",
        "import numpy as np\n",
        "from sklearn.model_selection import train_test_split\n",
        "from sklearn import preprocessing\n",
        "from sklearn.neighbors import KNeighborsClassifier\n",
        "from sklearn.model_selection import GridSearchCV\n",
        "from sklearn.naive_bayes import GaussianNB\n",
        "from sklearn.metrics import accuracy_score"
      ],
      "execution_count": null,
      "outputs": []
    },
    {
      "cell_type": "code",
      "metadata": {
        "id": "GRfCAIvsJp7k",
        "colab_type": "code",
        "colab": {}
      },
      "source": [
        "# читаем данные\n",
        "train = pd.read_csv(\"titanic_train.csv\")\n",
        "test = pd.read_csv(\"titanic_test.csv\")"
      ],
      "execution_count": null,
      "outputs": []
    },
    {
      "cell_type": "code",
      "metadata": {
        "id": "8Ao4YMXzplxG",
        "colab_type": "code",
        "colab": {}
      },
      "source": [
        "# создаем новые датасеты, в них\n",
        "# удаляем стобцы, которые физически не могут влиять на выживание\n",
        "data_train = train.drop(['PassengerId', 'Name', 'Ticket'], axis=1)\n",
        "data_test = test.drop(['PassengerId', 'Name', 'Ticket'], axis=1)"
      ],
      "execution_count": null,
      "outputs": []
    },
    {
      "cell_type": "code",
      "metadata": {
        "id": "t37yexDLgdWG",
        "colab_type": "code",
        "colab": {
          "base_uri": "https://localhost:8080/",
          "height": 306
        },
        "outputId": "fbcf13e3-d49a-4d43-9792-8ba5332e320e"
      },
      "source": [
        "# смотрим информацию о датасете для выполнения преобразования данных\n",
        "# необходимо избавиться от категориальных признаков и пустых значений\n",
        "data_train.info()"
      ],
      "execution_count": null,
      "outputs": [
        {
          "output_type": "stream",
          "text": [
            "<class 'pandas.core.frame.DataFrame'>\n",
            "RangeIndex: 891 entries, 0 to 890\n",
            "Data columns (total 12 columns):\n",
            "PassengerId    891 non-null int64\n",
            "Survived       891 non-null int64\n",
            "Pclass         891 non-null int64\n",
            "Name           891 non-null object\n",
            "Sex            891 non-null object\n",
            "Age            714 non-null float64\n",
            "SibSp          891 non-null int64\n",
            "Parch          891 non-null int64\n",
            "Ticket         891 non-null object\n",
            "Fare           891 non-null float64\n",
            "Cabin          204 non-null object\n",
            "Embarked       889 non-null object\n",
            "dtypes: float64(2), int64(5), object(5)\n",
            "memory usage: 83.6+ KB\n"
          ],
          "name": "stdout"
        }
      ]
    },
    {
      "cell_type": "markdown",
      "metadata": {
        "id": "2CQ90UWYsJ1s",
        "colab_type": "text"
      },
      "source": [
        "### Label encoder"
      ]
    },
    {
      "cell_type": "code",
      "metadata": {
        "id": "CJzJt74cpl59",
        "colab_type": "code",
        "colab": {
          "base_uri": "https://localhost:8080/",
          "height": 34
        },
        "outputId": "d51e01e5-fe5a-4387-9afc-6c020eb614ff"
      },
      "source": [
        "# определяем где в датасете категориальные признаки\n",
        "list(data_train.select_dtypes(include=['object']).columns)"
      ],
      "execution_count": null,
      "outputs": [
        {
          "output_type": "execute_result",
          "data": {
            "text/plain": [
              "['Sex', 'Cabin', 'Embarked']"
            ]
          },
          "metadata": {
            "tags": []
          },
          "execution_count": 151
        }
      ]
    },
    {
      "cell_type": "code",
      "metadata": {
        "id": "8jBRrsCSsN1p",
        "colab_type": "code",
        "colab": {
          "base_uri": "https://localhost:8080/",
          "height": 68
        },
        "outputId": "d54fc1ab-065e-43ac-abd9-6afc872c378c"
      },
      "source": [
        "# смотрим варианты значений категориального признака пол (Sex)\n",
        "train['Sex'].value_counts()"
      ],
      "execution_count": null,
      "outputs": [
        {
          "output_type": "execute_result",
          "data": {
            "text/plain": [
              "male      577\n",
              "female    314\n",
              "Name: Sex, dtype: int64"
            ]
          },
          "metadata": {
            "tags": []
          },
          "execution_count": 152
        }
      ]
    },
    {
      "cell_type": "code",
      "metadata": {
        "id": "8si2ZiKvNH6m",
        "colab_type": "code",
        "colab": {}
      },
      "source": [
        "# переводим категориальный признак Sex в дискретный\n",
        "Sex_embarked_mapping = {'male':0,'female':1}\n",
        "data_train['Sex'] = data_train['Sex'].map(Sex_embarked_mapping)"
      ],
      "execution_count": null,
      "outputs": []
    },
    {
      "cell_type": "code",
      "metadata": {
        "id": "MPGPWYjxW261",
        "colab_type": "code",
        "colab": {
          "base_uri": "https://localhost:8080/",
          "height": 446
        },
        "outputId": "b1c70c76-6dd5-48b6-f506-0482419800f7"
      },
      "source": [
        "# со столбцом каюта (Cabin) можно выполнить некоторые преобразования\n",
        "# каждая каюта находится на какой-то палубе и чем ниже палуба, тем меньше шансов выжить\n",
        "# собственно все было вот так:\n",
        "from IPython.display import Image\n",
        "Image(url= \"http://data.cyclowiki.org/images/3/38/Titanic_palyb.jpeg\")"
      ],
      "execution_count": null,
      "outputs": [
        {
          "output_type": "execute_result",
          "data": {
            "text/html": [
              "<img src=\"http://data.cyclowiki.org/images/3/38/Titanic_palyb.jpeg\"/>"
            ],
            "text/plain": [
              "<IPython.core.display.Image object>"
            ]
          },
          "metadata": {
            "tags": []
          },
          "execution_count": 154
        }
      ]
    },
    {
      "cell_type": "code",
      "metadata": {
        "id": "ZZLjvufhW2-F",
        "colab_type": "code",
        "colab": {
          "base_uri": "https://localhost:8080/",
          "height": 102
        },
        "outputId": "d9f599f4-c518-4767-93ef-18b3350b416d"
      },
      "source": [
        "# столбец Cabin мало где заполнен, распределим пассажиров\n",
        "\n",
        "# \"отправляем\" всех невыживших пассажиров 3-го класса на палубу G\n",
        "data_train['Cabin'].loc[(data_train['Pclass']==3) & (data_train['Survived']==0)] = 'G'\n",
        "\n",
        "# \"отправляем\" всех выживших пассажиров 3-го класса на палубу F\n",
        "data_train['Cabin'].loc[(data_train['Pclass']==3) & (data_train['Survived']==1)] = 'F'\n",
        "\n",
        "# \"отправляем\" всех невыживших пассажиров 2-го класса на палубу E\n",
        "data_train['Cabin'].loc[(data_train['Pclass']==2) & (data_train['Survived']==0)] = 'E'\n",
        "\n",
        "# \"отправляем\" всех выживших пассажиров 2-го класса на палубу D\n",
        "data_train['Cabin'].loc[(data_train['Pclass']==2) & (data_train['Survived']==1)] = 'D'\n",
        "\n",
        "# \"отправляем\" всех невыживших пассажиров 1-го класса на палубу C\n",
        "data_train['Cabin'].loc[(data_train['Pclass']==1) & (data_train['Survived']==0)] = 'C'\n",
        "\n",
        "# \"отправляем\" всех выживших мужчин 1-го класса на палубу B\n",
        "data_train['Cabin'].loc[(data_train['Pclass']==1) & (data_train['Survived']==1) & (data_train['Sex']==0)] = 'B'\n",
        " \n",
        "# \"отправляем\" всех выживших женщин 1-го класса на палубу A\n",
        "data_train['Cabin'].loc[(data_train['Pclass']==1) & (data_train['Survived']==1) & (data_train['Sex']==1)] = 'A'"
      ],
      "execution_count": null,
      "outputs": [
        {
          "output_type": "stream",
          "text": [
            "/usr/local/lib/python3.6/dist-packages/pandas/core/indexing.py:190: SettingWithCopyWarning: \n",
            "A value is trying to be set on a copy of a slice from a DataFrame\n",
            "\n",
            "See the caveats in the documentation: http://pandas.pydata.org/pandas-docs/stable/indexing.html#indexing-view-versus-copy\n",
            "  self._setitem_with_indexer(indexer, value)\n"
          ],
          "name": "stderr"
        }
      ]
    },
    {
      "cell_type": "code",
      "metadata": {
        "id": "XEsaFDebtgrl",
        "colab_type": "code",
        "colab": {}
      },
      "source": [
        "# переводим категориальный признак Cabin в дискретный\n",
        "Cabin_embarked_mapping = {'A':0,'B':1, 'C':2, 'D':3, 'E':4, 'F':5, 'G':6}\n",
        "data_train['Cabin'] = data_train['Cabin'].map(Cabin_embarked_mapping)"
      ],
      "execution_count": null,
      "outputs": []
    },
    {
      "cell_type": "code",
      "metadata": {
        "id": "FB3F4lR1gvO9",
        "colab_type": "code",
        "colab": {
          "base_uri": "https://localhost:8080/",
          "height": 102
        },
        "outputId": "c04eddb7-4e0a-47ed-9e4a-a01888109f38"
      },
      "source": [
        "# заполняем пустые значения столбца Embarked\n",
        "data_train['Embarked'].loc[(data_train['Embarked'].isna())] ='S'"
      ],
      "execution_count": null,
      "outputs": [
        {
          "output_type": "stream",
          "text": [
            "/usr/local/lib/python3.6/dist-packages/pandas/core/indexing.py:190: SettingWithCopyWarning: \n",
            "A value is trying to be set on a copy of a slice from a DataFrame\n",
            "\n",
            "See the caveats in the documentation: http://pandas.pydata.org/pandas-docs/stable/indexing.html#indexing-view-versus-copy\n",
            "  self._setitem_with_indexer(indexer, value)\n"
          ],
          "name": "stderr"
        }
      ]
    },
    {
      "cell_type": "code",
      "metadata": {
        "id": "S1nxh5jjgvR-",
        "colab_type": "code",
        "colab": {}
      },
      "source": [
        "# переводим категориальный признак Embarked в дискретный\n",
        "Embarked_embarked_mapping = {'S':0,'C':1,'Q':2}\n",
        "data_train['Embarked'] = data_train['Embarked'].map(Embarked_embarked_mapping)"
      ],
      "execution_count": null,
      "outputs": []
    },
    {
      "cell_type": "code",
      "metadata": {
        "id": "Ir9Qz1YlgvV8",
        "colab_type": "code",
        "colab": {
          "base_uri": "https://localhost:8080/",
          "height": 102
        },
        "outputId": "46044abe-7de7-4131-8a9c-26e2d933e9dd"
      },
      "source": [
        "# заполняем пустые значения столбца Age\n",
        "data_train['Age'].loc[(data_train['Age'].isna())] = data_train['Age'].mean()"
      ],
      "execution_count": null,
      "outputs": [
        {
          "output_type": "stream",
          "text": [
            "/usr/local/lib/python3.6/dist-packages/pandas/core/indexing.py:190: SettingWithCopyWarning: \n",
            "A value is trying to be set on a copy of a slice from a DataFrame\n",
            "\n",
            "See the caveats in the documentation: http://pandas.pydata.org/pandas-docs/stable/indexing.html#indexing-view-versus-copy\n",
            "  self._setitem_with_indexer(indexer, value)\n"
          ],
          "name": "stderr"
        }
      ]
    },
    {
      "cell_type": "code",
      "metadata": {
        "id": "MgbZ4if6tTXk",
        "colab_type": "code",
        "colab": {
          "base_uri": "https://localhost:8080/",
          "height": 255
        },
        "outputId": "3bad2673-7ccc-4e6b-cab4-0c33ee2975d9"
      },
      "source": [
        "# проверяем датасет на \"избавление\" от пустых значений и категориальных признаков\n",
        "data_train.info()"
      ],
      "execution_count": null,
      "outputs": [
        {
          "output_type": "stream",
          "text": [
            "<class 'pandas.core.frame.DataFrame'>\n",
            "RangeIndex: 891 entries, 0 to 890\n",
            "Data columns (total 9 columns):\n",
            "Survived    891 non-null int64\n",
            "Pclass      891 non-null int64\n",
            "Sex         891 non-null int64\n",
            "Age         891 non-null float64\n",
            "SibSp       891 non-null int64\n",
            "Parch       891 non-null int64\n",
            "Fare        891 non-null float64\n",
            "Cabin       891 non-null int64\n",
            "Embarked    891 non-null int64\n",
            "dtypes: float64(2), int64(7)\n",
            "memory usage: 62.7 KB\n"
          ],
          "name": "stdout"
        }
      ]
    },
    {
      "cell_type": "code",
      "metadata": {
        "id": "1CE8DeInjpaT",
        "colab_type": "code",
        "colab": {}
      },
      "source": [
        "# отделяем фичи от таргета\n",
        "y = data_train.Survived\n",
        "data_train = data_train.drop(['Survived'], axis=1)"
      ],
      "execution_count": null,
      "outputs": []
    },
    {
      "cell_type": "code",
      "metadata": {
        "id": "90SRD3AJGj7k",
        "colab_type": "code",
        "colab": {}
      },
      "source": [
        "# проводим стандартизацию исходных данных\n",
        "scaler = preprocessing.StandardScaler()\n",
        "data_train_ST = scaler.fit_transform(data_train)"
      ],
      "execution_count": null,
      "outputs": []
    },
    {
      "cell_type": "code",
      "metadata": {
        "id": "A24vYTjMiw-y",
        "colab_type": "code",
        "colab": {}
      },
      "source": [
        "# делим преобразованный pandas датасет на тренировочный и тестовый\n",
        "X_train, X_test, y_train, y_test = train_test_split(data_train_ST, y, test_size=0.2, random_state=42)"
      ],
      "execution_count": null,
      "outputs": []
    },
    {
      "cell_type": "code",
      "metadata": {
        "id": "KRC7mywhnCX0",
        "colab_type": "code",
        "colab": {}
      },
      "source": [
        "# создаем параметры KNN для перебора в GridSearchCV\n",
        "tuned_parameters_KNN = [{'n_neighbors': [1, 2, 5, 10, 50, 100], 'weights': ['distance', 'uniform'], 'metric': ['minkowski', 'euclidean']}]"
      ],
      "execution_count": null,
      "outputs": []
    },
    {
      "cell_type": "code",
      "metadata": {
        "id": "6v29YLYZnCbW",
        "colab_type": "code",
        "colab": {
          "base_uri": "https://localhost:8080/",
          "height": 34
        },
        "outputId": "6c4fef65-21cb-4eed-9cc9-a1169deab029"
      },
      "source": [
        "# создаем модель на основее KNN и с помощью GridSearchCV\n",
        "# подбираем оптимальные параметры и обучаем\n",
        "titanic_model_KNN = GridSearchCV(KNeighborsClassifier(), tuned_parameters_KNN, cv=5)\n",
        "titanic_model_KNN.fit(X_train,y_train)\n",
        "titanic_model_KNN.best_params_"
      ],
      "execution_count": null,
      "outputs": [
        {
          "output_type": "execute_result",
          "data": {
            "text/plain": [
              "{'metric': 'minkowski', 'n_neighbors': 1, 'weights': 'distance'}"
            ]
          },
          "metadata": {
            "tags": []
          },
          "execution_count": 213
        }
      ]
    },
    {
      "cell_type": "code",
      "metadata": {
        "id": "wmGaDkHCpQi-",
        "colab_type": "code",
        "colab": {
          "base_uri": "https://localhost:8080/",
          "height": 34
        },
        "outputId": "c441e8bc-b173-46c7-a844-1d49726c107e"
      },
      "source": [
        "# Считаем accuracy KNN \n",
        "np.round(titanic_model_KNN.score(X_test,y_test), 2)"
      ],
      "execution_count": null,
      "outputs": [
        {
          "output_type": "execute_result",
          "data": {
            "text/plain": [
              "0.91"
            ]
          },
          "metadata": {
            "tags": []
          },
          "execution_count": 214
        }
      ]
    },
    {
      "cell_type": "code",
      "metadata": {
        "id": "ABQX5nmcioEY",
        "colab_type": "code",
        "colab": {}
      },
      "source": [
        "# создаем параметры GaussianNB для перебора в GridSearchCV\n",
        "tuned_parameters_GaussianNB = [{'var_smoothing': [1e-30, 1e-20, 1e-13, 1e-12, 1e-11, 1e-10, 1e-9, 1e-8, 1e-7]}]"
      ],
      "execution_count": null,
      "outputs": []
    },
    {
      "cell_type": "code",
      "metadata": {
        "id": "RhROPkwfioIE",
        "colab_type": "code",
        "colab": {
          "base_uri": "https://localhost:8080/",
          "height": 88
        },
        "outputId": "3f320c7f-d8ee-410c-cc24-4505c1cc3fbc"
      },
      "source": [
        "# создаем модель на основее GaussianNB и с помощью GridSearchCV\n",
        "# подбираем оптимальные параметры и обучаем\n",
        "titanic_model_GaussianNB = GridSearchCV(GaussianNB(), tuned_parameters_GaussianNB, cv=5)\n",
        "titanic_model_GaussianNB.fit(X_train,y_train)\n",
        "titanic_model_GaussianNB.best_params_"
      ],
      "execution_count": null,
      "outputs": [
        {
          "output_type": "stream",
          "text": [
            "/usr/local/lib/python3.6/dist-packages/sklearn/model_selection/_search.py:814: DeprecationWarning: The default of the `iid` parameter will change from True to False in version 0.22 and will be removed in 0.24. This will change numeric results when test-set sizes are unequal.\n",
            "  DeprecationWarning)\n"
          ],
          "name": "stderr"
        },
        {
          "output_type": "execute_result",
          "data": {
            "text/plain": [
              "{'var_smoothing': 1e-30}"
            ]
          },
          "metadata": {
            "tags": []
          },
          "execution_count": 216
        }
      ]
    },
    {
      "cell_type": "code",
      "metadata": {
        "id": "Y4in4EqmwS3u",
        "colab_type": "code",
        "colab": {
          "base_uri": "https://localhost:8080/",
          "height": 34
        },
        "outputId": "1342aa12-f5df-44eb-c9eb-cc9ab9db307f"
      },
      "source": [
        "# Считаем accuracy GaussianNB \n",
        "np.round(titanic_model_GaussianNB.score(X_test,y_test), 2)"
      ],
      "execution_count": null,
      "outputs": [
        {
          "output_type": "execute_result",
          "data": {
            "text/plain": [
              "0.8"
            ]
          },
          "metadata": {
            "tags": []
          },
          "execution_count": 217
        }
      ]
    },
    {
      "cell_type": "markdown",
      "metadata": {
        "id": "AbfrLH-CJp8I",
        "colab_type": "text"
      },
      "source": [
        "## One-hot encoding"
      ]
    },
    {
      "cell_type": "code",
      "metadata": {
        "id": "nf3e1_hCyIhB",
        "colab_type": "code",
        "colab": {}
      },
      "source": [
        "# создаем датасеты с ont-hot encoding для столбцов Sex, Cabin, Embarked\n",
        "OHN_Sex = pd.get_dummies(data_train['Sex'], prefix=\"Sex\", dummy_na=False)\n",
        "OHN_Cabin = pd.get_dummies(data_train['Cabin'], prefix=\"Cabin\", dummy_na=False)\n",
        "OHN_Embarked = pd.get_dummies(data_train['Embarked'], prefix=\"Embarked\", dummy_na=False)"
      ],
      "execution_count": null,
      "outputs": []
    },
    {
      "cell_type": "code",
      "metadata": {
        "id": "EzKU_6V4xp_p",
        "colab_type": "code",
        "colab": {}
      },
      "source": [
        "# Собираем закодированные столбцы и исходные данные в один датасет\n",
        "# удаляем категориальные признаки не в one-hot-encoding\n",
        "data_train_OHN = pd.concat([data_train, OHN_Sex, OHN_Cabin, OHN_Embarked], axis=1)\n",
        "data_train_OHN = data_train_OHN.drop(['Sex', 'Cabin', 'Embarked'], axis=1)"
      ],
      "execution_count": null,
      "outputs": []
    },
    {
      "cell_type": "code",
      "metadata": {
        "id": "d72nA_jRxqDJ",
        "colab_type": "code",
        "colab": {}
      },
      "source": [
        "# проводим стандартизацию исходных данных\n",
        "scaler_OHN = preprocessing.StandardScaler()\n",
        "data_train_OHN_ST = scaler_OHN.fit_transform(data_train_OHN)"
      ],
      "execution_count": null,
      "outputs": []
    },
    {
      "cell_type": "code",
      "metadata": {
        "id": "Vvyu3Vdz0LI_",
        "colab_type": "code",
        "colab": {}
      },
      "source": [
        "# делим преобразованный pandas датасет на тренировочный и тестовый\n",
        "X_train_OHN, X_test_OHN, y_train_OHN, y_test_OHN = train_test_split(data_train_OHN_ST, y, test_size=0.2, random_state=42)"
      ],
      "execution_count": null,
      "outputs": []
    },
    {
      "cell_type": "code",
      "metadata": {
        "id": "nM-xmDGR0ZVI",
        "colab_type": "code",
        "colab": {}
      },
      "source": [
        "# создаем параметры KNN для перебора в GridSearchCV\n",
        "tuned_parameters_KNN_OHN = [{'n_neighbors': [1, 2, 5, 10, 50, 100], 'weights': ['distance', 'uniform'], 'metric': ['minkowski', 'euclidean']}]"
      ],
      "execution_count": null,
      "outputs": []
    },
    {
      "cell_type": "code",
      "metadata": {
        "id": "xQBwWNQu0ZYI",
        "colab_type": "code",
        "colab": {
          "base_uri": "https://localhost:8080/",
          "height": 34
        },
        "outputId": "4f745e16-ba14-45b9-b01d-8caefea245b3"
      },
      "source": [
        "# создаем модель на основее KNN и с помощью GridSearchCV\n",
        "# подбираем оптимальные параметры и обучаем\n",
        "titanic_model_KNN_OHN = GridSearchCV(KNeighborsClassifier(), tuned_parameters_KNN_OHN, cv=5)\n",
        "titanic_model_KNN_OHN.fit(X_train_OHN,y_train_OHN)\n",
        "titanic_model_KNN_OHN.best_params_"
      ],
      "execution_count": null,
      "outputs": [
        {
          "output_type": "execute_result",
          "data": {
            "text/plain": [
              "{'metric': 'minkowski', 'n_neighbors': 1, 'weights': 'distance'}"
            ]
          },
          "metadata": {
            "tags": []
          },
          "execution_count": 242
        }
      ]
    },
    {
      "cell_type": "code",
      "metadata": {
        "id": "UTmO8nnF0LMT",
        "colab_type": "code",
        "colab": {
          "base_uri": "https://localhost:8080/",
          "height": 34
        },
        "outputId": "c4975534-c202-4f24-ba27-1ab80b1bb6a8"
      },
      "source": [
        "# Считаем accuracy KNN \n",
        "np.round(titanic_model_KNN_OHN.score(X_test_OHN,y_test_OHN), 2)"
      ],
      "execution_count": null,
      "outputs": [
        {
          "output_type": "execute_result",
          "data": {
            "text/plain": [
              "0.99"
            ]
          },
          "metadata": {
            "tags": []
          },
          "execution_count": 243
        }
      ]
    },
    {
      "cell_type": "code",
      "metadata": {
        "id": "_UashCu70LPu",
        "colab_type": "code",
        "colab": {}
      },
      "source": [
        "# создаем параметры GaussianNB для перебора в GridSearchCV\n",
        "tuned_parameters_GaussianNB_OHN = [{'var_smoothing': [1e-30, 1e-20, 1e-13, 1e-12, 1e-11, 1e-10, 1e-9, 1e-8, 1e-7]}]"
      ],
      "execution_count": null,
      "outputs": []
    },
    {
      "cell_type": "code",
      "metadata": {
        "id": "GLBLOqGt1P2R",
        "colab_type": "code",
        "colab": {
          "base_uri": "https://localhost:8080/",
          "height": 34
        },
        "outputId": "c77585a8-c4e5-4bfd-c22b-55e71ef280fd"
      },
      "source": [
        "# создаем модель на основее GaussianNB и с помощью GridSearchCV\n",
        "# подбираем оптимальные параметры и обучаем\n",
        "titanic_model_GaussianNB_OHN = GridSearchCV(GaussianNB(), tuned_parameters_GaussianNB_OHN, cv=5)\n",
        "titanic_model_GaussianNB_OHN.fit(X_train_OHN,y_train_OHN)\n",
        "titanic_model_GaussianNB_OHN.best_params_"
      ],
      "execution_count": null,
      "outputs": [
        {
          "output_type": "execute_result",
          "data": {
            "text/plain": [
              "{'var_smoothing': 1e-30}"
            ]
          },
          "metadata": {
            "tags": []
          },
          "execution_count": 247
        }
      ]
    },
    {
      "cell_type": "code",
      "metadata": {
        "id": "Wcse3P2I1P5l",
        "colab_type": "code",
        "colab": {
          "base_uri": "https://localhost:8080/",
          "height": 34
        },
        "outputId": "c4fe84bf-f3b6-41f4-9270-83c1be908211"
      },
      "source": [
        "# Считаем accuracy GaussianNB \n",
        "np.round(titanic_model_GaussianNB_OHN.score(X_test_OHN,y_test_OHN), 2)"
      ],
      "execution_count": null,
      "outputs": [
        {
          "output_type": "execute_result",
          "data": {
            "text/plain": [
              "1.0"
            ]
          },
          "metadata": {
            "tags": []
          },
          "execution_count": 249
        }
      ]
    }
  ]
}