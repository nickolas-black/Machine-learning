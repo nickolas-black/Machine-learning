{
  "nbformat": 4,
  "nbformat_minor": 0,
  "metadata": {
    "anaconda-cloud": {},
    "kernelspec": {
      "display_name": "Python 3",
      "language": "python",
      "name": "python3"
    },
    "language_info": {
      "codemirror_mode": {
        "name": "ipython",
        "version": 3
      },
      "file_extension": ".py",
      "mimetype": "text/x-python",
      "name": "python",
      "nbconvert_exporter": "python",
      "pygments_lexer": "ipython3",
      "version": "3.7.3"
    },
    "colab": {
      "name": "LogisticRegression.ipynb",
      "provenance": []
    }
  },
  "cells": [
    {
      "cell_type": "code",
      "metadata": {
        "id": "947_Ep79Mzlk",
        "colab_type": "code",
        "colab": {}
      },
      "source": [
        "import warnings\n",
        "warnings.filterwarnings('ignore')\n",
        "\n",
        "%matplotlib inline\n",
        "from matplotlib import pyplot as plt\n",
        "import seaborn as sns\n",
        "\n",
        "import numpy as np\n",
        "import pandas as pd\n",
        "from sklearn.preprocessing import PolynomialFeatures\n",
        "from sklearn.linear_model import LogisticRegression, LogisticRegressionCV\n",
        "from sklearn.model_selection import cross_val_score, StratifiedKFold\n",
        "from sklearn.model_selection import GridSearchCV"
      ],
      "execution_count": null,
      "outputs": []
    },
    {
      "cell_type": "code",
      "metadata": {
        "id": "QRqI14-eMzlp",
        "colab_type": "code",
        "colab": {},
        "outputId": "ce6aa059-bc25-4925-a749-1d6d22fb1a5e"
      },
      "source": [
        "# загружаем данные из csv файла\n",
        "data = pd.read_csv('microchip_tests.csv',\n",
        "                   header=None, names = ('test1','test2','released'))\n",
        "# информация о датасете\n",
        "data.info()"
      ],
      "execution_count": null,
      "outputs": [
        {
          "output_type": "stream",
          "text": [
            "<class 'pandas.core.frame.DataFrame'>\n",
            "RangeIndex: 118 entries, 0 to 117\n",
            "Data columns (total 3 columns):\n",
            "test1       118 non-null float64\n",
            "test2       118 non-null float64\n",
            "released    118 non-null int64\n",
            "dtypes: float64(2), int64(1)\n",
            "memory usage: 2.8 KB\n"
          ],
          "name": "stdout"
        }
      ]
    },
    {
      "cell_type": "code",
      "metadata": {
        "id": "BmM24yetMzls",
        "colab_type": "code",
        "colab": {},
        "outputId": "59f9fcf6-1b4c-4004-d911-d90567566cc1"
      },
      "source": [
        "data.head(5)"
      ],
      "execution_count": null,
      "outputs": [
        {
          "output_type": "execute_result",
          "data": {
            "text/html": [
              "<div>\n",
              "<style scoped>\n",
              "    .dataframe tbody tr th:only-of-type {\n",
              "        vertical-align: middle;\n",
              "    }\n",
              "\n",
              "    .dataframe tbody tr th {\n",
              "        vertical-align: top;\n",
              "    }\n",
              "\n",
              "    .dataframe thead th {\n",
              "        text-align: right;\n",
              "    }\n",
              "</style>\n",
              "<table border=\"1\" class=\"dataframe\">\n",
              "  <thead>\n",
              "    <tr style=\"text-align: right;\">\n",
              "      <th></th>\n",
              "      <th>test1</th>\n",
              "      <th>test2</th>\n",
              "      <th>released</th>\n",
              "    </tr>\n",
              "  </thead>\n",
              "  <tbody>\n",
              "    <tr>\n",
              "      <th>0</th>\n",
              "      <td>0.051267</td>\n",
              "      <td>0.69956</td>\n",
              "      <td>1</td>\n",
              "    </tr>\n",
              "    <tr>\n",
              "      <th>1</th>\n",
              "      <td>-0.092742</td>\n",
              "      <td>0.68494</td>\n",
              "      <td>1</td>\n",
              "    </tr>\n",
              "    <tr>\n",
              "      <th>2</th>\n",
              "      <td>-0.213710</td>\n",
              "      <td>0.69225</td>\n",
              "      <td>1</td>\n",
              "    </tr>\n",
              "    <tr>\n",
              "      <th>3</th>\n",
              "      <td>-0.375000</td>\n",
              "      <td>0.50219</td>\n",
              "      <td>1</td>\n",
              "    </tr>\n",
              "    <tr>\n",
              "      <th>4</th>\n",
              "      <td>-0.513250</td>\n",
              "      <td>0.46564</td>\n",
              "      <td>1</td>\n",
              "    </tr>\n",
              "  </tbody>\n",
              "</table>\n",
              "</div>"
            ],
            "text/plain": [
              "      test1    test2  released\n",
              "0  0.051267  0.69956         1\n",
              "1 -0.092742  0.68494         1\n",
              "2 -0.213710  0.69225         1\n",
              "3 -0.375000  0.50219         1\n",
              "4 -0.513250  0.46564         1"
            ]
          },
          "metadata": {
            "tags": []
          },
          "execution_count": 3
        }
      ]
    },
    {
      "cell_type": "code",
      "metadata": {
        "id": "LpPTETm5Mzlw",
        "colab_type": "code",
        "colab": {},
        "outputId": "a8272398-c105-4ffa-838e-a693062dc8e6"
      },
      "source": [
        "data.tail(5)"
      ],
      "execution_count": null,
      "outputs": [
        {
          "output_type": "execute_result",
          "data": {
            "text/html": [
              "<div>\n",
              "<style scoped>\n",
              "    .dataframe tbody tr th:only-of-type {\n",
              "        vertical-align: middle;\n",
              "    }\n",
              "\n",
              "    .dataframe tbody tr th {\n",
              "        vertical-align: top;\n",
              "    }\n",
              "\n",
              "    .dataframe thead th {\n",
              "        text-align: right;\n",
              "    }\n",
              "</style>\n",
              "<table border=\"1\" class=\"dataframe\">\n",
              "  <thead>\n",
              "    <tr style=\"text-align: right;\">\n",
              "      <th></th>\n",
              "      <th>test1</th>\n",
              "      <th>test2</th>\n",
              "      <th>released</th>\n",
              "    </tr>\n",
              "  </thead>\n",
              "  <tbody>\n",
              "    <tr>\n",
              "      <th>113</th>\n",
              "      <td>-0.720620</td>\n",
              "      <td>0.538740</td>\n",
              "      <td>0</td>\n",
              "    </tr>\n",
              "    <tr>\n",
              "      <th>114</th>\n",
              "      <td>-0.593890</td>\n",
              "      <td>0.494880</td>\n",
              "      <td>0</td>\n",
              "    </tr>\n",
              "    <tr>\n",
              "      <th>115</th>\n",
              "      <td>-0.484450</td>\n",
              "      <td>0.999270</td>\n",
              "      <td>0</td>\n",
              "    </tr>\n",
              "    <tr>\n",
              "      <th>116</th>\n",
              "      <td>-0.006336</td>\n",
              "      <td>0.999270</td>\n",
              "      <td>0</td>\n",
              "    </tr>\n",
              "    <tr>\n",
              "      <th>117</th>\n",
              "      <td>0.632650</td>\n",
              "      <td>-0.030612</td>\n",
              "      <td>0</td>\n",
              "    </tr>\n",
              "  </tbody>\n",
              "</table>\n",
              "</div>"
            ],
            "text/plain": [
              "        test1     test2  released\n",
              "113 -0.720620  0.538740         0\n",
              "114 -0.593890  0.494880         0\n",
              "115 -0.484450  0.999270         0\n",
              "116 -0.006336  0.999270         0\n",
              "117  0.632650 -0.030612         0"
            ]
          },
          "metadata": {
            "tags": []
          },
          "execution_count": 6
        }
      ]
    },
    {
      "cell_type": "markdown",
      "metadata": {
        "id": "-W-TdFDlMzlz",
        "colab_type": "text"
      },
      "source": [
        "#### Разделяем датасет на признаки и целевую переменную"
      ]
    },
    {
      "cell_type": "code",
      "metadata": {
        "id": "N_MmY5o1Mzlz",
        "colab_type": "code",
        "colab": {}
      },
      "source": [
        "X = data.iloc[:,:2].values\n",
        "y = data.iloc[:,2].values"
      ],
      "execution_count": null,
      "outputs": []
    },
    {
      "cell_type": "markdown",
      "metadata": {
        "id": "OuoLWjXfMzl2",
        "colab_type": "text"
      },
      "source": [
        "#### Визуализируем распределение векторов пространства признаков"
      ]
    },
    {
      "cell_type": "code",
      "metadata": {
        "id": "vccwpJzHMzl3",
        "colab_type": "code",
        "colab": {},
        "outputId": "afd4e405-1367-43b8-972f-170757abc92e"
      },
      "source": [
        "plt.scatter(X[y == 1, 0], X[y == 1, 1], c='blue', label='Released')\n",
        "plt.scatter(X[y == 0, 0], X[y == 0, 1], c='orange', label='Faulty')\n",
        "plt.xlabel(\"Test 1\")\n",
        "plt.ylabel(\"Test 2\")\n",
        "plt.title('2 tests of microchips. Logit with C=1')\n",
        "plt.legend();"
      ],
      "execution_count": null,
      "outputs": [
        {
          "output_type": "display_data",
          "data": {
            "image/png": "[encoded data removed]",
            "text/plain": [
              "<Figure size 432x288 with 1 Axes>"
            ]
          },
          "metadata": {
            "tags": [],
            "needs_background": "light"
          }
        }
      ]
    },
    {
      "cell_type": "markdown",
      "metadata": {
        "id": "kzsnAqquMzl7",
        "colab_type": "text"
      },
      "source": [
        "#### Функция для вывода разделяющей прямой логистической регрессии"
      ]
    },
    {
      "cell_type": "code",
      "metadata": {
        "id": "PzWvYG2LMzl8",
        "colab_type": "code",
        "colab": {}
      },
      "source": [
        "\n",
        "def plot_boundary_normal(clf, X, y, grid_step=.01):\n",
        "    x_min, x_max = X[:, 0].min() - .1, X[:, 0].max() + .1\n",
        "    y_min, y_max = X[:, 1].min() - .1, X[:, 1].max() + .1\n",
        "    xx, yy = np.meshgrid(np.arange(x_min, x_max, grid_step),\n",
        "                         np.arange(y_min, y_max, grid_step))\n",
        "    \n",
        "    Z = clf.predict(np.c_[xx.ravel(), yy.ravel()])\n",
        "    Z = Z.reshape(xx.shape)\n",
        "    plt.contour(xx, yy, Z, cmap=plt.cm.Paired)"
      ],
      "execution_count": null,
      "outputs": []
    },
    {
      "cell_type": "code",
      "metadata": {
        "id": "Gq8RmHX9Mzl_",
        "colab_type": "code",
        "colab": {},
        "outputId": "1cc31aab-e1d8-4ebb-9e6d-2b35f3e4659d"
      },
      "source": [
        "C = 1\n",
        "logit = LogisticRegression(C=C, random_state=17)\n",
        "logit.fit(X, y)\n",
        "\n",
        "plot_boundary_normal(logit, X, y, grid_step=.01)\n",
        "\n",
        "plt.scatter(X[y == 1, 0], X[y == 1, 1], c='blue', label='Released')\n",
        "plt.scatter(X[y == 0, 0], X[y == 0, 1], c='orange', label='Faulty')\n",
        "plt.xlabel(\"Test 1\")\n",
        "plt.ylabel(\"Test 2\")\n",
        "plt.title('2 tests of microchips. Logit with C=%s' % C)\n",
        "plt.legend();\n",
        "\n",
        "print(\"Accuracy on training set:\", \n",
        "      round(logit.score(X, y), 3))"
      ],
      "execution_count": null,
      "outputs": [
        {
          "output_type": "stream",
          "text": [
            "Accuracy on training set: 0.542\n"
          ],
          "name": "stdout"
        },
        {
          "output_type": "display_data",
          "data": {
            "image/png": "[encoded data removed]",
            "text/plain": [
              "<Figure size 432x288 with 1 Axes>"
            ]
          },
          "metadata": {
            "tags": [],
            "needs_background": "light"
          }
        }
      ]
    },
    {
      "cell_type": "markdown",
      "metadata": {
        "id": "plMRQLdRMzmC",
        "colab_type": "text"
      },
      "source": [
        "#### Функция для вывода разделяющей кривой логистической регрессии"
      ]
    },
    {
      "cell_type": "code",
      "metadata": {
        "id": "CmOAD7quMzmC",
        "colab_type": "code",
        "colab": {}
      },
      "source": [
        "def plot_boundary(clf, X, y, grid_step=.01, poly_featurizer=None):\n",
        "    x_min, x_max = X[:, 0].min() - .1, X[:, 0].max() + .1\n",
        "    y_min, y_max = X[:, 1].min() - .1, X[:, 1].max() + .1\n",
        "    xx, yy = np.meshgrid(np.arange(x_min, x_max, grid_step),\n",
        "                         np.arange(y_min, y_max, grid_step))\n",
        "\n",
        "    Z = clf.predict(poly_featurizer.transform(np.c_[xx.ravel(), yy.ravel()]))\n",
        "    Z = Z.reshape(xx.shape)\n",
        "    plt.contour(xx, yy, Z, cmap=plt.cm.Paired)"
      ],
      "execution_count": null,
      "outputs": []
    },
    {
      "cell_type": "markdown",
      "metadata": {
        "id": "RdCHIwIbMzmF",
        "colab_type": "text"
      },
      "source": [
        "Полиномиальное размножение признаков степени $d$ двух переменных $x_1$ и $x_2$:\n",
        "\n",
        "$$\\large \\{x_1^d, x_1^{d-1}x_2, \\ldots x_2^d\\} =  \\{x_1^ix_2^j\\}_{i+j=d, i,j \\in \\mathbb{N}}$$\n",
        "\n",
        "Например, для $d=3$, получим следующие признаки:\n",
        "\n",
        "$$\\large 1, x_1, x_2,  x_1^2, x_1x_2, x_2^2, x_1^3, x_1^2x_2, x_1x_2^2, x_2^3$$."
      ]
    },
    {
      "cell_type": "markdown",
      "metadata": {
        "id": "SURwZZAYMzmG",
        "colab_type": "text"
      },
      "source": [
        "#### В scikit learn есть встроенный метод для реализации такого подхода"
      ]
    },
    {
      "cell_type": "code",
      "metadata": {
        "id": "yCXjscBpMzmG",
        "colab_type": "code",
        "colab": {}
      },
      "source": [
        "poly = PolynomialFeatures(degree=7)\n",
        "X_poly = poly.fit_transform(X)"
      ],
      "execution_count": null,
      "outputs": []
    },
    {
      "cell_type": "code",
      "metadata": {
        "id": "nxuLzbVnMzmJ",
        "colab_type": "code",
        "colab": {},
        "outputId": "bd36186e-93ef-473c-a42a-535840aa4024"
      },
      "source": [
        "X_poly.shape"
      ],
      "execution_count": null,
      "outputs": [
        {
          "output_type": "execute_result",
          "data": {
            "text/plain": [
              "(118, 36)"
            ]
          },
          "metadata": {
            "tags": []
          },
          "execution_count": 13
        }
      ]
    },
    {
      "cell_type": "code",
      "metadata": {
        "id": "Pk5gUPQtMzmM",
        "colab_type": "code",
        "colab": {},
        "outputId": "733143b1-9241-4ee6-9a64-4c8f91519096"
      },
      "source": [
        "C = 1e-2\n",
        "logit = LogisticRegression(C=C, random_state=17)\n",
        "logit.fit(X_poly, y)\n",
        "\n",
        "plot_boundary(logit, X, y, grid_step=.01, poly_featurizer=poly)\n",
        "\n",
        "plt.scatter(X[y == 1, 0], X[y == 1, 1], c='blue', label='Released')\n",
        "plt.scatter(X[y == 0, 0], X[y == 0, 1], c='orange', label='Faulty')\n",
        "plt.xlabel(\"Test 1\")\n",
        "plt.ylabel(\"Test 2\")\n",
        "plt.title('2 tests of microchips. Logit with C=%s' % C)\n",
        "plt.legend();\n",
        "\n",
        "print(\"Accuracy on training set:\", \n",
        "      round(logit.score(X_poly, y), 3))"
      ],
      "execution_count": null,
      "outputs": [
        {
          "output_type": "stream",
          "text": [
            "Accuracy on training set: 0.627\n"
          ],
          "name": "stdout"
        },
        {
          "output_type": "display_data",
          "data": {
            "image/png": "[encoded data removed]",
            "text/plain": [
              "<Figure size 432x288 with 1 Axes>"
            ]
          },
          "metadata": {
            "tags": [],
            "needs_background": "light"
          }
        }
      ]
    },
    {
      "cell_type": "code",
      "metadata": {
        "id": "d8j9JsXWMzmO",
        "colab_type": "code",
        "colab": {},
        "outputId": "54c7d6fe-6577-441a-c77c-687dc674cade"
      },
      "source": [
        "C = 10\n",
        "logit = LogisticRegression(C=C, random_state=17)\n",
        "logit.fit(X_poly, y)\n",
        "\n",
        "plot_boundary(logit, X, y, grid_step=.005, poly_featurizer=poly)\n",
        "\n",
        "plt.scatter(X[y == 1, 0], X[y == 1, 1], c='blue', label='Released')\n",
        "plt.scatter(X[y == 0, 0], X[y == 0, 1], c='orange', label='Faulty')\n",
        "plt.xlabel(\"Test 1\")\n",
        "plt.ylabel(\"Test 2\")\n",
        "plt.title('2 tests of microchips. Logit with C=%s' % C)\n",
        "plt.legend();\n",
        "\n",
        "print(\"Accuracy on training set:\", \n",
        "      round(logit.score(X_poly, y), 3))"
      ],
      "execution_count": null,
      "outputs": [
        {
          "output_type": "stream",
          "text": [
            "Accuracy on training set: 0.847\n"
          ],
          "name": "stdout"
        },
        {
          "output_type": "display_data",
          "data": {
            "image/png": "[encoded data removed]",
            "text/plain": [
              "<Figure size 432x288 with 1 Axes>"
            ]
          },
          "metadata": {
            "tags": [],
            "needs_background": "light"
          }
        }
      ]
    },
    {
      "cell_type": "markdown",
      "metadata": {
        "id": "btsda-USMzmR",
        "colab_type": "text"
      },
      "source": [
        "#### Нужно опасаться переобучения"
      ]
    },
    {
      "cell_type": "code",
      "metadata": {
        "id": "qsEN4ZZFMzmR",
        "colab_type": "code",
        "colab": {},
        "outputId": "356b7b89-f310-4b7a-c62b-877ecedcc098"
      },
      "source": [
        "C = 10000\n",
        "logit = LogisticRegression(C=C, random_state=17)\n",
        "logit.fit(X_poly, y)\n",
        "\n",
        "plot_boundary(logit, X, y, grid_step=.005, poly_featurizer=poly)\n",
        "\n",
        "plt.scatter(X[y == 1, 0], X[y == 1, 1], c='blue', label='Released')\n",
        "plt.scatter(X[y == 0, 0], X[y == 0, 1], c='orange', label='Faulty')\n",
        "plt.xlabel(\"Test 1\")\n",
        "plt.ylabel(\"Test 2\")\n",
        "plt.title('2 tests of microchips. Logit with C=%s' % C)\n",
        "plt.legend();\n",
        "\n",
        "print(\"Accuracy on training set:\", \n",
        "      round(logit.score(X_poly, y), 3))"
      ],
      "execution_count": null,
      "outputs": [
        {
          "output_type": "stream",
          "text": [
            "Accuracy on training set: 0.873\n"
          ],
          "name": "stdout"
        },
        {
          "output_type": "display_data",
          "data": {
            "image/png": "[encoded data removed]",
            "text/plain": [
              "<Figure size 432x288 with 1 Axes>"
            ]
          },
          "metadata": {
            "tags": [],
            "needs_background": "light"
          }
        }
      ]
    },
    {
      "cell_type": "markdown",
      "metadata": {
        "id": "lpXZJLwIMzmU",
        "colab_type": "text"
      },
      "source": [
        "#### Введем дополнительную регуляризацию\n",
        "\n",
        "$$\\large J(X,y,w) = \\mathcal{L} + \\frac{1}{C}||w||^2$$."
      ]
    },
    {
      "cell_type": "code",
      "metadata": {
        "id": "KetI4TFEMzmV",
        "colab_type": "code",
        "colab": {},
        "outputId": "1c0032bc-f445-47ac-ca33-fe9ffb0d782f"
      },
      "source": [
        "skf = StratifiedKFold(n_splits=5, shuffle=True, random_state=17)\n",
        "\n",
        "c_values = np.logspace(-2, 3, 500)\n",
        "\n",
        "logit_searcher = LogisticRegressionCV(Cs=c_values, cv=skf, verbose=1, n_jobs=-1)\n",
        "logit_searcher.fit(X_poly, y)"
      ],
      "execution_count": null,
      "outputs": [
        {
          "output_type": "stream",
          "text": [
            "[Parallel(n_jobs=-1)]: Using backend LokyBackend with 4 concurrent workers.\n",
            "[Parallel(n_jobs=-1)]: Done   5 out of   5 | elapsed:   22.6s finished\n"
          ],
          "name": "stderr"
        },
        {
          "output_type": "execute_result",
          "data": {
            "text/plain": [
              "LogisticRegressionCV(Cs=array([1.00000000e-02, 1.02334021e-02, 1.04722519e-02, 1.07166765e-02,\n",
              "       1.09668060e-02, 1.12227736e-02, 1.14847155e-02, 1.17527712e-02,\n",
              "       1.20270833e-02, 1.23077980e-02, 1.25950646e-02, 1.28890361e-02,\n",
              "       1.31898690e-02, 1.34977233e-02, 1.38127630e-02, 1.41351558e-02,\n",
              "       1.44650734e-02, 1.48026913e-02, 1.51481892e-02, 1.55017512e-02,\n",
              "       1.58635653e-02, 1.62...\n",
              "       8.50863158e+02, 8.70722485e+02, 8.91045332e+02, 9.11842520e+02,\n",
              "       9.33125118e+02, 9.54904456e+02, 9.77192128e+02, 1.00000000e+03]),\n",
              "                     class_weight=None,\n",
              "                     cv=StratifiedKFold(n_splits=5, random_state=17, shuffle=True),\n",
              "                     dual=False, fit_intercept=True, intercept_scaling=1.0,\n",
              "                     l1_ratios=None, max_iter=100, multi_class='warn',\n",
              "                     n_jobs=-1, penalty='l2', random_state=None, refit=True,\n",
              "                     scoring=None, solver='lbfgs', tol=0.0001, verbose=1)"
            ]
          },
          "metadata": {
            "tags": []
          },
          "execution_count": 19
        }
      ]
    },
    {
      "cell_type": "code",
      "metadata": {
        "id": "rmvrucsQMzmX",
        "colab_type": "code",
        "colab": {},
        "outputId": "a9cbe349-3ac9-4974-e56f-bddf6c07e5de"
      },
      "source": [
        "logit_searcher.C_"
      ],
      "execution_count": null,
      "outputs": [
        {
          "output_type": "execute_result",
          "data": {
            "text/plain": [
              "array([5.43839743])"
            ]
          },
          "metadata": {
            "tags": []
          },
          "execution_count": 20
        }
      ]
    },
    {
      "cell_type": "code",
      "metadata": {
        "id": "BHU2QpxlMzma",
        "colab_type": "code",
        "colab": {},
        "outputId": "082344fd-1f56-4d04-d9bf-b9a0dd88bdf9"
      },
      "source": [
        "plt.plot(c_values, np.mean(logit_searcher.scores_[1], axis=0))\n",
        "plt.xlabel('C')\n",
        "plt.ylabel('Mean CV-accuracy');"
      ],
      "execution_count": null,
      "outputs": [
        {
          "output_type": "display_data",
          "data": {
            "image/png": "[encoded data removed]",
            "text/plain": [
              "<Figure size 432x288 with 1 Axes>"
            ]
          },
          "metadata": {
            "tags": [],
            "needs_background": "light"
          }
        }
      ]
    },
    {
      "cell_type": "code",
      "metadata": {
        "id": "Wd4MNbTPMzmc",
        "colab_type": "code",
        "colab": {},
        "outputId": "690b7bb3-a882-4f80-bab7-111952e723a4"
      },
      "source": [
        "plt.plot(c_values, np.mean(logit_searcher.scores_[1], axis=0))\n",
        "plt.xlabel('C')\n",
        "plt.ylabel('Mean CV-accuracy');\n",
        "plt.xlim((0,10));"
      ],
      "execution_count": null,
      "outputs": [
        {
          "output_type": "display_data",
          "data": {
            "image/png": "[encoded data removed]",
            "text/plain": [
              "<Figure size 432x288 with 1 Axes>"
            ]
          },
          "metadata": {
            "tags": [],
            "needs_background": "light"
          }
        }
      ]
    }
  ]
}